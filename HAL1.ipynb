{
 "cells": [
  {
   "cell_type": "code",
   "execution_count": 2219,
   "id": "9537c80e-7ad4-4e24-9ac9-84286ea16df6",
   "metadata": {},
   "outputs": [
    {
     "data": {
      "text/plain": [
       "array([[ 5],\n",
       "       [11]])"
      ]
     },
     "execution_count": 2219,
     "metadata": {},
     "output_type": "execute_result"
    }
   ],
   "source": [
    "import numpy as np\n",
    "X = np.array([[1, 2], \n",
    "              [3, 4]])\n",
    "\n",
    "v = np.array([1, 2]).reshape((2, 1))\n",
    "#v = np.array([1, 2])\n",
    "np.dot(X, v) # no broadcasting\n"
   ]
  },
  {
   "cell_type": "code",
   "execution_count": 2220,
   "id": "4ee3ad2b-3207-44e3-ae3e-be60c2cc2bf3",
   "metadata": {},
   "outputs": [
    {
     "data": {
      "text/plain": [
       "array([ 5, 11])"
      ]
     },
     "execution_count": 2220,
     "metadata": {},
     "output_type": "execute_result"
    }
   ],
   "source": [
    "v = np.array([1, 2])\n",
    "np.dot(X, v)"
   ]
  },
  {
   "cell_type": "code",
   "execution_count": 2221,
   "id": "c0a674b3-a03d-4b53-b07f-18b32ef4892c",
   "metadata": {},
   "outputs": [
    {
     "data": {
      "text/plain": [
       "array([[1, 4],\n",
       "       [3, 8]])"
      ]
     },
     "execution_count": 2221,
     "metadata": {},
     "output_type": "execute_result"
    }
   ],
   "source": [
    "X * v"
   ]
  },
  {
   "cell_type": "code",
   "execution_count": 2222,
   "id": "e6acc91e-8f56-4aa2-a16b-dd7ad2ac146c",
   "metadata": {},
   "outputs": [
    {
     "data": {
      "text/plain": [
       "array([[-1., -1.],\n",
       "       [ 1.,  1.]])"
      ]
     },
     "execution_count": 2222,
     "metadata": {},
     "output_type": "execute_result"
    }
   ],
   "source": [
    "X - X.mean(axis=0)"
   ]
  },
  {
   "cell_type": "code",
   "execution_count": 2223,
   "id": "d4a466dd-5dd8-46c2-bb66-48a1c3679f14",
   "metadata": {},
   "outputs": [
    {
     "data": {
      "text/plain": [
       "(array([[-0.40455358, -0.9145143 ],\n",
       "        [-0.9145143 ,  0.40455358]]),\n",
       " array([5.4649857 , 0.36596619]),\n",
       " array([[-0.57604844, -0.81741556],\n",
       "        [ 0.81741556, -0.57604844]]))"
      ]
     },
     "execution_count": 2223,
     "metadata": {},
     "output_type": "execute_result"
    }
   ],
   "source": [
    "import scipy \n",
    "import scipy.linalg \n",
    "scipy.linalg.svd(X, full_matrices=False)"
   ]
  },
  {
   "cell_type": "code",
   "execution_count": 2224,
   "id": "ce22ab9c-fa9a-467d-99b1-5767a6091714",
   "metadata": {},
   "outputs": [
    {
     "data": {
      "text/plain": [
       "(array([[-0.40455358, -0.9145143 ],\n",
       "        [-0.9145143 ,  0.40455358]]),\n",
       " array([5.4649857 , 0.36596619]),\n",
       " array([[-0.57604844, -0.81741556],\n",
       "        [ 0.81741556, -0.57604844]]))"
      ]
     },
     "execution_count": 2224,
     "metadata": {},
     "output_type": "execute_result"
    }
   ],
   "source": [
    "scipy.linalg.svd(X, full_matrices=True)"
   ]
  },
  {
   "cell_type": "code",
   "execution_count": 2225,
   "id": "db27fd79-fe3d-40f9-9287-b9c81c40ae38",
   "metadata": {},
   "outputs": [
    {
     "data": {
      "image/png": "[encoded data removed]",
      "text/plain": [
       "<Figure size 640x480 with 1 Axes>"
      ]
     },
     "metadata": {},
     "output_type": "display_data"
    }
   ],
   "source": [
    "import numpy as np \n",
    "import matplotlib.pyplot as plt \n",
    "\n",
    "x = np.linspace(0, 10, 50)\n",
    "sinus = np.sin(x)\n",
    "plt.plot(x, sinus)\n",
    "plt.show()\n"
   ]
  },
  {
   "cell_type": "code",
   "execution_count": 2226,
   "id": "e7eace00-ac4f-44f3-9a6d-a721361a62e3",
   "metadata": {},
   "outputs": [
    {
     "data": {
      "text/plain": [
       "5.0"
      ]
     },
     "execution_count": 2226,
     "metadata": {},
     "output_type": "execute_result"
    }
   ],
   "source": [
    "import math\n",
    "math.sqrt(25)\n"
   ]
  },
  {
   "cell_type": "code",
   "execution_count": 2227,
   "id": "b9ffe410-1d04-4e21-b060-7cd5f25ed822",
   "metadata": {},
   "outputs": [
    {
     "data": {
      "text/plain": [
       "5.0"
      ]
     },
     "execution_count": 2227,
     "metadata": {},
     "output_type": "execute_result"
    }
   ],
   "source": [
    "from math import sqrt\n",
    "sqrt(25)"
   ]
  },
  {
   "cell_type": "code",
   "execution_count": 2228,
   "id": "0c1d3e4e-e514-484b-84e9-a11875b3ccae",
   "metadata": {},
   "outputs": [],
   "source": [
    "from math import cos, floor"
   ]
  },
  {
   "cell_type": "code",
   "execution_count": 2229,
   "id": "30f79d14-1d43-4c22-af52-91e33138f77b",
   "metadata": {},
   "outputs": [],
   "source": [
    "import numpy as np"
   ]
  },
  {
   "cell_type": "code",
   "execution_count": 2230,
   "id": "73534774-839a-46fb-af7a-1bd421936ce5",
   "metadata": {},
   "outputs": [],
   "source": [
    "content = dir(math)"
   ]
  },
  {
   "cell_type": "code",
   "execution_count": 2231,
   "id": "78f51c23-e508-4cf7-bc49-c6b3a7caa55b",
   "metadata": {},
   "outputs": [
    {
     "data": {
      "text/plain": [
       "['__doc__',\n",
       " '__file__',\n",
       " '__loader__',\n",
       " '__name__',\n",
       " '__package__',\n",
       " '__spec__',\n",
       " 'acos',\n",
       " 'acosh',\n",
       " 'asin',\n",
       " 'asinh',\n",
       " 'atan',\n",
       " 'atan2',\n",
       " 'atanh',\n",
       " 'cbrt',\n",
       " 'ceil',\n",
       " 'comb',\n",
       " 'copysign',\n",
       " 'cos',\n",
       " 'cosh',\n",
       " 'degrees',\n",
       " 'dist',\n",
       " 'e',\n",
       " 'erf',\n",
       " 'erfc',\n",
       " 'exp',\n",
       " 'exp2',\n",
       " 'expm1',\n",
       " 'fabs',\n",
       " 'factorial',\n",
       " 'floor',\n",
       " 'fmod',\n",
       " 'frexp',\n",
       " 'fsum',\n",
       " 'gamma',\n",
       " 'gcd',\n",
       " 'hypot',\n",
       " 'inf',\n",
       " 'isclose',\n",
       " 'isfinite',\n",
       " 'isinf',\n",
       " 'isnan',\n",
       " 'isqrt',\n",
       " 'lcm',\n",
       " 'ldexp',\n",
       " 'lgamma',\n",
       " 'log',\n",
       " 'log10',\n",
       " 'log1p',\n",
       " 'log2',\n",
       " 'modf',\n",
       " 'nan',\n",
       " 'nextafter',\n",
       " 'perm',\n",
       " 'pi',\n",
       " 'pow',\n",
       " 'prod',\n",
       " 'radians',\n",
       " 'remainder',\n",
       " 'sin',\n",
       " 'sinh',\n",
       " 'sqrt',\n",
       " 'sumprod',\n",
       " 'tan',\n",
       " 'tanh',\n",
       " 'tau',\n",
       " 'trunc',\n",
       " 'ulp']"
      ]
     },
     "execution_count": 2231,
     "metadata": {},
     "output_type": "execute_result"
    }
   ],
   "source": [
    "content"
   ]
  },
  {
   "cell_type": "code",
   "execution_count": 2232,
   "id": "f6943f49-f050-499f-9ece-407d16b18817",
   "metadata": {},
   "outputs": [
    {
     "data": {
      "text/plain": [
       "14"
      ]
     },
     "execution_count": 2232,
     "metadata": {},
     "output_type": "execute_result"
    }
   ],
   "source": [
    "10 + 4"
   ]
  },
  {
   "cell_type": "code",
   "execution_count": 2233,
   "id": "3dd015c0-ef5d-4940-a6ae-434c414ffc34",
   "metadata": {},
   "outputs": [
    {
     "data": {
      "text/plain": [
       "6"
      ]
     },
     "execution_count": 2233,
     "metadata": {},
     "output_type": "execute_result"
    }
   ],
   "source": [
    "10 - 4"
   ]
  },
  {
   "cell_type": "code",
   "execution_count": 2234,
   "id": "0980b364-7f77-4aed-b81d-14e6d8830c35",
   "metadata": {},
   "outputs": [
    {
     "data": {
      "text/plain": [
       "40"
      ]
     },
     "execution_count": 2234,
     "metadata": {},
     "output_type": "execute_result"
    }
   ],
   "source": [
    "10 * 4"
   ]
  },
  {
   "cell_type": "code",
   "execution_count": 2235,
   "id": "42c78803-2370-44ae-8a6a-6aeca38d4a93",
   "metadata": {},
   "outputs": [
    {
     "data": {
      "text/plain": [
       "10000"
      ]
     },
     "execution_count": 2235,
     "metadata": {},
     "output_type": "execute_result"
    }
   ],
   "source": [
    "10 ** 4"
   ]
  },
  {
   "cell_type": "code",
   "execution_count": 2236,
   "id": "f72970c8-e2a1-4fcc-868c-aac86d42fd31",
   "metadata": {},
   "outputs": [
    {
     "data": {
      "text/plain": [
       "2.5"
      ]
     },
     "execution_count": 2236,
     "metadata": {},
     "output_type": "execute_result"
    }
   ],
   "source": [
    "10 / float(4)"
   ]
  },
  {
   "cell_type": "code",
   "execution_count": 2237,
   "id": "4665e43e-d1a2-4d08-81a2-b9db14fa8859",
   "metadata": {},
   "outputs": [
    {
     "data": {
      "text/plain": [
       "1"
      ]
     },
     "execution_count": 2237,
     "metadata": {},
     "output_type": "execute_result"
    }
   ],
   "source": [
    "5 % 4"
   ]
  },
  {
   "cell_type": "code",
   "execution_count": 2238,
   "id": "859e4c6a-e77c-4eb4-ba65-27ed0c8b8fe8",
   "metadata": {},
   "outputs": [
    {
     "data": {
      "text/plain": [
       "2.5"
      ]
     },
     "execution_count": 2238,
     "metadata": {},
     "output_type": "execute_result"
    }
   ],
   "source": [
    "10 / 4"
   ]
  },
  {
   "cell_type": "code",
   "execution_count": 2239,
   "id": "4ba80d1f-b0d9-41ee-88f0-aa8e6f6cdb8c",
   "metadata": {},
   "outputs": [
    {
     "data": {
      "text/plain": [
       "2"
      ]
     },
     "execution_count": 2239,
     "metadata": {},
     "output_type": "execute_result"
    }
   ],
   "source": [
    "10 // 4"
   ]
  },
  {
   "cell_type": "code",
   "execution_count": 2240,
   "id": "e4a8c96a-2d2a-4e16-9652-26d98944d6b6",
   "metadata": {},
   "outputs": [
    {
     "data": {
      "text/plain": [
       "True"
      ]
     },
     "execution_count": 2240,
     "metadata": {},
     "output_type": "execute_result"
    }
   ],
   "source": [
    "5 > 3"
   ]
  },
  {
   "cell_type": "code",
   "execution_count": 2241,
   "id": "df057b5f-5191-4836-8237-87ea6b9369d3",
   "metadata": {},
   "outputs": [
    {
     "data": {
      "text/plain": [
       "True"
      ]
     },
     "execution_count": 2241,
     "metadata": {},
     "output_type": "execute_result"
    }
   ],
   "source": [
    "5 >= 4"
   ]
  },
  {
   "cell_type": "code",
   "execution_count": 2242,
   "id": "60c70d01-0d6b-4e8f-9c31-63b415ec9e56",
   "metadata": {},
   "outputs": [
    {
     "data": {
      "text/plain": [
       "True"
      ]
     },
     "execution_count": 2242,
     "metadata": {},
     "output_type": "execute_result"
    }
   ],
   "source": [
    "5 != 3"
   ]
  },
  {
   "cell_type": "code",
   "execution_count": 2243,
   "id": "b0fc2358-e0b8-43d2-9e8c-8cd131750b85",
   "metadata": {},
   "outputs": [
    {
     "data": {
      "text/plain": [
       "True"
      ]
     },
     "execution_count": 2243,
     "metadata": {},
     "output_type": "execute_result"
    }
   ],
   "source": [
    "5 == 5"
   ]
  },
  {
   "cell_type": "code",
   "execution_count": 2244,
   "id": "0724a4ee-7519-42a9-989f-b635bde7c6a9",
   "metadata": {},
   "outputs": [
    {
     "data": {
      "text/plain": [
       "True"
      ]
     },
     "execution_count": 2244,
     "metadata": {},
     "output_type": "execute_result"
    }
   ],
   "source": [
    "5 > 3 and 6 > 3"
   ]
  },
  {
   "cell_type": "code",
   "execution_count": 2245,
   "id": "92139a16-21fa-42ae-a5d1-2742f9f8aab7",
   "metadata": {},
   "outputs": [
    {
     "data": {
      "text/plain": [
       "True"
      ]
     },
     "execution_count": 2245,
     "metadata": {},
     "output_type": "execute_result"
    }
   ],
   "source": [
    "5 > 3 or 5 < 3"
   ]
  },
  {
   "cell_type": "code",
   "execution_count": 2246,
   "id": "36933a00-e8b2-4a7b-844e-b283b3f29164",
   "metadata": {},
   "outputs": [
    {
     "data": {
      "text/plain": [
       "True"
      ]
     },
     "execution_count": 2246,
     "metadata": {},
     "output_type": "execute_result"
    }
   ],
   "source": [
    "not False"
   ]
  },
  {
   "cell_type": "code",
   "execution_count": 2247,
   "id": "a84b8a8a-67fc-40e8-98af-e9626ca8cbbf",
   "metadata": {},
   "outputs": [
    {
     "data": {
      "text/plain": [
       "True"
      ]
     },
     "execution_count": 2247,
     "metadata": {},
     "output_type": "execute_result"
    }
   ],
   "source": [
    "False or not False and True"
   ]
  },
  {
   "cell_type": "code",
   "execution_count": 2248,
   "id": "d6aef7ee-6fc7-4afb-ac5d-21b174c0f0b8",
   "metadata": {},
   "outputs": [
    {
     "data": {
      "text/plain": [
       "int"
      ]
     },
     "execution_count": 2248,
     "metadata": {},
     "output_type": "execute_result"
    }
   ],
   "source": [
    "type(2)"
   ]
  },
  {
   "cell_type": "code",
   "execution_count": 2249,
   "id": "b2f73e7d-69ba-4a67-8347-520969910aee",
   "metadata": {},
   "outputs": [
    {
     "name": "stderr",
     "output_type": "stream",
     "text": [
      "/home/aaron-joel/anaconda3/lib/python3.12/site-packages/IPython/core/displayhook.py:281: UserWarning: Output cache limit (currently 1000 entries) hit.\n",
      "Flushing oldest 200 entries.\n",
      "  warn('Output cache limit (currently {sz} entries) hit.\\n'\n"
     ]
    },
    {
     "data": {
      "text/plain": [
       "float"
      ]
     },
     "execution_count": 2249,
     "metadata": {},
     "output_type": "execute_result"
    }
   ],
   "source": [
    "type(2.0)"
   ]
  },
  {
   "cell_type": "code",
   "execution_count": 2250,
   "id": "6ad692bd-4e7f-4444-a865-452b1db4b637",
   "metadata": {},
   "outputs": [
    {
     "data": {
      "text/plain": [
       "str"
      ]
     },
     "execution_count": 2250,
     "metadata": {},
     "output_type": "execute_result"
    }
   ],
   "source": [
    "type('two')"
   ]
  },
  {
   "cell_type": "code",
   "execution_count": 2251,
   "id": "bd36ed7f-3fad-4b9c-953a-90f5a08a81d2",
   "metadata": {},
   "outputs": [
    {
     "data": {
      "text/plain": [
       "bool"
      ]
     },
     "execution_count": 2251,
     "metadata": {},
     "output_type": "execute_result"
    }
   ],
   "source": [
    "type(True)"
   ]
  },
  {
   "cell_type": "code",
   "execution_count": 2252,
   "id": "6f683eed-b034-4b7d-96b7-a6b2d5c2af30",
   "metadata": {},
   "outputs": [
    {
     "data": {
      "text/plain": [
       "NoneType"
      ]
     },
     "execution_count": 2252,
     "metadata": {},
     "output_type": "execute_result"
    }
   ],
   "source": [
    "type(None)"
   ]
  },
  {
   "cell_type": "code",
   "execution_count": 2253,
   "id": "36fac49e-f105-4ab5-ad12-6782bd77da90",
   "metadata": {},
   "outputs": [
    {
     "data": {
      "text/plain": [
       "False"
      ]
     },
     "execution_count": 2253,
     "metadata": {},
     "output_type": "execute_result"
    }
   ],
   "source": [
    "isinstance(2.0, int)"
   ]
  },
  {
   "cell_type": "code",
   "execution_count": 2254,
   "id": "d1585153-0b5a-4dae-ab65-8296c7ec9056",
   "metadata": {},
   "outputs": [
    {
     "data": {
      "text/plain": [
       "True"
      ]
     },
     "execution_count": 2254,
     "metadata": {},
     "output_type": "execute_result"
    }
   ],
   "source": [
    "isinstance(2.0, (int, float))"
   ]
  },
  {
   "cell_type": "code",
   "execution_count": 2255,
   "id": "c914d15a-363b-42f2-bc24-93a503d0a4ba",
   "metadata": {},
   "outputs": [
    {
     "data": {
      "text/plain": [
       "2.0"
      ]
     },
     "execution_count": 2255,
     "metadata": {},
     "output_type": "execute_result"
    }
   ],
   "source": [
    "float(2)"
   ]
  },
  {
   "cell_type": "code",
   "execution_count": 2256,
   "id": "6d41294a-3e2e-4906-b323-49d3e1dd609b",
   "metadata": {},
   "outputs": [
    {
     "data": {
      "text/plain": [
       "2"
      ]
     },
     "execution_count": 2256,
     "metadata": {},
     "output_type": "execute_result"
    }
   ],
   "source": [
    "int(2.9)"
   ]
  },
  {
   "cell_type": "code",
   "execution_count": 2257,
   "id": "99797351-ac4c-49c7-a539-33d5da0ebb93",
   "metadata": {},
   "outputs": [
    {
     "data": {
      "text/plain": [
       "'2.9'"
      ]
     },
     "execution_count": 2257,
     "metadata": {},
     "output_type": "execute_result"
    }
   ],
   "source": [
    "str(2.9)"
   ]
  },
  {
   "cell_type": "code",
   "execution_count": 2258,
   "id": "cc158a24-d2f6-418c-a3f7-a5e9c1bdc194",
   "metadata": {},
   "outputs": [
    {
     "data": {
      "text/plain": [
       "False"
      ]
     },
     "execution_count": 2258,
     "metadata": {},
     "output_type": "execute_result"
    }
   ],
   "source": [
    "bool(0)"
   ]
  },
  {
   "cell_type": "code",
   "execution_count": 2259,
   "id": "0e776d84-0c9f-4647-8935-bf0d1eede8d9",
   "metadata": {},
   "outputs": [
    {
     "data": {
      "text/plain": [
       "False"
      ]
     },
     "execution_count": 2259,
     "metadata": {},
     "output_type": "execute_result"
    }
   ],
   "source": [
    "bool(None)"
   ]
  },
  {
   "cell_type": "code",
   "execution_count": 2260,
   "id": "6c4bb36b-36a7-47ca-abc5-7f61bf683abd",
   "metadata": {},
   "outputs": [
    {
     "data": {
      "text/plain": [
       "False"
      ]
     },
     "execution_count": 2260,
     "metadata": {},
     "output_type": "execute_result"
    }
   ],
   "source": [
    "bool('')"
   ]
  },
  {
   "cell_type": "code",
   "execution_count": 2261,
   "id": "a0217234-94b8-4e0c-a886-011f5ecfcb1e",
   "metadata": {},
   "outputs": [
    {
     "data": {
      "text/plain": [
       "False"
      ]
     },
     "execution_count": 2261,
     "metadata": {},
     "output_type": "execute_result"
    }
   ],
   "source": [
    "bool([])"
   ]
  },
  {
   "cell_type": "code",
   "execution_count": 2262,
   "id": "c36e70e9-5ce9-456d-a90c-999f58e91729",
   "metadata": {},
   "outputs": [
    {
     "data": {
      "text/plain": [
       "False"
      ]
     },
     "execution_count": 2262,
     "metadata": {},
     "output_type": "execute_result"
    }
   ],
   "source": [
    "bool({})\n"
   ]
  },
  {
   "cell_type": "code",
   "execution_count": 2263,
   "id": "a57c90e2-b337-4b17-ad7b-68aa65703447",
   "metadata": {},
   "outputs": [
    {
     "data": {
      "text/plain": [
       "True"
      ]
     },
     "execution_count": 2263,
     "metadata": {},
     "output_type": "execute_result"
    }
   ],
   "source": [
    "bool(3)"
   ]
  },
  {
   "cell_type": "code",
   "execution_count": 2264,
   "id": "7c7aaa87-7af1-41c0-a45a-4bcdb58a844c",
   "metadata": {},
   "outputs": [
    {
     "data": {
      "text/plain": [
       "True"
      ]
     },
     "execution_count": 2264,
     "metadata": {},
     "output_type": "execute_result"
    }
   ],
   "source": [
    "bool('two')"
   ]
  },
  {
   "cell_type": "code",
   "execution_count": 2265,
   "id": "31c0b30f-4470-4f24-85bf-24d8d189fc4b",
   "metadata": {},
   "outputs": [
    {
     "data": {
      "text/plain": [
       "True"
      ]
     },
     "execution_count": 2265,
     "metadata": {},
     "output_type": "execute_result"
    }
   ],
   "source": [
    "bool([3])"
   ]
  },
  {
   "cell_type": "code",
   "execution_count": 2266,
   "id": "3e2d61ba-5876-4eb5-ac03-dd26c463f2c4",
   "metadata": {},
   "outputs": [
    {
     "data": {
      "text/plain": [
       "[]"
      ]
     },
     "execution_count": 2266,
     "metadata": {},
     "output_type": "execute_result"
    }
   ],
   "source": [
    "# create an empty list (two ways)\n",
    "empty_list = []\n",
    "empty_list = list()\n",
    "empty_list"
   ]
  },
  {
   "cell_type": "code",
   "execution_count": 2267,
   "id": "f52dacdd-6732-413f-94a4-1493706f514c",
   "metadata": {},
   "outputs": [
    {
     "data": {
      "text/plain": [
       "['homer', 'marge', 'bart']"
      ]
     },
     "execution_count": 2267,
     "metadata": {},
     "output_type": "execute_result"
    }
   ],
   "source": [
    "# create a list\n",
    "simpsons = ['homer', 'marge', 'bart']\n",
    "simpsons"
   ]
  },
  {
   "cell_type": "code",
   "execution_count": 2268,
   "id": "8ea9c8ff-2b0b-4965-9ac1-84dd5fb6971f",
   "metadata": {},
   "outputs": [
    {
     "data": {
      "text/plain": [
       "'homer'"
      ]
     },
     "execution_count": 2268,
     "metadata": {},
     "output_type": "execute_result"
    }
   ],
   "source": [
    "# examine a list\n",
    "simpsons[0]"
   ]
  },
  {
   "cell_type": "code",
   "execution_count": 2269,
   "id": "3363580f-14cb-4b01-9f56-481d96a6989b",
   "metadata": {},
   "outputs": [
    {
     "data": {
      "text/plain": [
       "3"
      ]
     },
     "execution_count": 2269,
     "metadata": {},
     "output_type": "execute_result"
    }
   ],
   "source": [
    "len(simpsons)"
   ]
  },
  {
   "cell_type": "code",
   "execution_count": 2270,
   "id": "26f45fa7-3791-4f4c-9fa7-ab0011f7e969",
   "metadata": {},
   "outputs": [
    {
     "data": {
      "text/plain": [
       "['maggie', 'homer', 'marge', 'bart', 'lisa', 'itchy', 'scratchy']"
      ]
     },
     "execution_count": 2270,
     "metadata": {},
     "output_type": "execute_result"
    }
   ],
   "source": [
    "# modify a list (does not return the list)\n",
    "simpsons.append('lisa')\n",
    "simpsons.extend(['itchy', 'scratchy'])\n",
    "simpsons.insert(0, 'maggie')\n",
    "simpsons"
   ]
  },
  {
   "cell_type": "code",
   "execution_count": 2271,
   "id": "e6b69507-f09b-46c2-8d4c-571ec18bedb8",
   "metadata": {},
   "outputs": [
    {
     "data": {
      "text/plain": [
       "['maggie', 'homer', 'marge', 'lisa', 'itchy', 'scratchy']"
      ]
     },
     "execution_count": 2271,
     "metadata": {},
     "output_type": "execute_result"
    }
   ],
   "source": [
    "simpsons.remove('bart')\n",
    "simpsons"
   ]
  },
  {
   "cell_type": "code",
   "execution_count": 2272,
   "id": "71a09701-fc65-49d1-ae3b-fa534fd60dd7",
   "metadata": {},
   "outputs": [
    {
     "data": {
      "text/plain": [
       "'scratchy'"
      ]
     },
     "execution_count": 2272,
     "metadata": {},
     "output_type": "execute_result"
    }
   ],
   "source": [
    "simpsons.pop()"
   ]
  },
  {
   "cell_type": "code",
   "execution_count": 2273,
   "id": "6c9d4368-0477-4c2d-ab25-ca555319bc4b",
   "metadata": {},
   "outputs": [
    {
     "data": {
      "text/plain": [
       "'maggie'"
      ]
     },
     "execution_count": 2273,
     "metadata": {},
     "output_type": "execute_result"
    }
   ],
   "source": [
    "simpsons.pop(0)"
   ]
  },
  {
   "cell_type": "code",
   "execution_count": 2274,
   "id": "f2c879ad-ebef-4e11-baad-9adf6d6a78ce",
   "metadata": {},
   "outputs": [
    {
     "data": {
      "text/plain": [
       "['homer', 'marge', 'lisa', 'itchy']"
      ]
     },
     "execution_count": 2274,
     "metadata": {},
     "output_type": "execute_result"
    }
   ],
   "source": [
    "simpsons"
   ]
  },
  {
   "cell_type": "code",
   "execution_count": 2275,
   "id": "ff651063-bdc1-4a0d-9eb9-8e2e01868009",
   "metadata": {},
   "outputs": [
    {
     "data": {
      "text/plain": [
       "['krusty', 'lisa', 'itchy']"
      ]
     },
     "execution_count": 2275,
     "metadata": {},
     "output_type": "execute_result"
    }
   ],
   "source": [
    "del simpsons[0]\n",
    "simpsons[0] = 'krusty'\n",
    "simpsons"
   ]
  },
  {
   "cell_type": "code",
   "execution_count": 2276,
   "id": "5de1d26f-9018-40e8-a193-c8633130ca8f",
   "metadata": {},
   "outputs": [
    {
     "data": {
      "text/plain": [
       "['krusty', 'lisa', 'itchy', 'ned', 'rod', 'todd']"
      ]
     },
     "execution_count": 2276,
     "metadata": {},
     "output_type": "execute_result"
    }
   ],
   "source": [
    "# concatenate list (slower that 'extend' method')\n",
    "neighbors = simpsons + ['ned', 'rod', 'todd']\n",
    "neighbors"
   ]
  },
  {
   "cell_type": "code",
   "execution_count": 2277,
   "id": "36f95c4f-4685-4f48-8baa-bfbf7759dc28",
   "metadata": {},
   "outputs": [
    {
     "data": {
      "text/plain": [
       "True"
      ]
     },
     "execution_count": 2277,
     "metadata": {},
     "output_type": "execute_result"
    }
   ],
   "source": [
    "'lisa' in simpsons"
   ]
  },
  {
   "cell_type": "code",
   "execution_count": 2278,
   "id": "8a7b2f25-5e8d-446c-a6a8-7fc564de9794",
   "metadata": {},
   "outputs": [
    {
     "data": {
      "text/plain": [
       "1"
      ]
     },
     "execution_count": 2278,
     "metadata": {},
     "output_type": "execute_result"
    }
   ],
   "source": [
    "simpsons.count('lisa')"
   ]
  },
  {
   "cell_type": "code",
   "execution_count": 2279,
   "id": "d5d4b840-3357-409e-87b0-f5ca4f040d39",
   "metadata": {},
   "outputs": [
    {
     "data": {
      "text/plain": [
       "0"
      ]
     },
     "execution_count": 2279,
     "metadata": {},
     "output_type": "execute_result"
    }
   ],
   "source": [
    "simpsons.count('tich')"
   ]
  },
  {
   "cell_type": "code",
   "execution_count": 2280,
   "id": "bfce3126-e33c-4621-ab91-452b3cf2b3ea",
   "metadata": {},
   "outputs": [
    {
     "data": {
      "text/plain": [
       "'mon'"
      ]
     },
     "execution_count": 2280,
     "metadata": {},
     "output_type": "execute_result"
    }
   ],
   "source": [
    "weekdays = ['mon', 'tue', 'wed', 'thurs', 'fri']\n",
    "weekdays[0]"
   ]
  },
  {
   "cell_type": "code",
   "execution_count": 2281,
   "id": "d12a28b5-b831-4344-ba7f-2673c4a44435",
   "metadata": {},
   "outputs": [
    {
     "data": {
      "text/plain": [
       "['mon', 'tue', 'wed']"
      ]
     },
     "execution_count": 2281,
     "metadata": {},
     "output_type": "execute_result"
    }
   ],
   "source": [
    "weekdays[0:3]"
   ]
  },
  {
   "cell_type": "code",
   "execution_count": 2282,
   "id": "63b53925-ffe6-49fe-980c-b6c5f5f7be75",
   "metadata": {},
   "outputs": [
    {
     "data": {
      "text/plain": [
       "['mon', 'tue', 'wed']"
      ]
     },
     "execution_count": 2282,
     "metadata": {},
     "output_type": "execute_result"
    }
   ],
   "source": [
    "weekdays[:3]"
   ]
  },
  {
   "cell_type": "code",
   "execution_count": 2283,
   "id": "b20d4b94-8f99-4fbb-9f65-8a10f1851cb7",
   "metadata": {},
   "outputs": [
    {
     "data": {
      "text/plain": [
       "['mon', 'tue', 'wed']"
      ]
     },
     "execution_count": 2283,
     "metadata": {},
     "output_type": "execute_result"
    }
   ],
   "source": [
    "weekdays[:3]"
   ]
  },
  {
   "cell_type": "code",
   "execution_count": 2284,
   "id": "136b6b1a-cddf-46e9-8810-bf9a3c2fa0d7",
   "metadata": {},
   "outputs": [
    {
     "data": {
      "text/plain": [
       "['thurs', 'fri']"
      ]
     },
     "execution_count": 2284,
     "metadata": {},
     "output_type": "execute_result"
    }
   ],
   "source": [
    "weekdays[3:]"
   ]
  },
  {
   "cell_type": "code",
   "execution_count": 2285,
   "id": "d1ae3128-522e-45e1-ac6d-1af5b1039f13",
   "metadata": {},
   "outputs": [
    {
     "data": {
      "text/plain": [
       "'fri'"
      ]
     },
     "execution_count": 2285,
     "metadata": {},
     "output_type": "execute_result"
    }
   ],
   "source": [
    "weekdays[-1]"
   ]
  },
  {
   "cell_type": "code",
   "execution_count": 2286,
   "id": "2e455d50-eed1-4801-8d7f-13ddb5731403",
   "metadata": {},
   "outputs": [
    {
     "data": {
      "text/plain": [
       "['mon', 'wed', 'fri']"
      ]
     },
     "execution_count": 2286,
     "metadata": {},
     "output_type": "execute_result"
    }
   ],
   "source": [
    "weekdays[::2]"
   ]
  },
  {
   "cell_type": "code",
   "execution_count": 2287,
   "id": "ea6d3a10-9b32-47a4-8b76-6b859460d129",
   "metadata": {},
   "outputs": [
    {
     "data": {
      "text/plain": [
       "['fri', 'thurs', 'wed', 'tue', 'mon']"
      ]
     },
     "execution_count": 2287,
     "metadata": {},
     "output_type": "execute_result"
    }
   ],
   "source": [
    "weekdays[::-1]"
   ]
  },
  {
   "cell_type": "code",
   "execution_count": 2288,
   "id": "4e06608e-f082-49d5-834e-d48ce125d8d5",
   "metadata": {},
   "outputs": [
    {
     "data": {
      "text/plain": [
       "<list_reverseiterator at 0x7f1d0215a260>"
      ]
     },
     "execution_count": 2288,
     "metadata": {},
     "output_type": "execute_result"
    }
   ],
   "source": [
    "reversed(weekdays)"
   ]
  },
  {
   "cell_type": "code",
   "execution_count": 2289,
   "id": "98d8acc2-f867-4c65-8e3b-36790986bd1d",
   "metadata": {},
   "outputs": [
    {
     "data": {
      "text/plain": [
       "['fri', 'thurs', 'wed', 'tue', 'mon']"
      ]
     },
     "execution_count": 2289,
     "metadata": {},
     "output_type": "execute_result"
    }
   ],
   "source": [
    "list(reversed(weekdays))"
   ]
  },
  {
   "cell_type": "code",
   "execution_count": 2290,
   "id": "58923cc2-f897-4380-949a-f08a53085718",
   "metadata": {},
   "outputs": [],
   "source": [
    "simpsons.sort()"
   ]
  },
  {
   "cell_type": "code",
   "execution_count": 2291,
   "id": "66fa2751-9c02-47b8-8354-43792d3a0f7e",
   "metadata": {},
   "outputs": [
    {
     "data": {
      "text/plain": [
       "['itchy', 'krusty', 'lisa']"
      ]
     },
     "execution_count": 2291,
     "metadata": {},
     "output_type": "execute_result"
    }
   ],
   "source": [
    "simpsons"
   ]
  },
  {
   "cell_type": "code",
   "execution_count": 2292,
   "id": "cc0c46b1-61b8-4793-863b-040bb33a9c6a",
   "metadata": {},
   "outputs": [],
   "source": [
    "simpsons.sort(reverse=True)"
   ]
  },
  {
   "cell_type": "code",
   "execution_count": 2293,
   "id": "5efb353f-bfbb-4c60-9589-3f7a1e5a4eb3",
   "metadata": {},
   "outputs": [
    {
     "data": {
      "text/plain": [
       "['lisa', 'krusty', 'itchy']"
      ]
     },
     "execution_count": 2293,
     "metadata": {},
     "output_type": "execute_result"
    }
   ],
   "source": [
    "simpsons"
   ]
  },
  {
   "cell_type": "code",
   "execution_count": 2294,
   "id": "75586073-b21e-4621-bf91-10481ed43b91",
   "metadata": {},
   "outputs": [],
   "source": [
    "simpsons.sort(key=len)"
   ]
  },
  {
   "cell_type": "code",
   "execution_count": 2295,
   "id": "573516c4-4fe8-4063-b1ca-d2daf61669ed",
   "metadata": {},
   "outputs": [
    {
     "data": {
      "text/plain": [
       "['lisa', 'itchy', 'krusty']"
      ]
     },
     "execution_count": 2295,
     "metadata": {},
     "output_type": "execute_result"
    }
   ],
   "source": [
    "simpsons"
   ]
  },
  {
   "cell_type": "code",
   "execution_count": 2296,
   "id": "2c6cdc0f-b2da-477c-8a05-ddb73266befa",
   "metadata": {},
   "outputs": [
    {
     "data": {
      "text/plain": [
       "['itchy', 'krusty', 'lisa']"
      ]
     },
     "execution_count": 2296,
     "metadata": {},
     "output_type": "execute_result"
    }
   ],
   "source": [
    "sorted(simpsons)"
   ]
  },
  {
   "cell_type": "code",
   "execution_count": 2297,
   "id": "16a73358-aa57-42e6-a6e7-e5c824215a2d",
   "metadata": {},
   "outputs": [
    {
     "data": {
      "text/plain": [
       "['lisa', 'krusty', 'itchy']"
      ]
     },
     "execution_count": 2297,
     "metadata": {},
     "output_type": "execute_result"
    }
   ],
   "source": [
    "sorted(simpsons, reverse=True)"
   ]
  },
  {
   "cell_type": "code",
   "execution_count": 2298,
   "id": "57b49cac-aa93-459d-a763-3869897729db",
   "metadata": {},
   "outputs": [
    {
     "data": {
      "text/plain": [
       "['lisa', 'itchy', 'krusty']"
      ]
     },
     "execution_count": 2298,
     "metadata": {},
     "output_type": "execute_result"
    }
   ],
   "source": [
    "sorted(simpsons, key=len)"
   ]
  },
  {
   "cell_type": "code",
   "execution_count": 2299,
   "id": "705d56d0-ab71-45d6-aa98-8607612b3d6b",
   "metadata": {},
   "outputs": [
    {
     "data": {
      "text/plain": [
       "[1, 2, 3]"
      ]
     },
     "execution_count": 2299,
     "metadata": {},
     "output_type": "execute_result"
    }
   ],
   "source": [
    "num = [1, 2, 3]\n",
    "num\n"
   ]
  },
  {
   "cell_type": "code",
   "execution_count": 2300,
   "id": "401b755e-9e41-4a85-80ea-71e6ea479ef6",
   "metadata": {},
   "outputs": [],
   "source": [
    "same_num = num"
   ]
  },
  {
   "cell_type": "code",
   "execution_count": 2301,
   "id": "649f2282-8d3c-4309-986e-b522bee7e5e0",
   "metadata": {},
   "outputs": [
    {
     "data": {
      "text/plain": [
       "1"
      ]
     },
     "execution_count": 2301,
     "metadata": {},
     "output_type": "execute_result"
    }
   ],
   "source": [
    "same_num[0]"
   ]
  },
  {
   "cell_type": "code",
   "execution_count": 2302,
   "id": "6e8e798a-93ce-4b00-adc8-f6b66318b6c2",
   "metadata": {},
   "outputs": [
    {
     "data": {
      "text/plain": [
       "[0, 2, 3]"
      ]
     },
     "execution_count": 2302,
     "metadata": {},
     "output_type": "execute_result"
    }
   ],
   "source": [
    "same_num[0] = 0\n",
    "same_num"
   ]
  },
  {
   "cell_type": "code",
   "execution_count": 2303,
   "id": "f1632b61-c37f-406e-ae0f-da52d5e08b6d",
   "metadata": {},
   "outputs": [
    {
     "data": {
      "text/plain": [
       "[0, 2, 3]"
      ]
     },
     "execution_count": 2303,
     "metadata": {},
     "output_type": "execute_result"
    }
   ],
   "source": [
    "new_num = num.copy()\n",
    "new_num"
   ]
  },
  {
   "cell_type": "code",
   "execution_count": 2304,
   "id": "98d8f82d-adf1-4ac5-80e1-f548a82236e3",
   "metadata": {},
   "outputs": [],
   "source": [
    "new_num = num[:]"
   ]
  },
  {
   "cell_type": "code",
   "execution_count": 2305,
   "id": "5f9be39f-9f96-4e92-8bb6-eef5f6a970c8",
   "metadata": {},
   "outputs": [],
   "source": [
    "new_num = list(num)"
   ]
  },
  {
   "cell_type": "code",
   "execution_count": 2306,
   "id": "519e7438-bff7-4bef-af79-a053eed77698",
   "metadata": {},
   "outputs": [
    {
     "data": {
      "text/plain": [
       "True"
      ]
     },
     "execution_count": 2306,
     "metadata": {},
     "output_type": "execute_result"
    }
   ],
   "source": [
    "id(num) == id(same_num)"
   ]
  },
  {
   "cell_type": "code",
   "execution_count": 2307,
   "id": "c05d3c3c-2456-4b14-b988-c260f5c01157",
   "metadata": {},
   "outputs": [
    {
     "data": {
      "text/plain": [
       "False"
      ]
     },
     "execution_count": 2307,
     "metadata": {},
     "output_type": "execute_result"
    }
   ],
   "source": [
    "id(num) == id(new_num)"
   ]
  },
  {
   "cell_type": "code",
   "execution_count": 2308,
   "id": "9f0abae5-4add-478f-950a-4629fedb2684",
   "metadata": {},
   "outputs": [
    {
     "data": {
      "text/plain": [
       "True"
      ]
     },
     "execution_count": 2308,
     "metadata": {},
     "output_type": "execute_result"
    }
   ],
   "source": [
    "num is same_num"
   ]
  },
  {
   "cell_type": "code",
   "execution_count": 2309,
   "id": "ecab1ec6-8b49-4a97-b661-f7f3fabb5733",
   "metadata": {},
   "outputs": [
    {
     "data": {
      "text/plain": [
       "False"
      ]
     },
     "execution_count": 2309,
     "metadata": {},
     "output_type": "execute_result"
    }
   ],
   "source": [
    "num is new_num"
   ]
  },
  {
   "cell_type": "code",
   "execution_count": 2310,
   "id": "3befc6fe-5542-4edb-9baf-c0cf95ff4740",
   "metadata": {},
   "outputs": [
    {
     "data": {
      "text/plain": [
       "True"
      ]
     },
     "execution_count": 2310,
     "metadata": {},
     "output_type": "execute_result"
    }
   ],
   "source": [
    "num == same_num"
   ]
  },
  {
   "cell_type": "code",
   "execution_count": 2311,
   "id": "77e7393c-4dda-40cb-ab16-92dda0097227",
   "metadata": {},
   "outputs": [
    {
     "data": {
      "text/plain": [
       "True"
      ]
     },
     "execution_count": 2311,
     "metadata": {},
     "output_type": "execute_result"
    }
   ],
   "source": [
    "num == new_num"
   ]
  },
  {
   "cell_type": "code",
   "execution_count": 2312,
   "id": "13ed560a-347f-488f-a4a3-9bedd403c814",
   "metadata": {},
   "outputs": [
    {
     "data": {
      "text/plain": [
       "[1, 2, 3, 4, 5, 6]"
      ]
     },
     "execution_count": 2312,
     "metadata": {},
     "output_type": "execute_result"
    }
   ],
   "source": [
    "[1, 2, 3] + [4, 5, 6]"
   ]
  },
  {
   "cell_type": "code",
   "execution_count": 2313,
   "id": "6e8854d7-3b7c-4049-a188-02d684514854",
   "metadata": {},
   "outputs": [
    {
     "data": {
      "text/plain": [
       "['a', 'a', 'b', 'b', 'b']"
      ]
     },
     "execution_count": 2313,
     "metadata": {},
     "output_type": "execute_result"
    }
   ],
   "source": [
    "['a'] * 2 + ['b'] * 3"
   ]
  },
  {
   "cell_type": "code",
   "execution_count": 2314,
   "id": "4473a116-5194-41c0-bfda-23e499d4e64c",
   "metadata": {},
   "outputs": [
    {
     "data": {
      "text/plain": [
       "(0, 1, 'two')"
      ]
     },
     "execution_count": 2314,
     "metadata": {},
     "output_type": "execute_result"
    }
   ],
   "source": [
    "# create a tuple\n",
    "digits = (0, 1, 'two')\n",
    "digits"
   ]
  },
  {
   "cell_type": "code",
   "execution_count": 2315,
   "id": "16a2b2ab-e97d-4d0e-9102-22b3b224e7ed",
   "metadata": {},
   "outputs": [
    {
     "data": {
      "text/plain": [
       "(0, 1, 'two')"
      ]
     },
     "execution_count": 2315,
     "metadata": {},
     "output_type": "execute_result"
    }
   ],
   "source": [
    "digits = tuple([0, 1, 'two'])\n",
    "digits"
   ]
  },
  {
   "cell_type": "code",
   "execution_count": 2316,
   "id": "eab5491a-cd25-4584-a1d6-5e7e45ec6777",
   "metadata": {},
   "outputs": [
    {
     "data": {
      "text/plain": [
       "(0,)"
      ]
     },
     "execution_count": 2316,
     "metadata": {},
     "output_type": "execute_result"
    }
   ],
   "source": [
    "zero = (0, )\n",
    "zero"
   ]
  },
  {
   "cell_type": "code",
   "execution_count": 2317,
   "id": "27a46ba2-1d89-4698-affd-b55ae87ee8c3",
   "metadata": {},
   "outputs": [
    {
     "data": {
      "text/plain": [
       "'two'"
      ]
     },
     "execution_count": 2317,
     "metadata": {},
     "output_type": "execute_result"
    }
   ],
   "source": [
    "digits[2]"
   ]
  },
  {
   "cell_type": "code",
   "execution_count": 2318,
   "id": "14b690ea-a1e9-4be2-b782-32e8147ef161",
   "metadata": {},
   "outputs": [
    {
     "data": {
      "text/plain": [
       "3"
      ]
     },
     "execution_count": 2318,
     "metadata": {},
     "output_type": "execute_result"
    }
   ],
   "source": [
    "len(digits)"
   ]
  },
  {
   "cell_type": "code",
   "execution_count": 2319,
   "id": "8850618f-f4c8-4166-a021-4ffc2238399b",
   "metadata": {},
   "outputs": [
    {
     "data": {
      "text/plain": [
       "1"
      ]
     },
     "execution_count": 2319,
     "metadata": {},
     "output_type": "execute_result"
    }
   ],
   "source": [
    "digits.count(0)"
   ]
  },
  {
   "cell_type": "code",
   "execution_count": 2320,
   "id": "de6d8187-7ec2-4bda-bbf9-f3e6da23cbd1",
   "metadata": {},
   "outputs": [
    {
     "data": {
      "text/plain": [
       "1"
      ]
     },
     "execution_count": 2320,
     "metadata": {},
     "output_type": "execute_result"
    }
   ],
   "source": [
    "digits.index(1)"
   ]
  },
  {
   "cell_type": "code",
   "execution_count": 2321,
   "id": "ad0ea85f-1941-41c2-a8cc-f87f624dee7b",
   "metadata": {},
   "outputs": [],
   "source": [
    "digits = digits +  (3, 4)"
   ]
  },
  {
   "cell_type": "code",
   "execution_count": 2322,
   "id": "7b964a53-d751-4bae-890e-fb4e21aa651c",
   "metadata": {},
   "outputs": [
    {
     "data": {
      "text/plain": [
       "(0, 1, 'two', 3, 4)"
      ]
     },
     "execution_count": 2322,
     "metadata": {},
     "output_type": "execute_result"
    }
   ],
   "source": [
    "digits"
   ]
  },
  {
   "cell_type": "code",
   "execution_count": 2323,
   "id": "441a88d9-1328-4e2c-bcc6-35b2fcdcf78e",
   "metadata": {},
   "outputs": [
    {
     "data": {
      "text/plain": [
       "(3, 4, 3, 4)"
      ]
     },
     "execution_count": 2323,
     "metadata": {},
     "output_type": "execute_result"
    }
   ],
   "source": [
    "(3, 4) * 2"
   ]
  },
  {
   "cell_type": "code",
   "execution_count": 2324,
   "id": "75614539-8324-4b92-bc33-062181063e15",
   "metadata": {},
   "outputs": [
    {
     "data": {
      "text/plain": [
       "('male', 10, 'simpson')"
      ]
     },
     "execution_count": 2324,
     "metadata": {},
     "output_type": "execute_result"
    }
   ],
   "source": [
    "bart = ('male', 10, 'simpson')\n",
    "bart"
   ]
  },
  {
   "cell_type": "code",
   "execution_count": 2325,
   "id": "d1b3ff94-e218-44af-a017-68d5dd2d8e42",
   "metadata": {},
   "outputs": [
    {
     "data": {
      "text/plain": [
       "'42'"
      ]
     },
     "execution_count": 2325,
     "metadata": {},
     "output_type": "execute_result"
    }
   ],
   "source": [
    "s = str(42)\n",
    "s"
   ]
  },
  {
   "cell_type": "code",
   "execution_count": 2326,
   "id": "00ee8c09-fca6-4f56-9361-ddc2392acfd2",
   "metadata": {},
   "outputs": [
    {
     "data": {
      "text/plain": [
       "'I like you'"
      ]
     },
     "execution_count": 2326,
     "metadata": {},
     "output_type": "execute_result"
    }
   ],
   "source": [
    "s = 'I like you'\n",
    "s"
   ]
  },
  {
   "cell_type": "code",
   "execution_count": 2327,
   "id": "4f2d02b7-40e5-4b0d-870a-f9b7bdea611f",
   "metadata": {},
   "outputs": [
    {
     "data": {
      "text/plain": [
       "'I'"
      ]
     },
     "execution_count": 2327,
     "metadata": {},
     "output_type": "execute_result"
    }
   ],
   "source": [
    "s[0]"
   ]
  },
  {
   "cell_type": "code",
   "execution_count": 2328,
   "id": "956ac731-dd44-41ef-98bc-b8aedf8a2dab",
   "metadata": {},
   "outputs": [
    {
     "data": {
      "text/plain": [
       "10"
      ]
     },
     "execution_count": 2328,
     "metadata": {},
     "output_type": "execute_result"
    }
   ],
   "source": [
    "len(s)"
   ]
  },
  {
   "cell_type": "code",
   "execution_count": 2329,
   "id": "5e1dd3a7-d752-485b-87b9-b7819f849cfd",
   "metadata": {},
   "outputs": [
    {
     "data": {
      "text/plain": [
       "'I like'"
      ]
     },
     "execution_count": 2329,
     "metadata": {},
     "output_type": "execute_result"
    }
   ],
   "source": [
    "s[:6]"
   ]
  },
  {
   "cell_type": "code",
   "execution_count": 2330,
   "id": "e893da9a-6cb8-4fec-9d8b-da3415896534",
   "metadata": {},
   "outputs": [
    {
     "data": {
      "text/plain": [
       "'you'"
      ]
     },
     "execution_count": 2330,
     "metadata": {},
     "output_type": "execute_result"
    }
   ],
   "source": [
    "s[7:]"
   ]
  },
  {
   "cell_type": "code",
   "execution_count": 2331,
   "id": "dd20c614-8eba-40e4-9d2a-2957e87a12f0",
   "metadata": {},
   "outputs": [
    {
     "data": {
      "text/plain": [
       "'u'"
      ]
     },
     "execution_count": 2331,
     "metadata": {},
     "output_type": "execute_result"
    }
   ],
   "source": [
    "s[-1]"
   ]
  },
  {
   "cell_type": "code",
   "execution_count": 2332,
   "id": "e29e33f4-f356-4b52-8621-73a5d94633dc",
   "metadata": {},
   "outputs": [
    {
     "data": {
      "text/plain": [
       "'i like you'"
      ]
     },
     "execution_count": 2332,
     "metadata": {},
     "output_type": "execute_result"
    }
   ],
   "source": [
    "s.lower()"
   ]
  },
  {
   "cell_type": "code",
   "execution_count": 2333,
   "id": "31c3aff5-7c3c-425a-9687-19c603dbb9cd",
   "metadata": {},
   "outputs": [
    {
     "data": {
      "text/plain": [
       "'I LIKE YOU'"
      ]
     },
     "execution_count": 2333,
     "metadata": {},
     "output_type": "execute_result"
    }
   ],
   "source": [
    "s.upper()"
   ]
  },
  {
   "cell_type": "code",
   "execution_count": 2334,
   "id": "5d1e9f4e-ecff-429f-9ee0-43ec32116730",
   "metadata": {},
   "outputs": [
    {
     "data": {
      "text/plain": [
       "True"
      ]
     },
     "execution_count": 2334,
     "metadata": {},
     "output_type": "execute_result"
    }
   ],
   "source": [
    "s.startswith('I')"
   ]
  },
  {
   "cell_type": "code",
   "execution_count": 2335,
   "id": "44594666-7696-4fc6-bc56-d5fe34d853ec",
   "metadata": {},
   "outputs": [
    {
     "data": {
      "text/plain": [
       "True"
      ]
     },
     "execution_count": 2335,
     "metadata": {},
     "output_type": "execute_result"
    }
   ],
   "source": [
    "s.endswith('you')"
   ]
  },
  {
   "cell_type": "code",
   "execution_count": 2336,
   "id": "a0d15089-3a42-4213-a41e-85083517617b",
   "metadata": {},
   "outputs": [
    {
     "data": {
      "text/plain": [
       "False"
      ]
     },
     "execution_count": 2336,
     "metadata": {},
     "output_type": "execute_result"
    }
   ],
   "source": [
    "s.isdigit()"
   ]
  },
  {
   "cell_type": "code",
   "execution_count": 2337,
   "id": "63ad3693-9f01-4b79-ad48-759cf90d586c",
   "metadata": {},
   "outputs": [
    {
     "data": {
      "text/plain": [
       "2"
      ]
     },
     "execution_count": 2337,
     "metadata": {},
     "output_type": "execute_result"
    }
   ],
   "source": [
    "s.find('like')"
   ]
  },
  {
   "cell_type": "code",
   "execution_count": 2338,
   "id": "e1d9cfbe-d9b9-4032-acd2-fda040820872",
   "metadata": {},
   "outputs": [
    {
     "data": {
      "text/plain": [
       "-1"
      ]
     },
     "execution_count": 2338,
     "metadata": {},
     "output_type": "execute_result"
    }
   ],
   "source": [
    "s.find('hate')"
   ]
  },
  {
   "cell_type": "code",
   "execution_count": 2339,
   "id": "87be0515-54f3-4d10-be6e-481c219c69ee",
   "metadata": {},
   "outputs": [
    {
     "data": {
      "text/plain": [
       "'I love you'"
      ]
     },
     "execution_count": 2339,
     "metadata": {},
     "output_type": "execute_result"
    }
   ],
   "source": [
    "s.replace('like', 'love')"
   ]
  },
  {
   "cell_type": "code",
   "execution_count": 2340,
   "id": "09be45c8-9eec-4daf-9623-d4747413c6b3",
   "metadata": {},
   "outputs": [
    {
     "data": {
      "text/plain": [
       "'I like you'"
      ]
     },
     "execution_count": 2340,
     "metadata": {},
     "output_type": "execute_result"
    }
   ],
   "source": [
    "s"
   ]
  },
  {
   "cell_type": "code",
   "execution_count": 2341,
   "id": "878f0218-7ae7-40a9-a3ff-e18c16168e47",
   "metadata": {},
   "outputs": [
    {
     "data": {
      "text/plain": [
       "['I', 'like', 'you']"
      ]
     },
     "execution_count": 2341,
     "metadata": {},
     "output_type": "execute_result"
    }
   ],
   "source": [
    "s.split(' ')"
   ]
  },
  {
   "cell_type": "code",
   "execution_count": 2342,
   "id": "0aa2aa7c-3987-47f8-8a2f-e56d4dd0a26e",
   "metadata": {},
   "outputs": [
    {
     "data": {
      "text/plain": [
       "['I', 'like', 'you']"
      ]
     },
     "execution_count": 2342,
     "metadata": {},
     "output_type": "execute_result"
    }
   ],
   "source": [
    "s.split()"
   ]
  },
  {
   "cell_type": "code",
   "execution_count": 2343,
   "id": "0841b37c-6256-4af5-ab43-7bbb23760d8b",
   "metadata": {},
   "outputs": [
    {
     "data": {
      "text/plain": [
       "'a, an, the'"
      ]
     },
     "execution_count": 2343,
     "metadata": {},
     "output_type": "execute_result"
    }
   ],
   "source": [
    "s2 = 'a, an, the'\n",
    "s2"
   ]
  },
  {
   "cell_type": "code",
   "execution_count": 2344,
   "id": "ef5d7f2b-2b91-4a0e-8ea0-5ec938c8695e",
   "metadata": {},
   "outputs": [
    {
     "data": {
      "text/plain": [
       "['a', ' an', ' the']"
      ]
     },
     "execution_count": 2344,
     "metadata": {},
     "output_type": "execute_result"
    }
   ],
   "source": [
    "s2.split(',')"
   ]
  },
  {
   "cell_type": "code",
   "execution_count": 2345,
   "id": "4ccbcdbe-57b5-4109-8a48-f67c9ca8ebfe",
   "metadata": {},
   "outputs": [
    {
     "data": {
      "text/plain": [
       "'larry curly moe'"
      ]
     },
     "execution_count": 2345,
     "metadata": {},
     "output_type": "execute_result"
    }
   ],
   "source": [
    "stooges = ['larry', 'curly', 'moe']\n",
    "' '.join(stooges)"
   ]
  },
  {
   "cell_type": "code",
   "execution_count": 2346,
   "id": "78dbfc2d-9dc7-41e6-9de7-435df3477f2e",
   "metadata": {},
   "outputs": [
    {
     "data": {
      "text/plain": [
       "'The meaning of life is 42'"
      ]
     },
     "execution_count": 2346,
     "metadata": {},
     "output_type": "execute_result"
    }
   ],
   "source": [
    "s3 = 'The meaning of life is'\n",
    "s4 = 42\n",
    "s3 + ' ' + str(s4)\n"
   ]
  },
  {
   "cell_type": "code",
   "execution_count": 2347,
   "id": "86561e66-925d-49fc-af4c-be00b4b478ae",
   "metadata": {},
   "outputs": [
    {
     "data": {
      "text/plain": [
       "'ham and cheese'"
      ]
     },
     "execution_count": 2347,
     "metadata": {},
     "output_type": "execute_result"
    }
   ],
   "source": [
    "s5 = '   ham and cheese   '\n",
    "s5.strip()"
   ]
  },
  {
   "cell_type": "code",
   "execution_count": 2348,
   "id": "9e8e5999-7ba6-4ad4-9c38-e9f80bfb682f",
   "metadata": {},
   "outputs": [
    {
     "data": {
      "text/plain": [
       "'raining cats and dogs'"
      ]
     },
     "execution_count": 2348,
     "metadata": {},
     "output_type": "execute_result"
    }
   ],
   "source": [
    "'raining %s and %s' % ('cats', 'dogs')"
   ]
  },
  {
   "cell_type": "code",
   "execution_count": 2349,
   "id": "979823bc-8362-4090-9f64-94fecd73c802",
   "metadata": {},
   "outputs": [
    {
     "data": {
      "text/plain": [
       "'raining cats and dogs'"
      ]
     },
     "execution_count": 2349,
     "metadata": {},
     "output_type": "execute_result"
    }
   ],
   "source": [
    "'raining {} and {}'.format('cats', 'dogs')"
   ]
  },
  {
   "cell_type": "code",
   "execution_count": 2350,
   "id": "72361db9-8536-4573-aafa-e0a727e551c7",
   "metadata": {},
   "outputs": [
    {
     "data": {
      "text/plain": [
       "'raining cat and dogs'"
      ]
     },
     "execution_count": 2350,
     "metadata": {},
     "output_type": "execute_result"
    }
   ],
   "source": [
    "'raining {arg1} and {arg2}'.format(arg1='cat', arg2='dogs')"
   ]
  },
  {
   "cell_type": "code",
   "execution_count": 2351,
   "id": "dfc44186-8039-4b6b-9b1e-b847a63e9961",
   "metadata": {},
   "outputs": [
    {
     "data": {
      "text/plain": [
       "'pi is 3.14'"
      ]
     },
     "execution_count": 2351,
     "metadata": {},
     "output_type": "execute_result"
    }
   ],
   "source": [
    "'pi is {:.2f}'.format(3.14159)"
   ]
  },
  {
   "cell_type": "code",
   "execution_count": 2352,
   "id": "18216e35-f303-4d9d-b413-f8a87defe674",
   "metadata": {},
   "outputs": [
    {
     "name": "stdout",
     "output_type": "stream",
     "text": [
      "first line\n",
      "second line\n"
     ]
    }
   ],
   "source": [
    "print('first line\\nsecond line')"
   ]
  },
  {
   "cell_type": "code",
   "execution_count": 2353,
   "id": "8d3fc0ad-63b2-4b69-8c55-0a5b88446f4f",
   "metadata": {},
   "outputs": [
    {
     "name": "stdout",
     "output_type": "stream",
     "text": [
      "first line\\nsecond line\n"
     ]
    }
   ],
   "source": [
    "print(r'first line\\nsecond line')"
   ]
  },
  {
   "cell_type": "code",
   "execution_count": 2354,
   "id": "f6879c33-896c-4ee5-ab91-7cee9af9219f",
   "metadata": {},
   "outputs": [
    {
     "name": "stdout",
     "output_type": "stream",
     "text": [
      "b'first line\\nsecond line'\n",
      "['first', 'line', 'second', 'line']\n",
      "first line\n",
      "second line\n"
     ]
    }
   ],
   "source": [
    "s = b'first line\\nsecond line'\n",
    "print(s)\n",
    "print(s.decode('utf-8').split())\n",
    "print(s.decode('utf-8'))"
   ]
  },
  {
   "cell_type": "code",
   "execution_count": 2355,
   "id": "f5be98a6-a083-43c0-adbc-2f024468c41d",
   "metadata": {},
   "outputs": [
    {
     "data": {
      "text/plain": [
       "{}"
      ]
     },
     "execution_count": 2355,
     "metadata": {},
     "output_type": "execute_result"
    }
   ],
   "source": [
    "empty_dict = {}\n",
    "empty_dict = dict()\n",
    "empty_dict"
   ]
  },
  {
   "cell_type": "code",
   "execution_count": 2356,
   "id": "65f0a7d2-15f6-4b0e-9f8e-4950975da8ed",
   "metadata": {},
   "outputs": [
    {
     "data": {
      "text/plain": [
       "{'dad': 'homer', 'mom': 'marge', 'size': 6}"
      ]
     },
     "execution_count": 2356,
     "metadata": {},
     "output_type": "execute_result"
    }
   ],
   "source": [
    "# create a dictionary (two ways)\n",
    "family = {'dad': 'homer', 'mom': 'marge', 'size': 6}\n",
    "family"
   ]
  },
  {
   "cell_type": "code",
   "execution_count": 2357,
   "id": "9a92c1d7-2e9c-427d-8d70-8bc0ce90efdf",
   "metadata": {},
   "outputs": [
    {
     "data": {
      "text/plain": [
       "{'dad': 'homer', 'mom': 'marge', 'size': 6}"
      ]
     },
     "execution_count": 2357,
     "metadata": {},
     "output_type": "execute_result"
    }
   ],
   "source": [
    "family = dict(dad='homer', mom='marge', size=6)\n",
    "family"
   ]
  },
  {
   "cell_type": "code",
   "execution_count": 2358,
   "id": "15dc63cb-7552-4918-821f-16b1c62e255e",
   "metadata": {},
   "outputs": [
    {
     "data": {
      "text/plain": [
       "{'dad': 'homer', 'mom': 'marge', 'size': 6}"
      ]
     },
     "execution_count": 2358,
     "metadata": {},
     "output_type": "execute_result"
    }
   ],
   "source": [
    "# convert a list of tuples into a dictionary\n",
    "list_of_tuples = [('dad', 'homer'), ('mom', 'marge'), ('size', 6)]\n",
    "family = dict(list_of_tuples)\n",
    "family"
   ]
  },
  {
   "cell_type": "code",
   "execution_count": 2359,
   "id": "d7242b6f-7a24-4e27-88d7-51d019771faa",
   "metadata": {},
   "outputs": [
    {
     "data": {
      "text/plain": [
       "'homer'"
      ]
     },
     "execution_count": 2359,
     "metadata": {},
     "output_type": "execute_result"
    }
   ],
   "source": [
    "family['dad']\n"
   ]
  },
  {
   "cell_type": "code",
   "execution_count": 2360,
   "id": "2ef8db8d-9474-49d0-a9d0-d604996d279c",
   "metadata": {},
   "outputs": [
    {
     "data": {
      "text/plain": [
       "3"
      ]
     },
     "execution_count": 2360,
     "metadata": {},
     "output_type": "execute_result"
    }
   ],
   "source": [
    "len(family)"
   ]
  },
  {
   "cell_type": "code",
   "execution_count": 2361,
   "id": "8d93eb6c-9945-499e-91d8-a3e7820beeab",
   "metadata": {},
   "outputs": [
    {
     "data": {
      "text/plain": [
       "dict_keys(['dad', 'mom', 'size'])"
      ]
     },
     "execution_count": 2361,
     "metadata": {},
     "output_type": "execute_result"
    }
   ],
   "source": [
    "family.keys()"
   ]
  },
  {
   "cell_type": "code",
   "execution_count": 2362,
   "id": "dadde99e-b3c6-4692-b8dc-cb8b25a8c72b",
   "metadata": {},
   "outputs": [
    {
     "data": {
      "text/plain": [
       "dict_values(['homer', 'marge', 6])"
      ]
     },
     "execution_count": 2362,
     "metadata": {},
     "output_type": "execute_result"
    }
   ],
   "source": [
    "family.values()"
   ]
  },
  {
   "cell_type": "code",
   "execution_count": 2363,
   "id": "2109747a-64a8-4028-bc6f-a01f21eeafd0",
   "metadata": {},
   "outputs": [
    {
     "data": {
      "text/plain": [
       "dict_items([('dad', 'homer'), ('mom', 'marge'), ('size', 6)])"
      ]
     },
     "execution_count": 2363,
     "metadata": {},
     "output_type": "execute_result"
    }
   ],
   "source": [
    "family.items()"
   ]
  },
  {
   "cell_type": "code",
   "execution_count": 2364,
   "id": "06a8753a-8f13-4d92-af2a-436fafcb4d7d",
   "metadata": {},
   "outputs": [
    {
     "data": {
      "text/plain": [
       "True"
      ]
     },
     "execution_count": 2364,
     "metadata": {},
     "output_type": "execute_result"
    }
   ],
   "source": [
    "'mom' in family"
   ]
  },
  {
   "cell_type": "code",
   "execution_count": 2365,
   "id": "24442313-0e19-4f9f-8d27-34fb3cbd8ba2",
   "metadata": {},
   "outputs": [
    {
     "data": {
      "text/plain": [
       "False"
      ]
     },
     "execution_count": 2365,
     "metadata": {},
     "output_type": "execute_result"
    }
   ],
   "source": [
    "'marge' in family"
   ]
  },
  {
   "cell_type": "code",
   "execution_count": 2366,
   "id": "4f0111e0-5760-4cf9-8a7d-06252d6ad0be",
   "metadata": {},
   "outputs": [
    {
     "data": {
      "text/plain": [
       "{'dad': 'homer', 'mom': 'marge', 'size': 6, 'cat': 'snowball'}"
      ]
     },
     "execution_count": 2366,
     "metadata": {},
     "output_type": "execute_result"
    }
   ],
   "source": [
    "family['cat'] = 'snowball'\n",
    "family"
   ]
  },
  {
   "cell_type": "code",
   "execution_count": 2367,
   "id": "95c7d854-95db-40b7-8fad-92c7fda82a17",
   "metadata": {},
   "outputs": [
    {
     "data": {
      "text/plain": [
       "{'dad': 'homer', 'mom': 'marge', 'size': 6, 'cat': 'snowball ii'}"
      ]
     },
     "execution_count": 2367,
     "metadata": {},
     "output_type": "execute_result"
    }
   ],
   "source": [
    "family['cat'] = 'snowball ii'\n",
    "family"
   ]
  },
  {
   "cell_type": "code",
   "execution_count": 2368,
   "id": "14b1c6d8-4fd8-4b0a-9b06-a1bb5780fa9f",
   "metadata": {},
   "outputs": [
    {
     "data": {
      "text/plain": [
       "{'dad': 'homer', 'mom': 'marge', 'size': 6}"
      ]
     },
     "execution_count": 2368,
     "metadata": {},
     "output_type": "execute_result"
    }
   ],
   "source": [
    "del family['cat']\n",
    "family"
   ]
  },
  {
   "cell_type": "code",
   "execution_count": 2369,
   "id": "53398233-a014-4c59-90b2-fdd2c4e51a75",
   "metadata": {},
   "outputs": [
    {
     "data": {
      "text/plain": [
       "{'dad': 'homer', 'mom': 'marge', 'size': 6, 'kids': ['bart', 'lisa']}"
      ]
     },
     "execution_count": 2369,
     "metadata": {},
     "output_type": "execute_result"
    }
   ],
   "source": [
    "family['kids'] = ['bart', 'lisa']\n",
    "family"
   ]
  },
  {
   "cell_type": "code",
   "execution_count": 2370,
   "id": "9ab252cc-f8db-4707-b44d-b42cff6dd8b2",
   "metadata": {},
   "outputs": [
    {
     "data": {
      "text/plain": [
       "'homer'"
      ]
     },
     "execution_count": 2370,
     "metadata": {},
     "output_type": "execute_result"
    }
   ],
   "source": [
    "family.pop('dad')"
   ]
  },
  {
   "cell_type": "code",
   "execution_count": 2371,
   "id": "40216bfe-cea9-421b-99f0-00903e2bf801",
   "metadata": {},
   "outputs": [
    {
     "data": {
      "text/plain": [
       "{'mom': 'marge', 'size': 6, 'kids': ['bart', 'lisa']}"
      ]
     },
     "execution_count": 2371,
     "metadata": {},
     "output_type": "execute_result"
    }
   ],
   "source": [
    "family"
   ]
  },
  {
   "cell_type": "code",
   "execution_count": 2372,
   "id": "d34dd2ac-7bd2-49e2-811a-8393ef03cbfa",
   "metadata": {},
   "outputs": [],
   "source": [
    "family.update({'baby': 'maggie', 'grandpa': 'abe'})"
   ]
  },
  {
   "cell_type": "code",
   "execution_count": 2373,
   "id": "863f20cb-56ea-4e2e-b295-1339c7e6f752",
   "metadata": {},
   "outputs": [
    {
     "data": {
      "text/plain": [
       "{'mom': 'marge',\n",
       " 'size': 6,\n",
       " 'kids': ['bart', 'lisa'],\n",
       " 'baby': 'maggie',\n",
       " 'grandpa': 'abe'}"
      ]
     },
     "execution_count": 2373,
     "metadata": {},
     "output_type": "execute_result"
    }
   ],
   "source": [
    "family"
   ]
  },
  {
   "cell_type": "code",
   "execution_count": 2374,
   "id": "50e37edb-38bb-4484-b16b-be7439813dec",
   "metadata": {},
   "outputs": [
    {
     "data": {
      "text/plain": [
       "'marge'"
      ]
     },
     "execution_count": 2374,
     "metadata": {},
     "output_type": "execute_result"
    }
   ],
   "source": [
    "family['mom']"
   ]
  },
  {
   "cell_type": "code",
   "execution_count": 2375,
   "id": "07ee2249-f75e-4153-b508-4292299445b3",
   "metadata": {},
   "outputs": [
    {
     "data": {
      "text/plain": [
       "'marge'"
      ]
     },
     "execution_count": 2375,
     "metadata": {},
     "output_type": "execute_result"
    }
   ],
   "source": [
    "family.get('mom')"
   ]
  },
  {
   "cell_type": "code",
   "execution_count": 2376,
   "id": "5c380bfa-c9ec-4937-a1b3-6c9267d3e29d",
   "metadata": {},
   "outputs": [
    {
     "name": "stdout",
     "output_type": "stream",
     "text": [
      "Error 'grandma'\n"
     ]
    }
   ],
   "source": [
    "try:\n",
    "    family['grandma']\n",
    "except KeyError as e:\n",
    "    print('Error', e)"
   ]
  },
  {
   "cell_type": "code",
   "execution_count": 2377,
   "id": "2c0285c8-aea4-4aeb-afd2-1ab58975eb27",
   "metadata": {},
   "outputs": [],
   "source": [
    "family.get('grandma')"
   ]
  },
  {
   "cell_type": "code",
   "execution_count": 2378,
   "id": "f85daf0e-8903-47ee-b32b-1698600b97c4",
   "metadata": {},
   "outputs": [
    {
     "data": {
      "text/plain": [
       "'not found'"
      ]
     },
     "execution_count": 2378,
     "metadata": {},
     "output_type": "execute_result"
    }
   ],
   "source": [
    "family.get('grandma', 'not found')"
   ]
  },
  {
   "cell_type": "code",
   "execution_count": 2379,
   "id": "1bd72129-9288-420f-ac12-a5015b0b3e41",
   "metadata": {},
   "outputs": [
    {
     "data": {
      "text/plain": [
       "'bart'"
      ]
     },
     "execution_count": 2379,
     "metadata": {},
     "output_type": "execute_result"
    }
   ],
   "source": [
    "family['kids'][0]"
   ]
  },
  {
   "cell_type": "code",
   "execution_count": 2380,
   "id": "9e41e556-b1f7-42c3-bb5a-06a67e6ba0b6",
   "metadata": {},
   "outputs": [],
   "source": [
    "family['kids'].remove('lisa')"
   ]
  },
  {
   "cell_type": "code",
   "execution_count": 2381,
   "id": "ef8cd028-8933-4139-b111-a79cf3a4905b",
   "metadata": {},
   "outputs": [
    {
     "data": {
      "text/plain": [
       "'youngest child is maggie'"
      ]
     },
     "execution_count": 2381,
     "metadata": {},
     "output_type": "execute_result"
    }
   ],
   "source": [
    "'youngest child is %(baby)s' % family"
   ]
  },
  {
   "cell_type": "code",
   "execution_count": 2382,
   "id": "524c2d9a-5dcf-43c1-a423-5a797551affb",
   "metadata": {},
   "outputs": [
    {
     "data": {
      "text/plain": [
       "{'mom': 'marge',\n",
       " 'size': 6,\n",
       " 'kids': ['bart'],\n",
       " 'baby': 'maggie',\n",
       " 'grandpa': 'abe'}"
      ]
     },
     "execution_count": 2382,
     "metadata": {},
     "output_type": "execute_result"
    }
   ],
   "source": [
    "family"
   ]
  },
  {
   "cell_type": "code",
   "execution_count": 2383,
   "id": "24b493d1-c290-4678-8a1f-456dc26895e0",
   "metadata": {},
   "outputs": [
    {
     "data": {
      "text/plain": [
       "set()"
      ]
     },
     "execution_count": 2383,
     "metadata": {},
     "output_type": "execute_result"
    }
   ],
   "source": [
    "empty_set = set()\n",
    "empty_set"
   ]
  },
  {
   "cell_type": "code",
   "execution_count": 2384,
   "id": "160c4f2f-674a-48aa-811a-e2462f1214db",
   "metadata": {},
   "outputs": [
    {
     "data": {
      "text/plain": [
       "{'java', 'python', 'r'}"
      ]
     },
     "execution_count": 2384,
     "metadata": {},
     "output_type": "execute_result"
    }
   ],
   "source": [
    "languages = {'python', 'r', 'java'}\n",
    "languages"
   ]
  },
  {
   "cell_type": "code",
   "execution_count": 2385,
   "id": "2ebafeb1-66b5-4cc1-845d-6d6fce294eb7",
   "metadata": {},
   "outputs": [],
   "source": [
    "snakes = set(['cobra', 'viper', 'python'])\n"
   ]
  },
  {
   "cell_type": "code",
   "execution_count": 2386,
   "id": "b9b3f390-d284-43aa-a768-63d39975ff66",
   "metadata": {},
   "outputs": [
    {
     "data": {
      "text/plain": [
       "{'cobra', 'python', 'viper'}"
      ]
     },
     "execution_count": 2386,
     "metadata": {},
     "output_type": "execute_result"
    }
   ],
   "source": [
    "snakes"
   ]
  },
  {
   "cell_type": "code",
   "execution_count": 2387,
   "id": "ea55941e-9ef6-4b1b-936f-429d23eb1a47",
   "metadata": {},
   "outputs": [
    {
     "data": {
      "text/plain": [
       "3"
      ]
     },
     "execution_count": 2387,
     "metadata": {},
     "output_type": "execute_result"
    }
   ],
   "source": [
    "len(languages)"
   ]
  },
  {
   "cell_type": "code",
   "execution_count": 2388,
   "id": "bc39fd4f-294a-4790-ab59-47d7eef6afa0",
   "metadata": {},
   "outputs": [
    {
     "data": {
      "text/plain": [
       "True"
      ]
     },
     "execution_count": 2388,
     "metadata": {},
     "output_type": "execute_result"
    }
   ],
   "source": [
    "'python' in languages"
   ]
  },
  {
   "cell_type": "code",
   "execution_count": 2389,
   "id": "422ff265-9575-4b80-978f-6bf2cd128bd0",
   "metadata": {},
   "outputs": [
    {
     "data": {
      "text/plain": [
       "{'python'}"
      ]
     },
     "execution_count": 2389,
     "metadata": {},
     "output_type": "execute_result"
    }
   ],
   "source": [
    "languages & snakes"
   ]
  },
  {
   "cell_type": "code",
   "execution_count": 2390,
   "id": "811bc750-edd6-4283-87f6-c88c12b4664a",
   "metadata": {},
   "outputs": [
    {
     "data": {
      "text/plain": [
       "{'cobra', 'java', 'python', 'r', 'viper'}"
      ]
     },
     "execution_count": 2390,
     "metadata": {},
     "output_type": "execute_result"
    }
   ],
   "source": [
    "languages | snakes"
   ]
  },
  {
   "cell_type": "code",
   "execution_count": 2391,
   "id": "4a1f299a-e966-472f-bf7c-a7c24d3db50f",
   "metadata": {},
   "outputs": [
    {
     "data": {
      "text/plain": [
       "{'java', 'r'}"
      ]
     },
     "execution_count": 2391,
     "metadata": {},
     "output_type": "execute_result"
    }
   ],
   "source": [
    "languages - snakes"
   ]
  },
  {
   "cell_type": "code",
   "execution_count": 2392,
   "id": "cb604678-9bff-4e73-a1ba-ade9ff380b9b",
   "metadata": {},
   "outputs": [
    {
     "data": {
      "text/plain": [
       "{'cobra', 'python', 'viper'}"
      ]
     },
     "execution_count": 2392,
     "metadata": {},
     "output_type": "execute_result"
    }
   ],
   "source": [
    "snakes"
   ]
  },
  {
   "cell_type": "code",
   "execution_count": 2393,
   "id": "65c0b10b-687c-415e-9338-4ecc525e85ce",
   "metadata": {},
   "outputs": [
    {
     "data": {
      "text/plain": [
       "{'java', 'python', 'r'}"
      ]
     },
     "execution_count": 2393,
     "metadata": {},
     "output_type": "execute_result"
    }
   ],
   "source": [
    "languages"
   ]
  },
  {
   "cell_type": "code",
   "execution_count": 2394,
   "id": "0b86295f-5b94-4040-a9d3-943ea17b2a78",
   "metadata": {},
   "outputs": [
    {
     "data": {
      "text/plain": [
       "{'cobra', 'viper'}"
      ]
     },
     "execution_count": 2394,
     "metadata": {},
     "output_type": "execute_result"
    }
   ],
   "source": [
    "snakes - languages"
   ]
  },
  {
   "cell_type": "code",
   "execution_count": 2395,
   "id": "1cebb234-f366-40a8-8af2-ccee33814ee3",
   "metadata": {},
   "outputs": [],
   "source": [
    "languages.add('sql')\n",
    "languages.add('r')\n",
    "languages.add('java')"
   ]
  },
  {
   "cell_type": "code",
   "execution_count": 2396,
   "id": "e1849176-5034-4013-a90f-b4422a7ac17f",
   "metadata": {},
   "outputs": [
    {
     "data": {
      "text/plain": [
       "{'java', 'python', 'r', 'sql'}"
      ]
     },
     "execution_count": 2396,
     "metadata": {},
     "output_type": "execute_result"
    }
   ],
   "source": [
    "languages"
   ]
  },
  {
   "cell_type": "code",
   "execution_count": 2397,
   "id": "6829d9f5-7454-4f0c-b00e-d69af1bda56f",
   "metadata": {},
   "outputs": [
    {
     "name": "stdout",
     "output_type": "stream",
     "text": [
      "Error 'c'\n"
     ]
    }
   ],
   "source": [
    "try:\n",
    "    languages.remove('c')\n",
    "except KeyError as e:\n",
    "    print('Error', e)"
   ]
  },
  {
   "cell_type": "code",
   "execution_count": 2398,
   "id": "ef614b89-76f3-4274-8358-86c62ce47ec7",
   "metadata": {},
   "outputs": [],
   "source": [
    "languages.discard('c')"
   ]
  },
  {
   "cell_type": "code",
   "execution_count": 2399,
   "id": "cd9ec3a7-f6ae-403a-a4ea-af605e713126",
   "metadata": {},
   "outputs": [
    {
     "data": {
      "text/plain": [
       "'sql'"
      ]
     },
     "execution_count": 2399,
     "metadata": {},
     "output_type": "execute_result"
    }
   ],
   "source": [
    "languages.pop()"
   ]
  },
  {
   "cell_type": "code",
   "execution_count": 2400,
   "id": "55ac1f45-6870-4359-a7fe-fa4e3401fcdc",
   "metadata": {},
   "outputs": [],
   "source": [
    "languages.clear()"
   ]
  },
  {
   "cell_type": "code",
   "execution_count": 2401,
   "id": "1db4b1b4-8a36-470a-9469-947e67e8be8e",
   "metadata": {},
   "outputs": [],
   "source": [
    "languages.update('go', 'spark')"
   ]
  },
  {
   "cell_type": "code",
   "execution_count": 2402,
   "id": "fe9b44a4-94da-44e8-9223-088c7e5f794a",
   "metadata": {},
   "outputs": [
    {
     "data": {
      "text/plain": [
       "{'a', 'g', 'k', 'o', 'p', 'r', 's'}"
      ]
     },
     "execution_count": 2402,
     "metadata": {},
     "output_type": "execute_result"
    }
   ],
   "source": [
    "languages"
   ]
  },
  {
   "cell_type": "code",
   "execution_count": 2403,
   "id": "c35156b5-3e77-434c-807a-d29cb777c192",
   "metadata": {},
   "outputs": [
    {
     "data": {
      "text/plain": [
       "[0, 1, 2, 9]"
      ]
     },
     "execution_count": 2403,
     "metadata": {},
     "output_type": "execute_result"
    }
   ],
   "source": [
    "sorted(set([9, 0, 2, 1, 0]))"
   ]
  },
  {
   "cell_type": "code",
   "execution_count": 2404,
   "id": "5f95f228-3036-44d3-a361-045c00b0b887",
   "metadata": {},
   "outputs": [
    {
     "name": "stdout",
     "output_type": "stream",
     "text": [
      "[['a', 1], ['a', 2], ['b', 1], ['b', 2], ['c', 1], ['c', 2]]\n"
     ]
    }
   ],
   "source": [
    "import itertools \n",
    "\n",
    "print([[x, y] for x, y in itertools.product(['a', 'b', 'c'], [1, 2])])"
   ]
  },
  {
   "cell_type": "code",
   "execution_count": 2405,
   "id": "4f6b6744-9c20-4e37-86dd-e0297bf7e407",
   "metadata": {},
   "outputs": [
    {
     "data": {
      "text/plain": [
       "[1, 8, 27, 64, 125]"
      ]
     },
     "execution_count": 2405,
     "metadata": {},
     "output_type": "execute_result"
    }
   ],
   "source": [
    "nums = [1, 2, 3, 4, 5]\n",
    "cubes = []\n",
    "for num in nums:\n",
    "    cubes.append(num ** 3)\n",
    "cubes"
   ]
  },
  {
   "cell_type": "code",
   "execution_count": 2406,
   "id": "e8d0049d-661e-4169-ab0b-4e4ef966a7a0",
   "metadata": {},
   "outputs": [
    {
     "data": {
      "text/plain": [
       "[1, 8, 27, 64, 125]"
      ]
     },
     "execution_count": 2406,
     "metadata": {},
     "output_type": "execute_result"
    }
   ],
   "source": [
    "cubes = [num**3 for num in nums]\n",
    "cubes"
   ]
  },
  {
   "cell_type": "code",
   "execution_count": 2407,
   "id": "8a8965fa-b358-4d12-9ca7-feecb3ee95dd",
   "metadata": {},
   "outputs": [
    {
     "data": {
      "text/plain": [
       "[8, 64]"
      ]
     },
     "execution_count": 2407,
     "metadata": {},
     "output_type": "execute_result"
    }
   ],
   "source": [
    "cubes_of_even = []\n",
    "for num in nums:\n",
    "    if num % 2 == 0:\n",
    "        cubes_of_even.append(num ** 3)\n",
    "cubes_of_even"
   ]
  },
  {
   "cell_type": "code",
   "execution_count": 2408,
   "id": "e055b5a2-67e2-42c7-a1ea-71ead0a79b57",
   "metadata": {},
   "outputs": [
    {
     "data": {
      "text/plain": [
       "[8, 64]"
      ]
     },
     "execution_count": 2408,
     "metadata": {},
     "output_type": "execute_result"
    }
   ],
   "source": [
    "cubes_of_even = [num ** 3 for num in nums if num % 2 == 0]\n",
    "cubes_of_even"
   ]
  },
  {
   "cell_type": "code",
   "execution_count": 2409,
   "id": "655f3cfa-55d6-4865-ba9e-20a2d8e47c42",
   "metadata": {},
   "outputs": [],
   "source": [
    "cubes_and_squares = []\n",
    "for num in nums:\n",
    "    if num % 2 == 0:\n",
    "        cubes_and_squares.append(num ** 3)\n",
    "    else:\n",
    "        cubes_and_squares.append(num ** 2)"
   ]
  },
  {
   "cell_type": "code",
   "execution_count": 2410,
   "id": "cd487a6d-30bf-4fb4-bcd6-c787e85606b8",
   "metadata": {},
   "outputs": [
    {
     "data": {
      "text/plain": [
       "[1, 8, 9, 64, 25]"
      ]
     },
     "execution_count": 2410,
     "metadata": {},
     "output_type": "execute_result"
    }
   ],
   "source": [
    "cubes_and_squares"
   ]
  },
  {
   "cell_type": "code",
   "execution_count": 2411,
   "id": "4489dadf-58a0-4dec-864d-21b89dd814fd",
   "metadata": {},
   "outputs": [
    {
     "data": {
      "text/plain": [
       "[1, 8, 9, 64, 25]"
      ]
     },
     "execution_count": 2411,
     "metadata": {},
     "output_type": "execute_result"
    }
   ],
   "source": [
    "cubes_and_squares = [num ** 3 if num % 2 == 0 else num ** 2 for num in nums]\n",
    "cubes_and_squares"
   ]
  },
  {
   "cell_type": "code",
   "execution_count": 2412,
   "id": "bb55b1f1-126f-45eb-8fbf-8ca7f2d63fea",
   "metadata": {},
   "outputs": [
    {
     "data": {
      "text/plain": [
       "[[1, 2], [3, 4]]"
      ]
     },
     "execution_count": 2412,
     "metadata": {},
     "output_type": "execute_result"
    }
   ],
   "source": [
    "matrix = [[1, 2],\n",
    "          [3, 4]]\n",
    "matrix"
   ]
  },
  {
   "cell_type": "code",
   "execution_count": 2413,
   "id": "0b973f67-0b48-495f-9334-df37082fc7d6",
   "metadata": {},
   "outputs": [
    {
     "data": {
      "text/plain": [
       "[1, 2, 3, 4]"
      ]
     },
     "execution_count": 2413,
     "metadata": {},
     "output_type": "execute_result"
    }
   ],
   "source": [
    "items = []\n",
    "for row in matrix:\n",
    "    for item in row:\n",
    "        items.append(item)\n",
    "items"
   ]
  },
  {
   "cell_type": "code",
   "execution_count": 2414,
   "id": "c6f512a5-fd9b-4040-9b86-6d1be6e46a80",
   "metadata": {},
   "outputs": [
    {
     "data": {
      "text/plain": [
       "[1, 2, 3, 4]"
      ]
     },
     "execution_count": 2414,
     "metadata": {},
     "output_type": "execute_result"
    }
   ],
   "source": [
    "items = [item for row in matrix for item in row]\n",
    "items"
   ]
  },
  {
   "cell_type": "code",
   "execution_count": 2415,
   "id": "91942fa9-f8db-4dde-b38a-3f27b2fcdec6",
   "metadata": {},
   "outputs": [
    {
     "data": {
      "text/plain": [
       "{5, 6}"
      ]
     },
     "execution_count": 2415,
     "metadata": {},
     "output_type": "execute_result"
    }
   ],
   "source": [
    "fruits = ['apple', 'banana', 'cherry']\n",
    "unique_lengths = {len(fruit) for fruit in fruits}\n",
    "unique_lengths"
   ]
  },
  {
   "cell_type": "code",
   "execution_count": 2416,
   "id": "15aa81fd-fcfb-4ad6-abf5-9a5d0c91c686",
   "metadata": {},
   "outputs": [
    {
     "data": {
      "text/plain": [
       "{'apple': 5, 'banana': 6, 'cherry': 6}"
      ]
     },
     "execution_count": 2416,
     "metadata": {},
     "output_type": "execute_result"
    }
   ],
   "source": [
    "fruit_lengths = {fruit: len(fruit) for fruit in fruits}\n",
    "fruit_lengths"
   ]
  },
  {
   "cell_type": "code",
   "execution_count": 2417,
   "id": "b52a2470-b671-4dd0-888e-e6a4e5989879",
   "metadata": {},
   "outputs": [
    {
     "data": {
      "text/plain": [
       "{'Homer': 45, 'Marge': 45, 'Bart': 10, 'Lisa': 10}"
      ]
     },
     "execution_count": 2417,
     "metadata": {},
     "output_type": "execute_result"
    }
   ],
   "source": [
    "simpsons = {'Homer': 45, 'Marge': 45, 'Bart': 10, 'Lisa': 10}\n",
    "simpsons"
   ]
  },
  {
   "cell_type": "code",
   "execution_count": 2418,
   "id": "cea9969e-bd6e-4767-aa07-b91127da368f",
   "metadata": {},
   "outputs": [
    {
     "data": {
      "text/plain": [
       "{'HOMER': 46, 'MARGE': 46, 'BART': 11, 'LISA': 11}"
      ]
     },
     "execution_count": 2418,
     "metadata": {},
     "output_type": "execute_result"
    }
   ],
   "source": [
    "simpsons_older = {k.upper(): v + 1 for k, v in simpsons.items()}\n",
    "simpsons_older"
   ]
  },
  {
   "cell_type": "code",
   "execution_count": null,
   "id": "e5f17e03-09c5-47fb-8d6d-3d7c8a26cfa0",
   "metadata": {},
   "outputs": [],
   "source": []
  },
  {
   "cell_type": "code",
   "execution_count": 2419,
   "id": "e5f0bac8-6fa1-4b93-ad45-886995b193bc",
   "metadata": {},
   "outputs": [
    {
     "name": "stdout",
     "output_type": "stream",
     "text": [
      "count: {'shoes;': 1, 'gall': 1, 'too': 2, 'pinch': 1, 'are': 1, 'large': 1, 'and': 2, 'they': 2, 'small': 1, 'to': 2, 'cause': 1, 'our': 2, 'if': 2, 'stumble': 1, 'Tick-tow': 1, 'like': 1, 'us': 2, 'incomes': 1, 'trip': 1, 'but': 1}\n",
      "dad homer\n",
      "mom marge\n",
      "size 6\n",
      "0 apple\n",
      "1 banana\n",
      "2 cherry\n",
      "Found the banana!\n",
      "This will print 5 times\n",
      "This will print 5 times\n",
      "This will print 5 times\n",
      "This will print 5 times\n",
      "This will print 5 times\n"
     ]
    }
   ],
   "source": [
    "quote = \"\"\"Tick-tow\n",
    "our incomes are like our shoes; if too small they gall and pinch us\n",
    "but if too large they cause us to stumble and to trip\n",
    "\"\"\"\n",
    "count = {word: 0 for word in set(quote.split())}\n",
    "for word in quote.split():\n",
    "    count[word] += 1\n",
    "print(f\"count: {count}\")\n",
    "\n",
    "# iterate through two things at once (using tuple unpacking)\n",
    "family = {'dad': 'homer', 'mom': 'marge', 'size': 6}\n",
    "for key, value in family.items():\n",
    "    print(key, value)\n",
    "    \n",
    "# use enumerate if you need to access the index value within the loop\n",
    "for index, fruit in enumerate(fruits):\n",
    "    print(index, fruit)\n",
    "\n",
    "# for/else loop\n",
    "for fruit in fruits:\n",
    "    if fruit == 'banana':\n",
    "        print(\"Found the banana!\")\n",
    "        break # exit the loop and skip the 'else' block\n",
    "else:\n",
    "# this block executes ONLY if the for loop completes without hitting\n",
    "# 'break'\n",
    "    print(\"Can't find the banana\")\n",
    "\n",
    "# while loop\n",
    "count = 0\n",
    "while count < 5:\n",
    "    print(\"This will print 5 times\")\n",
    "    count += 1 # equivalent to 'count = count + 1'\n"
   ]
  },
  {
   "cell_type": "code",
   "execution_count": 2420,
   "id": "e3332f9c-cbd5-4044-a8d8-fc2a41b42476",
   "metadata": {},
   "outputs": [
    {
     "data": {
      "text/plain": [
       "{'a': [1, 2], 'b': [4, 5]}"
      ]
     },
     "execution_count": 2420,
     "metadata": {},
     "output_type": "execute_result"
    }
   ],
   "source": [
    "dct = dict(a=[1, 2], b=[4, 5])\n",
    "dct"
   ]
  },
  {
   "cell_type": "code",
   "execution_count": 2421,
   "id": "8a3b55af-e7f9-4206-aa33-309058b9a02c",
   "metadata": {},
   "outputs": [
    {
     "name": "stdout",
     "output_type": "stream",
     "text": [
      "Key c is missing. Add it with empty value\n",
      "{'a': [1, 2], 'b': [4, 5], 'c': []}\n"
     ]
    }
   ],
   "source": [
    "key = 'c'\n",
    "try:\n",
    "    dct[key]\n",
    "except:\n",
    "    print(\"Key %s is missing. Add it with empty value\" % key)\n",
    "    dct['c'] = []\n",
    "print(dct)"
   ]
  },
  {
   "cell_type": "code",
   "execution_count": 2422,
   "id": "6d79f3ae-c85d-4bc5-9190-6629831b0435",
   "metadata": {},
   "outputs": [
    {
     "name": "stdout",
     "output_type": "stream",
     "text": [
      "This is text\n"
     ]
    }
   ],
   "source": [
    "# define a function with no arguments and no return values\n",
    "def print_text():\n",
    "    print('This is text')\n",
    "\n",
    "# call the function\n",
    "print_text()\n",
    "\n",
    "# define a function with one argument and no return values\n",
    "def print_this(x):\n",
    "    print(x)\n"
   ]
  },
  {
   "cell_type": "code",
   "execution_count": 2423,
   "id": "17d36114-7d5f-4597-97b8-2dbd93070424",
   "metadata": {},
   "outputs": [
    {
     "name": "stdout",
     "output_type": "stream",
     "text": [
      "3\n",
      "3\n"
     ]
    }
   ],
   "source": [
    "print_this(3)\n",
    "n = print_this(3)\n"
   ]
  },
  {
   "cell_type": "code",
   "execution_count": 2424,
   "id": "48c79952-b1de-4c1a-93a4-2d30a6a5d56c",
   "metadata": {},
   "outputs": [],
   "source": [
    "def add(a, b):\n",
    "    return a + b\n",
    "    "
   ]
  },
  {
   "cell_type": "code",
   "execution_count": 2425,
   "id": "100ce33e-0bbb-4442-81b4-98ad5c2456e2",
   "metadata": {},
   "outputs": [
    {
     "data": {
      "text/plain": [
       "5"
      ]
     },
     "execution_count": 2425,
     "metadata": {},
     "output_type": "execute_result"
    }
   ],
   "source": [
    "add(2, 3)"
   ]
  },
  {
   "cell_type": "code",
   "execution_count": 2426,
   "id": "cf1bf77e-8a12-4e27-bf20-8b69c0dfc3e7",
   "metadata": {},
   "outputs": [
    {
     "data": {
      "text/plain": [
       "'deuxtrois'"
      ]
     },
     "execution_count": 2426,
     "metadata": {},
     "output_type": "execute_result"
    }
   ],
   "source": [
    "add('deux', 'trois')"
   ]
  },
  {
   "cell_type": "code",
   "execution_count": 2427,
   "id": "681af101-a3e5-4762-8d7d-05b22272dfff",
   "metadata": {},
   "outputs": [
    {
     "data": {
      "text/plain": [
       "['deux', 'trois', 2, 3]"
      ]
     },
     "execution_count": 2427,
     "metadata": {},
     "output_type": "execute_result"
    }
   ],
   "source": [
    "add(['deux', 'trois'], [2, 3])"
   ]
  },
  {
   "cell_type": "code",
   "execution_count": 2428,
   "id": "de6836e3-8d2e-4cf6-956c-032b901ef6d1",
   "metadata": {},
   "outputs": [],
   "source": [
    "def square_this(x):\n",
    "    return x ** 2"
   ]
  },
  {
   "cell_type": "code",
   "execution_count": 2429,
   "id": "b7a4e855-6ffc-4767-8d09-7ff5eb90fad6",
   "metadata": {},
   "outputs": [],
   "source": [
    "def square_this(x):\n",
    "    \"\"\"Return the square of a number.\"\"\"\n",
    "    return x ** 2"
   ]
  },
  {
   "cell_type": "code",
   "execution_count": 2430,
   "id": "adaff376-1309-4716-9de9-017229020024",
   "metadata": {},
   "outputs": [
    {
     "data": {
      "text/plain": [
       "9"
      ]
     },
     "execution_count": 2430,
     "metadata": {},
     "output_type": "execute_result"
    }
   ],
   "source": [
    "square_this(3)"
   ]
  },
  {
   "cell_type": "code",
   "execution_count": 2431,
   "id": "8cdaeeac-a9a6-47e8-b6f4-8ac8baad336e",
   "metadata": {},
   "outputs": [
    {
     "data": {
      "text/plain": [
       "9"
      ]
     },
     "execution_count": 2431,
     "metadata": {},
     "output_type": "execute_result"
    }
   ],
   "source": [
    "var = square_this(3)\n",
    "var"
   ]
  },
  {
   "cell_type": "code",
   "execution_count": 2432,
   "id": "faff6d82-d65f-4056-99fb-e93ac0320879",
   "metadata": {},
   "outputs": [],
   "source": [
    "def power_this(x, power=2):\n",
    "    return x ** power"
   ]
  },
  {
   "cell_type": "code",
   "execution_count": 2433,
   "id": "263b1b55-04cf-4e23-9b55-3a22ee31dfb0",
   "metadata": {},
   "outputs": [
    {
     "data": {
      "text/plain": [
       "4"
      ]
     },
     "execution_count": 2433,
     "metadata": {},
     "output_type": "execute_result"
    }
   ],
   "source": [
    "power_this(2)"
   ]
  },
  {
   "cell_type": "code",
   "execution_count": 2434,
   "id": "3f99ae72-e5c7-4017-bf50-dadccb82fb68",
   "metadata": {},
   "outputs": [
    {
     "data": {
      "text/plain": [
       "32"
      ]
     },
     "execution_count": 2434,
     "metadata": {},
     "output_type": "execute_result"
    }
   ],
   "source": [
    "power_this(2, 5)"
   ]
  },
  {
   "cell_type": "code",
   "execution_count": 2435,
   "id": "91ce0fe9-5d50-4ee0-bd1c-89f23fb53abe",
   "metadata": {},
   "outputs": [],
   "source": [
    "def stub():\n",
    "    pass"
   ]
  },
  {
   "cell_type": "code",
   "execution_count": 2436,
   "id": "1d0fe444-e0cc-49ad-8e68-7d4313829d65",
   "metadata": {},
   "outputs": [],
   "source": [
    "def min_max(nums):\n",
    "    return min(nums), max(nums)"
   ]
  },
  {
   "cell_type": "code",
   "execution_count": 2437,
   "id": "2c336ea8-656b-4d0d-903a-f0e7f82d438b",
   "metadata": {},
   "outputs": [],
   "source": [
    "nums = [1, 2, 3]\n",
    "min_max_num = min_max(nums)"
   ]
  },
  {
   "cell_type": "code",
   "execution_count": 2438,
   "id": "3c7c108b-a435-4f0a-9647-55ae66274a38",
   "metadata": {},
   "outputs": [
    {
     "data": {
      "text/plain": [
       "(1, 3)"
      ]
     },
     "execution_count": 2438,
     "metadata": {},
     "output_type": "execute_result"
    }
   ],
   "source": [
    "min_max_num"
   ]
  },
  {
   "cell_type": "code",
   "execution_count": 2439,
   "id": "111b49d6-a396-4360-87bd-56ab894cd8ed",
   "metadata": {},
   "outputs": [],
   "source": [
    "min_num, max_num = min_max(nums)"
   ]
  },
  {
   "cell_type": "code",
   "execution_count": 2440,
   "id": "a5d1ff85-0670-4410-b06d-60f4c233a639",
   "metadata": {},
   "outputs": [
    {
     "data": {
      "text/plain": [
       "(1, 3)"
      ]
     },
     "execution_count": 2440,
     "metadata": {},
     "output_type": "execute_result"
    }
   ],
   "source": [
    "min_num, max_num"
   ]
  },
  {
   "cell_type": "code",
   "execution_count": 2441,
   "id": "c3a61466-ff8e-424f-859c-3f4e21d9303a",
   "metadata": {},
   "outputs": [],
   "source": [
    "import re\n",
    "\n",
    "# 1. Compile regular expression with a pattern\n",
    "regex = re.compile(\"^.+(sub-.+)_(ses-.+)_(mod-.+)\")"
   ]
  },
  {
   "cell_type": "code",
   "execution_count": 2442,
   "id": "f884a031-a52b-4256-878b-719eaec9a0a7",
   "metadata": {},
   "outputs": [],
   "source": [
    "strings = [\"abcsub-022_ses-01_mod-mri\", \"defsub-044_ses-01_mod-mri\", \"ghisub-055_ses-02_mod-ctscan\"]"
   ]
  },
  {
   "cell_type": "code",
   "execution_count": 2443,
   "id": "34e7bc13-c389-4c1e-a025-66d53f80e2da",
   "metadata": {},
   "outputs": [
    {
     "data": {
      "text/plain": [
       "[[('sub-022', 'ses-01', 'mod-mri')],\n",
       " [('sub-044', 'ses-01', 'mod-mri')],\n",
       " [('sub-055', 'ses-02', 'mod-ctscan')]]"
      ]
     },
     "execution_count": 2443,
     "metadata": {},
     "output_type": "execute_result"
    }
   ],
   "source": [
    "[regex.findall(s) for s in strings]"
   ]
  },
  {
   "cell_type": "code",
   "execution_count": 2444,
   "id": "cd73a02b-4eab-432c-ae48-e43d67f8056e",
   "metadata": {},
   "outputs": [
    {
     "data": {
      "text/plain": [
       "[('sub-022', 'ses-01', 'mod-mri'),\n",
       " ('sub-044', 'ses-01', 'mod-mri'),\n",
       " ('sub-055', 'ses-02', 'mod-ctscan')]"
      ]
     },
     "execution_count": 2444,
     "metadata": {},
     "output_type": "execute_result"
    }
   ],
   "source": [
    "[regex.findall(s)[0] for s in strings]"
   ]
  },
  {
   "cell_type": "code",
   "execution_count": 2445,
   "id": "fbf6b177-ec1f-4b12-9a75-1d9642aa826d",
   "metadata": {},
   "outputs": [],
   "source": [
    "import os"
   ]
  },
  {
   "cell_type": "code",
   "execution_count": 2446,
   "id": "678aac0c-3d68-4ce6-947e-f72fc56a5a58",
   "metadata": {},
   "outputs": [
    {
     "data": {
      "text/plain": [
       "'/mnt/c/Users/Aaron Joel/Documents/HAL'"
      ]
     },
     "execution_count": 2446,
     "metadata": {},
     "output_type": "execute_result"
    }
   ],
   "source": [
    "cwd = os.getcwd()\n",
    "cwd"
   ]
  },
  {
   "cell_type": "code",
   "execution_count": 2447,
   "id": "9ed41178-f950-423f-9455-045e24fd6ae6",
   "metadata": {},
   "outputs": [],
   "source": [
    "import tempfile \n",
    "\n",
    "tmpdir = tempfile.gettempdir()"
   ]
  },
  {
   "cell_type": "code",
   "execution_count": 2448,
   "id": "14644a4a-75fe-49b9-8cc4-d3b17a51ff4d",
   "metadata": {},
   "outputs": [
    {
     "data": {
      "text/plain": [
       "'/tmp'"
      ]
     },
     "execution_count": 2448,
     "metadata": {},
     "output_type": "execute_result"
    }
   ],
   "source": [
    "tmpdir"
   ]
  },
  {
   "cell_type": "code",
   "execution_count": 2449,
   "id": "45bac61c-15c8-4272-8294-8385f1d6007e",
   "metadata": {},
   "outputs": [
    {
     "data": {
      "text/plain": [
       "'/tmp/foobar'"
      ]
     },
     "execution_count": 2449,
     "metadata": {},
     "output_type": "execute_result"
    }
   ],
   "source": [
    "mytmpdir = os.path.join(tmpdir, 'foobar')\n",
    "mytmpdir"
   ]
  },
  {
   "cell_type": "code",
   "execution_count": 2450,
   "id": "1f3db376-bd7b-487d-ac1d-3382b7080d42",
   "metadata": {},
   "outputs": [
    {
     "data": {
      "text/plain": [
       "['plop', 'myfile.txt']"
      ]
     },
     "execution_count": 2450,
     "metadata": {},
     "output_type": "execute_result"
    }
   ],
   "source": [
    "os.makedirs(os.path.join(tmpdir, \"foobar\", \"plop\", \"toto\"), exist_ok=True)\n",
    "\n",
    "# list containing the names of the entries in the directory given by path.\n",
    "os.listdir(mytmpdir)"
   ]
  },
  {
   "cell_type": "code",
   "execution_count": 2451,
   "id": "30ab6cbc-4ebe-4d70-aa26-74690249dd63",
   "metadata": {},
   "outputs": [
    {
     "data": {
      "text/plain": [
       "'/tmp/foobar'"
      ]
     },
     "execution_count": 2451,
     "metadata": {},
     "output_type": "execute_result"
    }
   ],
   "source": [
    "mytmpdir"
   ]
  },
  {
   "cell_type": "code",
   "execution_count": 2452,
   "id": "afa0da57-cd65-4166-834a-3163834f8a6a",
   "metadata": {},
   "outputs": [
    {
     "name": "stdout",
     "output_type": "stream",
     "text": [
      "/tmp/foobar/myfile.txt\n"
     ]
    }
   ],
   "source": [
    "filename = os.path.join(mytmpdir, 'myfile.txt')\n",
    "print(filename)"
   ]
  },
  {
   "cell_type": "code",
   "execution_count": 2453,
   "id": "2992590b-0ffa-4dbd-bf62-66f718ef40dc",
   "metadata": {},
   "outputs": [],
   "source": [
    "lines = ['Dans python tout est bon', 'Enfin presque']\n",
    "\n",
    "## write line by line\n",
    "fd = open(filename, 'w')\n",
    "fd.write(lines[0] + \"\\n\")\n",
    "fd.write(lines[1] + \"\\n\")\n",
    "fd.close()\n",
    "\n",
    "## Use a context manager to automatically close your file\n",
    "with open(filename, 'w') as f:\n",
    "    for line in lines:\n",
    "        f.write(line + '\\n')"
   ]
  },
  {
   "cell_type": "code",
   "execution_count": 2454,
   "id": "7b7f54c7-cf23-4c31-8836-faf69de989d9",
   "metadata": {},
   "outputs": [
    {
     "data": {
      "text/plain": [
       "'Dans python tout est bon\\n'"
      ]
     },
     "execution_count": 2454,
     "metadata": {},
     "output_type": "execute_result"
    }
   ],
   "source": [
    "f = open(filename, 'r')\n",
    "f.readline()"
   ]
  },
  {
   "cell_type": "code",
   "execution_count": 2455,
   "id": "670afc06-7980-4b3e-a558-b7dfbc41a964",
   "metadata": {},
   "outputs": [
    {
     "data": {
      "text/plain": [
       "'Enfin presque\\n'"
      ]
     },
     "execution_count": 2455,
     "metadata": {},
     "output_type": "execute_result"
    }
   ],
   "source": [
    "f.readline()"
   ]
  },
  {
   "cell_type": "code",
   "execution_count": 2456,
   "id": "0097eb67-9dd9-466b-a764-70ae74bee825",
   "metadata": {},
   "outputs": [
    {
     "data": {
      "text/plain": [
       "''"
      ]
     },
     "execution_count": 2456,
     "metadata": {},
     "output_type": "execute_result"
    }
   ],
   "source": [
    "f.readline()"
   ]
  },
  {
   "cell_type": "code",
   "execution_count": 2457,
   "id": "c8769f11-15d9-4101-9369-d105ef7123c7",
   "metadata": {},
   "outputs": [],
   "source": [
    "f.close()"
   ]
  },
  {
   "cell_type": "code",
   "execution_count": 2458,
   "id": "798b2656-eb54-4ffa-9d41-9581fceec88c",
   "metadata": {},
   "outputs": [],
   "source": [
    "f = open(filename, 'r')\n",
    "f.readlines()\n",
    "f.close()"
   ]
  },
  {
   "cell_type": "code",
   "execution_count": 2459,
   "id": "306878d1-acac-45aa-b79e-99871d588dc3",
   "metadata": {},
   "outputs": [
    {
     "data": {
      "text/plain": [
       "['Dans python tout est bon\\n', 'Enfin presque\\n']"
      ]
     },
     "execution_count": 2459,
     "metadata": {},
     "output_type": "execute_result"
    }
   ],
   "source": [
    "f = open(filename, 'r')\n",
    "f.readlines()"
   ]
  },
  {
   "cell_type": "code",
   "execution_count": 2460,
   "id": "c280b411-4e60-4a3c-a997-4ff8d374fb8b",
   "metadata": {},
   "outputs": [],
   "source": [
    "f.close()"
   ]
  },
  {
   "cell_type": "code",
   "execution_count": 2461,
   "id": "96315cb2-fd07-478d-8cd6-c26b7f79e16c",
   "metadata": {},
   "outputs": [
    {
     "data": {
      "text/plain": [
       "['Dans python tout est bon\\n', 'Enfin presque\\n']"
      ]
     },
     "execution_count": 2461,
     "metadata": {},
     "output_type": "execute_result"
    }
   ],
   "source": [
    "f = open(filename, 'r')\n",
    "[line for line in f]"
   ]
  },
  {
   "cell_type": "code",
   "execution_count": 2462,
   "id": "e74de741-c602-4af5-8e6a-359c484924ec",
   "metadata": {},
   "outputs": [],
   "source": [
    "f.close()"
   ]
  },
  {
   "cell_type": "code",
   "execution_count": 2463,
   "id": "6f14c042-e3b7-4a31-840e-3a269e3223e5",
   "metadata": {},
   "outputs": [
    {
     "data": {
      "text/plain": [
       "['Dans python tout est bon\\n', 'Enfin presque\\n']"
      ]
     },
     "execution_count": 2463,
     "metadata": {},
     "output_type": "execute_result"
    }
   ],
   "source": [
    "with open(filename, 'r') as f:\n",
    "    lines = [line for line in f]\n",
    "\n",
    "lines"
   ]
  },
  {
   "cell_type": "code",
   "execution_count": 2464,
   "id": "e32d6c45-0850-4bbc-a88a-8075e0399b1c",
   "metadata": {},
   "outputs": [
    {
     "data": {
      "text/plain": [
       "'/tmp/foobar'"
      ]
     },
     "execution_count": 2464,
     "metadata": {},
     "output_type": "execute_result"
    }
   ],
   "source": [
    "import os\n",
    "\n",
    "WD = os.path.join(tmpdir, 'foobar')\n",
    "WD"
   ]
  },
  {
   "cell_type": "code",
   "execution_count": 2465,
   "id": "1ed60eae-db24-4d02-8077-146d5f63a2e4",
   "metadata": {},
   "outputs": [
    {
     "name": "stdout",
     "output_type": "stream",
     "text": [
      "/tmp/foobar ['plop'] ['myfile.txt']\n",
      "/tmp/foobar/plop ['toto'] ['myfile.txt']\n",
      "/tmp/foobar/plop/toto [] []\n"
     ]
    }
   ],
   "source": [
    "for dirpath, dirnames, filenames in os.walk(WD):\n",
    "    print(dirpath, dirnames, filenames)"
   ]
  },
  {
   "cell_type": "code",
   "execution_count": 2466,
   "id": "f50bb755-e103-49ec-ada1-06b93cedb16c",
   "metadata": {},
   "outputs": [
    {
     "name": "stdout",
     "output_type": "stream",
     "text": [
      "['/tmp/foobar/myfile.txt']\n"
     ]
    }
   ],
   "source": [
    "import tempfile\n",
    "import glob \n",
    "\n",
    "tmpdir = tempfile.gettempdir()\n",
    "filenames = glob.glob(os.path.join(tmpdir, \"*\", \"*.txt\"))\n",
    "print(filenames)"
   ]
  },
  {
   "cell_type": "code",
   "execution_count": 2467,
   "id": "51a254e2-79d3-49c9-857c-4de527639d3b",
   "metadata": {},
   "outputs": [
    {
     "name": "stdout",
     "output_type": "stream",
     "text": [
      "['myfile']\n"
     ]
    }
   ],
   "source": [
    "# take basename then remove extension\n",
    "basenames = [os.path.splitext(os.path.basename(f))[0] for f in filenames]\n",
    "print(basenames)"
   ]
  },
  {
   "cell_type": "code",
   "execution_count": 2468,
   "id": "114a5cce-51c7-4af9-9d47-b11d0841ae64",
   "metadata": {},
   "outputs": [
    {
     "data": {
      "text/plain": [
       "'/tmp/foobar/myfile.txt'"
      ]
     },
     "execution_count": 2468,
     "metadata": {},
     "output_type": "execute_result"
    }
   ],
   "source": [
    "import shutil\n",
    "\n",
    "src = os.path.join(tmpdir, 'foobar', 'myfile.txt')\n",
    "src"
   ]
  },
  {
   "cell_type": "code",
   "execution_count": 2469,
   "id": "28325cac-af90-4812-8803-96b2aab0bc75",
   "metadata": {},
   "outputs": [
    {
     "name": "stdout",
     "output_type": "stream",
     "text": [
      "copy /tmp/foobar/myfile.txt to /tmp/foobar/plop/myfile.txt\n"
     ]
    }
   ],
   "source": [
    "dst = os.path.join(tmpdir, 'foobar', 'plop', 'myfile.txt')\n",
    "print('copy %s to %s' % (src, dst))"
   ]
  },
  {
   "cell_type": "code",
   "execution_count": 2470,
   "id": "3832d248-440c-4c42-9aa0-3e5633c77052",
   "metadata": {},
   "outputs": [
    {
     "name": "stdout",
     "output_type": "stream",
     "text": [
      "File /tmp/foobar/plop/myfile.txt exists ? True\n"
     ]
    }
   ],
   "source": [
    "shutil.copy(src, dst)\n",
    "print(f\"File {dst} exists ? {os.path.exists(dst)}\")"
   ]
  },
  {
   "cell_type": "code",
   "execution_count": 2471,
   "id": "c2236756-3d5c-4aef-9424-95d4b7abfc29",
   "metadata": {},
   "outputs": [
    {
     "name": "stdout",
     "output_type": "stream",
     "text": [
      "total 1812\n",
      "-rwxrwxrwx 1 aaron-joel aaron-joel 820148 May 22 08:28 HAL1.ipynb\n",
      "-rwxrwxrwx 1 aaron-joel aaron-joel 862128 May 12 22:33 MLCourseAI1.ipynb\n",
      "-rwxrwxrwx 1 aaron-joel aaron-joel     51 May 12 22:15 git_token.txt\n",
      "-rwxrwxrwx 1 aaron-joel aaron-joel 152289 May 22 07:46 word_count.csv\n",
      "-rwxrwxrwx 1 aaron-joel aaron-joel   1213 May 22 07:46 wordcount.py\n",
      "p.returncode: 0\n",
      "total 1812\n",
      "-rwxrwxrwx 1 aaron-joel aaron-joel 820148 May 22 08:28 HAL1.ipynb\n",
      "-rwxrwxrwx 1 aaron-joel aaron-joel 862128 May 12 22:33 MLCourseAI1.ipynb\n",
      "-rwxrwxrwx 1 aaron-joel aaron-joel     51 May 12 22:15 git_token.txt\n",
      "-rwxrwxrwx 1 aaron-joel aaron-joel 152289 May 22 07:46 word_count.csv\n",
      "-rwxrwxrwx 1 aaron-joel aaron-joel   1213 May 22 07:46 wordcount.py\n",
      "['.', '..', 'bin', 'bin.usr-is-merged', 'boot']\n"
     ]
    }
   ],
   "source": [
    "import subprocess \n",
    "\n",
    "# doesn't capture output\n",
    "p = subprocess.run([\"ls\", \"-l\"])\n",
    "print(f\"p.returncode: {p.returncode}\")\n",
    "\n",
    "# Run through the shell.\n",
    "subprocess.run(\"ls -l\", shell=True)\n",
    "\n",
    "# Capture output\n",
    "out = subprocess.run([\"ls\", \"-a\", \"/\"], stdout=subprocess.PIPE, stderr=subprocess.STDOUT)\n",
    "\n",
    "# out.stdout is a sequence of bytes that should be decoded into a utf-8 string\n",
    "print(out.stdout.decode('utf-8').split(\"\\n\")[:5])"
   ]
  },
  {
   "cell_type": "code",
   "execution_count": 2472,
   "id": "5f3b55c8-7c2b-46f1-a382-99bf3b5f8b59",
   "metadata": {},
   "outputs": [
    {
     "name": "stdout",
     "output_type": "stream",
     "text": [
      "total 1812\n",
      "-rwxrwxrwx 1 aaron-joel aaron-joel 820148 May 22 08:28 \u001b[0m\u001b[01;32mHAL1.ipynb\u001b[0m*\n",
      "-rwxrwxrwx 1 aaron-joel aaron-joel 862128 May 12 22:33 \u001b[01;32mMLCourseAI1.ipynb\u001b[0m*\n",
      "-rwxrwxrwx 1 aaron-joel aaron-joel     51 May 12 22:15 \u001b[01;32mgit_token.txt\u001b[0m*\n",
      "-rwxrwxrwx 1 aaron-joel aaron-joel 152289 May 22 07:46 \u001b[01;32mword_count.csv\u001b[0m*\n",
      "-rwxrwxrwx 1 aaron-joel aaron-joel   1213 May 22 07:46 \u001b[01;32mwordcount.py\u001b[0m*\n"
     ]
    }
   ],
   "source": [
    "%ls -l"
   ]
  },
  {
   "cell_type": "code",
   "execution_count": 2473,
   "id": "aec68cd2-3cc3-4bad-9216-183a1d6e82b6",
   "metadata": {},
   "outputs": [
    {
     "name": "stdout",
     "output_type": "stream",
     "text": [
      "\u001b[0m\u001b[01;34m.\u001b[0m/                  \u001b[01;34mdev\u001b[0m/   \u001b[01;34mlib.usr-is-merged\u001b[0m/  \u001b[01;34mopt\u001b[0m/   \u001b[01;34msbin.usr-is-merged\u001b[0m/  \u001b[01;34musr\u001b[0m/\n",
      "\u001b[01;34m..\u001b[0m/                 \u001b[01;34metc\u001b[0m/   \u001b[01;36mlib64\u001b[0m@              \u001b[01;34mproc\u001b[0m/  \u001b[01;34msnap\u001b[0m/                \u001b[01;34mvar\u001b[0m/\n",
      "\u001b[01;36mbin\u001b[0m@                \u001b[01;34mhome\u001b[0m/  \u001b[01;34mlost+found\u001b[0m/         \u001b[01;34mroot\u001b[0m/  \u001b[01;34msrv\u001b[0m/\n",
      "\u001b[01;34mbin.usr-is-merged\u001b[0m/  \u001b[01;32minit\u001b[0m*  \u001b[01;34mmedia\u001b[0m/              \u001b[01;34mrun\u001b[0m/   \u001b[01;34msys\u001b[0m/\n",
      "\u001b[01;34mboot\u001b[0m/               \u001b[01;36mlib\u001b[0m@   \u001b[01;34mmnt\u001b[0m/                \u001b[01;36msbin\u001b[0m@  \u001b[30;42mtmp\u001b[0m/\n"
     ]
    }
   ],
   "source": [
    "%ls -a /"
   ]
  },
  {
   "cell_type": "markdown",
   "id": "1b99086f-dab9-462b-a437-53e282c6ba32",
   "metadata": {},
   "source": [
    "## Process\n",
    "\n",
    "A process is a name given to a program instance that has been loaded into memory and managed by the operating system.\n",
    "$$Process = address\\,space + execution\\,context (thread\\,of\\,control)$$"
   ]
  },
  {
   "cell_type": "code",
   "execution_count": 2474,
   "id": "e24c3e10-86f5-4516-85c9-9cb5a0242c3f",
   "metadata": {},
   "outputs": [],
   "source": [
    "import time\n",
    "import threading\n",
    "\n",
    "def list_append(count, sign=1, out_list=None):\n",
    "    if out_list is None:\n",
    "        out_list = list()\n",
    "    for i in range(count):\n",
    "        out_list.append(sign*i)\n",
    "        sum(out_list) # do some computation\n",
    "    return out_list"
   ]
  },
  {
   "cell_type": "code",
   "execution_count": 2475,
   "id": "f936171f-5536-4a1b-b769-f37925a7e8bc",
   "metadata": {},
   "outputs": [
    {
     "name": "stdout",
     "output_type": "stream",
     "text": [
      "Threading ellapsed time 1.1777722835540771\n",
      "[0, 1, 2, 3, 4, 5, 6, 7, 8, 9]\n"
     ]
    }
   ],
   "source": [
    "size = 10000 # Number of numbers to add\n",
    "out_list = list() # result is a simple list\n",
    "thread1 = threading.Thread(target=list_append, args=(size, 1, out_list,))\n",
    "thread2 = threading.Thread(target=list_append, args=(size, -1, out_list,))\n",
    "\n",
    "start_time = time.time()\n",
    "# Will execute both in parallel\n",
    "thread1.start()\n",
    "thread2.start()\n",
    "# Joins threads back to the parent process\n",
    "thread1.join()\n",
    "thread2.join()\n",
    "print(f\"Threading ellapsed time {time.time() - start_time}\")\n",
    "\n",
    "print(out_list[:10])"
   ]
  },
  {
   "cell_type": "code",
   "execution_count": 2476,
   "id": "55083704-c3d0-40d7-afaf-24d82c78ed28",
   "metadata": {},
   "outputs": [
    {
     "name": "stdout",
     "output_type": "stream",
     "text": [
      "Multiprocessing ellapsed time 0.40466928482055664\n"
     ]
    }
   ],
   "source": [
    "import multiprocessing \n",
    "\n",
    "# Sharing requires specific mechanism\n",
    "out_list1 = multiprocessing.Manager().list()\n",
    "p1 = multiprocessing.Process(target=list_append, args=(size, 1, None))\n",
    "out_list2 = multiprocessing.Manager().list()\n",
    "p2 = multiprocessing.Process(target=list_append, args=(size, -1, None))\n",
    "\n",
    "start_time = time.time()\n",
    "p1.start()\n",
    "p2.start()\n",
    "p1.join()\n",
    "p2.join()\n",
    "print(f\"Multiprocessing ellapsed time {time.time() - start_time}\")\n"
   ]
  },
  {
   "cell_type": "code",
   "execution_count": 2477,
   "id": "aa0fe277-32d9-4b60-940c-9d9417d2cd54",
   "metadata": {},
   "outputs": [
    {
     "data": {
      "text/plain": [
       "[]"
      ]
     },
     "execution_count": 2477,
     "metadata": {},
     "output_type": "execute_result"
    }
   ],
   "source": [
    "list(out_list2)"
   ]
  },
  {
   "cell_type": "code",
   "execution_count": 2478,
   "id": "2f132ba6-55f9-4e99-89d7-9923c782ecb7",
   "metadata": {},
   "outputs": [
    {
     "name": "stdout",
     "output_type": "stream",
     "text": [
      "Overwriting wordcount.py\n"
     ]
    }
   ],
   "source": [
    "%%writefile wordcount.py\n",
    "import os\n",
    "import os.path\n",
    "import argparse\n",
    "import re\n",
    "import pandas as pd\n",
    "\n",
    "if __name__ == '__main__':\n",
    "    # parse command line options\n",
    "    output = 'word_count.csv'\n",
    "    parser = argparse.ArgumentParser()\n",
    "    parser.add_argument('-i', '--input', help='list of input files.', nargs='+', type=str)\n",
    "    parser.add_argument('-o', '--output',\n",
    "                        help='output csv file (default %s)' % output,\n",
    "                        type=str, default=output)\n",
    "    options = parser.parse_args()\n",
    "\n",
    "    if options.input is None:\n",
    "        parser.print_help()\n",
    "        raise SystemExit(\"Error: input files are missing\")\n",
    "    else:\n",
    "        filenames = [f for f in options.input if os.path.isfile(f)]\n",
    "\n",
    "    # Match words\n",
    "\n",
    "    regex = re.compile(\"[a-zA-Z]+\")\n",
    "    count = dict()\n",
    "\n",
    "    for filename in filenames:\n",
    "        fd = open(filename, 'r')\n",
    "        for line in fd:\n",
    "            for word in regex.findall(line.lower()):\n",
    "                if not word in count:\n",
    "                    count[word] = 1\n",
    "                else:\n",
    "                    count[word] += 1\n",
    "    fd = open(options.output, 'w')\n",
    "\n",
    "    # Pandas\n",
    "    df = pd.DataFrame([[k, count[k]] for k in count], columns=['word', 'count'])\n",
    "    df.to_csv(options.output, index=False)\n",
    "\n",
    "    "
   ]
  },
  {
   "cell_type": "code",
   "execution_count": 2479,
   "id": "21488592-3071-4ba6-bbc1-ae16269aa921",
   "metadata": {},
   "outputs": [
    {
     "name": "stdout",
     "output_type": "stream",
     "text": [
      "usage: wordcount.py [-h] [-i INPUT [INPUT ...]] [-o OUTPUT]\n",
      "\n",
      "options:\n",
      "  -h, --help            show this help message and exit\n",
      "  -i INPUT [INPUT ...], --input INPUT [INPUT ...]\n",
      "                        list of input files.\n",
      "  -o OUTPUT, --output OUTPUT\n",
      "                        output csv file (default word_count.csv)\n"
     ]
    }
   ],
   "source": [
    "%run wordcount.py --help"
   ]
  },
  {
   "cell_type": "code",
   "execution_count": 2480,
   "id": "7426b3c9-68e1-4c77-8495-a6198a247704",
   "metadata": {},
   "outputs": [],
   "source": [
    "%run wordcount.py -i HAL1.ipynb"
   ]
  },
  {
   "cell_type": "code",
   "execution_count": 2481,
   "id": "fb998bd4-ed9b-484e-9647-b2af3f078ff8",
   "metadata": {},
   "outputs": [
    {
     "data": {
      "text/html": [
       "<div>\n",
       "<style scoped>\n",
       "    .dataframe tbody tr th:only-of-type {\n",
       "        vertical-align: middle;\n",
       "    }\n",
       "\n",
       "    .dataframe tbody tr th {\n",
       "        vertical-align: top;\n",
       "    }\n",
       "\n",
       "    .dataframe thead th {\n",
       "        text-align: right;\n",
       "    }\n",
       "</style>\n",
       "<table border=\"1\" class=\"dataframe\">\n",
       "  <thead>\n",
       "    <tr style=\"text-align: right;\">\n",
       "      <th></th>\n",
       "      <th>word</th>\n",
       "      <th>count</th>\n",
       "    </tr>\n",
       "  </thead>\n",
       "  <tbody>\n",
       "    <tr>\n",
       "      <th>0</th>\n",
       "      <td>cells</td>\n",
       "      <td>3</td>\n",
       "    </tr>\n",
       "    <tr>\n",
       "      <th>1</th>\n",
       "      <td>cell</td>\n",
       "      <td>664</td>\n",
       "    </tr>\n",
       "    <tr>\n",
       "      <th>2</th>\n",
       "      <td>type</td>\n",
       "      <td>1335</td>\n",
       "    </tr>\n",
       "    <tr>\n",
       "      <th>3</th>\n",
       "      <td>code</td>\n",
       "      <td>659</td>\n",
       "    </tr>\n",
       "    <tr>\n",
       "      <th>4</th>\n",
       "      <td>execution</td>\n",
       "      <td>1196</td>\n",
       "    </tr>\n",
       "  </tbody>\n",
       "</table>\n",
       "</div>"
      ],
      "text/plain": [
       "        word  count\n",
       "0      cells      3\n",
       "1       cell    664\n",
       "2       type   1335\n",
       "3       code    659\n",
       "4  execution   1196"
      ]
     },
     "execution_count": 2481,
     "metadata": {},
     "output_type": "execute_result"
    }
   ],
   "source": [
    "df = pd.read_csv('word_count.csv')\n",
    "df.head()"
   ]
  },
  {
   "cell_type": "code",
   "execution_count": 2482,
   "id": "e9533817-776a-4cd8-a207-61bc40903fe3",
   "metadata": {},
   "outputs": [
    {
     "name": "stdout",
     "output_type": "stream",
     "text": [
      "-rwxrwxr-x    1 ftp      ftp          3019 Oct 16  2019 README.md\n",
      "-rwxrwxr-x    1 ftp      ftp      10672252 Dec 18  2020 StatisticsMachineLearningPython.pdf\n",
      "-rwxrwxr-x    1 ftp      ftp       9676120 Nov 12  2020 StatisticsMachineLearningPythonDraft.pdf\n",
      "-rwxrwxr-x    1 ftp      ftp       9798485 Jul 08  2020 StatisticsMachineLearningPythonDraft_202007.pdf\n"
     ]
    },
    {
     "data": {
      "text/plain": [
       "('/tmp/README2.md', <email.message.Message at 0x7f1d02128950>)"
      ]
     },
     "execution_count": 2482,
     "metadata": {},
     "output_type": "execute_result"
    }
   ],
   "source": [
    "# Full FTP features with ftplib\n",
    "import ftplib\n",
    "ftp = ftplib.FTP(\"ftp.cea.fr\")\n",
    "ftp.login()\n",
    "ftp.cwd('/pub/unati/people/educhesnay/pystatml')\n",
    "ftp.retrlines('LIST')\n",
    "fd = open(os.path.join(tmpdir, \"README.md\"), \"wb\")\n",
    "ftp.retrbinary('RETR README.md', fd.write)\n",
    "fd.close()\n",
    "ftp.quit()\n",
    "# File download urllib\n",
    "import urllib.request\n",
    "ftp_url = 'ftp://ftp.cea.fr/pub/unati/people/educhesnay/pystatml/README.md'\n",
    "urllib.request.urlretrieve(ftp_url, os.path.join(tmpdir, \"README2.md\"))\n"
   ]
  },
  {
   "cell_type": "code",
   "execution_count": 2483,
   "id": "a4fbc84a-d855-44aa-997c-9f62ea410de2",
   "metadata": {},
   "outputs": [
    {
     "name": "stdout",
     "output_type": "stream",
     "text": [
      "[4, 28.274333882308138]\n",
      "NotImplementedError \n"
     ]
    }
   ],
   "source": [
    "import math \n",
    "\n",
    "class Shape2D:\n",
    "    def area(self):\n",
    "        raise NotImplementedError()\n",
    "\n",
    "# Inheritance + Encapsulation \n",
    "class Square(Shape2D):\n",
    "    def __init__(self, width):\n",
    "        self.width = width \n",
    "\n",
    "    def area(self):\n",
    "        return self.width ** 2\n",
    "\n",
    "class Disk(Shape2D):\n",
    "    def __init__(self, radius):\n",
    "        self.radius = radius \n",
    "\n",
    "    def area(self):\n",
    "        return math.pi * self.radius ** 2\n",
    "\n",
    "shapes = [Square(2), Disk(3)]\n",
    "\n",
    "# Polymorphism\n",
    "print([s.area() for s in shapes])\n",
    "\n",
    "s = Shape2D()\n",
    "try:\n",
    "    s.area()\n",
    "except NotImplementedError as e:\n",
    "    print(\"NotImplementedError\", e)"
   ]
  },
  {
   "cell_type": "code",
   "execution_count": 2484,
   "id": "4eed96c9-9191-48fe-804d-6e725b6c457d",
   "metadata": {},
   "outputs": [
    {
     "name": "stdout",
     "output_type": "stream",
     "text": [
      "Help on function my_function in module __main__:\n",
      "\n",
      "my_function(a, b=2)\n",
      "    This function ...\n",
      "\n",
      "    Parameters\n",
      "    ----------\n",
      "    a : float\n",
      "        First operand.\n",
      "    b : float, optional\n",
      "        Second operand. The default is 2.\n",
      "\n",
      "    Returns\n",
      "    -------\n",
      "    Sum of operands.\n",
      "\n",
      "    Example\n",
      "    -------\n",
      "    >>> my_function(5)\n",
      "    7\n",
      "\n",
      "None\n"
     ]
    }
   ],
   "source": [
    "def my_function(a, b=2):\n",
    "    \"\"\"\n",
    "    This function ...\n",
    "\n",
    "    Parameters\n",
    "    ----------\n",
    "    a : float\n",
    "        First operand.\n",
    "    b : float, optional\n",
    "        Second operand. The default is 2.\n",
    "\n",
    "    Returns\n",
    "    -------\n",
    "    Sum of operands.\n",
    "\n",
    "    Example\n",
    "    -------\n",
    "    >>> my_function(5)\n",
    "    7\n",
    "    \"\"\"\n",
    "    # Add a with b (this is a comment)\n",
    "    return a + b\n",
    "\n",
    "print(help(my_function))"
   ]
  },
  {
   "cell_type": "code",
   "execution_count": 2485,
   "id": "05e3284b-5d0a-42ba-bece-ed7e65d81ba7",
   "metadata": {},
   "outputs": [
    {
     "name": "stdout",
     "output_type": "stream",
     "text": [
      "A * B =\n",
      " [[5 0 0]\n",
      " [0 5 0]\n",
      " [0 0 5]]\n",
      "\n",
      "Inverse of A * B =\n",
      " [[0.2 0.  0. ]\n",
      " [0.  0.2 0. ]\n",
      " [0.  0.  0.2]]\n"
     ]
    }
   ],
   "source": [
    "import numpy as np\n",
    "\n",
    "# Define matrices A and B\n",
    "A = np.array([[1, 3, 0], \n",
    "              [-2, 0, 1], \n",
    "              [1, 2, -1]])\n",
    "\n",
    "B = np.array([[2, -3, -3], \n",
    "              [1, 1, 1], \n",
    "              [4, -1, -6]])\n",
    "\n",
    "# Compute the matrix product A * B\n",
    "AB = np.dot(A, B)\n",
    "print(\"A * B =\\n\", AB)\n",
    "\n",
    "# Try to compute the inverse of AB\n",
    "try:\n",
    "    AB_inv = np.linalg.inv(AB)\n",
    "    print(\"\\nInverse of A * B =\\n\", AB_inv)\n",
    "except np.linalg.LinAlgError:\n",
    "    print(\"\\nMatrix A * B is not invertible\")\n"
   ]
  },
  {
   "cell_type": "code",
   "execution_count": 2486,
   "id": "9d54d204-bf23-45b9-9f4d-f0cc8f700ee2",
   "metadata": {},
   "outputs": [
    {
     "data": {
      "text/plain": [
       "array([[ 0.4, -0.6, -0.6],\n",
       "       [ 0.2,  0.2,  0.2],\n",
       "       [ 0.8, -0.2, -1.2]])"
      ]
     },
     "execution_count": 2486,
     "metadata": {},
     "output_type": "execute_result"
    }
   ],
   "source": [
    "np.linalg.inv(A)"
   ]
  },
  {
   "cell_type": "code",
   "execution_count": 2487,
   "id": "bab74ada-b869-49af-84a2-121477658eb5",
   "metadata": {},
   "outputs": [
    {
     "data": {
      "text/plain": [
       "array([[ 8.00000000e-02, -3.60000000e-01,  2.49800181e-17],\n",
       "       [-8.00000000e-02, -0.00000000e+00,  4.00000000e-02],\n",
       "       [ 1.60000000e-01, -8.00000000e-02,  2.40000000e-01]])"
      ]
     },
     "execution_count": 2487,
     "metadata": {},
     "output_type": "execute_result"
    }
   ],
   "source": [
    "np.linalg.inv(B) * np.linalg.inv(A)"
   ]
  },
  {
   "cell_type": "code",
   "execution_count": 2488,
   "id": "b29474bf-fab1-4519-a592-3568a4066364",
   "metadata": {},
   "outputs": [
    {
     "data": {
      "text/plain": [
       "array([[5, 0, 0],\n",
       "       [0, 5, 0],\n",
       "       [0, 0, 5]])"
      ]
     },
     "execution_count": 2488,
     "metadata": {},
     "output_type": "execute_result"
    }
   ],
   "source": [
    "B @ A"
   ]
  },
  {
   "cell_type": "code",
   "execution_count": 2489,
   "id": "368d5b1d-b3cf-4653-9930-5837655b3107",
   "metadata": {},
   "outputs": [
    {
     "data": {
      "text/plain": [
       "array([[5, 0, 0],\n",
       "       [0, 5, 0],\n",
       "       [0, 0, 5]])"
      ]
     },
     "execution_count": 2489,
     "metadata": {},
     "output_type": "execute_result"
    }
   ],
   "source": [
    "A @ B"
   ]
  },
  {
   "cell_type": "code",
   "execution_count": 2490,
   "id": "48bd5d73-fc2b-451f-83b1-ab2b485fb014",
   "metadata": {},
   "outputs": [
    {
     "data": {
      "text/plain": [
       "array([[0.2, 0. , 0. ],\n",
       "       [0. , 0.2, 0. ],\n",
       "       [0. , 0. , 0.2]])"
      ]
     },
     "execution_count": 2490,
     "metadata": {},
     "output_type": "execute_result"
    }
   ],
   "source": [
    "np.linalg.inv(A @ B)"
   ]
  },
  {
   "cell_type": "code",
   "execution_count": 2491,
   "id": "8b81568b-cf6d-44ff-b4f3-f73adf31d636",
   "metadata": {},
   "outputs": [
    {
     "data": {
      "text/plain": [
       "array([[0.2, 0. , 0. ],\n",
       "       [0. , 0.2, 0. ],\n",
       "       [0. , 0. , 0.2]])"
      ]
     },
     "execution_count": 2491,
     "metadata": {},
     "output_type": "execute_result"
    }
   ],
   "source": [
    "np.linalg.inv(B @ A)"
   ]
  },
  {
   "cell_type": "code",
   "execution_count": 2492,
   "id": "06207392-d07f-411a-b394-74f3dadcf8f4",
   "metadata": {},
   "outputs": [
    {
     "data": {
      "text/plain": [
       "0.3125"
      ]
     },
     "execution_count": 2492,
     "metadata": {},
     "output_type": "execute_result"
    }
   ],
   "source": [
    "(1/2 + 1/8) / 2"
   ]
  },
  {
   "cell_type": "code",
   "execution_count": 2493,
   "id": "3e36584a-81bf-4f78-9025-b9f54d0f44d4",
   "metadata": {},
   "outputs": [
    {
     "data": {
      "text/plain": [
       "0.3125"
      ]
     },
     "execution_count": 2493,
     "metadata": {},
     "output_type": "execute_result"
    }
   ],
   "source": [
    "5/16"
   ]
  },
  {
   "cell_type": "code",
   "execution_count": 2494,
   "id": "ba38d12d-d57a-42a7-8710-da977440f660",
   "metadata": {},
   "outputs": [
    {
     "data": {
      "text/plain": [
       "[[0, 1], [1, 2], [0, 3], [3, 4], [3, 6], [3, 7], [4, 2], [4, 5], [5, 2]]"
      ]
     },
     "execution_count": 2494,
     "metadata": {},
     "output_type": "execute_result"
    }
   ],
   "source": [
    "# Array of Edges (Directed) [Start, End]\n",
    "n = 8\n",
    "A = [[0, 1],\n",
    "     [1, 2],\n",
    "     [0, 3],\n",
    "     [3, 4],\n",
    "     [3, 6],\n",
    "     [3, 7],\n",
    "     [4, 2],\n",
    "     [4, 5],\n",
    "     [5, 2]]\n",
    "\n",
    "A"
   ]
  },
  {
   "cell_type": "code",
   "execution_count": 2495,
   "id": "d918f72b-2e76-441f-9b12-3187d97d6a5a",
   "metadata": {},
   "outputs": [
    {
     "name": "stdout",
     "output_type": "stream",
     "text": [
      "[[0, 0, 0, 0, 0, 0, 0, 0], [0, 0, 0, 0, 0, 0, 0, 0], [0, 0, 0, 0, 0, 0, 0, 0], [0, 0, 0, 0, 0, 0, 0, 0], [0, 0, 0, 0, 0, 0, 0, 0], [0, 0, 0, 0, 0, 0, 0, 0], [0, 0, 0, 0, 0, 0, 0, 0], [0, 0, 0, 0, 0, 0, 0, 0]]\n",
      "[[0, 1, 0, 1, 0, 0, 0, 0], [0, 0, 1, 0, 0, 0, 0, 0], [0, 0, 0, 0, 0, 0, 0, 0], [0, 0, 0, 0, 1, 0, 1, 1], [0, 0, 1, 0, 0, 1, 0, 0], [0, 0, 1, 0, 0, 0, 0, 0], [0, 0, 0, 0, 0, 0, 0, 0], [0, 0, 0, 0, 0, 0, 0, 0]]\n"
     ]
    }
   ],
   "source": [
    "# Convert Array of Edges -> Adjacency Matrix\n",
    "M = []\n",
    "\n",
    "for i in range(n):\n",
    "    M.append([0] * n)\n",
    "\n",
    "print(M)\n",
    "\n",
    "for u, v in A:\n",
    "    M[u][v] = 1\n",
    "\n",
    "    # Uncoment the following line if the graph is undirected\n",
    "    #M[v][u] = 1\n",
    "\n",
    "print(M)"
   ]
  },
  {
   "cell_type": "code",
   "execution_count": 2496,
   "id": "466dda41-3c12-4e30-89c1-3884e70a6005",
   "metadata": {},
   "outputs": [
    {
     "data": {
      "text/plain": [
       "[[0, 1, 0, 1, 0, 0, 0, 0],\n",
       " [0, 0, 1, 0, 0, 0, 0, 0],\n",
       " [0, 0, 0, 0, 0, 0, 0, 0],\n",
       " [0, 0, 0, 0, 1, 0, 1, 1],\n",
       " [0, 0, 1, 0, 0, 1, 0, 0],\n",
       " [0, 0, 1, 0, 0, 0, 0, 0],\n",
       " [0, 0, 0, 0, 0, 0, 0, 0],\n",
       " [0, 0, 0, 0, 0, 0, 0, 0]]"
      ]
     },
     "execution_count": 2496,
     "metadata": {},
     "output_type": "execute_result"
    }
   ],
   "source": [
    "M"
   ]
  },
  {
   "cell_type": "code",
   "execution_count": 2497,
   "id": "a3304270-21e3-4acd-a6dd-3cce2eefee6e",
   "metadata": {},
   "outputs": [
    {
     "data": {
      "text/plain": [
       "defaultdict(list, {0: [1, 3], 1: [2], 3: [4, 6, 7], 4: [2, 5], 5: [2]})"
      ]
     },
     "execution_count": 2497,
     "metadata": {},
     "output_type": "execute_result"
    }
   ],
   "source": [
    "from collections import defaultdict \n",
    "\n",
    "D = defaultdict(list)\n",
    "\n",
    "for u, v in A:\n",
    "    D[u].append(v)\n",
    "    # Uncomment the following line if the graph is undirected\n",
    "    #D[v].append(u)\n",
    "\n",
    "D"
   ]
  },
  {
   "cell_type": "code",
   "execution_count": 2498,
   "id": "7ef85644-895e-4046-96cc-7ba60ce4beb0",
   "metadata": {},
   "outputs": [
    {
     "data": {
      "text/plain": [
       "[1, 3]"
      ]
     },
     "execution_count": 2498,
     "metadata": {},
     "output_type": "execute_result"
    }
   ],
   "source": [
    "D[0]"
   ]
  },
  {
   "cell_type": "code",
   "execution_count": 2499,
   "id": "a18e039d-70cc-433e-94b5-8d5e62637193",
   "metadata": {},
   "outputs": [
    {
     "data": {
      "text/plain": [
       "[4, 6, 7]"
      ]
     },
     "execution_count": 2499,
     "metadata": {},
     "output_type": "execute_result"
    }
   ],
   "source": [
    "D[3]"
   ]
  },
  {
   "cell_type": "code",
   "execution_count": 2500,
   "id": "51391f52-7690-4dbc-a734-5f07675736a3",
   "metadata": {},
   "outputs": [
    {
     "data": {
      "text/plain": [
       "defaultdict(list,\n",
       "            {0: [1, 3],\n",
       "             1: [0, 2],\n",
       "             2: [1, 4, 5],\n",
       "             3: [0, 4, 6, 7],\n",
       "             4: [3, 2, 5],\n",
       "             6: [3],\n",
       "             7: [3],\n",
       "             5: [4, 2]})"
      ]
     },
     "execution_count": 2500,
     "metadata": {},
     "output_type": "execute_result"
    }
   ],
   "source": [
    "from collections import defaultdict \n",
    "\n",
    "D = defaultdict(list)\n",
    "\n",
    "for u, v in A:\n",
    "    D[u].append(v)\n",
    "    # Uncomment the following line if the graph is undirected\n",
    "    D[v].append(u)\n",
    "\n",
    "D"
   ]
  },
  {
   "cell_type": "code",
   "execution_count": 2501,
   "id": "834dd351-fbe9-4248-9fef-43c29a69538a",
   "metadata": {},
   "outputs": [
    {
     "name": "stdout",
     "output_type": "stream",
     "text": [
      "0\n",
      "1\n",
      "2\n",
      "4\n",
      "3\n",
      "6\n",
      "7\n",
      "5\n"
     ]
    }
   ],
   "source": [
    "# DFS with Recursion - O(V + E) where V is the number of nodes and E is the number of edges\n",
    "def dfs_recursive(node):\n",
    "    print(node)\n",
    "    for nei_node in D[node]:\n",
    "        if nei_node not in seen:\n",
    "            seen.add(nei_node)\n",
    "            dfs_recursive(nei_node)\n",
    "\n",
    "source = 0\n",
    "seen = set()\n",
    "seen.add(source)\n",
    "dfs_recursive(source)"
   ]
  },
  {
   "cell_type": "code",
   "execution_count": 2502,
   "id": "d787a0be-0293-4b17-9a0e-3d5590ba02ae",
   "metadata": {},
   "outputs": [
    {
     "data": {
      "text/plain": [
       "defaultdict(list, {0: [1, 3], 1: [2], 3: [4, 6, 7], 4: [2, 5], 5: [2]})"
      ]
     },
     "execution_count": 2502,
     "metadata": {},
     "output_type": "execute_result"
    }
   ],
   "source": [
    "from collections import defaultdict \n",
    "\n",
    "D = defaultdict(list)\n",
    "\n",
    "for u, v in A:\n",
    "    D[u].append(v)\n",
    "    # Uncomment the following line if the graph is undirected\n",
    "    #D[v].append(u)\n",
    "\n",
    "D"
   ]
  },
  {
   "cell_type": "code",
   "execution_count": 2503,
   "id": "2d8c0b98-732d-4075-9019-48517f88a327",
   "metadata": {},
   "outputs": [
    {
     "name": "stdout",
     "output_type": "stream",
     "text": [
      "0\n",
      "3\n",
      "7\n",
      "6\n",
      "4\n",
      "5\n",
      "2\n",
      "1\n"
     ]
    }
   ],
   "source": [
    "# Iterative DFS with Stack - O(V + E)\n",
    "source = 0\n",
    "\n",
    "seen = set()\n",
    "seen.add(source)\n",
    "stack = [source]\n",
    "\n",
    "while stack:\n",
    "    node = stack.pop()\n",
    "    print(node)\n",
    "    for nei_node in D[node]:\n",
    "        if nei_node not in seen:\n",
    "            seen.add(nei_node)\n",
    "            stack.append(nei_node)"
   ]
  },
  {
   "cell_type": "code",
   "execution_count": 2504,
   "id": "607928eb-1836-4cd1-a96a-628b6b6ec232",
   "metadata": {},
   "outputs": [
    {
     "name": "stdout",
     "output_type": "stream",
     "text": [
      "0\n",
      "1\n",
      "3\n",
      "2\n",
      "4\n",
      "6\n",
      "7\n",
      "5\n"
     ]
    }
   ],
   "source": [
    "# BFS (Queue) - O(V + E)\n",
    "\n",
    "source = 0\n",
    "\n",
    "from collections import deque \n",
    "\n",
    "seen = set()\n",
    "seen.add(source)\n",
    "q = deque()\n",
    "q.append(source)\n",
    "\n",
    "while q:\n",
    "    node = q.popleft()\n",
    "    print(node)\n",
    "    for nei_node in D[node]:\n",
    "        if nei_node not in seen:\n",
    "            seen.add(nei_node)\n",
    "            q.append(nei_node)"
   ]
  },
  {
   "cell_type": "code",
   "execution_count": 2505,
   "id": "cdfca79b-71ac-4644-930b-5f49869e3523",
   "metadata": {},
   "outputs": [],
   "source": [
    "class Node:\n",
    "    def __init__(self, value):\n",
    "        self.value = value \n",
    "        self.neighbors = []\n",
    "\n",
    "    def __str__(self):\n",
    "        return f\"Node({self.value})\"\n",
    "\n",
    "    def __repr__(self):\n",
    "        return str(self)\n",
    "\n",
    "    def display(self):\n",
    "        connections = [node.value for node in self.neighbors]\n",
    "        return f\"{self.value} is connected to: {connections}\"\n",
    "        "
   ]
  },
  {
   "cell_type": "code",
   "execution_count": 2506,
   "id": "4557884d-0fe5-484e-9b5f-772c3896c3ad",
   "metadata": {},
   "outputs": [
    {
     "data": {
      "text/plain": [
       "Node(A)"
      ]
     },
     "execution_count": 2506,
     "metadata": {},
     "output_type": "execute_result"
    }
   ],
   "source": [
    "A = Node('A')\n",
    "A"
   ]
  },
  {
   "cell_type": "code",
   "execution_count": 2507,
   "id": "5dcbd58b-f010-45e8-b7fd-230a55940fe7",
   "metadata": {},
   "outputs": [
    {
     "data": {
      "text/plain": [
       "Node(B)"
      ]
     },
     "execution_count": 2507,
     "metadata": {},
     "output_type": "execute_result"
    }
   ],
   "source": [
    "B = Node('B')\n",
    "B"
   ]
  },
  {
   "cell_type": "code",
   "execution_count": 2508,
   "id": "3c487e42-ca01-49fe-a58d-23f3638551d4",
   "metadata": {},
   "outputs": [],
   "source": [
    "C = Node('C')\n",
    "D = Node('D')"
   ]
  },
  {
   "cell_type": "code",
   "execution_count": 2509,
   "id": "01888beb-0a07-4914-9a32-7ed2ab54b6d1",
   "metadata": {},
   "outputs": [],
   "source": [
    "A.neighbors.append(B)\n",
    "B.neighbors.append(A)"
   ]
  },
  {
   "cell_type": "code",
   "execution_count": 2510,
   "id": "83172e9e-b4dd-4cc4-96bc-41d7475a2c9f",
   "metadata": {},
   "outputs": [
    {
     "data": {
      "text/plain": [
       "\"A is connected to: ['B']\""
      ]
     },
     "execution_count": 2510,
     "metadata": {},
     "output_type": "execute_result"
    }
   ],
   "source": [
    "A.display()"
   ]
  },
  {
   "cell_type": "code",
   "execution_count": 2511,
   "id": "46d5dfa2-dd14-4e4a-8a59-9c1eb5fed0d3",
   "metadata": {},
   "outputs": [
    {
     "data": {
      "text/plain": [
       "\"B is connected to: ['A']\""
      ]
     },
     "execution_count": 2511,
     "metadata": {},
     "output_type": "execute_result"
    }
   ],
   "source": [
    "B.display()"
   ]
  },
  {
   "cell_type": "code",
   "execution_count": 2512,
   "id": "a89e8f74-c6ec-4656-8fc7-17d425fb9594",
   "metadata": {},
   "outputs": [
    {
     "data": {
      "text/plain": [
       "\"C is connected to: ['D']\""
      ]
     },
     "execution_count": 2512,
     "metadata": {},
     "output_type": "execute_result"
    }
   ],
   "source": [
    "C.neighbors.append(D)\n",
    "C.display()"
   ]
  },
  {
   "cell_type": "code",
   "execution_count": 2513,
   "id": "c15d8f80-6a21-405f-a4c1-f3be4e29f3f8",
   "metadata": {},
   "outputs": [],
   "source": [
    "D.neighbors.append(C)\n",
    "D.neighbors.append(A)"
   ]
  },
  {
   "cell_type": "code",
   "execution_count": 2514,
   "id": "9855574a-b4d6-458a-b5a6-5c4503b17b28",
   "metadata": {},
   "outputs": [
    {
     "data": {
      "text/plain": [
       "\"D is connected to: ['C', 'A']\""
      ]
     },
     "execution_count": 2514,
     "metadata": {},
     "output_type": "execute_result"
    }
   ],
   "source": [
    "D.display()"
   ]
  },
  {
   "cell_type": "code",
   "execution_count": 2515,
   "id": "cf461a70-c9cc-4484-a6d6-8e2edd341006",
   "metadata": {},
   "outputs": [
    {
     "name": "stdout",
     "output_type": "stream",
     "text": [
      "x = 10 limit = 3.125\n",
      "x = 100 limit = 3.0012004801920766\n",
      "x = 1000 limit = 3.000012000048\n",
      "x = 10000 limit = 3.0000001200000046\n",
      "x = 100000 limit = 3.0000000012\n",
      "x = 1000000 limit = 3.000000000012\n"
     ]
    }
   ],
   "source": [
    "# for equation y = (3*x^2) / (x^2 - 4)\n",
    "for x_value in [10, 100, 1000, 10000, 100000, 1000000]:\n",
    "    limit = (3*x_value**2) / (x_value**2 - 4)\n",
    "    print(f\"x = {x_value} limit = {limit}\")"
   ]
  },
  {
   "cell_type": "code",
   "execution_count": 2516,
   "id": "58077ba9-5506-46a9-8c42-17307dbc645e",
   "metadata": {},
   "outputs": [
    {
     "data": {
      "image/png": "[encoded data removed]",
      "text/plain": [
       "<Figure size 640x480 with 1 Axes>"
      ]
     },
     "metadata": {},
     "output_type": "display_data"
    }
   ],
   "source": [
    "import matplotlib.pyplot as plt\n",
    "import numpy as np\n",
    "\n",
    "# For equation y = 3x^2 / (x^2 - 4)\n",
    "x_value = 0\n",
    "y_value = 3*x_value**2 / (x_value**2 - 4)\n",
    "\n",
    "zoom = 10\n",
    "xmin = x_value - zoom\n",
    "xmax = x_value + zoom\n",
    "ymin = y_value - zoom \n",
    "ymax = y_value + zoom \n",
    "\n",
    "x = np.linspace(xmin, xmax, 100)\n",
    "y = 3*x**2 / (x**2 - 4)\n",
    "\n",
    "plt.axis([xmin, xmax, ymin, ymax]) # window size\n",
    "plt.plot(x, y)\n",
    "plt.plot([x_value], [y_value], 'ro')\n",
    "plt.plot([xmin, xmax], [3, 3], 'r--')\n",
    "plt.axhline(y=0, color='k')\n",
    "plt.axvline(x=0, color='k')\n",
    "plt.xlabel('x')\n",
    "plt.ylabel('x')\n",
    "plt.title('Graph of y = 3$x^2$ / ($x^2$ - 4)')\n",
    "plt.show()"
   ]
  },
  {
   "cell_type": "code",
   "execution_count": 2517,
   "id": "d65a40c2-23c8-458c-a408-7afd2c76043d",
   "metadata": {},
   "outputs": [
    {
     "data": {
      "text/latex": [
       "$\\displaystyle x$"
      ],
      "text/plain": [
       "x"
      ]
     },
     "execution_count": 2517,
     "metadata": {},
     "output_type": "execute_result"
    }
   ],
   "source": [
    "import sympy\n",
    "from sympy import symbols \n",
    "\n",
    "x = symbols('x')\n",
    "x"
   ]
  },
  {
   "cell_type": "code",
   "execution_count": 2518,
   "id": "22d0a373-d277-4523-b180-5fd78559631b",
   "metadata": {},
   "outputs": [
    {
     "data": {
      "text/latex": [
       "$\\displaystyle \\frac{3 x^{2}}{x^{2} - 4}$"
      ],
      "text/plain": [
       "3*x**2/(x**2 - 4)"
      ]
     },
     "execution_count": 2518,
     "metadata": {},
     "output_type": "execute_result"
    }
   ],
   "source": [
    "# Put the equation here\n",
    "eq = (3*x**2) / (x**2 - 4)\n",
    "eq"
   ]
  },
  {
   "cell_type": "code",
   "execution_count": 2519,
   "id": "d80985e5-6ec8-46ed-8026-b1e34290d591",
   "metadata": {},
   "outputs": [],
   "source": [
    "# Critical values\n",
    "x_1 = 2\n",
    "x_2 = -2"
   ]
  },
  {
   "cell_type": "code",
   "execution_count": 2520,
   "id": "2eaedc4b-65e8-4712-9ad8-e0a75f4ea46e",
   "metadata": {},
   "outputs": [
    {
     "data": {
      "text/latex": [
       "$\\displaystyle \\infty$"
      ],
      "text/plain": [
       "oo"
      ]
     },
     "execution_count": 2520,
     "metadata": {},
     "output_type": "execute_result"
    }
   ],
   "source": [
    "# limit(expression, variable , value)\n",
    "\n",
    "# first critical point\n",
    "right = sympy.limit(eq, x, x_1, dir='+')\n",
    "right"
   ]
  },
  {
   "cell_type": "code",
   "execution_count": 2521,
   "id": "aba0631e-4987-41dd-ac52-6ce65291e050",
   "metadata": {},
   "outputs": [
    {
     "name": "stderr",
     "output_type": "stream",
     "text": [
      "/home/aaron-joel/anaconda3/lib/python3.12/site-packages/IPython/core/displayhook.py:281: UserWarning: Output cache limit (currently 1000 entries) hit.\n",
      "Flushing oldest 200 entries.\n",
      "  warn('Output cache limit (currently {sz} entries) hit.\\n'\n"
     ]
    },
    {
     "data": {
      "text/latex": [
       "$\\displaystyle \\infty$"
      ],
      "text/plain": [
       "oo"
      ]
     },
     "execution_count": 2521,
     "metadata": {},
     "output_type": "execute_result"
    }
   ],
   "source": [
    "left = sympy.limit(eq, x, x_2, dir='-')\n",
    "left"
   ]
  },
  {
   "cell_type": "code",
   "execution_count": 2522,
   "id": "d1240f63-badb-4f03-b616-0ec80eb5b713",
   "metadata": {},
   "outputs": [
    {
     "name": "stdout",
     "output_type": "stream",
     "text": [
      "at x = 2, right = oo\n",
      "at x = -2, left  = oo\n"
     ]
    }
   ],
   "source": [
    "print(f\"at x = {x_1}, right = {right}\")\n",
    "print(f\"at x = {x_2}, left  = {left}\")"
   ]
  },
  {
   "cell_type": "code",
   "execution_count": 2523,
   "id": "c47f14ff-4348-4602-aac8-66ec66eefe3e",
   "metadata": {},
   "outputs": [],
   "source": [
    "right = sympy.limit(eq, x, sympy.oo)\n",
    "left = sympy.limit(eq, x, -sympy.oo)"
   ]
  },
  {
   "cell_type": "code",
   "execution_count": 2524,
   "id": "57c94eca-c6a0-4f42-857d-e7197b3d1714",
   "metadata": {},
   "outputs": [
    {
     "data": {
      "text/latex": [
       "$\\displaystyle 3$"
      ],
      "text/plain": [
       "3"
      ]
     },
     "execution_count": 2524,
     "metadata": {},
     "output_type": "execute_result"
    }
   ],
   "source": [
    "right"
   ]
  },
  {
   "cell_type": "code",
   "execution_count": 2525,
   "id": "abdd4f73-3839-4d6a-9868-cc5c625d232f",
   "metadata": {},
   "outputs": [
    {
     "data": {
      "text/latex": [
       "$\\displaystyle 3$"
      ],
      "text/plain": [
       "3"
      ]
     },
     "execution_count": 2525,
     "metadata": {},
     "output_type": "execute_result"
    }
   ],
   "source": [
    "left"
   ]
  },
  {
   "cell_type": "code",
   "execution_count": 2526,
   "id": "15fea1da-600b-4e14-90c6-cc7b81eec2db",
   "metadata": {},
   "outputs": [
    {
     "data": {
      "text/latex": [
       "$\\displaystyle \\sin{\\left(\\frac{x}{2} + \\sin{\\left(x \\right)} \\right)}$"
      ],
      "text/plain": [
       "sin(x/2 + sin(x))"
      ]
     },
     "execution_count": 2526,
     "metadata": {},
     "output_type": "execute_result"
    }
   ],
   "source": [
    "import sympy as smp \n",
    "from sympy import symbols \n",
    "\n",
    "x = symbols('x')\n",
    "\n",
    "# limit as x approaches pi\n",
    "eq = smp.sin(x/2 + smp.sin(x))\n",
    "eq"
   ]
  },
  {
   "cell_type": "code",
   "execution_count": 2527,
   "id": "ed664346-5a5b-48d2-b89f-4fb4f7105d4f",
   "metadata": {},
   "outputs": [
    {
     "data": {
      "text/latex": [
       "$\\displaystyle 1$"
      ],
      "text/plain": [
       "1"
      ]
     },
     "execution_count": 2527,
     "metadata": {},
     "output_type": "execute_result"
    }
   ],
   "source": [
    "smp.limit(eq, x, smp.pi)"
   ]
  },
  {
   "cell_type": "code",
   "execution_count": 2528,
   "id": "c493b8a0-bcd3-4ae9-9f01-b165ccb5a02a",
   "metadata": {},
   "outputs": [
    {
     "data": {
      "text/latex": [
       "$\\displaystyle 0$"
      ],
      "text/plain": [
       "0"
      ]
     },
     "execution_count": 2528,
     "metadata": {},
     "output_type": "execute_result"
    }
   ],
   "source": [
    "smp.limit(eq, x, 0, dir='-')"
   ]
  },
  {
   "cell_type": "code",
   "execution_count": 2529,
   "id": "c73cec4c-2f57-4b62-9ebb-56015eb7c5d4",
   "metadata": {},
   "outputs": [
    {
     "data": {
      "text/latex": [
       "$\\displaystyle 0$"
      ],
      "text/plain": [
       "0"
      ]
     },
     "execution_count": 2529,
     "metadata": {},
     "output_type": "execute_result"
    }
   ],
   "source": [
    "smp.limit(eq, x, 0, dir='+')"
   ]
  },
  {
   "cell_type": "code",
   "execution_count": 2530,
   "id": "ee3a12a6-f2aa-4038-8088-7f9f7e94d660",
   "metadata": {},
   "outputs": [
    {
     "name": "stdout",
     "output_type": "stream",
     "text": [
      "x = [-2, 2]\n"
     ]
    }
   ],
   "source": [
    "import sympy\n",
    "from sympy import symbols\n",
    "from sympy.solvers import solve \n",
    "\n",
    "x = symbols('x')\n",
    "\n",
    "# Put the denominator here\n",
    "denominator = x**2 - 4\n",
    "\n",
    "# solve() set the equation equal to zero\n",
    "print(f\"x = {sympy.solve(denominator, x)}\")"
   ]
  },
  {
   "cell_type": "code",
   "execution_count": 2531,
   "id": "9334a429-7690-4b50-8f9d-4b29758b542a",
   "metadata": {},
   "outputs": [
    {
     "name": "stdout",
     "output_type": "stream",
     "text": [
      "at x = -2*sqrt(3)/3\n",
      "right side = 0\n",
      "left side  = 0\n",
      "at x = 2*sqrt(3)/3\n",
      "right side = 0\n",
      "left side  = 0\n",
      "As x approaches infinity: 3\n",
      "As x approaches negative infinity: 3\n"
     ]
    }
   ],
   "source": [
    "import sympy\n",
    "from sympy import symbols\n",
    "\n",
    "x = symbols('x')\n",
    "\n",
    "# Put the full equation here\n",
    "eq = (3*x**2 - 4) / (x**2 - 4)\n",
    "\n",
    "# critical values from the previous step\n",
    "x_1, x_2 = sympy.solve(eq, x)\n",
    "\n",
    "# first critical point\n",
    "# limit(expression, variable, value)\n",
    "right = sympy.limit(eq, x, x_1, dir='+')\n",
    "left = sympy.limit(eq, x, x_1, dir='-')\n",
    "print(f\"at x = {x_1}\")\n",
    "print(f\"right side = {right}\")\n",
    "print(f\"left side  = {left}\")\n",
    "\n",
    "# Second critical point if necessary\n",
    "right = sympy.limit(eq, x, x_2, dir='+')\n",
    "left = sympy.limit(eq, x, x_2, dir='-')\n",
    "print(f\"at x = {x_2}\")\n",
    "print(f\"right side = {right}\")\n",
    "print(f\"left side  = {left}\")\n",
    "\n",
    "# Approaching positive or negative infinity\n",
    "right = sympy.limit(eq, x, sympy.oo)\n",
    "left = sympy.limit(eq, x, -sympy.oo)\n",
    "print(f\"As x approaches infinity: {right}\")\n",
    "print(f\"As x approaches negative infinity: {left}\")\n"
   ]
  },
  {
   "cell_type": "code",
   "execution_count": 2532,
   "id": "a6cf47ef-f3a6-4342-a694-3f894eb7e3ee",
   "metadata": {},
   "outputs": [
    {
     "data": {
      "text/latex": [
       "$\\displaystyle - \\frac{2 \\sqrt{3}}{3}$"
      ],
      "text/plain": [
       "-2*sqrt(3)/3"
      ]
     },
     "execution_count": 2532,
     "metadata": {},
     "output_type": "execute_result"
    }
   ],
   "source": [
    "x_1"
   ]
  },
  {
   "cell_type": "code",
   "execution_count": 2533,
   "id": "a7b745ed-aa2b-446b-8279-c67fe33c9c8d",
   "metadata": {},
   "outputs": [
    {
     "data": {
      "text/latex": [
       "$\\displaystyle \\frac{2 \\sqrt{3}}{3}$"
      ],
      "text/plain": [
       "2*sqrt(3)/3"
      ]
     },
     "execution_count": 2533,
     "metadata": {},
     "output_type": "execute_result"
    }
   ],
   "source": [
    "x_2"
   ]
  },
  {
   "cell_type": "code",
   "execution_count": 2534,
   "id": "d4effc3b-f2e2-4ebf-bac9-a4f5cdf45a55",
   "metadata": {},
   "outputs": [
    {
     "data": {
      "image/png": "[encoded data removed]",
      "text/plain": [
       "<Figure size 640x480 with 1 Axes>"
      ]
     },
     "metadata": {},
     "output_type": "display_data"
    }
   ],
   "source": [
    "from sympy.plotting import plot\n",
    "\n",
    "# plot the equation\n",
    "plot(eq);"
   ]
  },
  {
   "cell_type": "code",
   "execution_count": 2535,
   "id": "964621ad-bae2-406c-b971-3599e4f58e4b",
   "metadata": {},
   "outputs": [
    {
     "name": "stdout",
     "output_type": "stream",
     "text": [
      "slope = 2.3000000000000007\n"
     ]
    },
    {
     "data": {
      "text/plain": [
       "Text(0.5, 1.0, 'Graph of $y = x^2$')"
      ]
     },
     "execution_count": 2535,
     "metadata": {},
     "output_type": "execute_result"
    },
    {
     "data": {
      "image/png": "[encoded data removed]",
      "text/plain": [
       "<Figure size 640x480 with 1 Axes>"
      ]
     },
     "metadata": {},
     "output_type": "display_data"
    }
   ],
   "source": [
    "import matplotlib.pyplot as plt\n",
    "import numpy as np\n",
    "\n",
    "# for y = x**2\n",
    "\n",
    "x_value = 1\n",
    "y_value = x_value ** 2\n",
    "\n",
    "# change h value to get better answer\n",
    "h = 0.3\n",
    "y_value_2 = (x_value + h)**2\n",
    "\n",
    "zoom = 10\n",
    "xmin = x_value - zoom\n",
    "xmax = x_value + zoom \n",
    "ymin = y_value - zoom \n",
    "ymax = y_value + zoom \n",
    "\n",
    "x = np.linspace(xmin, xmax, 100)\n",
    "y = x**2\n",
    "\n",
    "slope = (y_value_2 - y_value) / h\n",
    "print(f\"slope = {slope}\")\n",
    "\n",
    "plt.axis([xmin, xmax, ymin, ymax]) # window size\n",
    "plt.plot(x, y)\n",
    "plt.plot([x_value], [y_value], 'ro')\n",
    "plt.plot([x_value + h], [y_value_2], 'ro')\n",
    "plt.axhline(y=0, color='k')\n",
    "plt.axvline(x=0, color='k')\n",
    "plt.xlabel('x')\n",
    "plt.ylabel('y')\n",
    "\n",
    "plt.title(\"Graph of $y = x^2$\")"
   ]
  },
  {
   "cell_type": "code",
   "execution_count": 2536,
   "id": "39e56276-ac7a-44c2-afa6-ece449684f28",
   "metadata": {},
   "outputs": [
    {
     "name": "stdout",
     "output_type": "stream",
     "text": [
      "slope =  2.100000000000002\n",
      "slope =  2.0100000000000007\n",
      "slope =  2.0009999999996975\n",
      "slope =  2.000099999999172\n",
      "slope =  2.00001000001393\n",
      "slope =  2.0000009999243673\n",
      "slope =  2.0000001010878066\n",
      "slope =  1.999999987845058\n",
      "slope =  2.000000165480742\n",
      "slope =  2.000000165480742\n",
      "slope =  2.000000165480742\n",
      "slope =  2.000177801164682\n",
      "slope =  1.9984014443252818\n",
      "slope =  1.9984014443252818\n",
      "slope =  2.220446049250313\n",
      "slope =  0.0\n",
      "slope =  0.0\n",
      "slope =  0.0\n",
      "slope =  0.0\n"
     ]
    }
   ],
   "source": [
    "import matplotlib.pyplot as plt\n",
    "import numpy as np\n",
    "\n",
    "x_value = 1\n",
    "y_value = x_value ** 2\n",
    "\n",
    "# smaller h values get better approximations\n",
    "for a in range(1, 20):\n",
    "    h = 10**(-a)\n",
    "    y_value_2 = (x_value + h) ** 2\n",
    "    slope = (y_value_2 - y_value) / h\n",
    "    print(f\"slope = \", slope)"
   ]
  },
  {
   "cell_type": "code",
   "execution_count": 2537,
   "id": "caf7b0d7-a327-47f8-a056-6eedaf9056c0",
   "metadata": {},
   "outputs": [
    {
     "name": "stdout",
     "output_type": "stream",
     "text": [
      "slope = 3.99\n"
     ]
    },
    {
     "data": {
      "text/plain": [
       "Text(0.5, 1.0, 'Graph of $y = x^3$')"
      ]
     },
     "execution_count": 2537,
     "metadata": {},
     "output_type": "execute_result"
    },
    {
     "data": {
      "image/png": "[encoded data removed]",
      "text/plain": [
       "<Figure size 640x480 with 1 Axes>"
      ]
     },
     "metadata": {},
     "output_type": "display_data"
    }
   ],
   "source": [
    "import matplotlib.pyplot as plt\n",
    "import numpy as np\n",
    "\n",
    "# for y = x**2\n",
    "\n",
    "x_value = 1\n",
    "y_value = x_value ** 3\n",
    "\n",
    "# change h value to get better answer\n",
    "h = 0.3\n",
    "y_value_2 = (x_value + h)**3\n",
    "\n",
    "zoom = 10\n",
    "xmin = x_value - zoom\n",
    "xmax = x_value + zoom \n",
    "ymin = y_value - zoom \n",
    "ymax = y_value + zoom \n",
    "\n",
    "x = np.linspace(xmin, xmax, 100)\n",
    "y = x**3\n",
    "\n",
    "slope = (y_value_2 - y_value) / h\n",
    "print(f\"slope = {slope}\")\n",
    "\n",
    "plt.axis([xmin, xmax, ymin, ymax]) # window size\n",
    "plt.plot(x, y)\n",
    "plt.plot([x_value], [y_value], 'ro')\n",
    "plt.plot([x_value + h], [y_value_2], 'ro')\n",
    "plt.axhline(y=0, color='k')\n",
    "plt.axvline(x=0, color='k')\n",
    "plt.xlabel('x')\n",
    "plt.ylabel('y')\n",
    "\n",
    "plt.title(\"Graph of $y = x^3$\")"
   ]
  },
  {
   "cell_type": "code",
   "execution_count": 2538,
   "id": "155f18f5-39f3-47d8-8605-a327632eaaad",
   "metadata": {},
   "outputs": [
    {
     "name": "stdout",
     "output_type": "stream",
     "text": [
      "slope =  3.310000000000004\n",
      "slope =  3.0301000000000133\n",
      "slope =  3.0030009999997276\n",
      "slope =  3.0003000099987354\n",
      "slope =  3.000030000110953\n",
      "slope =  3.0000029997978572\n",
      "slope =  3.000000301511818\n",
      "slope =  3.0000000039720476\n",
      "slope =  3.000000248221113\n",
      "slope =  3.000000248221113\n",
      "slope =  3.000000248221113\n",
      "slope =  3.000266701747023\n",
      "slope =  2.9976021664879227\n",
      "slope =  2.9976021664879227\n",
      "slope =  3.330669073875469\n",
      "slope =  0.0\n",
      "slope =  0.0\n",
      "slope =  0.0\n",
      "slope =  0.0\n"
     ]
    }
   ],
   "source": [
    "x_value = 1\n",
    "y_value = x_value ** 3\n",
    "\n",
    "# smaller h values get better approximations\n",
    "for a in range(1, 20):\n",
    "    h = 10**(-a)\n",
    "    y_value_2 = (x_value + h) ** 3\n",
    "    slope = (y_value_2 - y_value) / h\n",
    "    print(f\"slope = \", slope)"
   ]
  },
  {
   "cell_type": "code",
   "execution_count": 2539,
   "id": "bc90fcea-ecd3-4b48-9725-590bc5b31e82",
   "metadata": {},
   "outputs": [],
   "source": [
    "## Derivates"
   ]
  },
  {
   "cell_type": "code",
   "execution_count": 2540,
   "id": "52c2db2a-a87d-4c89-8ee4-5fac5e081154",
   "metadata": {},
   "outputs": [],
   "source": [
    "import sympy\n",
    "from sympy import symbols\n",
    "\n",
    "x, y = symbols('x y')\n",
    "\n",
    "# Put the equation here\n",
    "expression = x**3\n",
    "derivative = sympy.diff(expression, x)\n"
   ]
  },
  {
   "cell_type": "code",
   "execution_count": 2541,
   "id": "6606a286-46e3-4136-b6f9-3431ada8cec6",
   "metadata": {},
   "outputs": [
    {
     "data": {
      "text/latex": [
       "$\\displaystyle x^{3}$"
      ],
      "text/plain": [
       "x**3"
      ]
     },
     "execution_count": 2541,
     "metadata": {},
     "output_type": "execute_result"
    }
   ],
   "source": [
    "expression"
   ]
  },
  {
   "cell_type": "code",
   "execution_count": 2542,
   "id": "e0a28caa-fa49-4d64-91ec-dccadc5e59f5",
   "metadata": {},
   "outputs": [
    {
     "data": {
      "text/latex": [
       "$\\displaystyle 3 x^{2}$"
      ],
      "text/plain": [
       "3*x**2"
      ]
     },
     "execution_count": 2542,
     "metadata": {},
     "output_type": "execute_result"
    }
   ],
   "source": [
    "derivative"
   ]
  },
  {
   "cell_type": "code",
   "execution_count": 2543,
   "id": "e72a9dc5-9a8e-403d-8d96-aea5d07a7591",
   "metadata": {},
   "outputs": [
    {
     "name": "stdout",
     "output_type": "stream",
     "text": [
      "slope at x = 2, is 12\n"
     ]
    }
   ],
   "source": [
    "x_value = 2\n",
    "answer = derivative.subs(x, x_value)\n",
    "print(f\"slope at x = {x_value}, is {answer}\")"
   ]
  },
  {
   "cell_type": "code",
   "execution_count": 2544,
   "id": "9cb0dacb-eca5-4ac9-9e39-8857f6058f97",
   "metadata": {},
   "outputs": [
    {
     "data": {
      "text/plain": [
       "-2.136599999999987"
      ]
     },
     "execution_count": 2544,
     "metadata": {},
     "output_type": "execute_result"
    }
   ],
   "source": [
    "-72.3+ 0.0347*2022\n"
   ]
  },
  {
   "cell_type": "code",
   "execution_count": 2545,
   "id": "f37426f0-f7aa-4862-a4ed-bbb4b1fb6351",
   "metadata": {},
   "outputs": [
    {
     "data": {
      "text/plain": [
       "7.130000000000001"
      ]
     },
     "execution_count": 2545,
     "metadata": {},
     "output_type": "execute_result"
    }
   ],
   "source": [
    "-2.7*0.1 + 7.4"
   ]
  },
  {
   "cell_type": "code",
   "execution_count": 2546,
   "id": "2b73e202-deca-4fa3-b2e9-aef663944ec7",
   "metadata": {},
   "outputs": [],
   "source": [
    "y = -344 + 0.22*1800 + 0.87*635"
   ]
  },
  {
   "cell_type": "code",
   "execution_count": 2547,
   "id": "429e3c04-3760-47d5-8e2e-bd41fb4db657",
   "metadata": {},
   "outputs": [
    {
     "data": {
      "text/plain": [
       "604.45"
      ]
     },
     "execution_count": 2547,
     "metadata": {},
     "output_type": "execute_result"
    }
   ],
   "source": [
    "y"
   ]
  },
  {
   "cell_type": "code",
   "execution_count": 2548,
   "id": "1c502d6e-7272-49d7-a79e-bb0b19fba558",
   "metadata": {},
   "outputs": [
    {
     "data": {
      "text/plain": [
       "709.0"
      ]
     },
     "execution_count": 2548,
     "metadata": {},
     "output_type": "execute_result"
    }
   ],
   "source": [
    "-15 + 0.26*1200 + 103*4"
   ]
  },
  {
   "cell_type": "code",
   "execution_count": 2549,
   "id": "21437c10-32bd-445f-bd7c-d8bf07208017",
   "metadata": {},
   "outputs": [
    {
     "data": {
      "text/plain": [
       "683.0"
      ]
     },
     "execution_count": 2549,
     "metadata": {},
     "output_type": "execute_result"
    }
   ],
   "source": [
    "-15 + 0.26*1100 + 103*4"
   ]
  },
  {
   "cell_type": "code",
   "execution_count": 2550,
   "id": "12113202-33c2-4494-812e-9ae14ccb97bc",
   "metadata": {},
   "outputs": [
    {
     "data": {
      "text/plain": [
       "606.0"
      ]
     },
     "execution_count": 2550,
     "metadata": {},
     "output_type": "execute_result"
    }
   ],
   "source": [
    "-15 + 0.26*1200 + 103*3"
   ]
  },
  {
   "cell_type": "code",
   "execution_count": 2551,
   "id": "1c34fd48-8e53-4cfc-9e49-e785d0231d96",
   "metadata": {},
   "outputs": [
    {
     "data": {
      "text/plain": [
       "784.0"
      ]
     },
     "execution_count": 2551,
     "metadata": {},
     "output_type": "execute_result"
    }
   ],
   "source": [
    "980 + 0.24*1200 + 100*4 - 34*26"
   ]
  },
  {
   "cell_type": "code",
   "execution_count": 2552,
   "id": "ea9fba8f-ec67-4b8a-abdf-44eed90dea4a",
   "metadata": {},
   "outputs": [
    {
     "data": {
      "text/latex": [
       "$\\displaystyle x^{3}$"
      ],
      "text/plain": [
       "x**3"
      ]
     },
     "execution_count": 2552,
     "metadata": {},
     "output_type": "execute_result"
    }
   ],
   "source": [
    "import sympy\n",
    "from sympy import symbols\n",
    "\n",
    "x, y = symbols('x y')\n",
    "\n",
    "eq = x**3\n",
    "eq"
   ]
  },
  {
   "cell_type": "raw",
   "id": "d6281bd5-8eb6-4e40-9368-21204123927e",
   "metadata": {},
   "source": [
    "derivatives = sympy.diff(eq, x)\n",
    "derivatives"
   ]
  },
  {
   "cell_type": "code",
   "execution_count": 2553,
   "id": "b522f9cb-2a85-4947-89de-c8500693c090",
   "metadata": {},
   "outputs": [
    {
     "data": {
      "text/latex": [
       "$\\displaystyle 3 x^{2}$"
      ],
      "text/plain": [
       "3*x**2"
      ]
     },
     "execution_count": 2553,
     "metadata": {},
     "output_type": "execute_result"
    }
   ],
   "source": [
    "derivatives = sympy.diff(eq, x)\n",
    "derivatives"
   ]
  },
  {
   "cell_type": "code",
   "execution_count": 2554,
   "id": "38be811e-1043-4ade-ae5d-442f6c87b9a2",
   "metadata": {},
   "outputs": [
    {
     "data": {
      "text/latex": [
       "$\\displaystyle 0$"
      ],
      "text/plain": [
       "0"
      ]
     },
     "execution_count": 2554,
     "metadata": {},
     "output_type": "execute_result"
    }
   ],
   "source": [
    "x_value = 0\n",
    "ans = derivative.subs(x, x_value)\n",
    "ans"
   ]
  },
  {
   "cell_type": "code",
   "execution_count": 2555,
   "id": "90f028c6-7390-4411-b522-d1385162109a",
   "metadata": {},
   "outputs": [],
   "source": [
    "x, y = symbols('x, y')"
   ]
  },
  {
   "cell_type": "code",
   "execution_count": 2556,
   "id": "eb03e4c6-188d-4951-a682-3dd4fe43ba19",
   "metadata": {},
   "outputs": [
    {
     "data": {
      "text/latex": [
       "$\\displaystyle x$"
      ],
      "text/plain": [
       "x"
      ]
     },
     "execution_count": 2556,
     "metadata": {},
     "output_type": "execute_result"
    }
   ],
   "source": [
    "x"
   ]
  },
  {
   "cell_type": "code",
   "execution_count": 2557,
   "id": "7fb4f3e4-7e9f-41d3-a931-880ee0a6b781",
   "metadata": {},
   "outputs": [
    {
     "data": {
      "text/latex": [
       "$\\displaystyle y$"
      ],
      "text/plain": [
       "y"
      ]
     },
     "execution_count": 2557,
     "metadata": {},
     "output_type": "execute_result"
    }
   ],
   "source": [
    "y"
   ]
  },
  {
   "cell_type": "code",
   "execution_count": 2558,
   "id": "747303e9-0bda-49b9-93de-ff8e1b0d0716",
   "metadata": {},
   "outputs": [
    {
     "data": {
      "text/latex": [
       "$\\displaystyle \\left(x^{2} + 8\\right)^{4} + \\left(y^{2} + 8\\right)^{4}$"
      ],
      "text/plain": [
       "(x**2 + 8)**4 + (y**2 + 8)**4"
      ]
     },
     "execution_count": 2558,
     "metadata": {},
     "output_type": "execute_result"
    }
   ],
   "source": [
    "eq = (x**2 + 8)**4 + (y**2 + 8)**4\n",
    "eq"
   ]
  },
  {
   "cell_type": "code",
   "execution_count": 2559,
   "id": "344f5362-0550-4f6b-85a6-3a285bdcb0a3",
   "metadata": {},
   "outputs": [
    {
     "data": {
      "text/latex": [
       "$\\displaystyle 8 x \\left(x^{2} + 8\\right)^{3}$"
      ],
      "text/plain": [
       "8*x*(x**2 + 8)**3"
      ]
     },
     "execution_count": 2559,
     "metadata": {},
     "output_type": "execute_result"
    }
   ],
   "source": [
    "derivative = sympy.diff(eq, x)\n",
    "derivative"
   ]
  },
  {
   "cell_type": "code",
   "execution_count": 2560,
   "id": "9eeed96c-1b57-4c5e-95b4-c2ece2286312",
   "metadata": {},
   "outputs": [
    {
     "data": {
      "text/latex": [
       "$\\displaystyle 8 y \\left(y^{2} + 8\\right)^{3}$"
      ],
      "text/plain": [
       "8*y*(y**2 + 8)**3"
      ]
     },
     "execution_count": 2560,
     "metadata": {},
     "output_type": "execute_result"
    }
   ],
   "source": [
    "sympy.diff(eq, y)"
   ]
  },
  {
   "cell_type": "code",
   "execution_count": 2561,
   "id": "fa6bafa8-8af0-4b28-8fd2-99e92de296b2",
   "metadata": {},
   "outputs": [
    {
     "data": {
      "text/latex": [
       "$\\displaystyle \\frac{x}{\\sqrt{x^{2} + 8}}$"
      ],
      "text/plain": [
       "x/sqrt(x**2 + 8)"
      ]
     },
     "execution_count": 2561,
     "metadata": {},
     "output_type": "execute_result"
    }
   ],
   "source": [
    "eq = sympy.sqrt(x**2 + 8)\n",
    "derivative = sympy.diff(eq, x)\n",
    "derivative"
   ]
  },
  {
   "cell_type": "code",
   "execution_count": 2562,
   "id": "ae1faa1d-60ea-42a8-a469-f5b2273084c2",
   "metadata": {},
   "outputs": [
    {
     "data": {
      "text/latex": [
       "$\\displaystyle 0$"
      ],
      "text/plain": [
       "0"
      ]
     },
     "execution_count": 2562,
     "metadata": {},
     "output_type": "execute_result"
    }
   ],
   "source": [
    "derivative.subs(x, 0)"
   ]
  },
  {
   "cell_type": "code",
   "execution_count": 2563,
   "id": "d7fe7ae8-6e86-4835-8adc-afe6150f1349",
   "metadata": {},
   "outputs": [
    {
     "data": {
      "text/latex": [
       "$\\displaystyle \\frac{1}{3}$"
      ],
      "text/plain": [
       "1/3"
      ]
     },
     "execution_count": 2563,
     "metadata": {},
     "output_type": "execute_result"
    }
   ],
   "source": [
    "derivative.subs(x, 1)"
   ]
  },
  {
   "cell_type": "code",
   "execution_count": 2564,
   "id": "3557da04-c7ee-4628-aaaf-0360e6897827",
   "metadata": {},
   "outputs": [
    {
     "data": {
      "text/latex": [
       "$\\displaystyle 3 x^{2} \\cos{\\left(x^{3} \\right)}$"
      ],
      "text/plain": [
       "3*x**2*cos(x**3)"
      ]
     },
     "execution_count": 2564,
     "metadata": {},
     "output_type": "execute_result"
    }
   ],
   "source": [
    "sympy.diff(sympy.sin(x**3), x)"
   ]
  },
  {
   "cell_type": "code",
   "execution_count": 2565,
   "id": "15243f29-0a24-4a96-aaa4-0362d7440c06",
   "metadata": {},
   "outputs": [
    {
     "data": {
      "text/latex": [
       "$\\displaystyle \\sin{\\left(\\cos{\\left(x \\right)} \\right)}$"
      ],
      "text/plain": [
       "sin(cos(x))"
      ]
     },
     "execution_count": 2565,
     "metadata": {},
     "output_type": "execute_result"
    }
   ],
   "source": [
    "eq = sympy.sin(sympy.cos(x))\n",
    "eq"
   ]
  },
  {
   "cell_type": "code",
   "execution_count": 2566,
   "id": "e1c7173f-3044-41a3-a714-718e2ca02bab",
   "metadata": {},
   "outputs": [
    {
     "data": {
      "text/latex": [
       "$\\displaystyle - \\sin{\\left(x \\right)} \\cos{\\left(\\cos{\\left(x \\right)} \\right)}$"
      ],
      "text/plain": [
       "-sin(x)*cos(cos(x))"
      ]
     },
     "execution_count": 2566,
     "metadata": {},
     "output_type": "execute_result"
    }
   ],
   "source": [
    "sympy.diff(eq, x)"
   ]
  },
  {
   "cell_type": "code",
   "execution_count": 2567,
   "id": "c92a415c-12f3-42e4-b536-aab3503c0b28",
   "metadata": {},
   "outputs": [
    {
     "data": {
      "text/latex": [
       "$\\displaystyle \\cos{\\left(\\sin{\\left(x \\right)} \\right)}$"
      ],
      "text/plain": [
       "cos(sin(x))"
      ]
     },
     "execution_count": 2567,
     "metadata": {},
     "output_type": "execute_result"
    }
   ],
   "source": [
    "eq = sympy.cos(sympy.sin(x))\n",
    "eq"
   ]
  },
  {
   "cell_type": "code",
   "execution_count": 2568,
   "id": "f677711d-49fc-4fda-b712-5d2f56fed9b3",
   "metadata": {},
   "outputs": [
    {
     "data": {
      "text/latex": [
       "$\\displaystyle - \\sin{\\left(\\sin{\\left(x \\right)} \\right)} \\cos{\\left(x \\right)}$"
      ],
      "text/plain": [
       "-sin(sin(x))*cos(x)"
      ]
     },
     "execution_count": 2568,
     "metadata": {},
     "output_type": "execute_result"
    }
   ],
   "source": [
    "sympy.diff(eq, x)"
   ]
  },
  {
   "cell_type": "code",
   "execution_count": 2569,
   "id": "82b14e44-8609-4478-a494-ff592de52ff1",
   "metadata": {},
   "outputs": [
    {
     "name": "stdout",
     "output_type": "stream",
     "text": [
      "CPU times: user 5.47 s, sys: 16.6 ms, total: 5.49 s\n",
      "Wall time: 5.5 s\n"
     ]
    }
   ],
   "source": [
    "import numpy as np \n",
    "l = [v for v in range(10 ** 8)]\n",
    "s = 0\n",
    "%time for v in l: s += v"
   ]
  },
  {
   "cell_type": "code",
   "execution_count": 2570,
   "id": "b4438349-92c7-4c61-b10c-a94406d29eca",
   "metadata": {},
   "outputs": [
    {
     "name": "stdout",
     "output_type": "stream",
     "text": [
      "CPU times: user 32.1 ms, sys: 795 μs, total: 32.9 ms\n",
      "Wall time: 33 ms\n"
     ]
    },
    {
     "data": {
      "text/plain": [
       "4999999950000000"
      ]
     },
     "execution_count": 2570,
     "metadata": {},
     "output_type": "execute_result"
    }
   ],
   "source": [
    "arr = np.arange(10 ** 8) \n",
    "%time arr.sum()"
   ]
  },
  {
   "cell_type": "code",
   "execution_count": 2571,
   "id": "0aa1e040-a3e2-48f5-8a16-1eb68302fc5d",
   "metadata": {},
   "outputs": [
    {
     "data": {
      "text/plain": [
       "array([[1, 2, 3, 4],\n",
       "       [5, 6, 7, 8]])"
      ]
     },
     "execution_count": 2571,
     "metadata": {},
     "output_type": "execute_result"
    }
   ],
   "source": [
    "import numpy as np\n",
    "\n",
    "data1 = [1, 2, 3, 4, 5]\n",
    "arr1 = np.array(data1)\n",
    "data2 = [range(1, 5), range(5, 9)]\n",
    "arr2 = np.array(data2)\n",
    "arr2"
   ]
  },
  {
   "cell_type": "code",
   "execution_count": 2572,
   "id": "8c112236-0101-4930-85ef-bf3e628d5821",
   "metadata": {},
   "outputs": [
    {
     "data": {
      "text/plain": [
       "array([1, 2, 3, 4, 5])"
      ]
     },
     "execution_count": 2572,
     "metadata": {},
     "output_type": "execute_result"
    }
   ],
   "source": [
    "arr1"
   ]
  },
  {
   "cell_type": "code",
   "execution_count": 2573,
   "id": "67dc645e-4506-49e3-9af5-1ccd93d65855",
   "metadata": {},
   "outputs": [
    {
     "data": {
      "text/plain": [
       "[[1, 2, 3, 4], [5, 6, 7, 8]]"
      ]
     },
     "execution_count": 2573,
     "metadata": {},
     "output_type": "execute_result"
    }
   ],
   "source": [
    "arr2.tolist()"
   ]
  },
  {
   "cell_type": "code",
   "execution_count": 2574,
   "id": "d2dc428b-a909-4a8d-8eec-43cfdfd85322",
   "metadata": {},
   "outputs": [
    {
     "data": {
      "text/plain": [
       "array([0., 0., 0., 0., 0., 0., 0., 0., 0., 0.])"
      ]
     },
     "execution_count": 2574,
     "metadata": {},
     "output_type": "execute_result"
    }
   ],
   "source": [
    "np.zeros(10)"
   ]
  },
  {
   "cell_type": "code",
   "execution_count": 2575,
   "id": "7370609b-bde5-4057-807a-5be223bdbfd4",
   "metadata": {},
   "outputs": [
    {
     "data": {
      "text/plain": [
       "array([[0., 0., 0., 0., 0., 0.],\n",
       "       [0., 0., 0., 0., 0., 0.],\n",
       "       [0., 0., 0., 0., 0., 0.]])"
      ]
     },
     "execution_count": 2575,
     "metadata": {},
     "output_type": "execute_result"
    }
   ],
   "source": [
    "np.zeros((3, 6))"
   ]
  },
  {
   "cell_type": "code",
   "execution_count": 2576,
   "id": "2d4a53a9-a77b-4bff-ab0c-f08eee7836ee",
   "metadata": {},
   "outputs": [
    {
     "data": {
      "text/plain": [
       "array([1., 1., 1., 1., 1., 1., 1., 1., 1., 1.])"
      ]
     },
     "execution_count": 2576,
     "metadata": {},
     "output_type": "execute_result"
    }
   ],
   "source": [
    "np.ones(10)"
   ]
  },
  {
   "cell_type": "code",
   "execution_count": 2577,
   "id": "076cd00b-3cbd-4c4b-8a29-a4dd8ea0219b",
   "metadata": {},
   "outputs": [
    {
     "data": {
      "text/plain": [
       "array([0.  , 0.25, 0.5 , 0.75, 1.  ])"
      ]
     },
     "execution_count": 2577,
     "metadata": {},
     "output_type": "execute_result"
    }
   ],
   "source": [
    "np.linspace(0, 1, 5)"
   ]
  },
  {
   "cell_type": "code",
   "execution_count": 2578,
   "id": "5d04525e-db6f-45c0-902c-7df862361b93",
   "metadata": {},
   "outputs": [
    {
     "data": {
      "text/plain": [
       "array([   1.,   10.,  100., 1000.])"
      ]
     },
     "execution_count": 2578,
     "metadata": {},
     "output_type": "execute_result"
    }
   ],
   "source": [
    "np.logspace(0, 3, 4)"
   ]
  },
  {
   "cell_type": "code",
   "execution_count": 2579,
   "id": "2d4680d6-90ab-46a3-a756-7a548d68150d",
   "metadata": {},
   "outputs": [
    {
     "data": {
      "text/plain": [
       "array([0, 1, 2, 3, 4])"
      ]
     },
     "execution_count": 2579,
     "metadata": {},
     "output_type": "execute_result"
    }
   ],
   "source": [
    "int_arr = np.arange(5)\n",
    "int_arr"
   ]
  },
  {
   "cell_type": "code",
   "execution_count": 2580,
   "id": "355084af-ed3e-43e8-9aaf-4c619da4fbfc",
   "metadata": {},
   "outputs": [
    {
     "data": {
      "text/plain": [
       "array([0., 1., 2., 3., 4.])"
      ]
     },
     "execution_count": 2580,
     "metadata": {},
     "output_type": "execute_result"
    }
   ],
   "source": [
    "float_arr = int_arr.astype(float)\n",
    "float_arr"
   ]
  },
  {
   "cell_type": "code",
   "execution_count": 2581,
   "id": "19e0c053-2a66-40dd-8b58-f83145e6eefc",
   "metadata": {},
   "outputs": [
    {
     "data": {
      "text/plain": [
       "dtype('int64')"
      ]
     },
     "execution_count": 2581,
     "metadata": {},
     "output_type": "execute_result"
    }
   ],
   "source": [
    "arr1.dtype"
   ]
  },
  {
   "cell_type": "code",
   "execution_count": 2582,
   "id": "aa75528c-388f-49e1-8509-ef71e1e8dd99",
   "metadata": {},
   "outputs": [
    {
     "data": {
      "text/plain": [
       "dtype('int64')"
      ]
     },
     "execution_count": 2582,
     "metadata": {},
     "output_type": "execute_result"
    }
   ],
   "source": [
    "arr2.dtype"
   ]
  },
  {
   "cell_type": "code",
   "execution_count": 2583,
   "id": "9dcef9c7-8d3e-4a03-a7b1-8accb6fa8dd5",
   "metadata": {},
   "outputs": [
    {
     "data": {
      "text/plain": [
       "(5,)"
      ]
     },
     "execution_count": 2583,
     "metadata": {},
     "output_type": "execute_result"
    }
   ],
   "source": [
    "arr1.shape"
   ]
  },
  {
   "cell_type": "code",
   "execution_count": 2584,
   "id": "3bfb3c7e-f2e2-43ea-b20e-95d9194d0d4c",
   "metadata": {},
   "outputs": [
    {
     "data": {
      "text/plain": [
       "(2, 4)"
      ]
     },
     "execution_count": 2584,
     "metadata": {},
     "output_type": "execute_result"
    }
   ],
   "source": [
    "arr2.shape"
   ]
  },
  {
   "cell_type": "code",
   "execution_count": 2585,
   "id": "73d095be-a534-48d8-8bb1-e4a45e253c20",
   "metadata": {},
   "outputs": [
    {
     "data": {
      "text/plain": [
       "2"
      ]
     },
     "execution_count": 2585,
     "metadata": {},
     "output_type": "execute_result"
    }
   ],
   "source": [
    "len(arr2)"
   ]
  },
  {
   "cell_type": "code",
   "execution_count": 2586,
   "id": "25572845-8222-459b-8d5d-64a190f66db0",
   "metadata": {},
   "outputs": [
    {
     "data": {
      "text/plain": [
       "array([[0., 1., 2., 3., 4.],\n",
       "       [5., 6., 7., 8., 9.]])"
      ]
     },
     "execution_count": 2586,
     "metadata": {},
     "output_type": "execute_result"
    }
   ],
   "source": [
    "arr = np.arange(10, dtype=float).reshape((2, 5))\n",
    "arr"
   ]
  },
  {
   "cell_type": "code",
   "execution_count": 2587,
   "id": "0c0c9add-ae96-45a8-a819-32e8a5e6f415",
   "metadata": {},
   "outputs": [
    {
     "data": {
      "text/plain": [
       "array([[0, 1, 2, 3, 4],\n",
       "       [5, 6, 7, 8, 9]])"
      ]
     },
     "execution_count": 2587,
     "metadata": {},
     "output_type": "execute_result"
    }
   ],
   "source": [
    "np.arange(10).reshape(-1, 5)"
   ]
  },
  {
   "cell_type": "code",
   "execution_count": 2588,
   "id": "f850a7b6-b734-4418-9d3e-a8df967dda54",
   "metadata": {},
   "outputs": [
    {
     "data": {
      "text/plain": [
       "array([[0., 1.],\n",
       "       [2., 3.],\n",
       "       [4., 5.],\n",
       "       [6., 7.],\n",
       "       [8., 9.]])"
      ]
     },
     "execution_count": 2588,
     "metadata": {},
     "output_type": "execute_result"
    }
   ],
   "source": [
    "arr.reshape(-1, 2)"
   ]
  },
  {
   "cell_type": "code",
   "execution_count": 2589,
   "id": "55dcce11-6161-4a55-9a7f-cd36282333d6",
   "metadata": {},
   "outputs": [
    {
     "data": {
      "text/plain": [
       "array([0, 1])"
      ]
     },
     "execution_count": 2589,
     "metadata": {},
     "output_type": "execute_result"
    }
   ],
   "source": [
    "a = np.array([0, 1])\n",
    "a"
   ]
  },
  {
   "cell_type": "code",
   "execution_count": 2590,
   "id": "888055db-2b56-4f05-9b28-69848b06e7e4",
   "metadata": {},
   "outputs": [
    {
     "data": {
      "text/plain": [
       "array([[0],\n",
       "       [1]])"
      ]
     },
     "execution_count": 2590,
     "metadata": {},
     "output_type": "execute_result"
    }
   ],
   "source": [
    "a_col = a[:, np.newaxis]\n",
    "a_col"
   ]
  },
  {
   "cell_type": "code",
   "execution_count": 2591,
   "id": "026127b4-f21e-47fe-943c-e3e6050f1311",
   "metadata": {},
   "outputs": [
    {
     "data": {
      "text/plain": [
       "array([[0],\n",
       "       [1]])"
      ]
     },
     "execution_count": 2591,
     "metadata": {},
     "output_type": "execute_result"
    }
   ],
   "source": [
    "a_col = a[:, None]\n",
    "a_col"
   ]
  },
  {
   "cell_type": "code",
   "execution_count": 2592,
   "id": "9549133b-f626-4dad-bb58-b9a379cff93f",
   "metadata": {},
   "outputs": [
    {
     "data": {
      "text/plain": [
       "array([0, 1])"
      ]
     },
     "execution_count": 2592,
     "metadata": {},
     "output_type": "execute_result"
    }
   ],
   "source": [
    "a"
   ]
  },
  {
   "cell_type": "code",
   "execution_count": 2593,
   "id": "c37f6488-b938-4282-8a24-3a3190c560e5",
   "metadata": {},
   "outputs": [
    {
     "data": {
      "text/plain": [
       "array([[0, 1]])"
      ]
     },
     "execution_count": 2593,
     "metadata": {},
     "output_type": "execute_result"
    }
   ],
   "source": [
    "a[None, :]"
   ]
  },
  {
   "cell_type": "code",
   "execution_count": 2594,
   "id": "a4d21fd8-6081-435f-8482-84a82f23160c",
   "metadata": {},
   "outputs": [
    {
     "data": {
      "text/plain": [
       "array([[[0, 1]]])"
      ]
     },
     "execution_count": 2594,
     "metadata": {},
     "output_type": "execute_result"
    }
   ],
   "source": [
    "a[None, None, :]"
   ]
  },
  {
   "cell_type": "code",
   "execution_count": 2595,
   "id": "f29acb12-5052-4ad5-96f9-80715e80058c",
   "metadata": {},
   "outputs": [
    {
     "data": {
      "text/plain": [
       "array([0., 1., 2., 3., 4., 5., 6., 7., 8., 9.])"
      ]
     },
     "execution_count": 2595,
     "metadata": {},
     "output_type": "execute_result"
    }
   ],
   "source": [
    "arr_flt = arr.flatten()\n",
    "arr_flt"
   ]
  },
  {
   "cell_type": "code",
   "execution_count": 2596,
   "id": "024d0154-3f93-45c6-8669-9086733c7fc2",
   "metadata": {},
   "outputs": [
    {
     "data": {
      "text/plain": [
       "0.0"
      ]
     },
     "execution_count": 2596,
     "metadata": {},
     "output_type": "execute_result"
    }
   ],
   "source": [
    "arr_flt[0]"
   ]
  },
  {
   "cell_type": "code",
   "execution_count": 2597,
   "id": "8e50b0aa-85ef-407a-8231-6026838d9f5e",
   "metadata": {},
   "outputs": [
    {
     "data": {
      "text/plain": [
       "array([33.,  1.,  2.,  3.,  4.,  5.,  6.,  7.,  8.,  9.])"
      ]
     },
     "execution_count": 2597,
     "metadata": {},
     "output_type": "execute_result"
    }
   ],
   "source": [
    "arr_flt[0] = 33\n",
    "arr_flt"
   ]
  },
  {
   "cell_type": "code",
   "execution_count": 2598,
   "id": "5f276076-f626-4d94-a10f-7e2127b6a319",
   "metadata": {},
   "outputs": [
    {
     "data": {
      "text/plain": [
       "array([[0., 1., 2., 3., 4.],\n",
       "       [5., 6., 7., 8., 9.]])"
      ]
     },
     "execution_count": 2598,
     "metadata": {},
     "output_type": "execute_result"
    }
   ],
   "source": [
    "arr"
   ]
  },
  {
   "cell_type": "code",
   "execution_count": 2599,
   "id": "44cd57fb-8934-4eac-9b87-29c73421b25a",
   "metadata": {},
   "outputs": [
    {
     "data": {
      "text/plain": [
       "array([0., 1., 2., 3., 4., 5., 6., 7., 8., 9.])"
      ]
     },
     "execution_count": 2599,
     "metadata": {},
     "output_type": "execute_result"
    }
   ],
   "source": [
    "arr_flt = arr.ravel()\n",
    "arr_flt"
   ]
  },
  {
   "cell_type": "code",
   "execution_count": 2600,
   "id": "55d7ca1c-f998-44f3-9c12-cc70c0ddc82f",
   "metadata": {},
   "outputs": [
    {
     "data": {
      "text/plain": [
       "array([33.,  1.,  2.,  3.,  4.,  5.,  6.,  7.,  8.,  9.])"
      ]
     },
     "execution_count": 2600,
     "metadata": {},
     "output_type": "execute_result"
    }
   ],
   "source": [
    "arr_flt[0] = 33\n",
    "arr_flt"
   ]
  },
  {
   "cell_type": "code",
   "execution_count": 2601,
   "id": "642ad52f-8319-4863-8631-51a283d61c03",
   "metadata": {},
   "outputs": [
    {
     "data": {
      "text/plain": [
       "array([ 0,  1,  2,  3,  4,  5,  6,  7,  8,  9, 10, 11, 12, 13, 14, 15, 16,\n",
       "       17, 18, 19, 20, 21, 22, 23])"
      ]
     },
     "execution_count": 2601,
     "metadata": {},
     "output_type": "execute_result"
    }
   ],
   "source": [
    "x = np.arange(2*3*4)\n",
    "x"
   ]
  },
  {
   "cell_type": "code",
   "execution_count": 2602,
   "id": "451794da-ddfb-4b7e-bcf2-83e26e3dce8a",
   "metadata": {},
   "outputs": [
    {
     "data": {
      "text/plain": [
       "array([[[ 0,  1,  2,  3],\n",
       "        [ 4,  5,  6,  7],\n",
       "        [ 8,  9, 10, 11]],\n",
       "\n",
       "       [[12, 13, 14, 15],\n",
       "        [16, 17, 18, 19],\n",
       "        [20, 21, 22, 23]]])"
      ]
     },
     "execution_count": 2602,
     "metadata": {},
     "output_type": "execute_result"
    }
   ],
   "source": [
    "x = x.reshape(2, 3, 4)\n",
    "x"
   ]
  },
  {
   "cell_type": "code",
   "execution_count": 2603,
   "id": "8b55690b-cd19-474b-93a7-80f77a06d483",
   "metadata": {},
   "outputs": [
    {
     "data": {
      "text/plain": [
       "array([[ 0,  1,  2,  3],\n",
       "       [ 4,  5,  6,  7],\n",
       "       [ 8,  9, 10, 11]])"
      ]
     },
     "execution_count": 2603,
     "metadata": {},
     "output_type": "execute_result"
    }
   ],
   "source": [
    "x[0]"
   ]
  },
  {
   "cell_type": "code",
   "execution_count": 2604,
   "id": "ba382fe8-b2c5-4e01-ac14-07392a069e6e",
   "metadata": {},
   "outputs": [
    {
     "data": {
      "text/plain": [
       "array([[12, 13, 14, 15],\n",
       "       [16, 17, 18, 19],\n",
       "       [20, 21, 22, 23]])"
      ]
     },
     "execution_count": 2604,
     "metadata": {},
     "output_type": "execute_result"
    }
   ],
   "source": [
    "x[1]"
   ]
  },
  {
   "cell_type": "code",
   "execution_count": 2605,
   "id": "4e7f75f1-dd45-45b4-b163-878e7446a043",
   "metadata": {},
   "outputs": [
    {
     "data": {
      "text/plain": [
       "array([[ 0,  1,  2,  3],\n",
       "       [ 4,  5,  6,  7],\n",
       "       [ 8,  9, 10, 11]])"
      ]
     },
     "execution_count": 2605,
     "metadata": {},
     "output_type": "execute_result"
    }
   ],
   "source": [
    "x[0, :, :]"
   ]
  },
  {
   "cell_type": "code",
   "execution_count": 2606,
   "id": "0e261397-c7ac-48ee-9faa-bfd951927785",
   "metadata": {},
   "outputs": [
    {
     "data": {
      "text/plain": [
       "array([4, 5, 6, 7])"
      ]
     },
     "execution_count": 2606,
     "metadata": {},
     "output_type": "execute_result"
    }
   ],
   "source": [
    "x[0, 1, :]"
   ]
  },
  {
   "cell_type": "code",
   "execution_count": 2607,
   "id": "877ce6dc-6768-49a5-bce9-2cd8f1516e87",
   "metadata": {},
   "outputs": [
    {
     "data": {
      "text/plain": [
       "array([[ 0,  4,  8],\n",
       "       [12, 16, 20]])"
      ]
     },
     "execution_count": 2607,
     "metadata": {},
     "output_type": "execute_result"
    }
   ],
   "source": [
    "x[:, :, 0]"
   ]
  },
  {
   "cell_type": "code",
   "execution_count": 2608,
   "id": "8d146e54-80ac-46de-a0f6-0bd6ae65419b",
   "metadata": {},
   "outputs": [
    {
     "data": {
      "text/plain": [
       "array([[0., 1., 2., 3., 4.],\n",
       "       [5., 6., 7., 8., 9.]])"
      ]
     },
     "execution_count": 2608,
     "metadata": {},
     "output_type": "execute_result"
    }
   ],
   "source": [
    "arr = np.arange(10, dtype=float).reshape((2, 5))\n",
    "arr"
   ]
  },
  {
   "cell_type": "code",
   "execution_count": 2609,
   "id": "9f954969-9586-4e2a-bcb8-d995560fdf23",
   "metadata": {},
   "outputs": [
    {
     "data": {
      "text/plain": [
       "array([5., 6., 7., 8., 9.])"
      ]
     },
     "execution_count": 2609,
     "metadata": {},
     "output_type": "execute_result"
    }
   ],
   "source": [
    "arr[1, :]"
   ]
  },
  {
   "cell_type": "markdown",
   "id": "662afe74-f2a6-4087-8667-da01bc52e54b",
   "metadata": {},
   "source": [
    "## "
   ]
  },
  {
   "cell_type": "code",
   "execution_count": 2610,
   "id": "733f57ec-3f12-4bec-88bf-9c849620336f",
   "metadata": {},
   "outputs": [
    {
     "data": {
      "text/plain": [
       "array([2., 7.])"
      ]
     },
     "execution_count": 2610,
     "metadata": {},
     "output_type": "execute_result"
    }
   ],
   "source": [
    "arr[:, 2]"
   ]
  },
  {
   "cell_type": "code",
   "execution_count": 2611,
   "id": "fdde73c4-19ed-4dc3-b58a-fa040307e890",
   "metadata": {},
   "outputs": [
    {
     "data": {
      "text/plain": [
       "array([ 0,  1,  2,  3,  4,  5,  6,  7,  8,  9, 10, 11, 12, 13, 14, 15, 16,\n",
       "       17, 18, 19, 20, 21, 22, 23])"
      ]
     },
     "execution_count": 2611,
     "metadata": {},
     "output_type": "execute_result"
    }
   ],
   "source": [
    "x.ravel()"
   ]
  },
  {
   "cell_type": "code",
   "execution_count": 2612,
   "id": "44dd2864-7104-412a-b846-cb07e6d2609c",
   "metadata": {},
   "outputs": [],
   "source": [
    "a = np.array([0, 1])\n",
    "b = np.array([2, 3])"
   ]
  },
  {
   "cell_type": "code",
   "execution_count": 2613,
   "id": "8f18492f-a76a-4140-b477-3a6d0d1a2da2",
   "metadata": {},
   "outputs": [
    {
     "data": {
      "text/plain": [
       "array([0, 1, 2, 3])"
      ]
     },
     "execution_count": 2613,
     "metadata": {},
     "output_type": "execute_result"
    }
   ],
   "source": [
    "np.hstack([a, b])"
   ]
  },
  {
   "cell_type": "code",
   "execution_count": 2614,
   "id": "4e57285e-c6c6-4a39-a125-aa8cb83397e7",
   "metadata": {},
   "outputs": [
    {
     "data": {
      "text/plain": [
       "array([[0, 1],\n",
       "       [2, 3]])"
      ]
     },
     "execution_count": 2614,
     "metadata": {},
     "output_type": "execute_result"
    }
   ],
   "source": [
    "np.vstack([a, b])"
   ]
  },
  {
   "cell_type": "code",
   "execution_count": 2615,
   "id": "71346889-1079-4d14-8708-43cee6cf9316",
   "metadata": {},
   "outputs": [
    {
     "data": {
      "text/plain": [
       "array([[0, 1],\n",
       "       [2, 3]])"
      ]
     },
     "execution_count": 2615,
     "metadata": {},
     "output_type": "execute_result"
    }
   ],
   "source": [
    "np.stack([a, b])"
   ]
  },
  {
   "cell_type": "code",
   "execution_count": 2616,
   "id": "5f8db226-ad21-4b78-a8a5-bf377c517ca2",
   "metadata": {},
   "outputs": [
    {
     "data": {
      "text/plain": [
       "array([[0., 1., 2., 3., 4.],\n",
       "       [5., 6., 7., 8., 9.]])"
      ]
     },
     "execution_count": 2616,
     "metadata": {},
     "output_type": "execute_result"
    }
   ],
   "source": [
    "arr = np.arange(10, dtype=float).reshape((2, 5))\n",
    "arr"
   ]
  },
  {
   "cell_type": "code",
   "execution_count": 2617,
   "id": "9262cba6-efde-4943-83e0-dd31acb9476f",
   "metadata": {},
   "outputs": [
    {
     "data": {
      "text/plain": [
       "array([0., 1., 2., 3., 4.])"
      ]
     },
     "execution_count": 2617,
     "metadata": {},
     "output_type": "execute_result"
    }
   ],
   "source": [
    "arr[0]"
   ]
  },
  {
   "cell_type": "code",
   "execution_count": 2618,
   "id": "c469b6bf-951c-4b6a-9b93-136f11fcb1db",
   "metadata": {},
   "outputs": [
    {
     "data": {
      "text/plain": [
       "3.0"
      ]
     },
     "execution_count": 2618,
     "metadata": {},
     "output_type": "execute_result"
    }
   ],
   "source": [
    "arr[0, 3]"
   ]
  },
  {
   "cell_type": "code",
   "execution_count": 2619,
   "id": "abf21a37-0222-47b8-af24-aa002a0afa6f",
   "metadata": {},
   "outputs": [
    {
     "data": {
      "text/plain": [
       "3.0"
      ]
     },
     "execution_count": 2619,
     "metadata": {},
     "output_type": "execute_result"
    }
   ],
   "source": [
    "arr[0][3]"
   ]
  },
  {
   "cell_type": "code",
   "execution_count": 2620,
   "id": "28f49c58-ff50-4482-965e-912f11e8e78f",
   "metadata": {},
   "outputs": [
    {
     "data": {
      "text/plain": [
       "array([0., 1., 2., 3., 4.])"
      ]
     },
     "execution_count": 2620,
     "metadata": {},
     "output_type": "execute_result"
    }
   ],
   "source": [
    "arr[0, :]"
   ]
  },
  {
   "cell_type": "code",
   "execution_count": 2621,
   "id": "09516572-46f0-4c2b-8a01-3c8c41748724",
   "metadata": {},
   "outputs": [
    {
     "data": {
      "text/plain": [
       "array([0., 5.])"
      ]
     },
     "execution_count": 2621,
     "metadata": {},
     "output_type": "execute_result"
    }
   ],
   "source": [
    "arr[:, 0]"
   ]
  },
  {
   "cell_type": "code",
   "execution_count": 2622,
   "id": "c497acb5-7af1-4bdc-a6d0-3263130ff925",
   "metadata": {},
   "outputs": [
    {
     "data": {
      "text/plain": [
       "array([ 5.,  7.,  9., 11., 13.])"
      ]
     },
     "execution_count": 2622,
     "metadata": {},
     "output_type": "execute_result"
    }
   ],
   "source": [
    "arr.sum(axis=0)"
   ]
  },
  {
   "cell_type": "code",
   "execution_count": 2623,
   "id": "24279d6d-35db-44b9-81ed-55b905fc6b17",
   "metadata": {},
   "outputs": [
    {
     "data": {
      "text/plain": [
       "array([[0., 1., 2., 3., 4.],\n",
       "       [5., 6., 7., 8., 9.]])"
      ]
     },
     "execution_count": 2623,
     "metadata": {},
     "output_type": "execute_result"
    }
   ],
   "source": [
    "arr"
   ]
  },
  {
   "cell_type": "code",
   "execution_count": 2624,
   "id": "4f79e01d-8699-41ef-a5ba-cc09c63d88c0",
   "metadata": {},
   "outputs": [
    {
     "data": {
      "text/plain": [
       "array([10., 35.])"
      ]
     },
     "execution_count": 2624,
     "metadata": {},
     "output_type": "execute_result"
    }
   ],
   "source": [
    "arr.sum(axis=1)"
   ]
  },
  {
   "cell_type": "code",
   "execution_count": 2625,
   "id": "c55bfe54-4b48-45ad-bce2-9f2fa3dda8d0",
   "metadata": {},
   "outputs": [
    {
     "data": {
      "text/plain": [
       "array([[0., 1.],\n",
       "       [5., 6.]])"
      ]
     },
     "execution_count": 2625,
     "metadata": {},
     "output_type": "execute_result"
    }
   ],
   "source": [
    "arr[:, :2]"
   ]
  },
  {
   "cell_type": "code",
   "execution_count": 2626,
   "id": "8d2ffa2c-70e8-447d-bf54-41ebf4c9454a",
   "metadata": {},
   "outputs": [],
   "source": [
    "arr2 = arr[:, 1:4]"
   ]
  },
  {
   "cell_type": "code",
   "execution_count": 2627,
   "id": "008e52bf-b1c9-4b40-82f7-d80c12737950",
   "metadata": {},
   "outputs": [
    {
     "data": {
      "text/plain": [
       "array([[1., 2., 3.],\n",
       "       [6., 7., 8.]])"
      ]
     },
     "execution_count": 2627,
     "metadata": {},
     "output_type": "execute_result"
    }
   ],
   "source": [
    "arr2"
   ]
  },
  {
   "cell_type": "code",
   "execution_count": 2628,
   "id": "1c45dbbe-331a-448c-b58c-ac887cbae98c",
   "metadata": {},
   "outputs": [],
   "source": [
    "arr2[0, 0] = 33"
   ]
  },
  {
   "cell_type": "code",
   "execution_count": 2629,
   "id": "ec6c63ff-eb7b-4f05-a745-28309afc0b37",
   "metadata": {},
   "outputs": [
    {
     "data": {
      "text/plain": [
       "array([[33.,  2.,  3.],\n",
       "       [ 6.,  7.,  8.]])"
      ]
     },
     "execution_count": 2629,
     "metadata": {},
     "output_type": "execute_result"
    }
   ],
   "source": [
    "arr2"
   ]
  },
  {
   "cell_type": "code",
   "execution_count": 2630,
   "id": "7955de51-8894-4c18-8a31-3a63ecfd0a95",
   "metadata": {},
   "outputs": [
    {
     "data": {
      "text/plain": [
       "array([ 4.,  3.,  2., 33.,  0.])"
      ]
     },
     "execution_count": 2630,
     "metadata": {},
     "output_type": "execute_result"
    }
   ],
   "source": [
    "arr[0, ::-1]"
   ]
  },
  {
   "cell_type": "code",
   "execution_count": 2631,
   "id": "072be1b6-c524-4e62-b6b4-aaa3d7e69cf8",
   "metadata": {},
   "outputs": [
    {
     "data": {
      "text/plain": [
       "array([[33.,  2.,  3.],\n",
       "       [ 6.,  7.,  8.]])"
      ]
     },
     "execution_count": 2631,
     "metadata": {},
     "output_type": "execute_result"
    }
   ],
   "source": [
    "arr2 =  arr[:, [1, 2, 3]]\n",
    "arr2"
   ]
  },
  {
   "cell_type": "code",
   "execution_count": 2632,
   "id": "66edb0e1-875b-4689-91f9-f38abf0e9f88",
   "metadata": {},
   "outputs": [
    {
     "data": {
      "text/plain": [
       "array([[44.,  2.,  3.],\n",
       "       [ 6.,  7.,  8.]])"
      ]
     },
     "execution_count": 2632,
     "metadata": {},
     "output_type": "execute_result"
    }
   ],
   "source": [
    "arr2[0, 0] = 44\n",
    "arr2"
   ]
  },
  {
   "cell_type": "code",
   "execution_count": 2633,
   "id": "229b453e-3d2f-455c-9904-83cf7a52f33e",
   "metadata": {},
   "outputs": [
    {
     "data": {
      "text/plain": [
       "array([33.,  6.,  7.,  8.,  9.])"
      ]
     },
     "execution_count": 2633,
     "metadata": {},
     "output_type": "execute_result"
    }
   ],
   "source": [
    "arr2 = arr[arr > 5]\n",
    "arr2"
   ]
  },
  {
   "cell_type": "code",
   "execution_count": 2634,
   "id": "ac57a6db-00e8-4bf1-a222-90ae48116d29",
   "metadata": {},
   "outputs": [
    {
     "data": {
      "text/plain": [
       "array([55.,  6.,  7.,  8.,  9.])"
      ]
     },
     "execution_count": 2634,
     "metadata": {},
     "output_type": "execute_result"
    }
   ],
   "source": [
    "arr2[0] = 55\n",
    "arr2"
   ]
  },
  {
   "cell_type": "code",
   "execution_count": 2635,
   "id": "59cba551-5fe7-426d-acff-57d956e9759d",
   "metadata": {},
   "outputs": [],
   "source": [
    "arr[arr > 5] = 0"
   ]
  },
  {
   "cell_type": "code",
   "execution_count": 2636,
   "id": "dc58d0f0-1da9-43c6-83d6-dc4794b83f3c",
   "metadata": {},
   "outputs": [
    {
     "data": {
      "text/plain": [
       "array([[0., 0., 2., 3., 4.],\n",
       "       [5., 0., 0., 0., 0.]])"
      ]
     },
     "execution_count": 2636,
     "metadata": {},
     "output_type": "execute_result"
    }
   ],
   "source": [
    "arr"
   ]
  },
  {
   "cell_type": "code",
   "execution_count": 2637,
   "id": "12b5fb29-5aa3-458d-a61e-e32fb3ffee93",
   "metadata": {},
   "outputs": [
    {
     "data": {
      "text/plain": [
       "array(['Bob', 'Joe', 'Will', 'Bob'], dtype='<U4')"
      ]
     },
     "execution_count": 2637,
     "metadata": {},
     "output_type": "execute_result"
    }
   ],
   "source": [
    "names = np.array(['Bob', 'Joe', 'Will', 'Bob'])\n",
    "names"
   ]
  },
  {
   "cell_type": "code",
   "execution_count": 2638,
   "id": "bf66acd6-8a36-4a17-bd28-943718aae342",
   "metadata": {},
   "outputs": [
    {
     "data": {
      "text/plain": [
       "array([ True, False, False,  True])"
      ]
     },
     "execution_count": 2638,
     "metadata": {},
     "output_type": "execute_result"
    }
   ],
   "source": [
    "names == 'Bob'"
   ]
  },
  {
   "cell_type": "code",
   "execution_count": 2639,
   "id": "c13f4712-c816-4844-9c4f-ea3d10cc4259",
   "metadata": {},
   "outputs": [
    {
     "data": {
      "text/plain": [
       "array(['Joe', 'Will'], dtype='<U4')"
      ]
     },
     "execution_count": 2639,
     "metadata": {},
     "output_type": "execute_result"
    }
   ],
   "source": [
    "names[names != 'Bob']"
   ]
  },
  {
   "cell_type": "code",
   "execution_count": 2640,
   "id": "0f092076-4d7b-4b36-8420-6e75178da90b",
   "metadata": {},
   "outputs": [
    {
     "data": {
      "text/plain": [
       "array(['Bob', 'Joel', 'Joel', 'Bob'], dtype='<U4')"
      ]
     },
     "execution_count": 2640,
     "metadata": {},
     "output_type": "execute_result"
    }
   ],
   "source": [
    "names[names != 'Bob'] = 'Joel'\n",
    "names"
   ]
  },
  {
   "cell_type": "code",
   "execution_count": 2641,
   "id": "0d3e79d2-010b-4978-84ab-713370c969f5",
   "metadata": {},
   "outputs": [
    {
     "data": {
      "text/plain": [
       "array(['Bob', 'Joel', 'Joel', 'Bob'], dtype='<U4')"
      ]
     },
     "execution_count": 2641,
     "metadata": {},
     "output_type": "execute_result"
    }
   ],
   "source": [
    "names\n"
   ]
  },
  {
   "cell_type": "code",
   "execution_count": 2642,
   "id": "262b9bcd-35e9-40e5-a4cb-04e5946d4fd0",
   "metadata": {},
   "outputs": [
    {
     "data": {
      "text/plain": [
       "array(['Bob', 'Joel'], dtype='<U4')"
      ]
     },
     "execution_count": 2642,
     "metadata": {},
     "output_type": "execute_result"
    }
   ],
   "source": [
    "np.unique(names)"
   ]
  },
  {
   "cell_type": "code",
   "execution_count": 2643,
   "id": "9b7e40ae-b876-40fa-a401-d99e79af8bda",
   "metadata": {},
   "outputs": [
    {
     "data": {
      "text/plain": [
       "472.9200000000001"
      ]
     },
     "execution_count": 2643,
     "metadata": {},
     "output_type": "execute_result"
    }
   ],
   "source": [
    "-42 + 0.28 * 1839"
   ]
  },
  {
   "cell_type": "code",
   "execution_count": 2644,
   "id": "176b3d97-8a3a-41b4-a6c3-3e5fb99cfc16",
   "metadata": {},
   "outputs": [
    {
     "data": {
      "text/plain": [
       "470.4000000000001"
      ]
     },
     "execution_count": 2644,
     "metadata": {},
     "output_type": "execute_result"
    }
   ],
   "source": [
    "-42 + 0.28 * 1830"
   ]
  },
  {
   "cell_type": "code",
   "execution_count": 2645,
   "id": "3c805841-d034-4ba7-80a2-cc999e2c08c4",
   "metadata": {},
   "outputs": [
    {
     "data": {
      "text/plain": [
       "0.6887218045112782"
      ]
     },
     "execution_count": 2645,
     "metadata": {},
     "output_type": "execute_result"
    }
   ],
   "source": [
    "1 - (41400 / 133000)"
   ]
  },
  {
   "cell_type": "code",
   "execution_count": 2646,
   "id": "89a0fcb6-bf11-4a64-a2e5-ebf807656113",
   "metadata": {},
   "outputs": [
    {
     "data": {
      "text/plain": [
       "0.45390070921985815"
      ]
     },
     "execution_count": 2646,
     "metadata": {},
     "output_type": "execute_result"
    }
   ],
   "source": [
    "# (A, B, C)\n",
    "# (A, B) -> 64000\n",
    "# (A, C) -> 77000\n",
    "# (B, C) -> 126000\n",
    "\n",
    "1 - ( 77000/ 141000)"
   ]
  },
  {
   "cell_type": "code",
   "execution_count": 2647,
   "id": "6f5981a0-f4c2-4ede-a396-d722efb249e4",
   "metadata": {},
   "outputs": [],
   "source": [
    "Age = 0.00\n",
    "Baths = 0.27\n",
    "Area = 0.49\n",
    "ZipSqft = 0.29"
   ]
  },
  {
   "cell_type": "code",
   "execution_count": 2648,
   "id": "8911dd48-2f07-42ef-af09-bc3001dee82a",
   "metadata": {},
   "outputs": [
    {
     "data": {
      "text/plain": [
       "array([0, 1, 2, 3, 4])"
      ]
     },
     "execution_count": 2648,
     "metadata": {},
     "output_type": "execute_result"
    }
   ],
   "source": [
    "nums = np.arange(5)\n",
    "nums"
   ]
  },
  {
   "cell_type": "code",
   "execution_count": 2649,
   "id": "c9550125-df52-4723-880e-2ed3b1c70cb3",
   "metadata": {},
   "outputs": [
    {
     "data": {
      "text/plain": [
       "array([ 0, 10, 20, 30, 40])"
      ]
     },
     "execution_count": 2649,
     "metadata": {},
     "output_type": "execute_result"
    }
   ],
   "source": [
    "nums * 10"
   ]
  },
  {
   "cell_type": "code",
   "execution_count": 2650,
   "id": "4587c369-07ea-47cf-a0aa-e75117329d64",
   "metadata": {},
   "outputs": [
    {
     "data": {
      "text/plain": [
       "array([0.        , 1.        , 1.41421356, 1.73205081, 2.        ])"
      ]
     },
     "execution_count": 2650,
     "metadata": {},
     "output_type": "execute_result"
    }
   ],
   "source": [
    "nums = np.sqrt(nums)\n",
    "nums"
   ]
  },
  {
   "cell_type": "code",
   "execution_count": 2651,
   "id": "b3266d3a-3689-4d6c-809f-9bc033f0d9e1",
   "metadata": {},
   "outputs": [
    {
     "data": {
      "text/plain": [
       "array([0., 1., 2., 2., 2.])"
      ]
     },
     "execution_count": 2651,
     "metadata": {},
     "output_type": "execute_result"
    }
   ],
   "source": [
    "np.ceil(nums)\n"
   ]
  },
  {
   "cell_type": "code",
   "execution_count": 2652,
   "id": "d75ba9b5-d2e4-4d05-aaa3-0664087e59a4",
   "metadata": {},
   "outputs": [
    {
     "data": {
      "text/plain": [
       "array([False, False, False, False, False])"
      ]
     },
     "execution_count": 2652,
     "metadata": {},
     "output_type": "execute_result"
    }
   ],
   "source": [
    "np.isnan(nums)"
   ]
  },
  {
   "cell_type": "code",
   "execution_count": 2653,
   "id": "85fd834b-fc94-4fb3-a27f-121aee563024",
   "metadata": {},
   "outputs": [
    {
     "data": {
      "text/plain": [
       "array([0.        , 2.        , 3.41421356, 4.73205081, 6.        ])"
      ]
     },
     "execution_count": 2653,
     "metadata": {},
     "output_type": "execute_result"
    }
   ],
   "source": [
    "nums + np.arange(5)"
   ]
  },
  {
   "cell_type": "code",
   "execution_count": 2654,
   "id": "47a2361c-3f40-4d2c-94b2-431761c6d3eb",
   "metadata": {},
   "outputs": [
    {
     "data": {
      "text/plain": [
       "array([1.        , 1.        , 3.        , 1.73205081, 5.        ])"
      ]
     },
     "execution_count": 2654,
     "metadata": {},
     "output_type": "execute_result"
    }
   ],
   "source": [
    "np.maximum(nums, np.array([1, -2, 3, -4, 5]))"
   ]
  },
  {
   "cell_type": "code",
   "execution_count": 2655,
   "id": "f18bccfa-a450-4ae7-85b2-641a20bbb356",
   "metadata": {},
   "outputs": [],
   "source": [
    "# Compute Euclidean distance between 2 vectors\n",
    "vec1 = np.random.randn(10)\n",
    "vec2 = np.random.randn(10)\n",
    "dist = np.sqrt(np.sum((vec1 - vec2) ** 2))"
   ]
  },
  {
   "cell_type": "code",
   "execution_count": 2656,
   "id": "546faaed-f830-45c7-9791-02d90b26f40e",
   "metadata": {},
   "outputs": [
    {
     "data": {
      "text/plain": [
       "array([-0.83069343, -0.91995809,  0.72953591, -0.77815291,  0.48313844,\n",
       "        0.4883399 ,  1.20966121, -1.3620039 ,  1.47662287, -2.20942045])"
      ]
     },
     "execution_count": 2656,
     "metadata": {},
     "output_type": "execute_result"
    }
   ],
   "source": [
    "vec1"
   ]
  },
  {
   "cell_type": "code",
   "execution_count": 2657,
   "id": "5100bdb1-4d63-4aca-9eff-7bd661bebc9e",
   "metadata": {},
   "outputs": [
    {
     "data": {
      "text/plain": [
       "array([ 0.95925821,  0.77324275, -0.49565474,  2.24401022, -0.33609979,\n",
       "        0.70161568, -0.22616909, -0.71803667,  0.24083217, -0.44637269])"
      ]
     },
     "execution_count": 2657,
     "metadata": {},
     "output_type": "execute_result"
    }
   ],
   "source": [
    "vec2"
   ]
  },
  {
   "cell_type": "code",
   "execution_count": 2658,
   "id": "005add10-954a-48de-a5ae-1721cd752bdc",
   "metadata": {},
   "outputs": [
    {
     "data": {
      "text/plain": [
       "4.953168117624211"
      ]
     },
     "execution_count": 2658,
     "metadata": {},
     "output_type": "execute_result"
    }
   ],
   "source": [
    "dist"
   ]
  },
  {
   "cell_type": "code",
   "execution_count": 2659,
   "id": "4edc7d8b-e967-4679-91da-e3877b91df94",
   "metadata": {},
   "outputs": [
    {
     "data": {
      "text/plain": [
       "array([[ 1.376422  , -1.28058072],\n",
       "       [-1.63733693,  1.3198746 ],\n",
       "       [-0.61246167, -1.93832737],\n",
       "       [ 1.52808282, -0.75202534]])"
      ]
     },
     "execution_count": 2659,
     "metadata": {},
     "output_type": "execute_result"
    }
   ],
   "source": [
    "# math and stats\n",
    "rnd = np.random.randn(4, 2)\n",
    "rnd"
   ]
  },
  {
   "cell_type": "code",
   "execution_count": 2660,
   "id": "95d69264-c1ca-4740-a143-dbfb25874f6b",
   "metadata": {},
   "outputs": [
    {
     "data": {
      "text/plain": [
       "-0.24954407829251732"
      ]
     },
     "execution_count": 2660,
     "metadata": {},
     "output_type": "execute_result"
    }
   ],
   "source": [
    "rnd.mean()"
   ]
  },
  {
   "cell_type": "code",
   "execution_count": 2661,
   "id": "5084c897-2591-4239-90c2-13a75c1570cf",
   "metadata": {},
   "outputs": [
    {
     "data": {
      "text/plain": [
       "1.3459192599525054"
      ]
     },
     "execution_count": 2661,
     "metadata": {},
     "output_type": "execute_result"
    }
   ],
   "source": [
    "rnd.std()"
   ]
  },
  {
   "cell_type": "code",
   "execution_count": 2662,
   "id": "76ef5789-5bb5-42e3-8943-7dcd0bd61544",
   "metadata": {},
   "outputs": [
    {
     "data": {
      "text/plain": [
       "5"
      ]
     },
     "execution_count": 2662,
     "metadata": {},
     "output_type": "execute_result"
    }
   ],
   "source": [
    "rnd.argmin()"
   ]
  },
  {
   "cell_type": "code",
   "execution_count": 2663,
   "id": "39037db9-366b-479c-9bdd-06e63e8b9905",
   "metadata": {},
   "outputs": [
    {
     "data": {
      "text/plain": [
       "-1.9963526263401385"
      ]
     },
     "execution_count": 2663,
     "metadata": {},
     "output_type": "execute_result"
    }
   ],
   "source": [
    "rnd.sum()"
   ]
  },
  {
   "cell_type": "code",
   "execution_count": 2664,
   "id": "7aeae9eb-596f-4b10-8a23-7f1f580781d2",
   "metadata": {},
   "outputs": [
    {
     "data": {
      "text/plain": [
       "array([ 0.65470621, -2.65105884])"
      ]
     },
     "execution_count": 2664,
     "metadata": {},
     "output_type": "execute_result"
    }
   ],
   "source": [
    "rnd.sum(axis=0)"
   ]
  },
  {
   "cell_type": "code",
   "execution_count": 2665,
   "id": "635d979a-e9e5-456b-abb9-6037a8dc7f39",
   "metadata": {},
   "outputs": [
    {
     "data": {
      "text/plain": [
       "array([[ 1.376422  , -1.28058072],\n",
       "       [-1.63733693,  1.3198746 ],\n",
       "       [-0.61246167, -1.93832737],\n",
       "       [ 1.52808282, -0.75202534]])"
      ]
     },
     "execution_count": 2665,
     "metadata": {},
     "output_type": "execute_result"
    }
   ],
   "source": [
    "rnd"
   ]
  },
  {
   "cell_type": "code",
   "execution_count": 2666,
   "id": "10a5541e-7a39-4dc2-b408-2a947d5a4450",
   "metadata": {},
   "outputs": [
    {
     "data": {
      "text/plain": [
       "array([ 0.09584128, -0.31746234, -2.55078905,  0.77605748])"
      ]
     },
     "execution_count": 2666,
     "metadata": {},
     "output_type": "execute_result"
    }
   ],
   "source": [
    "rnd.sum(axis=1)\n"
   ]
  },
  {
   "cell_type": "code",
   "execution_count": 2667,
   "id": "6712af7a-f440-47c8-a1e3-0bc1ff726cea",
   "metadata": {},
   "outputs": [
    {
     "data": {
      "text/plain": [
       "array([0, 1, 0, 0])"
      ]
     },
     "execution_count": 2667,
     "metadata": {},
     "output_type": "execute_result"
    }
   ],
   "source": [
    "rnd.argmax(axis=1)"
   ]
  },
  {
   "cell_type": "code",
   "execution_count": 2668,
   "id": "9ca6585d-ed2e-4626-928a-937bb195b716",
   "metadata": {},
   "outputs": [
    {
     "data": {
      "text/plain": [
       "array([3, 1])"
      ]
     },
     "execution_count": 2668,
     "metadata": {},
     "output_type": "execute_result"
    }
   ],
   "source": [
    "rnd.argmax(axis=0)"
   ]
  },
  {
   "cell_type": "code",
   "execution_count": 2669,
   "id": "b03f7fde-a7a3-4a26-a5d8-f871bb886b75",
   "metadata": {},
   "outputs": [
    {
     "data": {
      "text/plain": [
       "array([ 1.376422  ,  1.3198746 , -0.61246167,  1.52808282])"
      ]
     },
     "execution_count": 2669,
     "metadata": {},
     "output_type": "execute_result"
    }
   ],
   "source": [
    "rnd.max(axis=1)"
   ]
  },
  {
   "cell_type": "code",
   "execution_count": 2670,
   "id": "fec42071-c2f4-4205-99fe-a114b486c49a",
   "metadata": {},
   "outputs": [
    {
     "data": {
      "text/plain": [
       "array([1.52808282, 1.3198746 ])"
      ]
     },
     "execution_count": 2670,
     "metadata": {},
     "output_type": "execute_result"
    }
   ],
   "source": [
    "rnd.max(axis=0)"
   ]
  },
  {
   "cell_type": "code",
   "execution_count": 2671,
   "id": "51af230e-4d70-4df5-a263-af17a3f9d2e4",
   "metadata": {},
   "outputs": [
    {
     "data": {
      "text/plain": [
       "array([[ 1.376422  , -1.28058072],\n",
       "       [-1.63733693,  1.3198746 ],\n",
       "       [-0.61246167, -1.93832737],\n",
       "       [ 1.52808282, -0.75202534]])"
      ]
     },
     "execution_count": 2671,
     "metadata": {},
     "output_type": "execute_result"
    }
   ],
   "source": [
    "rnd"
   ]
  },
  {
   "cell_type": "code",
   "execution_count": 2672,
   "id": "c460aa2d-ebc9-4ccd-afac-a40c1fd7447e",
   "metadata": {},
   "outputs": [
    {
     "data": {
      "text/plain": [
       "array([ 0.65470621, -2.65105884])"
      ]
     },
     "execution_count": 2672,
     "metadata": {},
     "output_type": "execute_result"
    }
   ],
   "source": [
    "rnd.sum(axis=0)"
   ]
  },
  {
   "cell_type": "code",
   "execution_count": 2673,
   "id": "5715fcc7-5be5-4573-97ce-193c571b263e",
   "metadata": {},
   "outputs": [
    {
     "data": {
      "text/plain": [
       "array([ 0.09584128, -0.31746234, -2.55078905,  0.77605748])"
      ]
     },
     "execution_count": 2673,
     "metadata": {},
     "output_type": "execute_result"
    }
   ],
   "source": [
    "rnd.sum(axis=1)\n"
   ]
  },
  {
   "cell_type": "code",
   "execution_count": 2674,
   "id": "637b39cc-0d8f-4a24-a410-31114289637a",
   "metadata": {},
   "outputs": [
    {
     "data": {
      "text/plain": [
       "array([[ True, False],\n",
       "       [False,  True],\n",
       "       [False, False],\n",
       "       [ True, False]])"
      ]
     },
     "execution_count": 2674,
     "metadata": {},
     "output_type": "execute_result"
    }
   ],
   "source": [
    "rnd > 0"
   ]
  },
  {
   "cell_type": "code",
   "execution_count": 2675,
   "id": "9498930a-7605-4b1b-a2c4-6e710b9aff42",
   "metadata": {},
   "outputs": [
    {
     "data": {
      "text/plain": [
       "3"
      ]
     },
     "execution_count": 2675,
     "metadata": {},
     "output_type": "execute_result"
    }
   ],
   "source": [
    "(rnd > 0).sum()"
   ]
  },
  {
   "cell_type": "code",
   "execution_count": 2676,
   "id": "a1f07f70-0f93-4486-97c8-42b759f4ad64",
   "metadata": {},
   "outputs": [
    {
     "data": {
      "text/plain": [
       "True"
      ]
     },
     "execution_count": 2676,
     "metadata": {},
     "output_type": "execute_result"
    }
   ],
   "source": [
    "(rnd > 0).any()"
   ]
  },
  {
   "cell_type": "code",
   "execution_count": 2677,
   "id": "18526984-13a8-4731-a38e-4c97c4a68b6e",
   "metadata": {},
   "outputs": [
    {
     "data": {
      "text/plain": [
       "False"
      ]
     },
     "execution_count": 2677,
     "metadata": {},
     "output_type": "execute_result"
    }
   ],
   "source": [
    "(rnd > 0).all()"
   ]
  },
  {
   "cell_type": "code",
   "execution_count": 2678,
   "id": "738e3b35-2119-4411-9abf-9157f3c086c2",
   "metadata": {},
   "outputs": [
    {
     "data": {
      "text/plain": [
       "array([[0.00630595, 0.20303476, 0.76478993],\n",
       "       [0.55513384, 0.74358546, 0.93777808]])"
      ]
     },
     "execution_count": 2678,
     "metadata": {},
     "output_type": "execute_result"
    }
   ],
   "source": [
    "# random numbers\n",
    "np.random.seed(12234)\n",
    "np.random.rand(2, 3)"
   ]
  },
  {
   "cell_type": "code",
   "execution_count": 2679,
   "id": "868f24e0-cccf-46f5-b3eb-caf47382e0a3",
   "metadata": {},
   "outputs": [
    {
     "data": {
      "text/plain": [
       "array([-2.79962074e-01,  1.31281104e+00, -9.27155784e-01, -4.01302169e-01,\n",
       "       -2.31085929e+00, -2.08460156e+00,  4.59241643e-01,  1.62191344e+00,\n",
       "        1.94515120e-01, -2.08631547e-03])"
      ]
     },
     "execution_count": 2679,
     "metadata": {},
     "output_type": "execute_result"
    }
   ],
   "source": [
    "np.random.randn(10)"
   ]
  },
  {
   "cell_type": "code",
   "execution_count": 2680,
   "id": "5c33f4f3-5c50-44d9-8210-3954a4bfa70f",
   "metadata": {},
   "outputs": [
    {
     "data": {
      "text/plain": [
       "array([0, 0, 0, 1, 1, 0, 1, 1, 1, 1])"
      ]
     },
     "execution_count": 2680,
     "metadata": {},
     "output_type": "execute_result"
    }
   ],
   "source": [
    "np.random.randint(0, 2, 10)"
   ]
  },
  {
   "cell_type": "code",
   "execution_count": 2681,
   "id": "f40cf31f-c6f4-47ae-bb7c-77fe6ab660b0",
   "metadata": {},
   "outputs": [
    {
     "data": {
      "text/plain": [
       "array([[ 0,  0,  0],\n",
       "       [10, 10, 10],\n",
       "       [20, 20, 20],\n",
       "       [30, 30, 30]])"
      ]
     },
     "execution_count": 2681,
     "metadata": {},
     "output_type": "execute_result"
    }
   ],
   "source": [
    "a = np.array([[0,  0,  0],\n",
    "              [10, 10, 10],\n",
    "              [20, 20, 20],\n",
    "              [30, 30, 30]])\n",
    "a"
   ]
  },
  {
   "cell_type": "code",
   "execution_count": 2682,
   "id": "72eb4236-f5ca-4097-8070-5d5d39e2e827",
   "metadata": {},
   "outputs": [
    {
     "data": {
      "text/plain": [
       "array([0, 1, 2])"
      ]
     },
     "execution_count": 2682,
     "metadata": {},
     "output_type": "execute_result"
    }
   ],
   "source": [
    "b = np.array([0, 1, 2])\n",
    "b"
   ]
  },
  {
   "cell_type": "code",
   "execution_count": 2683,
   "id": "d5d5663a-934d-427a-b81c-e1b91337d6b5",
   "metadata": {},
   "outputs": [
    {
     "data": {
      "text/plain": [
       "array([[ 0,  1,  2],\n",
       "       [10, 11, 12],\n",
       "       [20, 21, 22],\n",
       "       [30, 31, 32]])"
      ]
     },
     "execution_count": 2683,
     "metadata": {},
     "output_type": "execute_result"
    }
   ],
   "source": [
    "a + b"
   ]
  },
  {
   "cell_type": "code",
   "execution_count": 2684,
   "id": "3f243724-ac42-4eef-a885-63909e5a0f60",
   "metadata": {},
   "outputs": [
    {
     "data": {
      "text/plain": [
       "array([[ 0,  1,  2],\n",
       "       [10, 11, 12],\n",
       "       [20, 21, 22],\n",
       "       [30, 31, 32]])"
      ]
     },
     "execution_count": 2684,
     "metadata": {},
     "output_type": "execute_result"
    }
   ],
   "source": [
    "b + a"
   ]
  },
  {
   "cell_type": "code",
   "execution_count": 2685,
   "id": "bfca4c41-f4cd-4a6c-a305-6d027c501c22",
   "metadata": {},
   "outputs": [
    {
     "data": {
      "text/plain": [
       "array([15., 15., 15.])"
      ]
     },
     "execution_count": 2685,
     "metadata": {},
     "output_type": "execute_result"
    }
   ],
   "source": [
    "a.mean(axis=0)"
   ]
  },
  {
   "cell_type": "code",
   "execution_count": 2686,
   "id": "1886ecc1-6f0e-41f7-83c4-12b7e60121ac",
   "metadata": {},
   "outputs": [
    {
     "data": {
      "text/plain": [
       "array([ 0., 10., 20., 30.])"
      ]
     },
     "execution_count": 2686,
     "metadata": {},
     "output_type": "execute_result"
    }
   ],
   "source": [
    "a.mean(axis=1)"
   ]
  },
  {
   "cell_type": "code",
   "execution_count": 2687,
   "id": "de6db2c8-22a3-430e-b791-1978dacf0f92",
   "metadata": {},
   "outputs": [
    {
     "data": {
      "text/plain": [
       "array([[ 0,  0,  0],\n",
       "       [10, 10, 10],\n",
       "       [20, 20, 20],\n",
       "       [30, 30, 30]])"
      ]
     },
     "execution_count": 2687,
     "metadata": {},
     "output_type": "execute_result"
    }
   ],
   "source": [
    "a"
   ]
  },
  {
   "cell_type": "code",
   "execution_count": 2688,
   "id": "25414953-10b7-49b5-a5af-da04e14219c0",
   "metadata": {},
   "outputs": [
    {
     "data": {
      "text/plain": [
       "array([[-15., -15., -15.],\n",
       "       [ -5.,  -5.,  -5.],\n",
       "       [  5.,   5.,   5.],\n",
       "       [ 15.,  15.,  15.]])"
      ]
     },
     "execution_count": 2688,
     "metadata": {},
     "output_type": "execute_result"
    }
   ],
   "source": [
    "a - a.mean(axis=0)"
   ]
  },
  {
   "cell_type": "code",
   "execution_count": 2689,
   "id": "ecbbf54e-0653-402c-99ae-b5b1688e8df0",
   "metadata": {},
   "outputs": [
    {
     "data": {
      "text/plain": [
       "array([[-1.34164079, -1.34164079, -1.34164079],\n",
       "       [-0.4472136 , -0.4472136 , -0.4472136 ],\n",
       "       [ 0.4472136 ,  0.4472136 ,  0.4472136 ],\n",
       "       [ 1.34164079,  1.34164079,  1.34164079]])"
      ]
     },
     "execution_count": 2689,
     "metadata": {},
     "output_type": "execute_result"
    }
   ],
   "source": [
    "(a - a.mean(axis=0)) / a.std(axis=0)"
   ]
  },
  {
   "cell_type": "code",
   "execution_count": 2690,
   "id": "f0d84b35-a01e-4b1a-a4d5-428b4a1cc83b",
   "metadata": {},
   "outputs": [
    {
     "data": {
      "text/plain": [
       "array([[ 1.18344381, -0.44590868],\n",
       "       [ 0.35305993, -0.03219138],\n",
       "       [ 0.78492624,  0.3056839 ],\n",
       "       [-0.05014605,  0.02154613]])"
      ]
     },
     "execution_count": 2690,
     "metadata": {},
     "output_type": "execute_result"
    }
   ],
   "source": [
    "X = np.random.randn(4, 2)\n",
    "X"
   ]
  },
  {
   "cell_type": "code",
   "execution_count": 2691,
   "id": "ce41ba90-cc92-4bc9-bd6d-e79c4ef67ac0",
   "metadata": {},
   "outputs": [
    {
     "data": {
      "text/plain": [
       "array([3, 0])"
      ]
     },
     "execution_count": 2691,
     "metadata": {},
     "output_type": "execute_result"
    }
   ],
   "source": [
    "X.argmin(axis=0)"
   ]
  },
  {
   "cell_type": "code",
   "execution_count": 2692,
   "id": "be297788-9d11-41f8-a065-4e2f6646da45",
   "metadata": {},
   "outputs": [
    {
     "data": {
      "text/plain": [
       "array([1, 1, 1, 0])"
      ]
     },
     "execution_count": 2692,
     "metadata": {},
     "output_type": "execute_result"
    }
   ],
   "source": [
    "X.argmin(axis=1)"
   ]
  },
  {
   "cell_type": "code",
   "execution_count": 2693,
   "id": "087c24fd-c470-4dd5-a255-5f6539bd89be",
   "metadata": {},
   "outputs": [
    {
     "data": {
      "text/plain": [
       "array([ 0.56782098, -0.03771751])"
      ]
     },
     "execution_count": 2693,
     "metadata": {},
     "output_type": "execute_result"
    }
   ],
   "source": [
    "X.mean(axis=0)"
   ]
  },
  {
   "cell_type": "code",
   "execution_count": 2694,
   "id": "e1d8d387-ec10-4459-86f6-b57f5f05d607",
   "metadata": {},
   "outputs": [],
   "source": [
    "y = (X - X.mean(axis=0)) / X.std(axis=0)"
   ]
  },
  {
   "cell_type": "code",
   "execution_count": 2695,
   "id": "c0689ffe-6957-43fd-97af-0188b18ebe5f",
   "metadata": {},
   "outputs": [
    {
     "data": {
      "text/plain": [
       "array([[ 1.33223944, -1.52100823],\n",
       "       [-0.46475396,  0.02059155],\n",
       "       [ 0.46982693,  1.27958761],\n",
       "       [-1.33731241,  0.22082908]])"
      ]
     },
     "execution_count": 2695,
     "metadata": {},
     "output_type": "execute_result"
    }
   ],
   "source": [
    "y"
   ]
  },
  {
   "cell_type": "code",
   "execution_count": 2696,
   "id": "42f5d9a6-3227-45b5-b031-449317d9f39c",
   "metadata": {},
   "outputs": [
    {
     "data": {
      "text/plain": [
       "5.551115123125783e-17"
      ]
     },
     "execution_count": 2696,
     "metadata": {},
     "output_type": "execute_result"
    }
   ],
   "source": [
    "y.mean()"
   ]
  },
  {
   "cell_type": "code",
   "execution_count": 2697,
   "id": "78fa8c88-fbf0-4b5b-a548-372404354868",
   "metadata": {},
   "outputs": [
    {
     "data": {
      "text/plain": [
       "array([1.11022302e-16, 7.63278329e-17])"
      ]
     },
     "execution_count": 2697,
     "metadata": {},
     "output_type": "execute_result"
    }
   ],
   "source": [
    "y.mean(axis=0)"
   ]
  },
  {
   "cell_type": "code",
   "execution_count": 2698,
   "id": "0619d914-24b3-4aff-838e-d616985aa9cb",
   "metadata": {},
   "outputs": [
    {
     "data": {
      "text/plain": [
       "1.0"
      ]
     },
     "execution_count": 2698,
     "metadata": {},
     "output_type": "execute_result"
    }
   ],
   "source": [
    "y.std()"
   ]
  },
  {
   "cell_type": "code",
   "execution_count": 2699,
   "id": "5543b960-3e1e-439e-a598-d95d4a07fcb3",
   "metadata": {},
   "outputs": [],
   "source": [
    "import pandas as pd \n",
    "import numpy as np"
   ]
  },
  {
   "cell_type": "code",
   "execution_count": 2700,
   "id": "97912748-bd23-49aa-874e-7ee4f3936df1",
   "metadata": {},
   "outputs": [
    {
     "data": {
      "text/html": [
       "<div>\n",
       "<style scoped>\n",
       "    .dataframe tbody tr th:only-of-type {\n",
       "        vertical-align: middle;\n",
       "    }\n",
       "\n",
       "    .dataframe tbody tr th {\n",
       "        vertical-align: top;\n",
       "    }\n",
       "\n",
       "    .dataframe thead th {\n",
       "        text-align: right;\n",
       "    }\n",
       "</style>\n",
       "<table border=\"1\" class=\"dataframe\">\n",
       "  <thead>\n",
       "    <tr style=\"text-align: right;\">\n",
       "      <th></th>\n",
       "      <th>name</th>\n",
       "      <th>age</th>\n",
       "      <th>gender</th>\n",
       "      <th>job</th>\n",
       "    </tr>\n",
       "  </thead>\n",
       "  <tbody>\n",
       "    <tr>\n",
       "      <th>0</th>\n",
       "      <td>alice</td>\n",
       "      <td>19</td>\n",
       "      <td>F</td>\n",
       "      <td>student</td>\n",
       "    </tr>\n",
       "    <tr>\n",
       "      <th>1</th>\n",
       "      <td>john</td>\n",
       "      <td>26</td>\n",
       "      <td>M</td>\n",
       "      <td>student</td>\n",
       "    </tr>\n",
       "  </tbody>\n",
       "</table>\n",
       "</div>"
      ],
      "text/plain": [
       "    name  age gender      job\n",
       "0  alice   19      F  student\n",
       "1   john   26      M  student"
      ]
     },
     "execution_count": 2700,
     "metadata": {},
     "output_type": "execute_result"
    }
   ],
   "source": [
    "columns = ['name', 'age', 'gender', 'job']\n",
    "\n",
    "user1 = pd.DataFrame([['alice', 19, 'F', 'student'],\n",
    "                      ['john', 26, 'M', 'student']],\n",
    "                     columns=columns)\n",
    "\n",
    "user1"
   ]
  },
  {
   "cell_type": "code",
   "execution_count": 2701,
   "id": "291e123c-4de6-4a88-b2b3-2869eca712e6",
   "metadata": {},
   "outputs": [
    {
     "data": {
      "text/html": [
       "<div>\n",
       "<style scoped>\n",
       "    .dataframe tbody tr th:only-of-type {\n",
       "        vertical-align: middle;\n",
       "    }\n",
       "\n",
       "    .dataframe tbody tr th {\n",
       "        vertical-align: top;\n",
       "    }\n",
       "\n",
       "    .dataframe thead th {\n",
       "        text-align: right;\n",
       "    }\n",
       "</style>\n",
       "<table border=\"1\" class=\"dataframe\">\n",
       "  <thead>\n",
       "    <tr style=\"text-align: right;\">\n",
       "      <th></th>\n",
       "      <th>name</th>\n",
       "      <th>age</th>\n",
       "      <th>gender</th>\n",
       "      <th>job</th>\n",
       "    </tr>\n",
       "  </thead>\n",
       "  <tbody>\n",
       "    <tr>\n",
       "      <th>0</th>\n",
       "      <td>eric</td>\n",
       "      <td>22</td>\n",
       "      <td>M</td>\n",
       "      <td>student</td>\n",
       "    </tr>\n",
       "    <tr>\n",
       "      <th>1</th>\n",
       "      <td>paul</td>\n",
       "      <td>58</td>\n",
       "      <td>F</td>\n",
       "      <td>manager</td>\n",
       "    </tr>\n",
       "  </tbody>\n",
       "</table>\n",
       "</div>"
      ],
      "text/plain": [
       "   name  age gender      job\n",
       "0  eric   22      M  student\n",
       "1  paul   58      F  manager"
      ]
     },
     "execution_count": 2701,
     "metadata": {},
     "output_type": "execute_result"
    }
   ],
   "source": [
    "user2 = pd.DataFrame([['eric', 22, 'M', 'student'],\n",
    "                      ['paul', 58, 'F', 'manager']],\n",
    "                     columns=columns)\n",
    "user2"
   ]
  },
  {
   "cell_type": "code",
   "execution_count": 2702,
   "id": "a0eebe68-e0dc-4568-a758-dda9b747ac3a",
   "metadata": {},
   "outputs": [
    {
     "data": {
      "text/plain": [
       "{'name': ['peter', 'julie'],\n",
       " 'age': [33, 44],\n",
       " 'gender': ['M', 'F'],\n",
       " 'job': ['engineer', 'scientist']}"
      ]
     },
     "execution_count": 2702,
     "metadata": {},
     "output_type": "execute_result"
    }
   ],
   "source": [
    "dict(name=['peter', 'julie'],\n",
    "                          age=[33, 44],\n",
    "                          gender=['M', 'F'],\n",
    "                          job=['engineer', 'scientist'])"
   ]
  },
  {
   "cell_type": "code",
   "execution_count": 2703,
   "id": "4e40b39e-b224-4c25-9738-3d92b4a2c32b",
   "metadata": {},
   "outputs": [
    {
     "data": {
      "text/html": [
       "<div>\n",
       "<style scoped>\n",
       "    .dataframe tbody tr th:only-of-type {\n",
       "        vertical-align: middle;\n",
       "    }\n",
       "\n",
       "    .dataframe tbody tr th {\n",
       "        vertical-align: top;\n",
       "    }\n",
       "\n",
       "    .dataframe thead th {\n",
       "        text-align: right;\n",
       "    }\n",
       "</style>\n",
       "<table border=\"1\" class=\"dataframe\">\n",
       "  <thead>\n",
       "    <tr style=\"text-align: right;\">\n",
       "      <th></th>\n",
       "      <th>name</th>\n",
       "      <th>age</th>\n",
       "      <th>gender</th>\n",
       "      <th>job</th>\n",
       "    </tr>\n",
       "  </thead>\n",
       "  <tbody>\n",
       "    <tr>\n",
       "      <th>0</th>\n",
       "      <td>peter</td>\n",
       "      <td>33</td>\n",
       "      <td>M</td>\n",
       "      <td>engineer</td>\n",
       "    </tr>\n",
       "    <tr>\n",
       "      <th>1</th>\n",
       "      <td>julie</td>\n",
       "      <td>44</td>\n",
       "      <td>F</td>\n",
       "      <td>scientist</td>\n",
       "    </tr>\n",
       "  </tbody>\n",
       "</table>\n",
       "</div>"
      ],
      "text/plain": [
       "    name  age gender        job\n",
       "0  peter   33      M   engineer\n",
       "1  julie   44      F  scientist"
      ]
     },
     "execution_count": 2703,
     "metadata": {},
     "output_type": "execute_result"
    }
   ],
   "source": [
    "user3 = pd.DataFrame(dict(name=['peter', 'julie'],\n",
    "                          age=[33, 44],\n",
    "                          gender=['M', 'F'],\n",
    "                          job=['engineer', 'scientist']))\n",
    "\n",
    "user3"
   ]
  },
  {
   "cell_type": "code",
   "execution_count": 2704,
   "id": "ce69ea3f-f0de-4619-8dfa-9cbbe16e9f87",
   "metadata": {},
   "outputs": [
    {
     "data": {
      "text/html": [
       "<div>\n",
       "<style scoped>\n",
       "    .dataframe tbody tr th:only-of-type {\n",
       "        vertical-align: middle;\n",
       "    }\n",
       "\n",
       "    .dataframe tbody tr th {\n",
       "        vertical-align: top;\n",
       "    }\n",
       "\n",
       "    .dataframe thead th {\n",
       "        text-align: right;\n",
       "    }\n",
       "</style>\n",
       "<table border=\"1\" class=\"dataframe\">\n",
       "  <thead>\n",
       "    <tr style=\"text-align: right;\">\n",
       "      <th></th>\n",
       "      <th>height</th>\n",
       "    </tr>\n",
       "  </thead>\n",
       "  <tbody>\n",
       "    <tr>\n",
       "      <th>0</th>\n",
       "      <td>1.65</td>\n",
       "    </tr>\n",
       "    <tr>\n",
       "      <th>1</th>\n",
       "      <td>1.80</td>\n",
       "    </tr>\n",
       "  </tbody>\n",
       "</table>\n",
       "</div>"
      ],
      "text/plain": [
       "   height\n",
       "0    1.65\n",
       "1    1.80"
      ]
     },
     "execution_count": 2704,
     "metadata": {},
     "output_type": "execute_result"
    }
   ],
   "source": [
    "height = pd.DataFrame(dict(height=[1.65, 1.8]))\n",
    "height"
   ]
  },
  {
   "cell_type": "code",
   "execution_count": 2705,
   "id": "fe92e3b4-0bac-46c2-857b-f7e7c8a36f70",
   "metadata": {},
   "outputs": [
    {
     "data": {
      "text/html": [
       "<div>\n",
       "<style scoped>\n",
       "    .dataframe tbody tr th:only-of-type {\n",
       "        vertical-align: middle;\n",
       "    }\n",
       "\n",
       "    .dataframe tbody tr th {\n",
       "        vertical-align: top;\n",
       "    }\n",
       "\n",
       "    .dataframe thead th {\n",
       "        text-align: right;\n",
       "    }\n",
       "</style>\n",
       "<table border=\"1\" class=\"dataframe\">\n",
       "  <thead>\n",
       "    <tr style=\"text-align: right;\">\n",
       "      <th></th>\n",
       "      <th>name</th>\n",
       "      <th>age</th>\n",
       "      <th>gender</th>\n",
       "      <th>job</th>\n",
       "      <th>height</th>\n",
       "    </tr>\n",
       "  </thead>\n",
       "  <tbody>\n",
       "    <tr>\n",
       "      <th>0</th>\n",
       "      <td>alice</td>\n",
       "      <td>19</td>\n",
       "      <td>F</td>\n",
       "      <td>student</td>\n",
       "      <td>1.65</td>\n",
       "    </tr>\n",
       "    <tr>\n",
       "      <th>1</th>\n",
       "      <td>john</td>\n",
       "      <td>26</td>\n",
       "      <td>M</td>\n",
       "      <td>student</td>\n",
       "      <td>1.80</td>\n",
       "    </tr>\n",
       "  </tbody>\n",
       "</table>\n",
       "</div>"
      ],
      "text/plain": [
       "    name  age gender      job  height\n",
       "0  alice   19      F  student    1.65\n",
       "1   john   26      M  student    1.80"
      ]
     },
     "execution_count": 2705,
     "metadata": {},
     "output_type": "execute_result"
    }
   ],
   "source": [
    "pd.concat([user1, height], axis=1)"
   ]
  },
  {
   "cell_type": "code",
   "execution_count": 2706,
   "id": "730e19df-1f02-43bb-b82b-58d1e98fc280",
   "metadata": {},
   "outputs": [
    {
     "data": {
      "text/html": [
       "<div>\n",
       "<style scoped>\n",
       "    .dataframe tbody tr th:only-of-type {\n",
       "        vertical-align: middle;\n",
       "    }\n",
       "\n",
       "    .dataframe tbody tr th {\n",
       "        vertical-align: top;\n",
       "    }\n",
       "\n",
       "    .dataframe thead th {\n",
       "        text-align: right;\n",
       "    }\n",
       "</style>\n",
       "<table border=\"1\" class=\"dataframe\">\n",
       "  <thead>\n",
       "    <tr style=\"text-align: right;\">\n",
       "      <th></th>\n",
       "      <th>name</th>\n",
       "      <th>age</th>\n",
       "      <th>gender</th>\n",
       "      <th>job</th>\n",
       "    </tr>\n",
       "  </thead>\n",
       "  <tbody>\n",
       "    <tr>\n",
       "      <th>0</th>\n",
       "      <td>alice</td>\n",
       "      <td>19</td>\n",
       "      <td>F</td>\n",
       "      <td>student</td>\n",
       "    </tr>\n",
       "    <tr>\n",
       "      <th>1</th>\n",
       "      <td>john</td>\n",
       "      <td>26</td>\n",
       "      <td>M</td>\n",
       "      <td>student</td>\n",
       "    </tr>\n",
       "    <tr>\n",
       "      <th>0</th>\n",
       "      <td>eric</td>\n",
       "      <td>22</td>\n",
       "      <td>M</td>\n",
       "      <td>student</td>\n",
       "    </tr>\n",
       "    <tr>\n",
       "      <th>1</th>\n",
       "      <td>paul</td>\n",
       "      <td>58</td>\n",
       "      <td>F</td>\n",
       "      <td>manager</td>\n",
       "    </tr>\n",
       "    <tr>\n",
       "      <th>0</th>\n",
       "      <td>peter</td>\n",
       "      <td>33</td>\n",
       "      <td>M</td>\n",
       "      <td>engineer</td>\n",
       "    </tr>\n",
       "    <tr>\n",
       "      <th>1</th>\n",
       "      <td>julie</td>\n",
       "      <td>44</td>\n",
       "      <td>F</td>\n",
       "      <td>scientist</td>\n",
       "    </tr>\n",
       "  </tbody>\n",
       "</table>\n",
       "</div>"
      ],
      "text/plain": [
       "    name  age gender        job\n",
       "0  alice   19      F    student\n",
       "1   john   26      M    student\n",
       "0   eric   22      M    student\n",
       "1   paul   58      F    manager\n",
       "0  peter   33      M   engineer\n",
       "1  julie   44      F  scientist"
      ]
     },
     "execution_count": 2706,
     "metadata": {},
     "output_type": "execute_result"
    }
   ],
   "source": [
    "users = pd.concat([user1, user2, user3])\n",
    "users"
   ]
  },
  {
   "cell_type": "code",
   "execution_count": 2707,
   "id": "a8e362ed-c058-4686-8785-9a9e024c09af",
   "metadata": {},
   "outputs": [
    {
     "data": {
      "text/html": [
       "<div>\n",
       "<style scoped>\n",
       "    .dataframe tbody tr th:only-of-type {\n",
       "        vertical-align: middle;\n",
       "    }\n",
       "\n",
       "    .dataframe tbody tr th {\n",
       "        vertical-align: top;\n",
       "    }\n",
       "\n",
       "    .dataframe thead th {\n",
       "        text-align: right;\n",
       "    }\n",
       "</style>\n",
       "<table border=\"1\" class=\"dataframe\">\n",
       "  <thead>\n",
       "    <tr style=\"text-align: right;\">\n",
       "      <th></th>\n",
       "      <th>name</th>\n",
       "      <th>height</th>\n",
       "    </tr>\n",
       "  </thead>\n",
       "  <tbody>\n",
       "    <tr>\n",
       "      <th>0</th>\n",
       "      <td>alice</td>\n",
       "      <td>165</td>\n",
       "    </tr>\n",
       "    <tr>\n",
       "      <th>1</th>\n",
       "      <td>john</td>\n",
       "      <td>180</td>\n",
       "    </tr>\n",
       "    <tr>\n",
       "      <th>2</th>\n",
       "      <td>eric</td>\n",
       "      <td>175</td>\n",
       "    </tr>\n",
       "    <tr>\n",
       "      <th>3</th>\n",
       "      <td>julie</td>\n",
       "      <td>171</td>\n",
       "    </tr>\n",
       "  </tbody>\n",
       "</table>\n",
       "</div>"
      ],
      "text/plain": [
       "    name  height\n",
       "0  alice     165\n",
       "1   john     180\n",
       "2   eric     175\n",
       "3  julie     171"
      ]
     },
     "execution_count": 2707,
     "metadata": {},
     "output_type": "execute_result"
    }
   ],
   "source": [
    "user4 = pd.DataFrame(\n",
    "    dict(\n",
    "        name=['alice', 'john', 'eric', 'julie'],\n",
    "        height=[165, 180, 175, 171]\n",
    "    )\n",
    ")\n",
    "\n",
    "user4"
   ]
  },
  {
   "cell_type": "raw",
   "id": "f46462d5-9db2-474b-95ab-1c8122fe1bd2",
   "metadata": {},
   "source": [
    "users"
   ]
  },
  {
   "cell_type": "code",
   "execution_count": 2708,
   "id": "b6779b0d-6e37-4159-9b42-8fb7cf04e7c6",
   "metadata": {},
   "outputs": [
    {
     "data": {
      "text/html": [
       "<div>\n",
       "<style scoped>\n",
       "    .dataframe tbody tr th:only-of-type {\n",
       "        vertical-align: middle;\n",
       "    }\n",
       "\n",
       "    .dataframe tbody tr th {\n",
       "        vertical-align: top;\n",
       "    }\n",
       "\n",
       "    .dataframe thead th {\n",
       "        text-align: right;\n",
       "    }\n",
       "</style>\n",
       "<table border=\"1\" class=\"dataframe\">\n",
       "  <thead>\n",
       "    <tr style=\"text-align: right;\">\n",
       "      <th></th>\n",
       "      <th>name</th>\n",
       "      <th>age</th>\n",
       "      <th>gender</th>\n",
       "      <th>job</th>\n",
       "    </tr>\n",
       "  </thead>\n",
       "  <tbody>\n",
       "    <tr>\n",
       "      <th>0</th>\n",
       "      <td>alice</td>\n",
       "      <td>19</td>\n",
       "      <td>F</td>\n",
       "      <td>student</td>\n",
       "    </tr>\n",
       "    <tr>\n",
       "      <th>1</th>\n",
       "      <td>john</td>\n",
       "      <td>26</td>\n",
       "      <td>M</td>\n",
       "      <td>student</td>\n",
       "    </tr>\n",
       "    <tr>\n",
       "      <th>0</th>\n",
       "      <td>eric</td>\n",
       "      <td>22</td>\n",
       "      <td>M</td>\n",
       "      <td>student</td>\n",
       "    </tr>\n",
       "    <tr>\n",
       "      <th>1</th>\n",
       "      <td>paul</td>\n",
       "      <td>58</td>\n",
       "      <td>F</td>\n",
       "      <td>manager</td>\n",
       "    </tr>\n",
       "    <tr>\n",
       "      <th>0</th>\n",
       "      <td>peter</td>\n",
       "      <td>33</td>\n",
       "      <td>M</td>\n",
       "      <td>engineer</td>\n",
       "    </tr>\n",
       "    <tr>\n",
       "      <th>1</th>\n",
       "      <td>julie</td>\n",
       "      <td>44</td>\n",
       "      <td>F</td>\n",
       "      <td>scientist</td>\n",
       "    </tr>\n",
       "  </tbody>\n",
       "</table>\n",
       "</div>"
      ],
      "text/plain": [
       "    name  age gender        job\n",
       "0  alice   19      F    student\n",
       "1   john   26      M    student\n",
       "0   eric   22      M    student\n",
       "1   paul   58      F    manager\n",
       "0  peter   33      M   engineer\n",
       "1  julie   44      F  scientist"
      ]
     },
     "execution_count": 2708,
     "metadata": {},
     "output_type": "execute_result"
    }
   ],
   "source": [
    "users"
   ]
  },
  {
   "cell_type": "code",
   "execution_count": 2709,
   "id": "a07c1244-feea-4c42-9ad4-331dda678e50",
   "metadata": {},
   "outputs": [],
   "source": [
    "merge_inter = pd.merge(users, user4)"
   ]
  },
  {
   "cell_type": "code",
   "execution_count": 2710,
   "id": "e949d147-6af4-4e37-9bec-be1f8c122063",
   "metadata": {},
   "outputs": [
    {
     "data": {
      "text/html": [
       "<div>\n",
       "<style scoped>\n",
       "    .dataframe tbody tr th:only-of-type {\n",
       "        vertical-align: middle;\n",
       "    }\n",
       "\n",
       "    .dataframe tbody tr th {\n",
       "        vertical-align: top;\n",
       "    }\n",
       "\n",
       "    .dataframe thead th {\n",
       "        text-align: right;\n",
       "    }\n",
       "</style>\n",
       "<table border=\"1\" class=\"dataframe\">\n",
       "  <thead>\n",
       "    <tr style=\"text-align: right;\">\n",
       "      <th></th>\n",
       "      <th>name</th>\n",
       "      <th>age</th>\n",
       "      <th>gender</th>\n",
       "      <th>job</th>\n",
       "      <th>height</th>\n",
       "    </tr>\n",
       "  </thead>\n",
       "  <tbody>\n",
       "    <tr>\n",
       "      <th>0</th>\n",
       "      <td>alice</td>\n",
       "      <td>19</td>\n",
       "      <td>F</td>\n",
       "      <td>student</td>\n",
       "      <td>165</td>\n",
       "    </tr>\n",
       "    <tr>\n",
       "      <th>1</th>\n",
       "      <td>john</td>\n",
       "      <td>26</td>\n",
       "      <td>M</td>\n",
       "      <td>student</td>\n",
       "      <td>180</td>\n",
       "    </tr>\n",
       "    <tr>\n",
       "      <th>2</th>\n",
       "      <td>eric</td>\n",
       "      <td>22</td>\n",
       "      <td>M</td>\n",
       "      <td>student</td>\n",
       "      <td>175</td>\n",
       "    </tr>\n",
       "    <tr>\n",
       "      <th>3</th>\n",
       "      <td>julie</td>\n",
       "      <td>44</td>\n",
       "      <td>F</td>\n",
       "      <td>scientist</td>\n",
       "      <td>171</td>\n",
       "    </tr>\n",
       "  </tbody>\n",
       "</table>\n",
       "</div>"
      ],
      "text/plain": [
       "    name  age gender        job  height\n",
       "0  alice   19      F    student     165\n",
       "1   john   26      M    student     180\n",
       "2   eric   22      M    student     175\n",
       "3  julie   44      F  scientist     171"
      ]
     },
     "execution_count": 2710,
     "metadata": {},
     "output_type": "execute_result"
    }
   ],
   "source": [
    "merge_inter"
   ]
  },
  {
   "cell_type": "code",
   "execution_count": 2711,
   "id": "2473e733-1d7c-47d2-8454-55c3399e5196",
   "metadata": {},
   "outputs": [
    {
     "data": {
      "text/html": [
       "<div>\n",
       "<style scoped>\n",
       "    .dataframe tbody tr th:only-of-type {\n",
       "        vertical-align: middle;\n",
       "    }\n",
       "\n",
       "    .dataframe tbody tr th {\n",
       "        vertical-align: top;\n",
       "    }\n",
       "\n",
       "    .dataframe thead th {\n",
       "        text-align: right;\n",
       "    }\n",
       "</style>\n",
       "<table border=\"1\" class=\"dataframe\">\n",
       "  <thead>\n",
       "    <tr style=\"text-align: right;\">\n",
       "      <th></th>\n",
       "      <th>name</th>\n",
       "      <th>age</th>\n",
       "      <th>gender</th>\n",
       "      <th>job</th>\n",
       "      <th>height</th>\n",
       "    </tr>\n",
       "  </thead>\n",
       "  <tbody>\n",
       "    <tr>\n",
       "      <th>0</th>\n",
       "      <td>alice</td>\n",
       "      <td>19</td>\n",
       "      <td>F</td>\n",
       "      <td>student</td>\n",
       "      <td>165.0</td>\n",
       "    </tr>\n",
       "    <tr>\n",
       "      <th>1</th>\n",
       "      <td>eric</td>\n",
       "      <td>22</td>\n",
       "      <td>M</td>\n",
       "      <td>student</td>\n",
       "      <td>175.0</td>\n",
       "    </tr>\n",
       "    <tr>\n",
       "      <th>2</th>\n",
       "      <td>john</td>\n",
       "      <td>26</td>\n",
       "      <td>M</td>\n",
       "      <td>student</td>\n",
       "      <td>180.0</td>\n",
       "    </tr>\n",
       "    <tr>\n",
       "      <th>3</th>\n",
       "      <td>julie</td>\n",
       "      <td>44</td>\n",
       "      <td>F</td>\n",
       "      <td>scientist</td>\n",
       "      <td>171.0</td>\n",
       "    </tr>\n",
       "    <tr>\n",
       "      <th>4</th>\n",
       "      <td>paul</td>\n",
       "      <td>58</td>\n",
       "      <td>F</td>\n",
       "      <td>manager</td>\n",
       "      <td>NaN</td>\n",
       "    </tr>\n",
       "    <tr>\n",
       "      <th>5</th>\n",
       "      <td>peter</td>\n",
       "      <td>33</td>\n",
       "      <td>M</td>\n",
       "      <td>engineer</td>\n",
       "      <td>NaN</td>\n",
       "    </tr>\n",
       "  </tbody>\n",
       "</table>\n",
       "</div>"
      ],
      "text/plain": [
       "    name  age gender        job  height\n",
       "0  alice   19      F    student   165.0\n",
       "1   eric   22      M    student   175.0\n",
       "2   john   26      M    student   180.0\n",
       "3  julie   44      F  scientist   171.0\n",
       "4   paul   58      F    manager     NaN\n",
       "5  peter   33      M   engineer     NaN"
      ]
     },
     "execution_count": 2711,
     "metadata": {},
     "output_type": "execute_result"
    }
   ],
   "source": [
    "users = pd.merge(users, user4, on='name', how='outer')\n",
    "users"
   ]
  },
  {
   "cell_type": "code",
   "execution_count": 2712,
   "id": "817b7c86-31ce-4e74-849f-feb38f44f38c",
   "metadata": {},
   "outputs": [
    {
     "data": {
      "text/html": [
       "<div>\n",
       "<style scoped>\n",
       "    .dataframe tbody tr th:only-of-type {\n",
       "        vertical-align: middle;\n",
       "    }\n",
       "\n",
       "    .dataframe tbody tr th {\n",
       "        vertical-align: top;\n",
       "    }\n",
       "\n",
       "    .dataframe thead th {\n",
       "        text-align: right;\n",
       "    }\n",
       "</style>\n",
       "<table border=\"1\" class=\"dataframe\">\n",
       "  <thead>\n",
       "    <tr style=\"text-align: right;\">\n",
       "      <th></th>\n",
       "      <th>name</th>\n",
       "      <th>variable</th>\n",
       "      <th>value</th>\n",
       "    </tr>\n",
       "  </thead>\n",
       "  <tbody>\n",
       "    <tr>\n",
       "      <th>0</th>\n",
       "      <td>alice</td>\n",
       "      <td>age</td>\n",
       "      <td>19</td>\n",
       "    </tr>\n",
       "    <tr>\n",
       "      <th>1</th>\n",
       "      <td>eric</td>\n",
       "      <td>age</td>\n",
       "      <td>22</td>\n",
       "    </tr>\n",
       "    <tr>\n",
       "      <th>2</th>\n",
       "      <td>john</td>\n",
       "      <td>age</td>\n",
       "      <td>26</td>\n",
       "    </tr>\n",
       "    <tr>\n",
       "      <th>3</th>\n",
       "      <td>julie</td>\n",
       "      <td>age</td>\n",
       "      <td>44</td>\n",
       "    </tr>\n",
       "    <tr>\n",
       "      <th>4</th>\n",
       "      <td>paul</td>\n",
       "      <td>age</td>\n",
       "      <td>58</td>\n",
       "    </tr>\n",
       "    <tr>\n",
       "      <th>5</th>\n",
       "      <td>peter</td>\n",
       "      <td>age</td>\n",
       "      <td>33</td>\n",
       "    </tr>\n",
       "    <tr>\n",
       "      <th>6</th>\n",
       "      <td>alice</td>\n",
       "      <td>gender</td>\n",
       "      <td>F</td>\n",
       "    </tr>\n",
       "    <tr>\n",
       "      <th>7</th>\n",
       "      <td>eric</td>\n",
       "      <td>gender</td>\n",
       "      <td>M</td>\n",
       "    </tr>\n",
       "    <tr>\n",
       "      <th>8</th>\n",
       "      <td>john</td>\n",
       "      <td>gender</td>\n",
       "      <td>M</td>\n",
       "    </tr>\n",
       "    <tr>\n",
       "      <th>9</th>\n",
       "      <td>julie</td>\n",
       "      <td>gender</td>\n",
       "      <td>F</td>\n",
       "    </tr>\n",
       "    <tr>\n",
       "      <th>10</th>\n",
       "      <td>paul</td>\n",
       "      <td>gender</td>\n",
       "      <td>F</td>\n",
       "    </tr>\n",
       "    <tr>\n",
       "      <th>11</th>\n",
       "      <td>peter</td>\n",
       "      <td>gender</td>\n",
       "      <td>M</td>\n",
       "    </tr>\n",
       "    <tr>\n",
       "      <th>12</th>\n",
       "      <td>alice</td>\n",
       "      <td>job</td>\n",
       "      <td>student</td>\n",
       "    </tr>\n",
       "    <tr>\n",
       "      <th>13</th>\n",
       "      <td>eric</td>\n",
       "      <td>job</td>\n",
       "      <td>student</td>\n",
       "    </tr>\n",
       "    <tr>\n",
       "      <th>14</th>\n",
       "      <td>john</td>\n",
       "      <td>job</td>\n",
       "      <td>student</td>\n",
       "    </tr>\n",
       "    <tr>\n",
       "      <th>15</th>\n",
       "      <td>julie</td>\n",
       "      <td>job</td>\n",
       "      <td>scientist</td>\n",
       "    </tr>\n",
       "    <tr>\n",
       "      <th>16</th>\n",
       "      <td>paul</td>\n",
       "      <td>job</td>\n",
       "      <td>manager</td>\n",
       "    </tr>\n",
       "    <tr>\n",
       "      <th>17</th>\n",
       "      <td>peter</td>\n",
       "      <td>job</td>\n",
       "      <td>engineer</td>\n",
       "    </tr>\n",
       "    <tr>\n",
       "      <th>18</th>\n",
       "      <td>alice</td>\n",
       "      <td>height</td>\n",
       "      <td>165.0</td>\n",
       "    </tr>\n",
       "    <tr>\n",
       "      <th>19</th>\n",
       "      <td>eric</td>\n",
       "      <td>height</td>\n",
       "      <td>175.0</td>\n",
       "    </tr>\n",
       "    <tr>\n",
       "      <th>20</th>\n",
       "      <td>john</td>\n",
       "      <td>height</td>\n",
       "      <td>180.0</td>\n",
       "    </tr>\n",
       "    <tr>\n",
       "      <th>21</th>\n",
       "      <td>julie</td>\n",
       "      <td>height</td>\n",
       "      <td>171.0</td>\n",
       "    </tr>\n",
       "    <tr>\n",
       "      <th>22</th>\n",
       "      <td>paul</td>\n",
       "      <td>height</td>\n",
       "      <td>NaN</td>\n",
       "    </tr>\n",
       "    <tr>\n",
       "      <th>23</th>\n",
       "      <td>peter</td>\n",
       "      <td>height</td>\n",
       "      <td>NaN</td>\n",
       "    </tr>\n",
       "  </tbody>\n",
       "</table>\n",
       "</div>"
      ],
      "text/plain": [
       "     name variable      value\n",
       "0   alice      age         19\n",
       "1    eric      age         22\n",
       "2    john      age         26\n",
       "3   julie      age         44\n",
       "4    paul      age         58\n",
       "5   peter      age         33\n",
       "6   alice   gender          F\n",
       "7    eric   gender          M\n",
       "8    john   gender          M\n",
       "9   julie   gender          F\n",
       "10   paul   gender          F\n",
       "11  peter   gender          M\n",
       "12  alice      job    student\n",
       "13   eric      job    student\n",
       "14   john      job    student\n",
       "15  julie      job  scientist\n",
       "16   paul      job    manager\n",
       "17  peter      job   engineer\n",
       "18  alice   height      165.0\n",
       "19   eric   height      175.0\n",
       "20   john   height      180.0\n",
       "21  julie   height      171.0\n",
       "22   paul   height        NaN\n",
       "23  peter   height        NaN"
      ]
     },
     "execution_count": 2712,
     "metadata": {},
     "output_type": "execute_result"
    }
   ],
   "source": [
    "staked = pd.melt(users, id_vars='name',  var_name='variable', value_name='value')\n",
    "staked"
   ]
  },
  {
   "cell_type": "code",
   "execution_count": 2713,
   "id": "81305a74-9553-4dd1-b29f-f9b0a852e3dd",
   "metadata": {},
   "outputs": [
    {
     "data": {
      "text/html": [
       "<div>\n",
       "<style scoped>\n",
       "    .dataframe tbody tr th:only-of-type {\n",
       "        vertical-align: middle;\n",
       "    }\n",
       "\n",
       "    .dataframe tbody tr th {\n",
       "        vertical-align: top;\n",
       "    }\n",
       "\n",
       "    .dataframe thead th {\n",
       "        text-align: right;\n",
       "    }\n",
       "</style>\n",
       "<table border=\"1\" class=\"dataframe\">\n",
       "  <thead>\n",
       "    <tr style=\"text-align: right;\">\n",
       "      <th>variable</th>\n",
       "      <th>age</th>\n",
       "      <th>gender</th>\n",
       "      <th>height</th>\n",
       "      <th>job</th>\n",
       "    </tr>\n",
       "    <tr>\n",
       "      <th>name</th>\n",
       "      <th></th>\n",
       "      <th></th>\n",
       "      <th></th>\n",
       "      <th></th>\n",
       "    </tr>\n",
       "  </thead>\n",
       "  <tbody>\n",
       "    <tr>\n",
       "      <th>alice</th>\n",
       "      <td>19</td>\n",
       "      <td>F</td>\n",
       "      <td>165.0</td>\n",
       "      <td>student</td>\n",
       "    </tr>\n",
       "    <tr>\n",
       "      <th>eric</th>\n",
       "      <td>22</td>\n",
       "      <td>M</td>\n",
       "      <td>175.0</td>\n",
       "      <td>student</td>\n",
       "    </tr>\n",
       "    <tr>\n",
       "      <th>john</th>\n",
       "      <td>26</td>\n",
       "      <td>M</td>\n",
       "      <td>180.0</td>\n",
       "      <td>student</td>\n",
       "    </tr>\n",
       "    <tr>\n",
       "      <th>julie</th>\n",
       "      <td>44</td>\n",
       "      <td>F</td>\n",
       "      <td>171.0</td>\n",
       "      <td>scientist</td>\n",
       "    </tr>\n",
       "    <tr>\n",
       "      <th>paul</th>\n",
       "      <td>58</td>\n",
       "      <td>F</td>\n",
       "      <td>NaN</td>\n",
       "      <td>manager</td>\n",
       "    </tr>\n",
       "    <tr>\n",
       "      <th>peter</th>\n",
       "      <td>33</td>\n",
       "      <td>M</td>\n",
       "      <td>NaN</td>\n",
       "      <td>engineer</td>\n",
       "    </tr>\n",
       "  </tbody>\n",
       "</table>\n",
       "</div>"
      ],
      "text/plain": [
       "variable age gender height        job\n",
       "name                                 \n",
       "alice     19      F  165.0    student\n",
       "eric      22      M  175.0    student\n",
       "john      26      M  180.0    student\n",
       "julie     44      F  171.0  scientist\n",
       "paul      58      F    NaN    manager\n",
       "peter     33      M    NaN   engineer"
      ]
     },
     "execution_count": 2713,
     "metadata": {},
     "output_type": "execute_result"
    }
   ],
   "source": [
    "staked.pivot(index='name', columns='variable', values='value')"
   ]
  },
  {
   "cell_type": "code",
   "execution_count": 2714,
   "id": "84f2e01f-cbc0-4951-ac5a-15f175b19856",
   "metadata": {},
   "outputs": [
    {
     "data": {
      "text/html": [
       "<div>\n",
       "<style scoped>\n",
       "    .dataframe tbody tr th:only-of-type {\n",
       "        vertical-align: middle;\n",
       "    }\n",
       "\n",
       "    .dataframe tbody tr th {\n",
       "        vertical-align: top;\n",
       "    }\n",
       "\n",
       "    .dataframe thead th {\n",
       "        text-align: right;\n",
       "    }\n",
       "</style>\n",
       "<table border=\"1\" class=\"dataframe\">\n",
       "  <thead>\n",
       "    <tr style=\"text-align: right;\">\n",
       "      <th></th>\n",
       "      <th>name</th>\n",
       "      <th>age</th>\n",
       "      <th>gender</th>\n",
       "      <th>job</th>\n",
       "      <th>height</th>\n",
       "    </tr>\n",
       "  </thead>\n",
       "  <tbody>\n",
       "    <tr>\n",
       "      <th>0</th>\n",
       "      <td>alice</td>\n",
       "      <td>19</td>\n",
       "      <td>F</td>\n",
       "      <td>student</td>\n",
       "      <td>165.0</td>\n",
       "    </tr>\n",
       "    <tr>\n",
       "      <th>1</th>\n",
       "      <td>eric</td>\n",
       "      <td>22</td>\n",
       "      <td>M</td>\n",
       "      <td>student</td>\n",
       "      <td>175.0</td>\n",
       "    </tr>\n",
       "    <tr>\n",
       "      <th>2</th>\n",
       "      <td>john</td>\n",
       "      <td>26</td>\n",
       "      <td>M</td>\n",
       "      <td>student</td>\n",
       "      <td>180.0</td>\n",
       "    </tr>\n",
       "    <tr>\n",
       "      <th>3</th>\n",
       "      <td>julie</td>\n",
       "      <td>44</td>\n",
       "      <td>F</td>\n",
       "      <td>scientist</td>\n",
       "      <td>171.0</td>\n",
       "    </tr>\n",
       "    <tr>\n",
       "      <th>4</th>\n",
       "      <td>paul</td>\n",
       "      <td>58</td>\n",
       "      <td>F</td>\n",
       "      <td>manager</td>\n",
       "      <td>NaN</td>\n",
       "    </tr>\n",
       "    <tr>\n",
       "      <th>5</th>\n",
       "      <td>peter</td>\n",
       "      <td>33</td>\n",
       "      <td>M</td>\n",
       "      <td>engineer</td>\n",
       "      <td>NaN</td>\n",
       "    </tr>\n",
       "  </tbody>\n",
       "</table>\n",
       "</div>"
      ],
      "text/plain": [
       "    name  age gender        job  height\n",
       "0  alice   19      F    student   165.0\n",
       "1   eric   22      M    student   175.0\n",
       "2   john   26      M    student   180.0\n",
       "3  julie   44      F  scientist   171.0\n",
       "4   paul   58      F    manager     NaN\n",
       "5  peter   33      M   engineer     NaN"
      ]
     },
     "execution_count": 2714,
     "metadata": {},
     "output_type": "execute_result"
    }
   ],
   "source": [
    "users"
   ]
  },
  {
   "cell_type": "code",
   "execution_count": 2715,
   "id": "5b550e35-d4ef-41b4-9d0f-ecabac400818",
   "metadata": {},
   "outputs": [
    {
     "data": {
      "text/plain": [
       "pandas.core.frame.DataFrame"
      ]
     },
     "execution_count": 2715,
     "metadata": {},
     "output_type": "execute_result"
    }
   ],
   "source": [
    "type(users)"
   ]
  },
  {
   "cell_type": "code",
   "execution_count": 2716,
   "id": "b348a2c4-1130-4a57-93d8-1b3f365296e7",
   "metadata": {},
   "outputs": [
    {
     "data": {
      "text/html": [
       "<div>\n",
       "<style scoped>\n",
       "    .dataframe tbody tr th:only-of-type {\n",
       "        vertical-align: middle;\n",
       "    }\n",
       "\n",
       "    .dataframe tbody tr th {\n",
       "        vertical-align: top;\n",
       "    }\n",
       "\n",
       "    .dataframe thead th {\n",
       "        text-align: right;\n",
       "    }\n",
       "</style>\n",
       "<table border=\"1\" class=\"dataframe\">\n",
       "  <thead>\n",
       "    <tr style=\"text-align: right;\">\n",
       "      <th></th>\n",
       "      <th>name</th>\n",
       "      <th>age</th>\n",
       "      <th>gender</th>\n",
       "      <th>job</th>\n",
       "      <th>height</th>\n",
       "    </tr>\n",
       "  </thead>\n",
       "  <tbody>\n",
       "    <tr>\n",
       "      <th>0</th>\n",
       "      <td>alice</td>\n",
       "      <td>19</td>\n",
       "      <td>F</td>\n",
       "      <td>student</td>\n",
       "      <td>165.0</td>\n",
       "    </tr>\n",
       "    <tr>\n",
       "      <th>1</th>\n",
       "      <td>eric</td>\n",
       "      <td>22</td>\n",
       "      <td>M</td>\n",
       "      <td>student</td>\n",
       "      <td>175.0</td>\n",
       "    </tr>\n",
       "    <tr>\n",
       "      <th>2</th>\n",
       "      <td>john</td>\n",
       "      <td>26</td>\n",
       "      <td>M</td>\n",
       "      <td>student</td>\n",
       "      <td>180.0</td>\n",
       "    </tr>\n",
       "    <tr>\n",
       "      <th>3</th>\n",
       "      <td>julie</td>\n",
       "      <td>44</td>\n",
       "      <td>F</td>\n",
       "      <td>scientist</td>\n",
       "      <td>171.0</td>\n",
       "    </tr>\n",
       "    <tr>\n",
       "      <th>4</th>\n",
       "      <td>paul</td>\n",
       "      <td>58</td>\n",
       "      <td>F</td>\n",
       "      <td>manager</td>\n",
       "      <td>NaN</td>\n",
       "    </tr>\n",
       "  </tbody>\n",
       "</table>\n",
       "</div>"
      ],
      "text/plain": [
       "    name  age gender        job  height\n",
       "0  alice   19      F    student   165.0\n",
       "1   eric   22      M    student   175.0\n",
       "2   john   26      M    student   180.0\n",
       "3  julie   44      F  scientist   171.0\n",
       "4   paul   58      F    manager     NaN"
      ]
     },
     "execution_count": 2716,
     "metadata": {},
     "output_type": "execute_result"
    }
   ],
   "source": [
    "users.head()"
   ]
  },
  {
   "cell_type": "code",
   "execution_count": 2717,
   "id": "d6bebb12-7223-41c6-a3f7-53346e250f4e",
   "metadata": {},
   "outputs": [
    {
     "data": {
      "text/html": [
       "<div>\n",
       "<style scoped>\n",
       "    .dataframe tbody tr th:only-of-type {\n",
       "        vertical-align: middle;\n",
       "    }\n",
       "\n",
       "    .dataframe tbody tr th {\n",
       "        vertical-align: top;\n",
       "    }\n",
       "\n",
       "    .dataframe thead th {\n",
       "        text-align: right;\n",
       "    }\n",
       "</style>\n",
       "<table border=\"1\" class=\"dataframe\">\n",
       "  <thead>\n",
       "    <tr style=\"text-align: right;\">\n",
       "      <th></th>\n",
       "      <th>name</th>\n",
       "      <th>age</th>\n",
       "      <th>gender</th>\n",
       "      <th>job</th>\n",
       "      <th>height</th>\n",
       "    </tr>\n",
       "  </thead>\n",
       "  <tbody>\n",
       "    <tr>\n",
       "      <th>1</th>\n",
       "      <td>eric</td>\n",
       "      <td>22</td>\n",
       "      <td>M</td>\n",
       "      <td>student</td>\n",
       "      <td>175.0</td>\n",
       "    </tr>\n",
       "    <tr>\n",
       "      <th>2</th>\n",
       "      <td>john</td>\n",
       "      <td>26</td>\n",
       "      <td>M</td>\n",
       "      <td>student</td>\n",
       "      <td>180.0</td>\n",
       "    </tr>\n",
       "    <tr>\n",
       "      <th>3</th>\n",
       "      <td>julie</td>\n",
       "      <td>44</td>\n",
       "      <td>F</td>\n",
       "      <td>scientist</td>\n",
       "      <td>171.0</td>\n",
       "    </tr>\n",
       "    <tr>\n",
       "      <th>4</th>\n",
       "      <td>paul</td>\n",
       "      <td>58</td>\n",
       "      <td>F</td>\n",
       "      <td>manager</td>\n",
       "      <td>NaN</td>\n",
       "    </tr>\n",
       "    <tr>\n",
       "      <th>5</th>\n",
       "      <td>peter</td>\n",
       "      <td>33</td>\n",
       "      <td>M</td>\n",
       "      <td>engineer</td>\n",
       "      <td>NaN</td>\n",
       "    </tr>\n",
       "  </tbody>\n",
       "</table>\n",
       "</div>"
      ],
      "text/plain": [
       "    name  age gender        job  height\n",
       "1   eric   22      M    student   175.0\n",
       "2   john   26      M    student   180.0\n",
       "3  julie   44      F  scientist   171.0\n",
       "4   paul   58      F    manager     NaN\n",
       "5  peter   33      M   engineer     NaN"
      ]
     },
     "execution_count": 2717,
     "metadata": {},
     "output_type": "execute_result"
    }
   ],
   "source": [
    "users.tail()"
   ]
  },
  {
   "cell_type": "code",
   "execution_count": 2718,
   "id": "0a354218-8a2d-4cfd-a193-509d72d90c5c",
   "metadata": {},
   "outputs": [
    {
     "data": {
      "text/html": [
       "<div>\n",
       "<style scoped>\n",
       "    .dataframe tbody tr th:only-of-type {\n",
       "        vertical-align: middle;\n",
       "    }\n",
       "\n",
       "    .dataframe tbody tr th {\n",
       "        vertical-align: top;\n",
       "    }\n",
       "\n",
       "    .dataframe thead th {\n",
       "        text-align: right;\n",
       "    }\n",
       "</style>\n",
       "<table border=\"1\" class=\"dataframe\">\n",
       "  <thead>\n",
       "    <tr style=\"text-align: right;\">\n",
       "      <th></th>\n",
       "      <th>name</th>\n",
       "      <th>age</th>\n",
       "      <th>gender</th>\n",
       "      <th>job</th>\n",
       "      <th>height</th>\n",
       "    </tr>\n",
       "  </thead>\n",
       "  <tbody>\n",
       "    <tr>\n",
       "      <th>count</th>\n",
       "      <td>6</td>\n",
       "      <td>6.000000</td>\n",
       "      <td>6</td>\n",
       "      <td>6</td>\n",
       "      <td>4.000000</td>\n",
       "    </tr>\n",
       "    <tr>\n",
       "      <th>unique</th>\n",
       "      <td>6</td>\n",
       "      <td>NaN</td>\n",
       "      <td>2</td>\n",
       "      <td>4</td>\n",
       "      <td>NaN</td>\n",
       "    </tr>\n",
       "    <tr>\n",
       "      <th>top</th>\n",
       "      <td>alice</td>\n",
       "      <td>NaN</td>\n",
       "      <td>F</td>\n",
       "      <td>student</td>\n",
       "      <td>NaN</td>\n",
       "    </tr>\n",
       "    <tr>\n",
       "      <th>freq</th>\n",
       "      <td>1</td>\n",
       "      <td>NaN</td>\n",
       "      <td>3</td>\n",
       "      <td>3</td>\n",
       "      <td>NaN</td>\n",
       "    </tr>\n",
       "    <tr>\n",
       "      <th>mean</th>\n",
       "      <td>NaN</td>\n",
       "      <td>33.666667</td>\n",
       "      <td>NaN</td>\n",
       "      <td>NaN</td>\n",
       "      <td>172.750000</td>\n",
       "    </tr>\n",
       "    <tr>\n",
       "      <th>std</th>\n",
       "      <td>NaN</td>\n",
       "      <td>14.895189</td>\n",
       "      <td>NaN</td>\n",
       "      <td>NaN</td>\n",
       "      <td>6.344289</td>\n",
       "    </tr>\n",
       "    <tr>\n",
       "      <th>min</th>\n",
       "      <td>NaN</td>\n",
       "      <td>19.000000</td>\n",
       "      <td>NaN</td>\n",
       "      <td>NaN</td>\n",
       "      <td>165.000000</td>\n",
       "    </tr>\n",
       "    <tr>\n",
       "      <th>25%</th>\n",
       "      <td>NaN</td>\n",
       "      <td>23.000000</td>\n",
       "      <td>NaN</td>\n",
       "      <td>NaN</td>\n",
       "      <td>169.500000</td>\n",
       "    </tr>\n",
       "    <tr>\n",
       "      <th>50%</th>\n",
       "      <td>NaN</td>\n",
       "      <td>29.500000</td>\n",
       "      <td>NaN</td>\n",
       "      <td>NaN</td>\n",
       "      <td>173.000000</td>\n",
       "    </tr>\n",
       "    <tr>\n",
       "      <th>75%</th>\n",
       "      <td>NaN</td>\n",
       "      <td>41.250000</td>\n",
       "      <td>NaN</td>\n",
       "      <td>NaN</td>\n",
       "      <td>176.250000</td>\n",
       "    </tr>\n",
       "    <tr>\n",
       "      <th>max</th>\n",
       "      <td>NaN</td>\n",
       "      <td>58.000000</td>\n",
       "      <td>NaN</td>\n",
       "      <td>NaN</td>\n",
       "      <td>180.000000</td>\n",
       "    </tr>\n",
       "  </tbody>\n",
       "</table>\n",
       "</div>"
      ],
      "text/plain": [
       "         name        age gender      job      height\n",
       "count       6   6.000000      6        6    4.000000\n",
       "unique      6        NaN      2        4         NaN\n",
       "top     alice        NaN      F  student         NaN\n",
       "freq        1        NaN      3        3         NaN\n",
       "mean      NaN  33.666667    NaN      NaN  172.750000\n",
       "std       NaN  14.895189    NaN      NaN    6.344289\n",
       "min       NaN  19.000000    NaN      NaN  165.000000\n",
       "25%       NaN  23.000000    NaN      NaN  169.500000\n",
       "50%       NaN  29.500000    NaN      NaN  173.000000\n",
       "75%       NaN  41.250000    NaN      NaN  176.250000\n",
       "max       NaN  58.000000    NaN      NaN  180.000000"
      ]
     },
     "execution_count": 2718,
     "metadata": {},
     "output_type": "execute_result"
    }
   ],
   "source": [
    "users.describe(include='all')"
   ]
  },
  {
   "cell_type": "code",
   "execution_count": 2719,
   "id": "86825a72-c78f-49e0-b9c4-b841392ed35a",
   "metadata": {},
   "outputs": [
    {
     "data": {
      "text/plain": [
       "RangeIndex(start=0, stop=6, step=1)"
      ]
     },
     "execution_count": 2719,
     "metadata": {},
     "output_type": "execute_result"
    }
   ],
   "source": [
    "users.index"
   ]
  },
  {
   "cell_type": "code",
   "execution_count": 2720,
   "id": "35ce63e8-ba16-472f-96cf-0838c2f8b611",
   "metadata": {},
   "outputs": [
    {
     "data": {
      "text/plain": [
       "Index(['name', 'age', 'gender', 'job', 'height'], dtype='object')"
      ]
     },
     "execution_count": 2720,
     "metadata": {},
     "output_type": "execute_result"
    }
   ],
   "source": [
    "users.columns"
   ]
  },
  {
   "cell_type": "code",
   "execution_count": 2721,
   "id": "5f42a33f-df95-4f95-b6a8-53fa35a49e14",
   "metadata": {},
   "outputs": [
    {
     "data": {
      "text/plain": [
       "name       object\n",
       "age         int64\n",
       "gender     object\n",
       "job        object\n",
       "height    float64\n",
       "dtype: object"
      ]
     },
     "execution_count": 2721,
     "metadata": {},
     "output_type": "execute_result"
    }
   ],
   "source": [
    "users.dtypes"
   ]
  },
  {
   "cell_type": "code",
   "execution_count": 2722,
   "id": "b9e8d81a-5677-4bda-bdb4-cf30369e61f6",
   "metadata": {},
   "outputs": [
    {
     "data": {
      "text/plain": [
       "array([['alice', 19, 'F', 'student', 165.0],\n",
       "       ['eric', 22, 'M', 'student', 175.0],\n",
       "       ['john', 26, 'M', 'student', 180.0],\n",
       "       ['julie', 44, 'F', 'scientist', 171.0],\n",
       "       ['paul', 58, 'F', 'manager', nan],\n",
       "       ['peter', 33, 'M', 'engineer', nan]], dtype=object)"
      ]
     },
     "execution_count": 2722,
     "metadata": {},
     "output_type": "execute_result"
    }
   ],
   "source": [
    "users.values"
   ]
  },
  {
   "cell_type": "code",
   "execution_count": 2723,
   "id": "aabf9bf5-19de-4405-8d99-65a386b656aa",
   "metadata": {},
   "outputs": [
    {
     "data": {
      "text/plain": [
       "(6, 5)"
      ]
     },
     "execution_count": 2723,
     "metadata": {},
     "output_type": "execute_result"
    }
   ],
   "source": [
    "users.shape"
   ]
  },
  {
   "cell_type": "code",
   "execution_count": 2724,
   "id": "d869241f-8dfb-46e5-b91d-1fdbce7b6dc7",
   "metadata": {},
   "outputs": [
    {
     "data": {
      "text/plain": [
       "0    F\n",
       "1    M\n",
       "2    M\n",
       "3    F\n",
       "4    F\n",
       "5    M\n",
       "Name: gender, dtype: object"
      ]
     },
     "execution_count": 2724,
     "metadata": {},
     "output_type": "execute_result"
    }
   ],
   "source": [
    "users['gender']"
   ]
  },
  {
   "cell_type": "code",
   "execution_count": 2725,
   "id": "d4da5c97-d74e-4024-a1ef-b3fe90b510f1",
   "metadata": {},
   "outputs": [
    {
     "data": {
      "text/plain": [
       "pandas.core.series.Series"
      ]
     },
     "execution_count": 2725,
     "metadata": {},
     "output_type": "execute_result"
    }
   ],
   "source": [
    "type(users['gender'])"
   ]
  },
  {
   "cell_type": "code",
   "execution_count": 2726,
   "id": "36bc4d79-ae1c-4977-8e1c-91105a01cdf9",
   "metadata": {},
   "outputs": [
    {
     "data": {
      "text/plain": [
       "dtype('O')"
      ]
     },
     "execution_count": 2726,
     "metadata": {},
     "output_type": "execute_result"
    }
   ],
   "source": [
    "users.gender.dtype"
   ]
  },
  {
   "cell_type": "code",
   "execution_count": 2727,
   "id": "0625bcfe-01ae-4a37-9fff-e9d67f4e0c60",
   "metadata": {},
   "outputs": [
    {
     "data": {
      "text/html": [
       "<div>\n",
       "<style scoped>\n",
       "    .dataframe tbody tr th:only-of-type {\n",
       "        vertical-align: middle;\n",
       "    }\n",
       "\n",
       "    .dataframe tbody tr th {\n",
       "        vertical-align: top;\n",
       "    }\n",
       "\n",
       "    .dataframe thead th {\n",
       "        text-align: right;\n",
       "    }\n",
       "</style>\n",
       "<table border=\"1\" class=\"dataframe\">\n",
       "  <thead>\n",
       "    <tr style=\"text-align: right;\">\n",
       "      <th></th>\n",
       "      <th>age</th>\n",
       "      <th>gender</th>\n",
       "    </tr>\n",
       "  </thead>\n",
       "  <tbody>\n",
       "    <tr>\n",
       "      <th>0</th>\n",
       "      <td>19</td>\n",
       "      <td>F</td>\n",
       "    </tr>\n",
       "    <tr>\n",
       "      <th>1</th>\n",
       "      <td>22</td>\n",
       "      <td>M</td>\n",
       "    </tr>\n",
       "    <tr>\n",
       "      <th>2</th>\n",
       "      <td>26</td>\n",
       "      <td>M</td>\n",
       "    </tr>\n",
       "    <tr>\n",
       "      <th>3</th>\n",
       "      <td>44</td>\n",
       "      <td>F</td>\n",
       "    </tr>\n",
       "    <tr>\n",
       "      <th>4</th>\n",
       "      <td>58</td>\n",
       "      <td>F</td>\n",
       "    </tr>\n",
       "    <tr>\n",
       "      <th>5</th>\n",
       "      <td>33</td>\n",
       "      <td>M</td>\n",
       "    </tr>\n",
       "  </tbody>\n",
       "</table>\n",
       "</div>"
      ],
      "text/plain": [
       "   age gender\n",
       "0   19      F\n",
       "1   22      M\n",
       "2   26      M\n",
       "3   44      F\n",
       "4   58      F\n",
       "5   33      M"
      ]
     },
     "execution_count": 2727,
     "metadata": {},
     "output_type": "execute_result"
    }
   ],
   "source": [
    "users[['age', 'gender']]\n"
   ]
  },
  {
   "cell_type": "code",
   "execution_count": 2728,
   "id": "ff69fcad-833e-4d29-9933-141e0bfe9c9a",
   "metadata": {},
   "outputs": [],
   "source": [
    "my_cols = ['age', 'gender']"
   ]
  },
  {
   "cell_type": "code",
   "execution_count": 2729,
   "id": "30cf4c82-0b3c-4d77-bb23-74142a1e6708",
   "metadata": {},
   "outputs": [
    {
     "data": {
      "text/html": [
       "<div>\n",
       "<style scoped>\n",
       "    .dataframe tbody tr th:only-of-type {\n",
       "        vertical-align: middle;\n",
       "    }\n",
       "\n",
       "    .dataframe tbody tr th {\n",
       "        vertical-align: top;\n",
       "    }\n",
       "\n",
       "    .dataframe thead th {\n",
       "        text-align: right;\n",
       "    }\n",
       "</style>\n",
       "<table border=\"1\" class=\"dataframe\">\n",
       "  <thead>\n",
       "    <tr style=\"text-align: right;\">\n",
       "      <th></th>\n",
       "      <th>age</th>\n",
       "      <th>gender</th>\n",
       "    </tr>\n",
       "  </thead>\n",
       "  <tbody>\n",
       "    <tr>\n",
       "      <th>0</th>\n",
       "      <td>19</td>\n",
       "      <td>F</td>\n",
       "    </tr>\n",
       "    <tr>\n",
       "      <th>1</th>\n",
       "      <td>22</td>\n",
       "      <td>M</td>\n",
       "    </tr>\n",
       "    <tr>\n",
       "      <th>2</th>\n",
       "      <td>26</td>\n",
       "      <td>M</td>\n",
       "    </tr>\n",
       "    <tr>\n",
       "      <th>3</th>\n",
       "      <td>44</td>\n",
       "      <td>F</td>\n",
       "    </tr>\n",
       "    <tr>\n",
       "      <th>4</th>\n",
       "      <td>58</td>\n",
       "      <td>F</td>\n",
       "    </tr>\n",
       "    <tr>\n",
       "      <th>5</th>\n",
       "      <td>33</td>\n",
       "      <td>M</td>\n",
       "    </tr>\n",
       "  </tbody>\n",
       "</table>\n",
       "</div>"
      ],
      "text/plain": [
       "   age gender\n",
       "0   19      F\n",
       "1   22      M\n",
       "2   26      M\n",
       "3   44      F\n",
       "4   58      F\n",
       "5   33      M"
      ]
     },
     "execution_count": 2729,
     "metadata": {},
     "output_type": "execute_result"
    }
   ],
   "source": [
    "users[my_cols]"
   ]
  },
  {
   "cell_type": "code",
   "execution_count": 2730,
   "id": "cb688e41-3527-42bc-bc91-53d368aff8c6",
   "metadata": {},
   "outputs": [
    {
     "data": {
      "text/plain": [
       "pandas.core.frame.DataFrame"
      ]
     },
     "execution_count": 2730,
     "metadata": {},
     "output_type": "execute_result"
    }
   ],
   "source": [
    "type(users[my_cols])"
   ]
  },
  {
   "cell_type": "code",
   "execution_count": 2731,
   "id": "aa07ff80-0aa0-4f5e-934b-604ea254a941",
   "metadata": {},
   "outputs": [
    {
     "data": {
      "text/plain": [
       "age        int64\n",
       "gender    object\n",
       "dtype: object"
      ]
     },
     "execution_count": 2731,
     "metadata": {},
     "output_type": "execute_result"
    }
   ],
   "source": [
    "users[my_cols].dtypes"
   ]
  },
  {
   "cell_type": "code",
   "execution_count": 2732,
   "id": "51b89323-c04a-41ed-8fe7-a7302827cb70",
   "metadata": {},
   "outputs": [
    {
     "data": {
      "text/html": [
       "<div>\n",
       "<style scoped>\n",
       "    .dataframe tbody tr th:only-of-type {\n",
       "        vertical-align: middle;\n",
       "    }\n",
       "\n",
       "    .dataframe tbody tr th {\n",
       "        vertical-align: top;\n",
       "    }\n",
       "\n",
       "    .dataframe thead th {\n",
       "        text-align: right;\n",
       "    }\n",
       "</style>\n",
       "<table border=\"1\" class=\"dataframe\">\n",
       "  <thead>\n",
       "    <tr style=\"text-align: right;\">\n",
       "      <th></th>\n",
       "      <th>name</th>\n",
       "      <th>age</th>\n",
       "      <th>gender</th>\n",
       "      <th>job</th>\n",
       "      <th>height</th>\n",
       "    </tr>\n",
       "  </thead>\n",
       "  <tbody>\n",
       "    <tr>\n",
       "      <th>0</th>\n",
       "      <td>alice</td>\n",
       "      <td>19</td>\n",
       "      <td>F</td>\n",
       "      <td>student</td>\n",
       "      <td>165.0</td>\n",
       "    </tr>\n",
       "    <tr>\n",
       "      <th>1</th>\n",
       "      <td>eric</td>\n",
       "      <td>22</td>\n",
       "      <td>M</td>\n",
       "      <td>student</td>\n",
       "      <td>175.0</td>\n",
       "    </tr>\n",
       "    <tr>\n",
       "      <th>2</th>\n",
       "      <td>john</td>\n",
       "      <td>26</td>\n",
       "      <td>M</td>\n",
       "      <td>student</td>\n",
       "      <td>180.0</td>\n",
       "    </tr>\n",
       "    <tr>\n",
       "      <th>3</th>\n",
       "      <td>julie</td>\n",
       "      <td>44</td>\n",
       "      <td>F</td>\n",
       "      <td>scientist</td>\n",
       "      <td>171.0</td>\n",
       "    </tr>\n",
       "    <tr>\n",
       "      <th>4</th>\n",
       "      <td>paul</td>\n",
       "      <td>58</td>\n",
       "      <td>F</td>\n",
       "      <td>manager</td>\n",
       "      <td>NaN</td>\n",
       "    </tr>\n",
       "    <tr>\n",
       "      <th>5</th>\n",
       "      <td>peter</td>\n",
       "      <td>33</td>\n",
       "      <td>M</td>\n",
       "      <td>engineer</td>\n",
       "      <td>NaN</td>\n",
       "    </tr>\n",
       "  </tbody>\n",
       "</table>\n",
       "</div>"
      ],
      "text/plain": [
       "    name  age gender        job  height\n",
       "0  alice   19      F    student   165.0\n",
       "1   eric   22      M    student   175.0\n",
       "2   john   26      M    student   180.0\n",
       "3  julie   44      F  scientist   171.0\n",
       "4   paul   58      F    manager     NaN\n",
       "5  peter   33      M   engineer     NaN"
      ]
     },
     "execution_count": 2732,
     "metadata": {},
     "output_type": "execute_result"
    }
   ],
   "source": [
    "df = users.copy()\n",
    "df"
   ]
  },
  {
   "cell_type": "code",
   "execution_count": 2733,
   "id": "4062b574-c137-445c-8df1-04f4e533ddfa",
   "metadata": {},
   "outputs": [
    {
     "data": {
      "text/plain": [
       "name        alice\n",
       "age            19\n",
       "gender          F\n",
       "job       student\n",
       "height      165.0\n",
       "Name: 0, dtype: object"
      ]
     },
     "execution_count": 2733,
     "metadata": {},
     "output_type": "execute_result"
    }
   ],
   "source": [
    "df.iloc[0]"
   ]
  },
  {
   "cell_type": "code",
   "execution_count": 2734,
   "id": "301e9a41-b0ee-4b83-9dd1-2ee5c20241a7",
   "metadata": {},
   "outputs": [
    {
     "data": {
      "text/plain": [
       "name        alice\n",
       "age            19\n",
       "gender          F\n",
       "job       student\n",
       "height      165.0\n",
       "Name: 0, dtype: object"
      ]
     },
     "execution_count": 2734,
     "metadata": {},
     "output_type": "execute_result"
    }
   ],
   "source": [
    "df.loc[0]"
   ]
  },
  {
   "cell_type": "code",
   "execution_count": 2735,
   "id": "7f951f03-d409-4965-b1ff-bb64eced7d59",
   "metadata": {},
   "outputs": [
    {
     "data": {
      "text/plain": [
       "name        alice\n",
       "age            19\n",
       "gender          F\n",
       "job       student\n",
       "height      165.0\n",
       "Name: 0, dtype: object"
      ]
     },
     "execution_count": 2735,
     "metadata": {},
     "output_type": "execute_result"
    }
   ],
   "source": [
    "df.iloc[0, :]"
   ]
  },
  {
   "cell_type": "code",
   "execution_count": 2736,
   "id": "e73fa06d-38fb-4949-9c91-1989e989bb2f",
   "metadata": {},
   "outputs": [
    {
     "data": {
      "text/plain": [
       "'alice'"
      ]
     },
     "execution_count": 2736,
     "metadata": {},
     "output_type": "execute_result"
    }
   ],
   "source": [
    "df.iloc[0, 0]"
   ]
  },
  {
   "cell_type": "code",
   "execution_count": 2737,
   "id": "efe95136-b89b-4645-865f-b750db5e42c1",
   "metadata": {},
   "outputs": [
    {
     "data": {
      "text/plain": [
       "'alice'"
      ]
     },
     "execution_count": 2737,
     "metadata": {},
     "output_type": "execute_result"
    }
   ],
   "source": [
    "df.loc[0, 'name']"
   ]
  },
  {
   "cell_type": "code",
   "execution_count": 2738,
   "id": "7fcb3e35-74f1-44fc-abfc-a87d3d42fa6f",
   "metadata": {},
   "outputs": [
    {
     "data": {
      "text/plain": [
       "'alice'"
      ]
     },
     "execution_count": 2738,
     "metadata": {},
     "output_type": "execute_result"
    }
   ],
   "source": [
    "df.iloc[0, 0]"
   ]
  },
  {
   "cell_type": "code",
   "execution_count": 2739,
   "id": "b73cb4c1-09f6-4465-a821-fbeb522eaca2",
   "metadata": {},
   "outputs": [],
   "source": [
    "df.iloc[0, 0] = 55"
   ]
  },
  {
   "cell_type": "code",
   "execution_count": 2740,
   "id": "4f074a34-3079-47ba-8780-74c3ecd918c3",
   "metadata": {},
   "outputs": [
    {
     "data": {
      "text/html": [
       "<div>\n",
       "<style scoped>\n",
       "    .dataframe tbody tr th:only-of-type {\n",
       "        vertical-align: middle;\n",
       "    }\n",
       "\n",
       "    .dataframe tbody tr th {\n",
       "        vertical-align: top;\n",
       "    }\n",
       "\n",
       "    .dataframe thead th {\n",
       "        text-align: right;\n",
       "    }\n",
       "</style>\n",
       "<table border=\"1\" class=\"dataframe\">\n",
       "  <thead>\n",
       "    <tr style=\"text-align: right;\">\n",
       "      <th></th>\n",
       "      <th>name</th>\n",
       "      <th>age</th>\n",
       "      <th>gender</th>\n",
       "      <th>job</th>\n",
       "      <th>height</th>\n",
       "    </tr>\n",
       "  </thead>\n",
       "  <tbody>\n",
       "    <tr>\n",
       "      <th>0</th>\n",
       "      <td>55</td>\n",
       "      <td>19</td>\n",
       "      <td>F</td>\n",
       "      <td>student</td>\n",
       "      <td>165.0</td>\n",
       "    </tr>\n",
       "    <tr>\n",
       "      <th>1</th>\n",
       "      <td>eric</td>\n",
       "      <td>22</td>\n",
       "      <td>M</td>\n",
       "      <td>student</td>\n",
       "      <td>175.0</td>\n",
       "    </tr>\n",
       "    <tr>\n",
       "      <th>2</th>\n",
       "      <td>john</td>\n",
       "      <td>26</td>\n",
       "      <td>M</td>\n",
       "      <td>student</td>\n",
       "      <td>180.0</td>\n",
       "    </tr>\n",
       "    <tr>\n",
       "      <th>3</th>\n",
       "      <td>julie</td>\n",
       "      <td>44</td>\n",
       "      <td>F</td>\n",
       "      <td>scientist</td>\n",
       "      <td>171.0</td>\n",
       "    </tr>\n",
       "    <tr>\n",
       "      <th>4</th>\n",
       "      <td>paul</td>\n",
       "      <td>58</td>\n",
       "      <td>F</td>\n",
       "      <td>manager</td>\n",
       "      <td>NaN</td>\n",
       "    </tr>\n",
       "    <tr>\n",
       "      <th>5</th>\n",
       "      <td>peter</td>\n",
       "      <td>33</td>\n",
       "      <td>M</td>\n",
       "      <td>engineer</td>\n",
       "      <td>NaN</td>\n",
       "    </tr>\n",
       "  </tbody>\n",
       "</table>\n",
       "</div>"
      ],
      "text/plain": [
       "    name  age gender        job  height\n",
       "0     55   19      F    student   165.0\n",
       "1   eric   22      M    student   175.0\n",
       "2   john   26      M    student   180.0\n",
       "3  julie   44      F  scientist   171.0\n",
       "4   paul   58      F    manager     NaN\n",
       "5  peter   33      M   engineer     NaN"
      ]
     },
     "execution_count": 2740,
     "metadata": {},
     "output_type": "execute_result"
    }
   ],
   "source": [
    "df\n"
   ]
  },
  {
   "cell_type": "code",
   "execution_count": 2741,
   "id": "6d63c0b5-3179-4532-b9d5-2c16848b8e20",
   "metadata": {},
   "outputs": [
    {
     "data": {
      "text/html": [
       "<div>\n",
       "<style scoped>\n",
       "    .dataframe tbody tr th:only-of-type {\n",
       "        vertical-align: middle;\n",
       "    }\n",
       "\n",
       "    .dataframe tbody tr th {\n",
       "        vertical-align: top;\n",
       "    }\n",
       "\n",
       "    .dataframe thead th {\n",
       "        text-align: right;\n",
       "    }\n",
       "</style>\n",
       "<table border=\"1\" class=\"dataframe\">\n",
       "  <thead>\n",
       "    <tr style=\"text-align: right;\">\n",
       "      <th></th>\n",
       "      <th>name</th>\n",
       "      <th>age</th>\n",
       "      <th>gender</th>\n",
       "      <th>job</th>\n",
       "      <th>height</th>\n",
       "    </tr>\n",
       "  </thead>\n",
       "  <tbody>\n",
       "    <tr>\n",
       "      <th>0</th>\n",
       "      <td>alice</td>\n",
       "      <td>19</td>\n",
       "      <td>F</td>\n",
       "      <td>student</td>\n",
       "      <td>165.0</td>\n",
       "    </tr>\n",
       "    <tr>\n",
       "      <th>3</th>\n",
       "      <td>julie</td>\n",
       "      <td>44</td>\n",
       "      <td>F</td>\n",
       "      <td>scientist</td>\n",
       "      <td>171.0</td>\n",
       "    </tr>\n",
       "    <tr>\n",
       "      <th>4</th>\n",
       "      <td>paul</td>\n",
       "      <td>58</td>\n",
       "      <td>F</td>\n",
       "      <td>manager</td>\n",
       "      <td>NaN</td>\n",
       "    </tr>\n",
       "  </tbody>\n",
       "</table>\n",
       "</div>"
      ],
      "text/plain": [
       "    name  age gender        job  height\n",
       "0  alice   19      F    student   165.0\n",
       "3  julie   44      F  scientist   171.0\n",
       "4   paul   58      F    manager     NaN"
      ]
     },
     "execution_count": 2741,
     "metadata": {},
     "output_type": "execute_result"
    }
   ],
   "source": [
    "df = users[users.gender == 'F']\n",
    "df"
   ]
  },
  {
   "cell_type": "code",
   "execution_count": 2742,
   "id": "09bb9c00-ea7e-4a5f-a9ee-ddd58ea1e591",
   "metadata": {},
   "outputs": [
    {
     "data": {
      "text/html": [
       "<div>\n",
       "<style scoped>\n",
       "    .dataframe tbody tr th:only-of-type {\n",
       "        vertical-align: middle;\n",
       "    }\n",
       "\n",
       "    .dataframe tbody tr th {\n",
       "        vertical-align: top;\n",
       "    }\n",
       "\n",
       "    .dataframe thead th {\n",
       "        text-align: right;\n",
       "    }\n",
       "</style>\n",
       "<table border=\"1\" class=\"dataframe\">\n",
       "  <thead>\n",
       "    <tr style=\"text-align: right;\">\n",
       "      <th></th>\n",
       "      <th>name</th>\n",
       "      <th>age</th>\n",
       "      <th>gender</th>\n",
       "      <th>job</th>\n",
       "      <th>height</th>\n",
       "    </tr>\n",
       "  </thead>\n",
       "  <tbody>\n",
       "    <tr>\n",
       "      <th>0</th>\n",
       "      <td>alice</td>\n",
       "      <td>19</td>\n",
       "      <td>F</td>\n",
       "      <td>student</td>\n",
       "      <td>165.0</td>\n",
       "    </tr>\n",
       "    <tr>\n",
       "      <th>3</th>\n",
       "      <td>julie</td>\n",
       "      <td>44</td>\n",
       "      <td>F</td>\n",
       "      <td>scientist</td>\n",
       "      <td>171.0</td>\n",
       "    </tr>\n",
       "  </tbody>\n",
       "</table>\n",
       "</div>"
      ],
      "text/plain": [
       "    name  age gender        job  height\n",
       "0  alice   19      F    student   165.0\n",
       "3  julie   44      F  scientist   171.0"
      ]
     },
     "execution_count": 2742,
     "metadata": {},
     "output_type": "execute_result"
    }
   ],
   "source": [
    "df.iloc[[0, 1]]"
   ]
  },
  {
   "cell_type": "code",
   "execution_count": 2743,
   "id": "d187d8c4-ff5f-4195-889f-8c39d0bb3708",
   "metadata": {},
   "outputs": [
    {
     "data": {
      "text/html": [
       "<div>\n",
       "<style scoped>\n",
       "    .dataframe tbody tr th:only-of-type {\n",
       "        vertical-align: middle;\n",
       "    }\n",
       "\n",
       "    .dataframe tbody tr th {\n",
       "        vertical-align: top;\n",
       "    }\n",
       "\n",
       "    .dataframe thead th {\n",
       "        text-align: right;\n",
       "    }\n",
       "</style>\n",
       "<table border=\"1\" class=\"dataframe\">\n",
       "  <thead>\n",
       "    <tr style=\"text-align: right;\">\n",
       "      <th></th>\n",
       "      <th>name</th>\n",
       "      <th>age</th>\n",
       "      <th>gender</th>\n",
       "      <th>job</th>\n",
       "      <th>height</th>\n",
       "    </tr>\n",
       "  </thead>\n",
       "  <tbody>\n",
       "    <tr>\n",
       "      <th>0</th>\n",
       "      <td>alice</td>\n",
       "      <td>19</td>\n",
       "      <td>F</td>\n",
       "      <td>student</td>\n",
       "      <td>165.0</td>\n",
       "    </tr>\n",
       "    <tr>\n",
       "      <th>3</th>\n",
       "      <td>julie</td>\n",
       "      <td>44</td>\n",
       "      <td>F</td>\n",
       "      <td>scientist</td>\n",
       "      <td>171.0</td>\n",
       "    </tr>\n",
       "  </tbody>\n",
       "</table>\n",
       "</div>"
      ],
      "text/plain": [
       "    name  age gender        job  height\n",
       "0  alice   19      F    student   165.0\n",
       "3  julie   44      F  scientist   171.0"
      ]
     },
     "execution_count": 2743,
     "metadata": {},
     "output_type": "execute_result"
    }
   ],
   "source": [
    "df.iloc[[0, 1], :]"
   ]
  },
  {
   "cell_type": "code",
   "execution_count": 2744,
   "id": "e5b8ca6f-a02a-439e-a38a-d80402dd390c",
   "metadata": {},
   "outputs": [
    {
     "name": "stdout",
     "output_type": "stream",
     "text": [
      "'[1] not in index'\n"
     ]
    }
   ],
   "source": [
    "try:\n",
    "    df.loc[[0, 1], :] # Failed\n",
    "except KeyError as err:\n",
    "    print(err)"
   ]
  },
  {
   "cell_type": "code",
   "execution_count": 2745,
   "id": "c8d7c3e1-630a-4f9a-aae4-90446a43feaa",
   "metadata": {},
   "outputs": [
    {
     "data": {
      "text/html": [
       "<div>\n",
       "<style scoped>\n",
       "    .dataframe tbody tr th:only-of-type {\n",
       "        vertical-align: middle;\n",
       "    }\n",
       "\n",
       "    .dataframe tbody tr th {\n",
       "        vertical-align: top;\n",
       "    }\n",
       "\n",
       "    .dataframe thead th {\n",
       "        text-align: right;\n",
       "    }\n",
       "</style>\n",
       "<table border=\"1\" class=\"dataframe\">\n",
       "  <thead>\n",
       "    <tr style=\"text-align: right;\">\n",
       "      <th></th>\n",
       "      <th>name</th>\n",
       "      <th>age</th>\n",
       "      <th>gender</th>\n",
       "      <th>job</th>\n",
       "      <th>height</th>\n",
       "    </tr>\n",
       "  </thead>\n",
       "  <tbody>\n",
       "    <tr>\n",
       "      <th>0</th>\n",
       "      <td>alice</td>\n",
       "      <td>19</td>\n",
       "      <td>F</td>\n",
       "      <td>student</td>\n",
       "      <td>165.0</td>\n",
       "    </tr>\n",
       "    <tr>\n",
       "      <th>1</th>\n",
       "      <td>julie</td>\n",
       "      <td>44</td>\n",
       "      <td>F</td>\n",
       "      <td>scientist</td>\n",
       "      <td>171.0</td>\n",
       "    </tr>\n",
       "    <tr>\n",
       "      <th>2</th>\n",
       "      <td>paul</td>\n",
       "      <td>58</td>\n",
       "      <td>F</td>\n",
       "      <td>manager</td>\n",
       "      <td>NaN</td>\n",
       "    </tr>\n",
       "  </tbody>\n",
       "</table>\n",
       "</div>"
      ],
      "text/plain": [
       "    name  age gender        job  height\n",
       "0  alice   19      F    student   165.0\n",
       "1  julie   44      F  scientist   171.0\n",
       "2   paul   58      F    manager     NaN"
      ]
     },
     "execution_count": 2745,
     "metadata": {},
     "output_type": "execute_result"
    }
   ],
   "source": [
    "df = df.reset_index(drop=True)\n",
    "df"
   ]
  },
  {
   "cell_type": "code",
   "execution_count": 2746,
   "id": "27e65fa1-3bd5-47a3-8f4f-f1e66509ac51",
   "metadata": {},
   "outputs": [
    {
     "name": "stderr",
     "output_type": "stream",
     "text": [
      "/home/aaron-joel/anaconda3/lib/python3.12/site-packages/IPython/core/displayhook.py:281: UserWarning: Output cache limit (currently 1000 entries) hit.\n",
      "Flushing oldest 200 entries.\n",
      "  warn('Output cache limit (currently {sz} entries) hit.\\n'\n"
     ]
    },
    {
     "data": {
      "text/html": [
       "<div>\n",
       "<style scoped>\n",
       "    .dataframe tbody tr th:only-of-type {\n",
       "        vertical-align: middle;\n",
       "    }\n",
       "\n",
       "    .dataframe tbody tr th {\n",
       "        vertical-align: top;\n",
       "    }\n",
       "\n",
       "    .dataframe thead th {\n",
       "        text-align: right;\n",
       "    }\n",
       "</style>\n",
       "<table border=\"1\" class=\"dataframe\">\n",
       "  <thead>\n",
       "    <tr style=\"text-align: right;\">\n",
       "      <th></th>\n",
       "      <th>name</th>\n",
       "      <th>age</th>\n",
       "      <th>gender</th>\n",
       "      <th>job</th>\n",
       "      <th>height</th>\n",
       "    </tr>\n",
       "  </thead>\n",
       "  <tbody>\n",
       "    <tr>\n",
       "      <th>0</th>\n",
       "      <td>alice</td>\n",
       "      <td>19</td>\n",
       "      <td>F</td>\n",
       "      <td>student</td>\n",
       "      <td>165.0</td>\n",
       "    </tr>\n",
       "    <tr>\n",
       "      <th>1</th>\n",
       "      <td>julie</td>\n",
       "      <td>44</td>\n",
       "      <td>F</td>\n",
       "      <td>scientist</td>\n",
       "      <td>171.0</td>\n",
       "    </tr>\n",
       "  </tbody>\n",
       "</table>\n",
       "</div>"
      ],
      "text/plain": [
       "    name  age gender        job  height\n",
       "0  alice   19      F    student   165.0\n",
       "1  julie   44      F  scientist   171.0"
      ]
     },
     "execution_count": 2746,
     "metadata": {},
     "output_type": "execute_result"
    }
   ],
   "source": [
    "df.loc[[0, 1], :]"
   ]
  },
  {
   "cell_type": "code",
   "execution_count": 2747,
   "id": "433c2cf0-f17e-4f19-b82d-628a4da74ea5",
   "metadata": {},
   "outputs": [
    {
     "data": {
      "text/html": [
       "<div>\n",
       "<style scoped>\n",
       "    .dataframe tbody tr th:only-of-type {\n",
       "        vertical-align: middle;\n",
       "    }\n",
       "\n",
       "    .dataframe tbody tr th {\n",
       "        vertical-align: top;\n",
       "    }\n",
       "\n",
       "    .dataframe thead th {\n",
       "        text-align: right;\n",
       "    }\n",
       "</style>\n",
       "<table border=\"1\" class=\"dataframe\">\n",
       "  <thead>\n",
       "    <tr style=\"text-align: right;\">\n",
       "      <th></th>\n",
       "      <th>name</th>\n",
       "      <th>age</th>\n",
       "      <th>gender</th>\n",
       "      <th>job</th>\n",
       "      <th>height</th>\n",
       "    </tr>\n",
       "  </thead>\n",
       "  <tbody>\n",
       "    <tr>\n",
       "      <th>0</th>\n",
       "      <td>alice</td>\n",
       "      <td>19</td>\n",
       "      <td>F</td>\n",
       "      <td>student</td>\n",
       "      <td>165.0</td>\n",
       "    </tr>\n",
       "    <tr>\n",
       "      <th>1</th>\n",
       "      <td>eric</td>\n",
       "      <td>22</td>\n",
       "      <td>M</td>\n",
       "      <td>student</td>\n",
       "      <td>175.0</td>\n",
       "    </tr>\n",
       "  </tbody>\n",
       "</table>\n",
       "</div>"
      ],
      "text/plain": [
       "    name  age gender      job  height\n",
       "0  alice   19      F  student   165.0\n",
       "1   eric   22      M  student   175.0"
      ]
     },
     "execution_count": 2747,
     "metadata": {},
     "output_type": "execute_result"
    }
   ],
   "source": [
    "df = users[:2].copy()\n",
    "df"
   ]
  },
  {
   "cell_type": "code",
   "execution_count": 2748,
   "id": "aa5f2b43-64b8-4e81-9751-f951176dde16",
   "metadata": {},
   "outputs": [
    {
     "name": "stdout",
     "output_type": "stream",
     "text": [
      "alice 19\n",
      "eric 22\n"
     ]
    }
   ],
   "source": [
    "for idx, row in df.iterrows():\n",
    "    print(row['name'], row['age'])"
   ]
  },
  {
   "cell_type": "code",
   "execution_count": 2749,
   "id": "5cd8aced-efab-4daf-b744-e3ebda907fe2",
   "metadata": {},
   "outputs": [
    {
     "name": "stdout",
     "output_type": "stream",
     "text": [
      "alice 19\n",
      "eric 22\n"
     ]
    }
   ],
   "source": [
    "for tup in df.itertuples():\n",
    "    print(tup[1], tup[2])"
   ]
  },
  {
   "cell_type": "code",
   "execution_count": 2750,
   "id": "fa417efb-1757-4ec7-a3ae-bb72774621a2",
   "metadata": {},
   "outputs": [
    {
     "name": "stdout",
     "output_type": "stream",
     "text": [
      "Pandas(Index=0, name='alice', age=19, gender='F', job='student', height=165.0)\n",
      "Pandas(Index=1, name='eric', age=22, gender='M', job='student', height=175.0)\n"
     ]
    }
   ],
   "source": [
    "for tup in df.itertuples():\n",
    "    print(tup)"
   ]
  },
  {
   "cell_type": "code",
   "execution_count": 2751,
   "id": "53603e67-a082-4e32-b49b-93ee7cd25564",
   "metadata": {},
   "outputs": [],
   "source": [
    "for i in range(df.shape[0]):\n",
    "    df.loc[i, 'age'] *= 10"
   ]
  },
  {
   "cell_type": "code",
   "execution_count": 2752,
   "id": "e30e354b-259f-471c-80c0-b61f0caf0f29",
   "metadata": {},
   "outputs": [
    {
     "data": {
      "text/html": [
       "<div>\n",
       "<style scoped>\n",
       "    .dataframe tbody tr th:only-of-type {\n",
       "        vertical-align: middle;\n",
       "    }\n",
       "\n",
       "    .dataframe tbody tr th {\n",
       "        vertical-align: top;\n",
       "    }\n",
       "\n",
       "    .dataframe thead th {\n",
       "        text-align: right;\n",
       "    }\n",
       "</style>\n",
       "<table border=\"1\" class=\"dataframe\">\n",
       "  <thead>\n",
       "    <tr style=\"text-align: right;\">\n",
       "      <th></th>\n",
       "      <th>name</th>\n",
       "      <th>age</th>\n",
       "      <th>gender</th>\n",
       "      <th>job</th>\n",
       "      <th>height</th>\n",
       "    </tr>\n",
       "  </thead>\n",
       "  <tbody>\n",
       "    <tr>\n",
       "      <th>0</th>\n",
       "      <td>alice</td>\n",
       "      <td>190</td>\n",
       "      <td>F</td>\n",
       "      <td>student</td>\n",
       "      <td>165.0</td>\n",
       "    </tr>\n",
       "    <tr>\n",
       "      <th>1</th>\n",
       "      <td>eric</td>\n",
       "      <td>220</td>\n",
       "      <td>M</td>\n",
       "      <td>student</td>\n",
       "      <td>175.0</td>\n",
       "    </tr>\n",
       "  </tbody>\n",
       "</table>\n",
       "</div>"
      ],
      "text/plain": [
       "    name  age gender      job  height\n",
       "0  alice  190      F  student   165.0\n",
       "1   eric  220      M  student   175.0"
      ]
     },
     "execution_count": 2752,
     "metadata": {},
     "output_type": "execute_result"
    }
   ],
   "source": [
    "df"
   ]
  },
  {
   "cell_type": "code",
   "execution_count": 2753,
   "id": "d456f14f-2200-4747-a128-65a96616578c",
   "metadata": {},
   "outputs": [
    {
     "data": {
      "text/html": [
       "<div>\n",
       "<style scoped>\n",
       "    .dataframe tbody tr th:only-of-type {\n",
       "        vertical-align: middle;\n",
       "    }\n",
       "\n",
       "    .dataframe tbody tr th {\n",
       "        vertical-align: top;\n",
       "    }\n",
       "\n",
       "    .dataframe thead th {\n",
       "        text-align: right;\n",
       "    }\n",
       "</style>\n",
       "<table border=\"1\" class=\"dataframe\">\n",
       "  <thead>\n",
       "    <tr style=\"text-align: right;\">\n",
       "      <th></th>\n",
       "      <th>name</th>\n",
       "      <th>age</th>\n",
       "      <th>gender</th>\n",
       "      <th>job</th>\n",
       "      <th>height</th>\n",
       "    </tr>\n",
       "  </thead>\n",
       "  <tbody>\n",
       "    <tr>\n",
       "      <th>0</th>\n",
       "      <td>alice</td>\n",
       "      <td>19</td>\n",
       "      <td>F</td>\n",
       "      <td>student</td>\n",
       "      <td>165.0</td>\n",
       "    </tr>\n",
       "  </tbody>\n",
       "</table>\n",
       "</div>"
      ],
      "text/plain": [
       "    name  age gender      job  height\n",
       "0  alice   19      F  student   165.0"
      ]
     },
     "execution_count": 2753,
     "metadata": {},
     "output_type": "execute_result"
    }
   ],
   "source": [
    "users[users.age < 20]"
   ]
  },
  {
   "cell_type": "code",
   "execution_count": 2754,
   "id": "da5b545f-542e-468a-b958-6649bdac3d1f",
   "metadata": {},
   "outputs": [
    {
     "data": {
      "text/plain": [
       "0     True\n",
       "1    False\n",
       "2    False\n",
       "3    False\n",
       "4    False\n",
       "5    False\n",
       "Name: age, dtype: bool"
      ]
     },
     "execution_count": 2754,
     "metadata": {},
     "output_type": "execute_result"
    }
   ],
   "source": [
    "young_bool = users.age < 20\n",
    "young_bool"
   ]
  },
  {
   "cell_type": "code",
   "execution_count": 2755,
   "id": "69949cd2-3c94-423a-ada3-ec9ea1f742b6",
   "metadata": {},
   "outputs": [
    {
     "data": {
      "text/html": [
       "<div>\n",
       "<style scoped>\n",
       "    .dataframe tbody tr th:only-of-type {\n",
       "        vertical-align: middle;\n",
       "    }\n",
       "\n",
       "    .dataframe tbody tr th {\n",
       "        vertical-align: top;\n",
       "    }\n",
       "\n",
       "    .dataframe thead th {\n",
       "        text-align: right;\n",
       "    }\n",
       "</style>\n",
       "<table border=\"1\" class=\"dataframe\">\n",
       "  <thead>\n",
       "    <tr style=\"text-align: right;\">\n",
       "      <th></th>\n",
       "      <th>name</th>\n",
       "      <th>age</th>\n",
       "      <th>gender</th>\n",
       "      <th>job</th>\n",
       "      <th>height</th>\n",
       "    </tr>\n",
       "  </thead>\n",
       "  <tbody>\n",
       "    <tr>\n",
       "      <th>0</th>\n",
       "      <td>alice</td>\n",
       "      <td>19</td>\n",
       "      <td>F</td>\n",
       "      <td>student</td>\n",
       "      <td>165.0</td>\n",
       "    </tr>\n",
       "  </tbody>\n",
       "</table>\n",
       "</div>"
      ],
      "text/plain": [
       "    name  age gender      job  height\n",
       "0  alice   19      F  student   165.0"
      ]
     },
     "execution_count": 2755,
     "metadata": {},
     "output_type": "execute_result"
    }
   ],
   "source": [
    "young = users[young_bool]\n",
    "young"
   ]
  },
  {
   "cell_type": "code",
   "execution_count": 2756,
   "id": "616eebb5-9aee-463a-b018-7924e8d833f6",
   "metadata": {},
   "outputs": [
    {
     "data": {
      "text/html": [
       "<div>\n",
       "<style scoped>\n",
       "    .dataframe tbody tr th:only-of-type {\n",
       "        vertical-align: middle;\n",
       "    }\n",
       "\n",
       "    .dataframe tbody tr th {\n",
       "        vertical-align: top;\n",
       "    }\n",
       "\n",
       "    .dataframe thead th {\n",
       "        text-align: right;\n",
       "    }\n",
       "</style>\n",
       "<table border=\"1\" class=\"dataframe\">\n",
       "  <thead>\n",
       "    <tr style=\"text-align: right;\">\n",
       "      <th></th>\n",
       "      <th>name</th>\n",
       "      <th>age</th>\n",
       "      <th>gender</th>\n",
       "      <th>job</th>\n",
       "      <th>height</th>\n",
       "    </tr>\n",
       "  </thead>\n",
       "  <tbody>\n",
       "    <tr>\n",
       "      <th>0</th>\n",
       "      <td>alice</td>\n",
       "      <td>19</td>\n",
       "      <td>F</td>\n",
       "      <td>student</td>\n",
       "      <td>165.0</td>\n",
       "    </tr>\n",
       "  </tbody>\n",
       "</table>\n",
       "</div>"
      ],
      "text/plain": [
       "    name  age gender      job  height\n",
       "0  alice   19      F  student   165.0"
      ]
     },
     "execution_count": 2756,
     "metadata": {},
     "output_type": "execute_result"
    }
   ],
   "source": [
    "users[users.age < 20]"
   ]
  },
  {
   "cell_type": "code",
   "execution_count": 2757,
   "id": "2de92574-ea26-4915-9b4e-4f159b495b2d",
   "metadata": {},
   "outputs": [
    {
     "data": {
      "text/plain": [
       "0    student\n",
       "Name: job, dtype: object"
      ]
     },
     "execution_count": 2757,
     "metadata": {},
     "output_type": "execute_result"
    }
   ],
   "source": [
    "users[users.age < 20].job"
   ]
  },
  {
   "cell_type": "code",
   "execution_count": 2758,
   "id": "58069a08-814c-445a-a32e-2a305728e378",
   "metadata": {},
   "outputs": [
    {
     "data": {
      "text/html": [
       "<div>\n",
       "<style scoped>\n",
       "    .dataframe tbody tr th:only-of-type {\n",
       "        vertical-align: middle;\n",
       "    }\n",
       "\n",
       "    .dataframe tbody tr th {\n",
       "        vertical-align: top;\n",
       "    }\n",
       "\n",
       "    .dataframe thead th {\n",
       "        text-align: right;\n",
       "    }\n",
       "</style>\n",
       "<table border=\"1\" class=\"dataframe\">\n",
       "  <thead>\n",
       "    <tr style=\"text-align: right;\">\n",
       "      <th></th>\n",
       "      <th>name</th>\n",
       "      <th>age</th>\n",
       "      <th>gender</th>\n",
       "      <th>job</th>\n",
       "      <th>height</th>\n",
       "    </tr>\n",
       "  </thead>\n",
       "  <tbody>\n",
       "    <tr>\n",
       "      <th>0</th>\n",
       "      <td>alice</td>\n",
       "      <td>19</td>\n",
       "      <td>F</td>\n",
       "      <td>student</td>\n",
       "      <td>165.0</td>\n",
       "    </tr>\n",
       "    <tr>\n",
       "      <th>1</th>\n",
       "      <td>eric</td>\n",
       "      <td>22</td>\n",
       "      <td>M</td>\n",
       "      <td>student</td>\n",
       "      <td>175.0</td>\n",
       "    </tr>\n",
       "    <tr>\n",
       "      <th>2</th>\n",
       "      <td>john</td>\n",
       "      <td>26</td>\n",
       "      <td>M</td>\n",
       "      <td>student</td>\n",
       "      <td>180.0</td>\n",
       "    </tr>\n",
       "  </tbody>\n",
       "</table>\n",
       "</div>"
      ],
      "text/plain": [
       "    name  age gender      job  height\n",
       "0  alice   19      F  student   165.0\n",
       "1   eric   22      M  student   175.0\n",
       "2   john   26      M  student   180.0"
      ]
     },
     "execution_count": 2758,
     "metadata": {},
     "output_type": "execute_result"
    }
   ],
   "source": [
    "users[users.job == 'student']"
   ]
  },
  {
   "cell_type": "code",
   "execution_count": 2759,
   "id": "3eb05a23-a4a3-48c2-a8a6-6371dc7ddd2d",
   "metadata": {},
   "outputs": [
    {
     "data": {
      "text/html": [
       "<div>\n",
       "<style scoped>\n",
       "    .dataframe tbody tr th:only-of-type {\n",
       "        vertical-align: middle;\n",
       "    }\n",
       "\n",
       "    .dataframe tbody tr th {\n",
       "        vertical-align: top;\n",
       "    }\n",
       "\n",
       "    .dataframe thead th {\n",
       "        text-align: right;\n",
       "    }\n",
       "</style>\n",
       "<table border=\"1\" class=\"dataframe\">\n",
       "  <thead>\n",
       "    <tr style=\"text-align: right;\">\n",
       "      <th></th>\n",
       "      <th>name</th>\n",
       "      <th>age</th>\n",
       "      <th>gender</th>\n",
       "      <th>job</th>\n",
       "      <th>height</th>\n",
       "    </tr>\n",
       "  </thead>\n",
       "  <tbody>\n",
       "    <tr>\n",
       "      <th>0</th>\n",
       "      <td>alice</td>\n",
       "      <td>19</td>\n",
       "      <td>F</td>\n",
       "      <td>student</td>\n",
       "      <td>165.0</td>\n",
       "    </tr>\n",
       "    <tr>\n",
       "      <th>1</th>\n",
       "      <td>eric</td>\n",
       "      <td>22</td>\n",
       "      <td>M</td>\n",
       "      <td>student</td>\n",
       "      <td>175.0</td>\n",
       "    </tr>\n",
       "    <tr>\n",
       "      <th>2</th>\n",
       "      <td>john</td>\n",
       "      <td>26</td>\n",
       "      <td>M</td>\n",
       "      <td>student</td>\n",
       "      <td>180.0</td>\n",
       "    </tr>\n",
       "    <tr>\n",
       "      <th>5</th>\n",
       "      <td>peter</td>\n",
       "      <td>33</td>\n",
       "      <td>M</td>\n",
       "      <td>engineer</td>\n",
       "      <td>NaN</td>\n",
       "    </tr>\n",
       "  </tbody>\n",
       "</table>\n",
       "</div>"
      ],
      "text/plain": [
       "    name  age gender       job  height\n",
       "0  alice   19      F   student   165.0\n",
       "1   eric   22      M   student   175.0\n",
       "2   john   26      M   student   180.0\n",
       "5  peter   33      M  engineer     NaN"
      ]
     },
     "execution_count": 2759,
     "metadata": {},
     "output_type": "execute_result"
    }
   ],
   "source": [
    "users[users.job.isin(['student', 'engineer'])]"
   ]
  },
  {
   "cell_type": "code",
   "execution_count": 2760,
   "id": "8d1cb2f9-b6e4-41d1-a0d3-6b29b21411a8",
   "metadata": {},
   "outputs": [
    {
     "data": {
      "text/html": [
       "<div>\n",
       "<style scoped>\n",
       "    .dataframe tbody tr th:only-of-type {\n",
       "        vertical-align: middle;\n",
       "    }\n",
       "\n",
       "    .dataframe tbody tr th {\n",
       "        vertical-align: top;\n",
       "    }\n",
       "\n",
       "    .dataframe thead th {\n",
       "        text-align: right;\n",
       "    }\n",
       "</style>\n",
       "<table border=\"1\" class=\"dataframe\">\n",
       "  <thead>\n",
       "    <tr style=\"text-align: right;\">\n",
       "      <th></th>\n",
       "      <th>name</th>\n",
       "      <th>age</th>\n",
       "      <th>gender</th>\n",
       "      <th>job</th>\n",
       "      <th>height</th>\n",
       "    </tr>\n",
       "  </thead>\n",
       "  <tbody>\n",
       "    <tr>\n",
       "      <th>0</th>\n",
       "      <td>alice</td>\n",
       "      <td>19</td>\n",
       "      <td>F</td>\n",
       "      <td>student</td>\n",
       "      <td>165.0</td>\n",
       "    </tr>\n",
       "    <tr>\n",
       "      <th>1</th>\n",
       "      <td>eric</td>\n",
       "      <td>22</td>\n",
       "      <td>M</td>\n",
       "      <td>student</td>\n",
       "      <td>175.0</td>\n",
       "    </tr>\n",
       "    <tr>\n",
       "      <th>2</th>\n",
       "      <td>john</td>\n",
       "      <td>26</td>\n",
       "      <td>M</td>\n",
       "      <td>student</td>\n",
       "      <td>180.0</td>\n",
       "    </tr>\n",
       "    <tr>\n",
       "      <th>3</th>\n",
       "      <td>julie</td>\n",
       "      <td>44</td>\n",
       "      <td>F</td>\n",
       "      <td>scientist</td>\n",
       "      <td>171.0</td>\n",
       "    </tr>\n",
       "  </tbody>\n",
       "</table>\n",
       "</div>"
      ],
      "text/plain": [
       "    name  age gender        job  height\n",
       "0  alice   19      F    student   165.0\n",
       "1   eric   22      M    student   175.0\n",
       "2   john   26      M    student   180.0\n",
       "3  julie   44      F  scientist   171.0"
      ]
     },
     "execution_count": 2760,
     "metadata": {},
     "output_type": "execute_result"
    }
   ],
   "source": [
    "users[users['job'].str.contains(\"stu|scient\")]"
   ]
  },
  {
   "cell_type": "code",
   "execution_count": 2761,
   "id": "f3a70812-1f37-45c6-8b2d-503bea8ff300",
   "metadata": {},
   "outputs": [
    {
     "data": {
      "text/html": [
       "<div>\n",
       "<style scoped>\n",
       "    .dataframe tbody tr th:only-of-type {\n",
       "        vertical-align: middle;\n",
       "    }\n",
       "\n",
       "    .dataframe tbody tr th {\n",
       "        vertical-align: top;\n",
       "    }\n",
       "\n",
       "    .dataframe thead th {\n",
       "        text-align: right;\n",
       "    }\n",
       "</style>\n",
       "<table border=\"1\" class=\"dataframe\">\n",
       "  <thead>\n",
       "    <tr style=\"text-align: right;\">\n",
       "      <th></th>\n",
       "      <th>age</th>\n",
       "      <th>job</th>\n",
       "    </tr>\n",
       "  </thead>\n",
       "  <tbody>\n",
       "    <tr>\n",
       "      <th>0</th>\n",
       "      <td>19</td>\n",
       "      <td>student</td>\n",
       "    </tr>\n",
       "  </tbody>\n",
       "</table>\n",
       "</div>"
      ],
      "text/plain": [
       "   age      job\n",
       "0   19  student"
      ]
     },
     "execution_count": 2761,
     "metadata": {},
     "output_type": "execute_result"
    }
   ],
   "source": [
    "users[users.age < 20][['age', 'job']]"
   ]
  },
  {
   "cell_type": "code",
   "execution_count": 2762,
   "id": "a407d806-d653-404a-bb65-e21d829f4cc8",
   "metadata": {},
   "outputs": [
    {
     "data": {
      "text/html": [
       "<div>\n",
       "<style scoped>\n",
       "    .dataframe tbody tr th:only-of-type {\n",
       "        vertical-align: middle;\n",
       "    }\n",
       "\n",
       "    .dataframe tbody tr th {\n",
       "        vertical-align: top;\n",
       "    }\n",
       "\n",
       "    .dataframe thead th {\n",
       "        text-align: right;\n",
       "    }\n",
       "</style>\n",
       "<table border=\"1\" class=\"dataframe\">\n",
       "  <thead>\n",
       "    <tr style=\"text-align: right;\">\n",
       "      <th></th>\n",
       "      <th>name</th>\n",
       "      <th>age</th>\n",
       "      <th>gender</th>\n",
       "      <th>job</th>\n",
       "      <th>height</th>\n",
       "    </tr>\n",
       "  </thead>\n",
       "  <tbody>\n",
       "    <tr>\n",
       "      <th>1</th>\n",
       "      <td>eric</td>\n",
       "      <td>22</td>\n",
       "      <td>M</td>\n",
       "      <td>student</td>\n",
       "      <td>175.0</td>\n",
       "    </tr>\n",
       "    <tr>\n",
       "      <th>2</th>\n",
       "      <td>john</td>\n",
       "      <td>26</td>\n",
       "      <td>M</td>\n",
       "      <td>student</td>\n",
       "      <td>180.0</td>\n",
       "    </tr>\n",
       "    <tr>\n",
       "      <th>5</th>\n",
       "      <td>peter</td>\n",
       "      <td>33</td>\n",
       "      <td>M</td>\n",
       "      <td>engineer</td>\n",
       "      <td>NaN</td>\n",
       "    </tr>\n",
       "  </tbody>\n",
       "</table>\n",
       "</div>"
      ],
      "text/plain": [
       "    name  age gender       job  height\n",
       "1   eric   22      M   student   175.0\n",
       "2   john   26      M   student   180.0\n",
       "5  peter   33      M  engineer     NaN"
      ]
     },
     "execution_count": 2762,
     "metadata": {},
     "output_type": "execute_result"
    }
   ],
   "source": [
    "users[(users.age > 20) & (users.gender == 'M')]"
   ]
  },
  {
   "cell_type": "code",
   "execution_count": 2763,
   "id": "5771b3e3-8526-4dd3-b780-a638b646b3e6",
   "metadata": {},
   "outputs": [
    {
     "data": {
      "text/html": [
       "<div>\n",
       "<style scoped>\n",
       "    .dataframe tbody tr th:only-of-type {\n",
       "        vertical-align: middle;\n",
       "    }\n",
       "\n",
       "    .dataframe tbody tr th {\n",
       "        vertical-align: top;\n",
       "    }\n",
       "\n",
       "    .dataframe thead th {\n",
       "        text-align: right;\n",
       "    }\n",
       "</style>\n",
       "<table border=\"1\" class=\"dataframe\">\n",
       "  <thead>\n",
       "    <tr style=\"text-align: right;\">\n",
       "      <th></th>\n",
       "      <th>name</th>\n",
       "      <th>age</th>\n",
       "      <th>gender</th>\n",
       "      <th>job</th>\n",
       "      <th>height</th>\n",
       "    </tr>\n",
       "  </thead>\n",
       "  <tbody>\n",
       "    <tr>\n",
       "      <th>0</th>\n",
       "      <td>alice</td>\n",
       "      <td>19</td>\n",
       "      <td>F</td>\n",
       "      <td>student</td>\n",
       "      <td>165.0</td>\n",
       "    </tr>\n",
       "    <tr>\n",
       "      <th>1</th>\n",
       "      <td>eric</td>\n",
       "      <td>22</td>\n",
       "      <td>M</td>\n",
       "      <td>student</td>\n",
       "      <td>175.0</td>\n",
       "    </tr>\n",
       "    <tr>\n",
       "      <th>2</th>\n",
       "      <td>john</td>\n",
       "      <td>26</td>\n",
       "      <td>M</td>\n",
       "      <td>student</td>\n",
       "      <td>180.0</td>\n",
       "    </tr>\n",
       "    <tr>\n",
       "      <th>3</th>\n",
       "      <td>julie</td>\n",
       "      <td>44</td>\n",
       "      <td>F</td>\n",
       "      <td>scientist</td>\n",
       "      <td>171.0</td>\n",
       "    </tr>\n",
       "    <tr>\n",
       "      <th>4</th>\n",
       "      <td>paul</td>\n",
       "      <td>58</td>\n",
       "      <td>F</td>\n",
       "      <td>manager</td>\n",
       "      <td>NaN</td>\n",
       "    </tr>\n",
       "    <tr>\n",
       "      <th>5</th>\n",
       "      <td>peter</td>\n",
       "      <td>33</td>\n",
       "      <td>M</td>\n",
       "      <td>engineer</td>\n",
       "      <td>NaN</td>\n",
       "    </tr>\n",
       "  </tbody>\n",
       "</table>\n",
       "</div>"
      ],
      "text/plain": [
       "    name  age gender        job  height\n",
       "0  alice   19      F    student   165.0\n",
       "1   eric   22      M    student   175.0\n",
       "2   john   26      M    student   180.0\n",
       "3  julie   44      F  scientist   171.0\n",
       "4   paul   58      F    manager     NaN\n",
       "5  peter   33      M   engineer     NaN"
      ]
     },
     "execution_count": 2763,
     "metadata": {},
     "output_type": "execute_result"
    }
   ],
   "source": [
    "df = users.copy()\n",
    "df"
   ]
  },
  {
   "cell_type": "code",
   "execution_count": 2764,
   "id": "1b5e138d-9cb9-4a2e-aeba-ccdd3ca1ba57",
   "metadata": {},
   "outputs": [
    {
     "data": {
      "text/plain": [
       "0    19\n",
       "1    22\n",
       "2    26\n",
       "5    33\n",
       "3    44\n",
       "4    58\n",
       "Name: age, dtype: int64"
      ]
     },
     "execution_count": 2764,
     "metadata": {},
     "output_type": "execute_result"
    }
   ],
   "source": [
    "df.age.sort_values()"
   ]
  },
  {
   "cell_type": "code",
   "execution_count": 2765,
   "id": "58d6ac6b-8044-46f7-bd19-a11f632da661",
   "metadata": {},
   "outputs": [
    {
     "data": {
      "text/html": [
       "<div>\n",
       "<style scoped>\n",
       "    .dataframe tbody tr th:only-of-type {\n",
       "        vertical-align: middle;\n",
       "    }\n",
       "\n",
       "    .dataframe tbody tr th {\n",
       "        vertical-align: top;\n",
       "    }\n",
       "\n",
       "    .dataframe thead th {\n",
       "        text-align: right;\n",
       "    }\n",
       "</style>\n",
       "<table border=\"1\" class=\"dataframe\">\n",
       "  <thead>\n",
       "    <tr style=\"text-align: right;\">\n",
       "      <th></th>\n",
       "      <th>name</th>\n",
       "      <th>age</th>\n",
       "      <th>gender</th>\n",
       "      <th>job</th>\n",
       "      <th>height</th>\n",
       "    </tr>\n",
       "  </thead>\n",
       "  <tbody>\n",
       "    <tr>\n",
       "      <th>0</th>\n",
       "      <td>alice</td>\n",
       "      <td>19</td>\n",
       "      <td>F</td>\n",
       "      <td>student</td>\n",
       "      <td>165.0</td>\n",
       "    </tr>\n",
       "    <tr>\n",
       "      <th>1</th>\n",
       "      <td>eric</td>\n",
       "      <td>22</td>\n",
       "      <td>M</td>\n",
       "      <td>student</td>\n",
       "      <td>175.0</td>\n",
       "    </tr>\n",
       "    <tr>\n",
       "      <th>2</th>\n",
       "      <td>john</td>\n",
       "      <td>26</td>\n",
       "      <td>M</td>\n",
       "      <td>student</td>\n",
       "      <td>180.0</td>\n",
       "    </tr>\n",
       "    <tr>\n",
       "      <th>5</th>\n",
       "      <td>peter</td>\n",
       "      <td>33</td>\n",
       "      <td>M</td>\n",
       "      <td>engineer</td>\n",
       "      <td>NaN</td>\n",
       "    </tr>\n",
       "    <tr>\n",
       "      <th>3</th>\n",
       "      <td>julie</td>\n",
       "      <td>44</td>\n",
       "      <td>F</td>\n",
       "      <td>scientist</td>\n",
       "      <td>171.0</td>\n",
       "    </tr>\n",
       "    <tr>\n",
       "      <th>4</th>\n",
       "      <td>paul</td>\n",
       "      <td>58</td>\n",
       "      <td>F</td>\n",
       "      <td>manager</td>\n",
       "      <td>NaN</td>\n",
       "    </tr>\n",
       "  </tbody>\n",
       "</table>\n",
       "</div>"
      ],
      "text/plain": [
       "    name  age gender        job  height\n",
       "0  alice   19      F    student   165.0\n",
       "1   eric   22      M    student   175.0\n",
       "2   john   26      M    student   180.0\n",
       "5  peter   33      M   engineer     NaN\n",
       "3  julie   44      F  scientist   171.0\n",
       "4   paul   58      F    manager     NaN"
      ]
     },
     "execution_count": 2765,
     "metadata": {},
     "output_type": "execute_result"
    }
   ],
   "source": [
    "df.sort_values(by='age')"
   ]
  },
  {
   "cell_type": "code",
   "execution_count": 2766,
   "id": "5f860061-4559-41be-b994-c0f8f32b9269",
   "metadata": {},
   "outputs": [
    {
     "data": {
      "text/html": [
       "<div>\n",
       "<style scoped>\n",
       "    .dataframe tbody tr th:only-of-type {\n",
       "        vertical-align: middle;\n",
       "    }\n",
       "\n",
       "    .dataframe tbody tr th {\n",
       "        vertical-align: top;\n",
       "    }\n",
       "\n",
       "    .dataframe thead th {\n",
       "        text-align: right;\n",
       "    }\n",
       "</style>\n",
       "<table border=\"1\" class=\"dataframe\">\n",
       "  <thead>\n",
       "    <tr style=\"text-align: right;\">\n",
       "      <th></th>\n",
       "      <th>name</th>\n",
       "      <th>age</th>\n",
       "      <th>gender</th>\n",
       "      <th>job</th>\n",
       "      <th>height</th>\n",
       "    </tr>\n",
       "  </thead>\n",
       "  <tbody>\n",
       "    <tr>\n",
       "      <th>4</th>\n",
       "      <td>paul</td>\n",
       "      <td>58</td>\n",
       "      <td>F</td>\n",
       "      <td>manager</td>\n",
       "      <td>NaN</td>\n",
       "    </tr>\n",
       "    <tr>\n",
       "      <th>3</th>\n",
       "      <td>julie</td>\n",
       "      <td>44</td>\n",
       "      <td>F</td>\n",
       "      <td>scientist</td>\n",
       "      <td>171.0</td>\n",
       "    </tr>\n",
       "    <tr>\n",
       "      <th>5</th>\n",
       "      <td>peter</td>\n",
       "      <td>33</td>\n",
       "      <td>M</td>\n",
       "      <td>engineer</td>\n",
       "      <td>NaN</td>\n",
       "    </tr>\n",
       "    <tr>\n",
       "      <th>2</th>\n",
       "      <td>john</td>\n",
       "      <td>26</td>\n",
       "      <td>M</td>\n",
       "      <td>student</td>\n",
       "      <td>180.0</td>\n",
       "    </tr>\n",
       "    <tr>\n",
       "      <th>1</th>\n",
       "      <td>eric</td>\n",
       "      <td>22</td>\n",
       "      <td>M</td>\n",
       "      <td>student</td>\n",
       "      <td>175.0</td>\n",
       "    </tr>\n",
       "    <tr>\n",
       "      <th>0</th>\n",
       "      <td>alice</td>\n",
       "      <td>19</td>\n",
       "      <td>F</td>\n",
       "      <td>student</td>\n",
       "      <td>165.0</td>\n",
       "    </tr>\n",
       "  </tbody>\n",
       "</table>\n",
       "</div>"
      ],
      "text/plain": [
       "    name  age gender        job  height\n",
       "4   paul   58      F    manager     NaN\n",
       "3  julie   44      F  scientist   171.0\n",
       "5  peter   33      M   engineer     NaN\n",
       "2   john   26      M    student   180.0\n",
       "1   eric   22      M    student   175.0\n",
       "0  alice   19      F    student   165.0"
      ]
     },
     "execution_count": 2766,
     "metadata": {},
     "output_type": "execute_result"
    }
   ],
   "source": [
    "df.sort_values(by='age', ascending=False)"
   ]
  },
  {
   "cell_type": "code",
   "execution_count": 2767,
   "id": "51a30c8d-07b4-4c05-9eb6-13431076c0a7",
   "metadata": {},
   "outputs": [
    {
     "data": {
      "text/html": [
       "<div>\n",
       "<style scoped>\n",
       "    .dataframe tbody tr th:only-of-type {\n",
       "        vertical-align: middle;\n",
       "    }\n",
       "\n",
       "    .dataframe tbody tr th {\n",
       "        vertical-align: top;\n",
       "    }\n",
       "\n",
       "    .dataframe thead th {\n",
       "        text-align: right;\n",
       "    }\n",
       "</style>\n",
       "<table border=\"1\" class=\"dataframe\">\n",
       "  <thead>\n",
       "    <tr style=\"text-align: right;\">\n",
       "      <th></th>\n",
       "      <th>name</th>\n",
       "      <th>age</th>\n",
       "      <th>gender</th>\n",
       "      <th>job</th>\n",
       "      <th>height</th>\n",
       "    </tr>\n",
       "  </thead>\n",
       "  <tbody>\n",
       "    <tr>\n",
       "      <th>5</th>\n",
       "      <td>peter</td>\n",
       "      <td>33</td>\n",
       "      <td>M</td>\n",
       "      <td>engineer</td>\n",
       "      <td>NaN</td>\n",
       "    </tr>\n",
       "    <tr>\n",
       "      <th>4</th>\n",
       "      <td>paul</td>\n",
       "      <td>58</td>\n",
       "      <td>F</td>\n",
       "      <td>manager</td>\n",
       "      <td>NaN</td>\n",
       "    </tr>\n",
       "    <tr>\n",
       "      <th>3</th>\n",
       "      <td>julie</td>\n",
       "      <td>44</td>\n",
       "      <td>F</td>\n",
       "      <td>scientist</td>\n",
       "      <td>171.0</td>\n",
       "    </tr>\n",
       "    <tr>\n",
       "      <th>0</th>\n",
       "      <td>alice</td>\n",
       "      <td>19</td>\n",
       "      <td>F</td>\n",
       "      <td>student</td>\n",
       "      <td>165.0</td>\n",
       "    </tr>\n",
       "    <tr>\n",
       "      <th>1</th>\n",
       "      <td>eric</td>\n",
       "      <td>22</td>\n",
       "      <td>M</td>\n",
       "      <td>student</td>\n",
       "      <td>175.0</td>\n",
       "    </tr>\n",
       "    <tr>\n",
       "      <th>2</th>\n",
       "      <td>john</td>\n",
       "      <td>26</td>\n",
       "      <td>M</td>\n",
       "      <td>student</td>\n",
       "      <td>180.0</td>\n",
       "    </tr>\n",
       "  </tbody>\n",
       "</table>\n",
       "</div>"
      ],
      "text/plain": [
       "    name  age gender        job  height\n",
       "5  peter   33      M   engineer     NaN\n",
       "4   paul   58      F    manager     NaN\n",
       "3  julie   44      F  scientist   171.0\n",
       "0  alice   19      F    student   165.0\n",
       "1   eric   22      M    student   175.0\n",
       "2   john   26      M    student   180.0"
      ]
     },
     "execution_count": 2767,
     "metadata": {},
     "output_type": "execute_result"
    }
   ],
   "source": [
    "df.sort_values(by=['job', 'age'])"
   ]
  },
  {
   "cell_type": "code",
   "execution_count": 2768,
   "id": "3faf39f5-1bfc-4a0d-83d0-98317ae81385",
   "metadata": {},
   "outputs": [
    {
     "data": {
      "text/html": [
       "<div>\n",
       "<style scoped>\n",
       "    .dataframe tbody tr th:only-of-type {\n",
       "        vertical-align: middle;\n",
       "    }\n",
       "\n",
       "    .dataframe tbody tr th {\n",
       "        vertical-align: top;\n",
       "    }\n",
       "\n",
       "    .dataframe thead th {\n",
       "        text-align: right;\n",
       "    }\n",
       "</style>\n",
       "<table border=\"1\" class=\"dataframe\">\n",
       "  <thead>\n",
       "    <tr style=\"text-align: right;\">\n",
       "      <th></th>\n",
       "      <th>name</th>\n",
       "      <th>age</th>\n",
       "      <th>gender</th>\n",
       "      <th>job</th>\n",
       "      <th>height</th>\n",
       "    </tr>\n",
       "  </thead>\n",
       "  <tbody>\n",
       "    <tr>\n",
       "      <th>5</th>\n",
       "      <td>peter</td>\n",
       "      <td>33</td>\n",
       "      <td>M</td>\n",
       "      <td>engineer</td>\n",
       "      <td>NaN</td>\n",
       "    </tr>\n",
       "    <tr>\n",
       "      <th>4</th>\n",
       "      <td>paul</td>\n",
       "      <td>58</td>\n",
       "      <td>F</td>\n",
       "      <td>manager</td>\n",
       "      <td>NaN</td>\n",
       "    </tr>\n",
       "    <tr>\n",
       "      <th>3</th>\n",
       "      <td>julie</td>\n",
       "      <td>44</td>\n",
       "      <td>F</td>\n",
       "      <td>scientist</td>\n",
       "      <td>171.0</td>\n",
       "    </tr>\n",
       "    <tr>\n",
       "      <th>0</th>\n",
       "      <td>alice</td>\n",
       "      <td>19</td>\n",
       "      <td>F</td>\n",
       "      <td>student</td>\n",
       "      <td>165.0</td>\n",
       "    </tr>\n",
       "    <tr>\n",
       "      <th>1</th>\n",
       "      <td>eric</td>\n",
       "      <td>22</td>\n",
       "      <td>M</td>\n",
       "      <td>student</td>\n",
       "      <td>175.0</td>\n",
       "    </tr>\n",
       "    <tr>\n",
       "      <th>2</th>\n",
       "      <td>john</td>\n",
       "      <td>26</td>\n",
       "      <td>M</td>\n",
       "      <td>student</td>\n",
       "      <td>180.0</td>\n",
       "    </tr>\n",
       "  </tbody>\n",
       "</table>\n",
       "</div>"
      ],
      "text/plain": [
       "    name  age gender        job  height\n",
       "5  peter   33      M   engineer     NaN\n",
       "4   paul   58      F    manager     NaN\n",
       "3  julie   44      F  scientist   171.0\n",
       "0  alice   19      F    student   165.0\n",
       "1   eric   22      M    student   175.0\n",
       "2   john   26      M    student   180.0"
      ]
     },
     "execution_count": 2768,
     "metadata": {},
     "output_type": "execute_result"
    }
   ],
   "source": [
    "df.sort_values(by=['job', 'age'], inplace=True)\n",
    "\n",
    "df\n"
   ]
  },
  {
   "cell_type": "code",
   "execution_count": 2769,
   "id": "1bc95886-4798-4415-8995-6321cb5074c5",
   "metadata": {},
   "outputs": [
    {
     "data": {
      "text/html": [
       "<div>\n",
       "<style scoped>\n",
       "    .dataframe tbody tr th:only-of-type {\n",
       "        vertical-align: middle;\n",
       "    }\n",
       "\n",
       "    .dataframe tbody tr th {\n",
       "        vertical-align: top;\n",
       "    }\n",
       "\n",
       "    .dataframe thead th {\n",
       "        text-align: right;\n",
       "    }\n",
       "</style>\n",
       "<table border=\"1\" class=\"dataframe\">\n",
       "  <thead>\n",
       "    <tr style=\"text-align: right;\">\n",
       "      <th></th>\n",
       "      <th>age</th>\n",
       "      <th>height</th>\n",
       "    </tr>\n",
       "  </thead>\n",
       "  <tbody>\n",
       "    <tr>\n",
       "      <th>count</th>\n",
       "      <td>6.000000</td>\n",
       "      <td>4.000000</td>\n",
       "    </tr>\n",
       "    <tr>\n",
       "      <th>mean</th>\n",
       "      <td>33.666667</td>\n",
       "      <td>172.750000</td>\n",
       "    </tr>\n",
       "    <tr>\n",
       "      <th>std</th>\n",
       "      <td>14.895189</td>\n",
       "      <td>6.344289</td>\n",
       "    </tr>\n",
       "    <tr>\n",
       "      <th>min</th>\n",
       "      <td>19.000000</td>\n",
       "      <td>165.000000</td>\n",
       "    </tr>\n",
       "    <tr>\n",
       "      <th>25%</th>\n",
       "      <td>23.000000</td>\n",
       "      <td>169.500000</td>\n",
       "    </tr>\n",
       "    <tr>\n",
       "      <th>50%</th>\n",
       "      <td>29.500000</td>\n",
       "      <td>173.000000</td>\n",
       "    </tr>\n",
       "    <tr>\n",
       "      <th>75%</th>\n",
       "      <td>41.250000</td>\n",
       "      <td>176.250000</td>\n",
       "    </tr>\n",
       "    <tr>\n",
       "      <th>max</th>\n",
       "      <td>58.000000</td>\n",
       "      <td>180.000000</td>\n",
       "    </tr>\n",
       "  </tbody>\n",
       "</table>\n",
       "</div>"
      ],
      "text/plain": [
       "             age      height\n",
       "count   6.000000    4.000000\n",
       "mean   33.666667  172.750000\n",
       "std    14.895189    6.344289\n",
       "min    19.000000  165.000000\n",
       "25%    23.000000  169.500000\n",
       "50%    29.500000  173.000000\n",
       "75%    41.250000  176.250000\n",
       "max    58.000000  180.000000"
      ]
     },
     "execution_count": 2769,
     "metadata": {},
     "output_type": "execute_result"
    }
   ],
   "source": [
    "df.describe()"
   ]
  },
  {
   "cell_type": "code",
   "execution_count": 2770,
   "id": "8253c512-ae6c-4da5-baa1-e4c3a0f8773b",
   "metadata": {},
   "outputs": [
    {
     "data": {
      "text/html": [
       "<div>\n",
       "<style scoped>\n",
       "    .dataframe tbody tr th:only-of-type {\n",
       "        vertical-align: middle;\n",
       "    }\n",
       "\n",
       "    .dataframe tbody tr th {\n",
       "        vertical-align: top;\n",
       "    }\n",
       "\n",
       "    .dataframe thead th {\n",
       "        text-align: right;\n",
       "    }\n",
       "</style>\n",
       "<table border=\"1\" class=\"dataframe\">\n",
       "  <thead>\n",
       "    <tr style=\"text-align: right;\">\n",
       "      <th></th>\n",
       "      <th>name</th>\n",
       "      <th>age</th>\n",
       "      <th>gender</th>\n",
       "      <th>job</th>\n",
       "      <th>height</th>\n",
       "    </tr>\n",
       "  </thead>\n",
       "  <tbody>\n",
       "    <tr>\n",
       "      <th>count</th>\n",
       "      <td>6</td>\n",
       "      <td>6.000000</td>\n",
       "      <td>6</td>\n",
       "      <td>6</td>\n",
       "      <td>4.000000</td>\n",
       "    </tr>\n",
       "    <tr>\n",
       "      <th>unique</th>\n",
       "      <td>6</td>\n",
       "      <td>NaN</td>\n",
       "      <td>2</td>\n",
       "      <td>4</td>\n",
       "      <td>NaN</td>\n",
       "    </tr>\n",
       "    <tr>\n",
       "      <th>top</th>\n",
       "      <td>peter</td>\n",
       "      <td>NaN</td>\n",
       "      <td>M</td>\n",
       "      <td>student</td>\n",
       "      <td>NaN</td>\n",
       "    </tr>\n",
       "    <tr>\n",
       "      <th>freq</th>\n",
       "      <td>1</td>\n",
       "      <td>NaN</td>\n",
       "      <td>3</td>\n",
       "      <td>3</td>\n",
       "      <td>NaN</td>\n",
       "    </tr>\n",
       "    <tr>\n",
       "      <th>mean</th>\n",
       "      <td>NaN</td>\n",
       "      <td>33.666667</td>\n",
       "      <td>NaN</td>\n",
       "      <td>NaN</td>\n",
       "      <td>172.750000</td>\n",
       "    </tr>\n",
       "    <tr>\n",
       "      <th>std</th>\n",
       "      <td>NaN</td>\n",
       "      <td>14.895189</td>\n",
       "      <td>NaN</td>\n",
       "      <td>NaN</td>\n",
       "      <td>6.344289</td>\n",
       "    </tr>\n",
       "    <tr>\n",
       "      <th>min</th>\n",
       "      <td>NaN</td>\n",
       "      <td>19.000000</td>\n",
       "      <td>NaN</td>\n",
       "      <td>NaN</td>\n",
       "      <td>165.000000</td>\n",
       "    </tr>\n",
       "    <tr>\n",
       "      <th>25%</th>\n",
       "      <td>NaN</td>\n",
       "      <td>23.000000</td>\n",
       "      <td>NaN</td>\n",
       "      <td>NaN</td>\n",
       "      <td>169.500000</td>\n",
       "    </tr>\n",
       "    <tr>\n",
       "      <th>50%</th>\n",
       "      <td>NaN</td>\n",
       "      <td>29.500000</td>\n",
       "      <td>NaN</td>\n",
       "      <td>NaN</td>\n",
       "      <td>173.000000</td>\n",
       "    </tr>\n",
       "    <tr>\n",
       "      <th>75%</th>\n",
       "      <td>NaN</td>\n",
       "      <td>41.250000</td>\n",
       "      <td>NaN</td>\n",
       "      <td>NaN</td>\n",
       "      <td>176.250000</td>\n",
       "    </tr>\n",
       "    <tr>\n",
       "      <th>max</th>\n",
       "      <td>NaN</td>\n",
       "      <td>58.000000</td>\n",
       "      <td>NaN</td>\n",
       "      <td>NaN</td>\n",
       "      <td>180.000000</td>\n",
       "    </tr>\n",
       "  </tbody>\n",
       "</table>\n",
       "</div>"
      ],
      "text/plain": [
       "         name        age gender      job      height\n",
       "count       6   6.000000      6        6    4.000000\n",
       "unique      6        NaN      2        4         NaN\n",
       "top     peter        NaN      M  student         NaN\n",
       "freq        1        NaN      3        3         NaN\n",
       "mean      NaN  33.666667    NaN      NaN  172.750000\n",
       "std       NaN  14.895189    NaN      NaN    6.344289\n",
       "min       NaN  19.000000    NaN      NaN  165.000000\n",
       "25%       NaN  23.000000    NaN      NaN  169.500000\n",
       "50%       NaN  29.500000    NaN      NaN  173.000000\n",
       "75%       NaN  41.250000    NaN      NaN  176.250000\n",
       "max       NaN  58.000000    NaN      NaN  180.000000"
      ]
     },
     "execution_count": 2770,
     "metadata": {},
     "output_type": "execute_result"
    }
   ],
   "source": [
    "df.describe(include='all')"
   ]
  },
  {
   "cell_type": "code",
   "execution_count": 2771,
   "id": "87a8fc4c-6fe0-42ee-92f3-f6f03b32b2c0",
   "metadata": {},
   "outputs": [
    {
     "data": {
      "text/html": [
       "<div>\n",
       "<style scoped>\n",
       "    .dataframe tbody tr th:only-of-type {\n",
       "        vertical-align: middle;\n",
       "    }\n",
       "\n",
       "    .dataframe tbody tr th {\n",
       "        vertical-align: top;\n",
       "    }\n",
       "\n",
       "    .dataframe thead th {\n",
       "        text-align: right;\n",
       "    }\n",
       "</style>\n",
       "<table border=\"1\" class=\"dataframe\">\n",
       "  <thead>\n",
       "    <tr style=\"text-align: right;\">\n",
       "      <th></th>\n",
       "      <th>name</th>\n",
       "      <th>gender</th>\n",
       "      <th>job</th>\n",
       "    </tr>\n",
       "  </thead>\n",
       "  <tbody>\n",
       "    <tr>\n",
       "      <th>count</th>\n",
       "      <td>6</td>\n",
       "      <td>6</td>\n",
       "      <td>6</td>\n",
       "    </tr>\n",
       "    <tr>\n",
       "      <th>unique</th>\n",
       "      <td>6</td>\n",
       "      <td>2</td>\n",
       "      <td>4</td>\n",
       "    </tr>\n",
       "    <tr>\n",
       "      <th>top</th>\n",
       "      <td>peter</td>\n",
       "      <td>M</td>\n",
       "      <td>student</td>\n",
       "    </tr>\n",
       "    <tr>\n",
       "      <th>freq</th>\n",
       "      <td>1</td>\n",
       "      <td>3</td>\n",
       "      <td>3</td>\n",
       "    </tr>\n",
       "  </tbody>\n",
       "</table>\n",
       "</div>"
      ],
      "text/plain": [
       "         name gender      job\n",
       "count       6      6        6\n",
       "unique      6      2        4\n",
       "top     peter      M  student\n",
       "freq        1      3        3"
      ]
     },
     "execution_count": 2771,
     "metadata": {},
     "output_type": "execute_result"
    }
   ],
   "source": [
    "df.describe(include=['object'])"
   ]
  },
  {
   "cell_type": "code",
   "execution_count": 2772,
   "id": "23decf21-62e1-4f8a-80a7-73a30e12c5a7",
   "metadata": {},
   "outputs": [
    {
     "data": {
      "text/html": [
       "<div>\n",
       "<style scoped>\n",
       "    .dataframe tbody tr th:only-of-type {\n",
       "        vertical-align: middle;\n",
       "    }\n",
       "\n",
       "    .dataframe tbody tr th {\n",
       "        vertical-align: top;\n",
       "    }\n",
       "\n",
       "    .dataframe thead th {\n",
       "        text-align: right;\n",
       "    }\n",
       "</style>\n",
       "<table border=\"1\" class=\"dataframe\">\n",
       "  <thead>\n",
       "    <tr style=\"text-align: right;\">\n",
       "      <th></th>\n",
       "      <th>name</th>\n",
       "      <th>age</th>\n",
       "      <th>gender</th>\n",
       "      <th>job</th>\n",
       "      <th>height</th>\n",
       "    </tr>\n",
       "  </thead>\n",
       "  <tbody>\n",
       "    <tr>\n",
       "      <th>5</th>\n",
       "      <td>peter</td>\n",
       "      <td>33</td>\n",
       "      <td>M</td>\n",
       "      <td>engineer</td>\n",
       "      <td>NaN</td>\n",
       "    </tr>\n",
       "    <tr>\n",
       "      <th>4</th>\n",
       "      <td>paul</td>\n",
       "      <td>58</td>\n",
       "      <td>F</td>\n",
       "      <td>manager</td>\n",
       "      <td>NaN</td>\n",
       "    </tr>\n",
       "    <tr>\n",
       "      <th>3</th>\n",
       "      <td>julie</td>\n",
       "      <td>44</td>\n",
       "      <td>F</td>\n",
       "      <td>scientist</td>\n",
       "      <td>171.0</td>\n",
       "    </tr>\n",
       "    <tr>\n",
       "      <th>0</th>\n",
       "      <td>alice</td>\n",
       "      <td>19</td>\n",
       "      <td>F</td>\n",
       "      <td>student</td>\n",
       "      <td>165.0</td>\n",
       "    </tr>\n",
       "    <tr>\n",
       "      <th>1</th>\n",
       "      <td>eric</td>\n",
       "      <td>22</td>\n",
       "      <td>M</td>\n",
       "      <td>student</td>\n",
       "      <td>175.0</td>\n",
       "    </tr>\n",
       "  </tbody>\n",
       "</table>\n",
       "</div>"
      ],
      "text/plain": [
       "    name  age gender        job  height\n",
       "5  peter   33      M   engineer     NaN\n",
       "4   paul   58      F    manager     NaN\n",
       "3  julie   44      F  scientist   171.0\n",
       "0  alice   19      F    student   165.0\n",
       "1   eric   22      M    student   175.0"
      ]
     },
     "execution_count": 2772,
     "metadata": {},
     "output_type": "execute_result"
    }
   ],
   "source": [
    "df.head()"
   ]
  },
  {
   "cell_type": "code",
   "execution_count": 2773,
   "id": "b6cfcdbf-ff54-4cf1-b54f-1b80f81ff2d9",
   "metadata": {},
   "outputs": [
    {
     "data": {
      "text/plain": [
       "job\n",
       "engineer     33.000000\n",
       "manager      58.000000\n",
       "scientist    44.000000\n",
       "student      22.333333\n",
       "Name: age, dtype: float64"
      ]
     },
     "execution_count": 2773,
     "metadata": {},
     "output_type": "execute_result"
    }
   ],
   "source": [
    "df.groupby(\"job\")['age'].mean()"
   ]
  },
  {
   "cell_type": "code",
   "execution_count": 2774,
   "id": "5e345404-01ef-487a-ae07-bdb2a519f650",
   "metadata": {},
   "outputs": [
    {
     "data": {
      "text/html": [
       "<div>\n",
       "<style scoped>\n",
       "    .dataframe tbody tr th:only-of-type {\n",
       "        vertical-align: middle;\n",
       "    }\n",
       "\n",
       "    .dataframe tbody tr th {\n",
       "        vertical-align: top;\n",
       "    }\n",
       "\n",
       "    .dataframe thead tr th {\n",
       "        text-align: left;\n",
       "    }\n",
       "\n",
       "    .dataframe thead tr:last-of-type th {\n",
       "        text-align: right;\n",
       "    }\n",
       "</style>\n",
       "<table border=\"1\" class=\"dataframe\">\n",
       "  <thead>\n",
       "    <tr>\n",
       "      <th></th>\n",
       "      <th colspan=\"10\" halign=\"left\">name</th>\n",
       "      <th>...</th>\n",
       "      <th colspan=\"10\" halign=\"left\">height</th>\n",
       "    </tr>\n",
       "    <tr>\n",
       "      <th></th>\n",
       "      <th>count</th>\n",
       "      <th>unique</th>\n",
       "      <th>top</th>\n",
       "      <th>freq</th>\n",
       "      <th>mean</th>\n",
       "      <th>std</th>\n",
       "      <th>min</th>\n",
       "      <th>25%</th>\n",
       "      <th>50%</th>\n",
       "      <th>75%</th>\n",
       "      <th>...</th>\n",
       "      <th>unique</th>\n",
       "      <th>top</th>\n",
       "      <th>freq</th>\n",
       "      <th>mean</th>\n",
       "      <th>std</th>\n",
       "      <th>min</th>\n",
       "      <th>25%</th>\n",
       "      <th>50%</th>\n",
       "      <th>75%</th>\n",
       "      <th>max</th>\n",
       "    </tr>\n",
       "    <tr>\n",
       "      <th>job</th>\n",
       "      <th></th>\n",
       "      <th></th>\n",
       "      <th></th>\n",
       "      <th></th>\n",
       "      <th></th>\n",
       "      <th></th>\n",
       "      <th></th>\n",
       "      <th></th>\n",
       "      <th></th>\n",
       "      <th></th>\n",
       "      <th></th>\n",
       "      <th></th>\n",
       "      <th></th>\n",
       "      <th></th>\n",
       "      <th></th>\n",
       "      <th></th>\n",
       "      <th></th>\n",
       "      <th></th>\n",
       "      <th></th>\n",
       "      <th></th>\n",
       "      <th></th>\n",
       "    </tr>\n",
       "  </thead>\n",
       "  <tbody>\n",
       "    <tr>\n",
       "      <th>engineer</th>\n",
       "      <td>1</td>\n",
       "      <td>1</td>\n",
       "      <td>peter</td>\n",
       "      <td>1</td>\n",
       "      <td>NaN</td>\n",
       "      <td>NaN</td>\n",
       "      <td>NaN</td>\n",
       "      <td>NaN</td>\n",
       "      <td>NaN</td>\n",
       "      <td>NaN</td>\n",
       "      <td>...</td>\n",
       "      <td>NaN</td>\n",
       "      <td>NaN</td>\n",
       "      <td>NaN</td>\n",
       "      <td>NaN</td>\n",
       "      <td>NaN</td>\n",
       "      <td>NaN</td>\n",
       "      <td>NaN</td>\n",
       "      <td>NaN</td>\n",
       "      <td>NaN</td>\n",
       "      <td>NaN</td>\n",
       "    </tr>\n",
       "    <tr>\n",
       "      <th>manager</th>\n",
       "      <td>1</td>\n",
       "      <td>1</td>\n",
       "      <td>paul</td>\n",
       "      <td>1</td>\n",
       "      <td>NaN</td>\n",
       "      <td>NaN</td>\n",
       "      <td>NaN</td>\n",
       "      <td>NaN</td>\n",
       "      <td>NaN</td>\n",
       "      <td>NaN</td>\n",
       "      <td>...</td>\n",
       "      <td>NaN</td>\n",
       "      <td>NaN</td>\n",
       "      <td>NaN</td>\n",
       "      <td>NaN</td>\n",
       "      <td>NaN</td>\n",
       "      <td>NaN</td>\n",
       "      <td>NaN</td>\n",
       "      <td>NaN</td>\n",
       "      <td>NaN</td>\n",
       "      <td>NaN</td>\n",
       "    </tr>\n",
       "    <tr>\n",
       "      <th>scientist</th>\n",
       "      <td>1</td>\n",
       "      <td>1</td>\n",
       "      <td>julie</td>\n",
       "      <td>1</td>\n",
       "      <td>NaN</td>\n",
       "      <td>NaN</td>\n",
       "      <td>NaN</td>\n",
       "      <td>NaN</td>\n",
       "      <td>NaN</td>\n",
       "      <td>NaN</td>\n",
       "      <td>...</td>\n",
       "      <td>NaN</td>\n",
       "      <td>NaN</td>\n",
       "      <td>NaN</td>\n",
       "      <td>171.000000</td>\n",
       "      <td>NaN</td>\n",
       "      <td>171.0</td>\n",
       "      <td>171.0</td>\n",
       "      <td>171.0</td>\n",
       "      <td>171.0</td>\n",
       "      <td>171.0</td>\n",
       "    </tr>\n",
       "    <tr>\n",
       "      <th>student</th>\n",
       "      <td>3</td>\n",
       "      <td>3</td>\n",
       "      <td>alice</td>\n",
       "      <td>1</td>\n",
       "      <td>NaN</td>\n",
       "      <td>NaN</td>\n",
       "      <td>NaN</td>\n",
       "      <td>NaN</td>\n",
       "      <td>NaN</td>\n",
       "      <td>NaN</td>\n",
       "      <td>...</td>\n",
       "      <td>NaN</td>\n",
       "      <td>NaN</td>\n",
       "      <td>NaN</td>\n",
       "      <td>173.333333</td>\n",
       "      <td>7.637626</td>\n",
       "      <td>165.0</td>\n",
       "      <td>170.0</td>\n",
       "      <td>175.0</td>\n",
       "      <td>177.5</td>\n",
       "      <td>180.0</td>\n",
       "    </tr>\n",
       "  </tbody>\n",
       "</table>\n",
       "<p>4 rows × 44 columns</p>\n",
       "</div>"
      ],
      "text/plain": [
       "           name                                                   ... height  \\\n",
       "          count unique    top freq mean  std  min  25%  50%  75%  ... unique   \n",
       "job                                                               ...          \n",
       "engineer      1      1  peter    1  NaN  NaN  NaN  NaN  NaN  NaN  ...    NaN   \n",
       "manager       1      1   paul    1  NaN  NaN  NaN  NaN  NaN  NaN  ...    NaN   \n",
       "scientist     1      1  julie    1  NaN  NaN  NaN  NaN  NaN  NaN  ...    NaN   \n",
       "student       3      3  alice    1  NaN  NaN  NaN  NaN  NaN  NaN  ...    NaN   \n",
       "\n",
       "                                                                             \n",
       "          top freq        mean       std    min    25%    50%    75%    max  \n",
       "job                                                                          \n",
       "engineer  NaN  NaN         NaN       NaN    NaN    NaN    NaN    NaN    NaN  \n",
       "manager   NaN  NaN         NaN       NaN    NaN    NaN    NaN    NaN    NaN  \n",
       "scientist NaN  NaN  171.000000       NaN  171.0  171.0  171.0  171.0  171.0  \n",
       "student   NaN  NaN  173.333333  7.637626  165.0  170.0  175.0  177.5  180.0  \n",
       "\n",
       "[4 rows x 44 columns]"
      ]
     },
     "execution_count": 2774,
     "metadata": {},
     "output_type": "execute_result"
    }
   ],
   "source": [
    "df.groupby(\"job\").describe(include='all')"
   ]
  },
  {
   "cell_type": "code",
   "execution_count": 2775,
   "id": "060b7e76-fbbb-466b-9742-ca723cad9c35",
   "metadata": {},
   "outputs": [
    {
     "name": "stdout",
     "output_type": "stream",
     "text": [
      "engineer     name  age gender       job  height\n",
      "5  peter   33      M  engineer     NaN\n",
      "manager    name  age gender      job  height\n",
      "4  paul   58      F  manager     NaN\n",
      "scientist     name  age gender        job  height\n",
      "3  julie   44      F  scientist   171.0\n",
      "student     name  age gender      job  height\n",
      "0  alice   19      F  student   165.0\n",
      "1   eric   22      M  student   175.0\n",
      "2   john   26      M  student   180.0\n"
     ]
    }
   ],
   "source": [
    "for grp, data in df.groupby('job'):\n",
    "    print(grp, data)"
   ]
  },
  {
   "cell_type": "code",
   "execution_count": 2776,
   "id": "c67437c3-8bf0-440d-a581-540e95053c46",
   "metadata": {},
   "outputs": [
    {
     "data": {
      "text/plain": [
       "5    False\n",
       "4    False\n",
       "3    False\n",
       "0    False\n",
       "1    False\n",
       "2    False\n",
       "dtype: bool"
      ]
     },
     "execution_count": 2776,
     "metadata": {},
     "output_type": "execute_result"
    }
   ],
   "source": [
    "df.duplicated()"
   ]
  },
  {
   "cell_type": "code",
   "execution_count": 2777,
   "id": "6ec4772d-dd18-495b-8ae3-0f3bac364e13",
   "metadata": {},
   "outputs": [
    {
     "data": {
      "text/plain": [
       "0"
      ]
     },
     "execution_count": 2777,
     "metadata": {},
     "output_type": "execute_result"
    }
   ],
   "source": [
    "df.duplicated().sum()"
   ]
  },
  {
   "cell_type": "code",
   "execution_count": 2778,
   "id": "adcf2480-c2d1-470d-924d-c1497c360c36",
   "metadata": {},
   "outputs": [
    {
     "data": {
      "text/html": [
       "<div>\n",
       "<style scoped>\n",
       "    .dataframe tbody tr th:only-of-type {\n",
       "        vertical-align: middle;\n",
       "    }\n",
       "\n",
       "    .dataframe tbody tr th {\n",
       "        vertical-align: top;\n",
       "    }\n",
       "\n",
       "    .dataframe thead th {\n",
       "        text-align: right;\n",
       "    }\n",
       "</style>\n",
       "<table border=\"1\" class=\"dataframe\">\n",
       "  <thead>\n",
       "    <tr style=\"text-align: right;\">\n",
       "      <th></th>\n",
       "      <th>name</th>\n",
       "      <th>age</th>\n",
       "      <th>gender</th>\n",
       "      <th>job</th>\n",
       "      <th>height</th>\n",
       "    </tr>\n",
       "  </thead>\n",
       "  <tbody>\n",
       "  </tbody>\n",
       "</table>\n",
       "</div>"
      ],
      "text/plain": [
       "Empty DataFrame\n",
       "Columns: [name, age, gender, job, height]\n",
       "Index: []"
      ]
     },
     "execution_count": 2778,
     "metadata": {},
     "output_type": "execute_result"
    }
   ],
   "source": [
    "df[df.duplicated()]"
   ]
  },
  {
   "cell_type": "code",
   "execution_count": 2779,
   "id": "722c5b70-1339-4147-9b10-b9b452aa60ad",
   "metadata": {},
   "outputs": [
    {
     "data": {
      "text/plain": [
       "5    False\n",
       "4    False\n",
       "3    False\n",
       "0    False\n",
       "1    False\n",
       "2    False\n",
       "Name: age, dtype: bool"
      ]
     },
     "execution_count": 2779,
     "metadata": {},
     "output_type": "execute_result"
    }
   ],
   "source": [
    "df.age.duplicated()"
   ]
  },
  {
   "cell_type": "code",
   "execution_count": 2780,
   "id": "bdee6c00-20e1-4383-a49a-98500a719d40",
   "metadata": {},
   "outputs": [
    {
     "data": {
      "text/plain": [
       "0"
      ]
     },
     "execution_count": 2780,
     "metadata": {},
     "output_type": "execute_result"
    }
   ],
   "source": [
    "df.duplicated(['age', 'gender']).sum()"
   ]
  },
  {
   "cell_type": "code",
   "execution_count": 2781,
   "id": "d84ca7d2-3e05-4233-87b1-e5780af69143",
   "metadata": {},
   "outputs": [
    {
     "data": {
      "text/html": [
       "<div>\n",
       "<style scoped>\n",
       "    .dataframe tbody tr th:only-of-type {\n",
       "        vertical-align: middle;\n",
       "    }\n",
       "\n",
       "    .dataframe tbody tr th {\n",
       "        vertical-align: top;\n",
       "    }\n",
       "\n",
       "    .dataframe thead th {\n",
       "        text-align: right;\n",
       "    }\n",
       "</style>\n",
       "<table border=\"1\" class=\"dataframe\">\n",
       "  <thead>\n",
       "    <tr style=\"text-align: right;\">\n",
       "      <th></th>\n",
       "      <th>name</th>\n",
       "      <th>age</th>\n",
       "      <th>gender</th>\n",
       "      <th>job</th>\n",
       "      <th>height</th>\n",
       "    </tr>\n",
       "  </thead>\n",
       "  <tbody>\n",
       "    <tr>\n",
       "      <th>5</th>\n",
       "      <td>peter</td>\n",
       "      <td>33</td>\n",
       "      <td>M</td>\n",
       "      <td>engineer</td>\n",
       "      <td>NaN</td>\n",
       "    </tr>\n",
       "    <tr>\n",
       "      <th>4</th>\n",
       "      <td>paul</td>\n",
       "      <td>58</td>\n",
       "      <td>F</td>\n",
       "      <td>manager</td>\n",
       "      <td>NaN</td>\n",
       "    </tr>\n",
       "    <tr>\n",
       "      <th>3</th>\n",
       "      <td>julie</td>\n",
       "      <td>44</td>\n",
       "      <td>F</td>\n",
       "      <td>scientist</td>\n",
       "      <td>171.0</td>\n",
       "    </tr>\n",
       "    <tr>\n",
       "      <th>0</th>\n",
       "      <td>alice</td>\n",
       "      <td>19</td>\n",
       "      <td>F</td>\n",
       "      <td>student</td>\n",
       "      <td>165.0</td>\n",
       "    </tr>\n",
       "    <tr>\n",
       "      <th>1</th>\n",
       "      <td>eric</td>\n",
       "      <td>22</td>\n",
       "      <td>M</td>\n",
       "      <td>student</td>\n",
       "      <td>175.0</td>\n",
       "    </tr>\n",
       "    <tr>\n",
       "      <th>2</th>\n",
       "      <td>john</td>\n",
       "      <td>26</td>\n",
       "      <td>M</td>\n",
       "      <td>student</td>\n",
       "      <td>180.0</td>\n",
       "    </tr>\n",
       "  </tbody>\n",
       "</table>\n",
       "</div>"
      ],
      "text/plain": [
       "    name  age gender        job  height\n",
       "5  peter   33      M   engineer     NaN\n",
       "4   paul   58      F    manager     NaN\n",
       "3  julie   44      F  scientist   171.0\n",
       "0  alice   19      F    student   165.0\n",
       "1   eric   22      M    student   175.0\n",
       "2   john   26      M    student   180.0"
      ]
     },
     "execution_count": 2781,
     "metadata": {},
     "output_type": "execute_result"
    }
   ],
   "source": [
    "df = df.drop_duplicates()\n",
    "df\n"
   ]
  },
  {
   "cell_type": "code",
   "execution_count": 2782,
   "id": "931352f9-e8bd-44eb-8bf6-1d5053b2a7ba",
   "metadata": {},
   "outputs": [
    {
     "data": {
      "text/html": [
       "<div>\n",
       "<style scoped>\n",
       "    .dataframe tbody tr th:only-of-type {\n",
       "        vertical-align: middle;\n",
       "    }\n",
       "\n",
       "    .dataframe tbody tr th {\n",
       "        vertical-align: top;\n",
       "    }\n",
       "\n",
       "    .dataframe thead th {\n",
       "        text-align: right;\n",
       "    }\n",
       "</style>\n",
       "<table border=\"1\" class=\"dataframe\">\n",
       "  <thead>\n",
       "    <tr style=\"text-align: right;\">\n",
       "      <th></th>\n",
       "      <th>name</th>\n",
       "      <th>age</th>\n",
       "      <th>gender</th>\n",
       "      <th>job</th>\n",
       "      <th>height</th>\n",
       "    </tr>\n",
       "  </thead>\n",
       "  <tbody>\n",
       "    <tr>\n",
       "      <th>0</th>\n",
       "      <td>alice</td>\n",
       "      <td>19</td>\n",
       "      <td>F</td>\n",
       "      <td>student</td>\n",
       "      <td>165.0</td>\n",
       "    </tr>\n",
       "    <tr>\n",
       "      <th>1</th>\n",
       "      <td>eric</td>\n",
       "      <td>22</td>\n",
       "      <td>M</td>\n",
       "      <td>student</td>\n",
       "      <td>175.0</td>\n",
       "    </tr>\n",
       "    <tr>\n",
       "      <th>2</th>\n",
       "      <td>john</td>\n",
       "      <td>26</td>\n",
       "      <td>M</td>\n",
       "      <td>student</td>\n",
       "      <td>180.0</td>\n",
       "    </tr>\n",
       "    <tr>\n",
       "      <th>3</th>\n",
       "      <td>julie</td>\n",
       "      <td>44</td>\n",
       "      <td>F</td>\n",
       "      <td>scientist</td>\n",
       "      <td>171.0</td>\n",
       "    </tr>\n",
       "    <tr>\n",
       "      <th>4</th>\n",
       "      <td>paul</td>\n",
       "      <td>58</td>\n",
       "      <td>F</td>\n",
       "      <td>manager</td>\n",
       "      <td>NaN</td>\n",
       "    </tr>\n",
       "  </tbody>\n",
       "</table>\n",
       "</div>"
      ],
      "text/plain": [
       "    name  age gender        job  height\n",
       "0  alice   19      F    student   165.0\n",
       "1   eric   22      M    student   175.0\n",
       "2   john   26      M    student   180.0\n",
       "3  julie   44      F  scientist   171.0\n",
       "4   paul   58      F    manager     NaN"
      ]
     },
     "execution_count": 2782,
     "metadata": {},
     "output_type": "execute_result"
    }
   ],
   "source": [
    "# Missing values are often just excluded\n",
    "df = users.copy()\n",
    "\n",
    "df.head()"
   ]
  },
  {
   "cell_type": "code",
   "execution_count": 2783,
   "id": "f38e0509-3f6a-4e0f-b3c4-433407df6961",
   "metadata": {},
   "outputs": [
    {
     "data": {
      "text/html": [
       "<div>\n",
       "<style scoped>\n",
       "    .dataframe tbody tr th:only-of-type {\n",
       "        vertical-align: middle;\n",
       "    }\n",
       "\n",
       "    .dataframe tbody tr th {\n",
       "        vertical-align: top;\n",
       "    }\n",
       "\n",
       "    .dataframe thead th {\n",
       "        text-align: right;\n",
       "    }\n",
       "</style>\n",
       "<table border=\"1\" class=\"dataframe\">\n",
       "  <thead>\n",
       "    <tr style=\"text-align: right;\">\n",
       "      <th></th>\n",
       "      <th>name</th>\n",
       "      <th>age</th>\n",
       "      <th>gender</th>\n",
       "      <th>job</th>\n",
       "      <th>height</th>\n",
       "    </tr>\n",
       "  </thead>\n",
       "  <tbody>\n",
       "    <tr>\n",
       "      <th>count</th>\n",
       "      <td>6</td>\n",
       "      <td>6.000000</td>\n",
       "      <td>6</td>\n",
       "      <td>6</td>\n",
       "      <td>4.000000</td>\n",
       "    </tr>\n",
       "    <tr>\n",
       "      <th>unique</th>\n",
       "      <td>6</td>\n",
       "      <td>NaN</td>\n",
       "      <td>2</td>\n",
       "      <td>4</td>\n",
       "      <td>NaN</td>\n",
       "    </tr>\n",
       "    <tr>\n",
       "      <th>top</th>\n",
       "      <td>alice</td>\n",
       "      <td>NaN</td>\n",
       "      <td>F</td>\n",
       "      <td>student</td>\n",
       "      <td>NaN</td>\n",
       "    </tr>\n",
       "    <tr>\n",
       "      <th>freq</th>\n",
       "      <td>1</td>\n",
       "      <td>NaN</td>\n",
       "      <td>3</td>\n",
       "      <td>3</td>\n",
       "      <td>NaN</td>\n",
       "    </tr>\n",
       "    <tr>\n",
       "      <th>mean</th>\n",
       "      <td>NaN</td>\n",
       "      <td>33.666667</td>\n",
       "      <td>NaN</td>\n",
       "      <td>NaN</td>\n",
       "      <td>172.750000</td>\n",
       "    </tr>\n",
       "    <tr>\n",
       "      <th>std</th>\n",
       "      <td>NaN</td>\n",
       "      <td>14.895189</td>\n",
       "      <td>NaN</td>\n",
       "      <td>NaN</td>\n",
       "      <td>6.344289</td>\n",
       "    </tr>\n",
       "    <tr>\n",
       "      <th>min</th>\n",
       "      <td>NaN</td>\n",
       "      <td>19.000000</td>\n",
       "      <td>NaN</td>\n",
       "      <td>NaN</td>\n",
       "      <td>165.000000</td>\n",
       "    </tr>\n",
       "    <tr>\n",
       "      <th>25%</th>\n",
       "      <td>NaN</td>\n",
       "      <td>23.000000</td>\n",
       "      <td>NaN</td>\n",
       "      <td>NaN</td>\n",
       "      <td>169.500000</td>\n",
       "    </tr>\n",
       "    <tr>\n",
       "      <th>50%</th>\n",
       "      <td>NaN</td>\n",
       "      <td>29.500000</td>\n",
       "      <td>NaN</td>\n",
       "      <td>NaN</td>\n",
       "      <td>173.000000</td>\n",
       "    </tr>\n",
       "    <tr>\n",
       "      <th>75%</th>\n",
       "      <td>NaN</td>\n",
       "      <td>41.250000</td>\n",
       "      <td>NaN</td>\n",
       "      <td>NaN</td>\n",
       "      <td>176.250000</td>\n",
       "    </tr>\n",
       "    <tr>\n",
       "      <th>max</th>\n",
       "      <td>NaN</td>\n",
       "      <td>58.000000</td>\n",
       "      <td>NaN</td>\n",
       "      <td>NaN</td>\n",
       "      <td>180.000000</td>\n",
       "    </tr>\n",
       "  </tbody>\n",
       "</table>\n",
       "</div>"
      ],
      "text/plain": [
       "         name        age gender      job      height\n",
       "count       6   6.000000      6        6    4.000000\n",
       "unique      6        NaN      2        4         NaN\n",
       "top     alice        NaN      F  student         NaN\n",
       "freq        1        NaN      3        3         NaN\n",
       "mean      NaN  33.666667    NaN      NaN  172.750000\n",
       "std       NaN  14.895189    NaN      NaN    6.344289\n",
       "min       NaN  19.000000    NaN      NaN  165.000000\n",
       "25%       NaN  23.000000    NaN      NaN  169.500000\n",
       "50%       NaN  29.500000    NaN      NaN  173.000000\n",
       "75%       NaN  41.250000    NaN      NaN  176.250000\n",
       "max       NaN  58.000000    NaN      NaN  180.000000"
      ]
     },
     "execution_count": 2783,
     "metadata": {},
     "output_type": "execute_result"
    }
   ],
   "source": [
    "df.describe(include='all')"
   ]
  },
  {
   "cell_type": "code",
   "execution_count": 2784,
   "id": "a0677972-c4ed-444f-bf4a-058889805c81",
   "metadata": {},
   "outputs": [
    {
     "data": {
      "text/plain": [
       "0    False\n",
       "1    False\n",
       "2    False\n",
       "3    False\n",
       "4     True\n",
       "5     True\n",
       "Name: height, dtype: bool"
      ]
     },
     "execution_count": 2784,
     "metadata": {},
     "output_type": "execute_result"
    }
   ],
   "source": [
    "df.height.isnull()"
   ]
  },
  {
   "cell_type": "code",
   "execution_count": 2785,
   "id": "445c3ff2-6749-46a1-ba62-b22cc82ef4b8",
   "metadata": {},
   "outputs": [
    {
     "data": {
      "text/plain": [
       "0     True\n",
       "1     True\n",
       "2     True\n",
       "3     True\n",
       "4    False\n",
       "5    False\n",
       "Name: height, dtype: bool"
      ]
     },
     "execution_count": 2785,
     "metadata": {},
     "output_type": "execute_result"
    }
   ],
   "source": [
    "df.height.notnull()"
   ]
  },
  {
   "cell_type": "code",
   "execution_count": 2786,
   "id": "3f46e631-7692-4553-8f39-18a2c0219ecf",
   "metadata": {},
   "outputs": [
    {
     "data": {
      "text/html": [
       "<div>\n",
       "<style scoped>\n",
       "    .dataframe tbody tr th:only-of-type {\n",
       "        vertical-align: middle;\n",
       "    }\n",
       "\n",
       "    .dataframe tbody tr th {\n",
       "        vertical-align: top;\n",
       "    }\n",
       "\n",
       "    .dataframe thead th {\n",
       "        text-align: right;\n",
       "    }\n",
       "</style>\n",
       "<table border=\"1\" class=\"dataframe\">\n",
       "  <thead>\n",
       "    <tr style=\"text-align: right;\">\n",
       "      <th></th>\n",
       "      <th>name</th>\n",
       "      <th>age</th>\n",
       "      <th>gender</th>\n",
       "      <th>job</th>\n",
       "      <th>height</th>\n",
       "    </tr>\n",
       "  </thead>\n",
       "  <tbody>\n",
       "    <tr>\n",
       "      <th>0</th>\n",
       "      <td>alice</td>\n",
       "      <td>19</td>\n",
       "      <td>F</td>\n",
       "      <td>student</td>\n",
       "      <td>165.0</td>\n",
       "    </tr>\n",
       "    <tr>\n",
       "      <th>1</th>\n",
       "      <td>eric</td>\n",
       "      <td>22</td>\n",
       "      <td>M</td>\n",
       "      <td>student</td>\n",
       "      <td>175.0</td>\n",
       "    </tr>\n",
       "    <tr>\n",
       "      <th>2</th>\n",
       "      <td>john</td>\n",
       "      <td>26</td>\n",
       "      <td>M</td>\n",
       "      <td>student</td>\n",
       "      <td>180.0</td>\n",
       "    </tr>\n",
       "    <tr>\n",
       "      <th>3</th>\n",
       "      <td>julie</td>\n",
       "      <td>44</td>\n",
       "      <td>F</td>\n",
       "      <td>scientist</td>\n",
       "      <td>171.0</td>\n",
       "    </tr>\n",
       "  </tbody>\n",
       "</table>\n",
       "</div>"
      ],
      "text/plain": [
       "    name  age gender        job  height\n",
       "0  alice   19      F    student   165.0\n",
       "1   eric   22      M    student   175.0\n",
       "2   john   26      M    student   180.0\n",
       "3  julie   44      F  scientist   171.0"
      ]
     },
     "execution_count": 2786,
     "metadata": {},
     "output_type": "execute_result"
    }
   ],
   "source": [
    "df[df.height.notnull()]"
   ]
  },
  {
   "cell_type": "code",
   "execution_count": 2787,
   "id": "a5df114d-4f27-46c9-8c54-0b928c30c431",
   "metadata": {},
   "outputs": [
    {
     "data": {
      "text/plain": [
       "2"
      ]
     },
     "execution_count": 2787,
     "metadata": {},
     "output_type": "execute_result"
    }
   ],
   "source": [
    "df.height.isnull().sum()"
   ]
  },
  {
   "cell_type": "code",
   "execution_count": 2788,
   "id": "8f95b231-44d2-4b0b-877d-3eacc9a3e3a0",
   "metadata": {},
   "outputs": [
    {
     "data": {
      "text/html": [
       "<div>\n",
       "<style scoped>\n",
       "    .dataframe tbody tr th:only-of-type {\n",
       "        vertical-align: middle;\n",
       "    }\n",
       "\n",
       "    .dataframe tbody tr th {\n",
       "        vertical-align: top;\n",
       "    }\n",
       "\n",
       "    .dataframe thead th {\n",
       "        text-align: right;\n",
       "    }\n",
       "</style>\n",
       "<table border=\"1\" class=\"dataframe\">\n",
       "  <thead>\n",
       "    <tr style=\"text-align: right;\">\n",
       "      <th></th>\n",
       "      <th>name</th>\n",
       "      <th>age</th>\n",
       "      <th>gender</th>\n",
       "      <th>job</th>\n",
       "      <th>height</th>\n",
       "    </tr>\n",
       "  </thead>\n",
       "  <tbody>\n",
       "    <tr>\n",
       "      <th>0</th>\n",
       "      <td>False</td>\n",
       "      <td>False</td>\n",
       "      <td>False</td>\n",
       "      <td>False</td>\n",
       "      <td>False</td>\n",
       "    </tr>\n",
       "    <tr>\n",
       "      <th>1</th>\n",
       "      <td>False</td>\n",
       "      <td>False</td>\n",
       "      <td>False</td>\n",
       "      <td>False</td>\n",
       "      <td>False</td>\n",
       "    </tr>\n",
       "    <tr>\n",
       "      <th>2</th>\n",
       "      <td>False</td>\n",
       "      <td>False</td>\n",
       "      <td>False</td>\n",
       "      <td>False</td>\n",
       "      <td>False</td>\n",
       "    </tr>\n",
       "    <tr>\n",
       "      <th>3</th>\n",
       "      <td>False</td>\n",
       "      <td>False</td>\n",
       "      <td>False</td>\n",
       "      <td>False</td>\n",
       "      <td>False</td>\n",
       "    </tr>\n",
       "    <tr>\n",
       "      <th>4</th>\n",
       "      <td>False</td>\n",
       "      <td>False</td>\n",
       "      <td>False</td>\n",
       "      <td>False</td>\n",
       "      <td>True</td>\n",
       "    </tr>\n",
       "    <tr>\n",
       "      <th>5</th>\n",
       "      <td>False</td>\n",
       "      <td>False</td>\n",
       "      <td>False</td>\n",
       "      <td>False</td>\n",
       "      <td>True</td>\n",
       "    </tr>\n",
       "  </tbody>\n",
       "</table>\n",
       "</div>"
      ],
      "text/plain": [
       "    name    age  gender    job  height\n",
       "0  False  False   False  False   False\n",
       "1  False  False   False  False   False\n",
       "2  False  False   False  False   False\n",
       "3  False  False   False  False   False\n",
       "4  False  False   False  False    True\n",
       "5  False  False   False  False    True"
      ]
     },
     "execution_count": 2788,
     "metadata": {},
     "output_type": "execute_result"
    }
   ],
   "source": [
    "df.isnull()"
   ]
  },
  {
   "cell_type": "code",
   "execution_count": 2789,
   "id": "8e7f8e81-e02a-43a1-9115-a4726971ec52",
   "metadata": {},
   "outputs": [
    {
     "data": {
      "text/plain": [
       "name      0\n",
       "age       0\n",
       "gender    0\n",
       "job       0\n",
       "height    2\n",
       "dtype: int64"
      ]
     },
     "execution_count": 2789,
     "metadata": {},
     "output_type": "execute_result"
    }
   ],
   "source": [
    "df.isnull().sum()"
   ]
  },
  {
   "cell_type": "code",
   "execution_count": 2790,
   "id": "fbe94344-6640-4585-a401-47c2dfd5bb43",
   "metadata": {},
   "outputs": [
    {
     "data": {
      "text/html": [
       "<div>\n",
       "<style scoped>\n",
       "    .dataframe tbody tr th:only-of-type {\n",
       "        vertical-align: middle;\n",
       "    }\n",
       "\n",
       "    .dataframe tbody tr th {\n",
       "        vertical-align: top;\n",
       "    }\n",
       "\n",
       "    .dataframe thead th {\n",
       "        text-align: right;\n",
       "    }\n",
       "</style>\n",
       "<table border=\"1\" class=\"dataframe\">\n",
       "  <thead>\n",
       "    <tr style=\"text-align: right;\">\n",
       "      <th></th>\n",
       "      <th>name</th>\n",
       "      <th>age</th>\n",
       "      <th>gender</th>\n",
       "      <th>job</th>\n",
       "      <th>height</th>\n",
       "    </tr>\n",
       "  </thead>\n",
       "  <tbody>\n",
       "    <tr>\n",
       "      <th>0</th>\n",
       "      <td>alice</td>\n",
       "      <td>19</td>\n",
       "      <td>F</td>\n",
       "      <td>student</td>\n",
       "      <td>165.0</td>\n",
       "    </tr>\n",
       "    <tr>\n",
       "      <th>1</th>\n",
       "      <td>eric</td>\n",
       "      <td>22</td>\n",
       "      <td>M</td>\n",
       "      <td>student</td>\n",
       "      <td>175.0</td>\n",
       "    </tr>\n",
       "    <tr>\n",
       "      <th>2</th>\n",
       "      <td>john</td>\n",
       "      <td>26</td>\n",
       "      <td>M</td>\n",
       "      <td>student</td>\n",
       "      <td>180.0</td>\n",
       "    </tr>\n",
       "    <tr>\n",
       "      <th>3</th>\n",
       "      <td>julie</td>\n",
       "      <td>44</td>\n",
       "      <td>F</td>\n",
       "      <td>scientist</td>\n",
       "      <td>171.0</td>\n",
       "    </tr>\n",
       "  </tbody>\n",
       "</table>\n",
       "</div>"
      ],
      "text/plain": [
       "    name  age gender        job  height\n",
       "0  alice   19      F    student   165.0\n",
       "1   eric   22      M    student   175.0\n",
       "2   john   26      M    student   180.0\n",
       "3  julie   44      F  scientist   171.0"
      ]
     },
     "execution_count": 2790,
     "metadata": {},
     "output_type": "execute_result"
    }
   ],
   "source": [
    "df.dropna()"
   ]
  },
  {
   "cell_type": "code",
   "execution_count": 2791,
   "id": "1398b903-8d3b-4500-a4aa-9447d52670c9",
   "metadata": {},
   "outputs": [
    {
     "data": {
      "text/html": [
       "<div>\n",
       "<style scoped>\n",
       "    .dataframe tbody tr th:only-of-type {\n",
       "        vertical-align: middle;\n",
       "    }\n",
       "\n",
       "    .dataframe tbody tr th {\n",
       "        vertical-align: top;\n",
       "    }\n",
       "\n",
       "    .dataframe thead th {\n",
       "        text-align: right;\n",
       "    }\n",
       "</style>\n",
       "<table border=\"1\" class=\"dataframe\">\n",
       "  <thead>\n",
       "    <tr style=\"text-align: right;\">\n",
       "      <th></th>\n",
       "      <th>name</th>\n",
       "      <th>age</th>\n",
       "      <th>gender</th>\n",
       "      <th>job</th>\n",
       "      <th>height</th>\n",
       "    </tr>\n",
       "  </thead>\n",
       "  <tbody>\n",
       "    <tr>\n",
       "      <th>0</th>\n",
       "      <td>alice</td>\n",
       "      <td>19</td>\n",
       "      <td>F</td>\n",
       "      <td>student</td>\n",
       "      <td>165.0</td>\n",
       "    </tr>\n",
       "    <tr>\n",
       "      <th>1</th>\n",
       "      <td>eric</td>\n",
       "      <td>22</td>\n",
       "      <td>M</td>\n",
       "      <td>student</td>\n",
       "      <td>175.0</td>\n",
       "    </tr>\n",
       "    <tr>\n",
       "      <th>2</th>\n",
       "      <td>john</td>\n",
       "      <td>26</td>\n",
       "      <td>M</td>\n",
       "      <td>student</td>\n",
       "      <td>180.0</td>\n",
       "    </tr>\n",
       "    <tr>\n",
       "      <th>3</th>\n",
       "      <td>julie</td>\n",
       "      <td>44</td>\n",
       "      <td>F</td>\n",
       "      <td>scientist</td>\n",
       "      <td>171.0</td>\n",
       "    </tr>\n",
       "    <tr>\n",
       "      <th>4</th>\n",
       "      <td>paul</td>\n",
       "      <td>58</td>\n",
       "      <td>F</td>\n",
       "      <td>manager</td>\n",
       "      <td>NaN</td>\n",
       "    </tr>\n",
       "    <tr>\n",
       "      <th>5</th>\n",
       "      <td>peter</td>\n",
       "      <td>33</td>\n",
       "      <td>M</td>\n",
       "      <td>engineer</td>\n",
       "      <td>NaN</td>\n",
       "    </tr>\n",
       "  </tbody>\n",
       "</table>\n",
       "</div>"
      ],
      "text/plain": [
       "    name  age gender        job  height\n",
       "0  alice   19      F    student   165.0\n",
       "1   eric   22      M    student   175.0\n",
       "2   john   26      M    student   180.0\n",
       "3  julie   44      F  scientist   171.0\n",
       "4   paul   58      F    manager     NaN\n",
       "5  peter   33      M   engineer     NaN"
      ]
     },
     "execution_count": 2791,
     "metadata": {},
     "output_type": "execute_result"
    }
   ],
   "source": [
    "df.dropna(how='all')"
   ]
  },
  {
   "cell_type": "code",
   "execution_count": 2792,
   "id": "d8affb9a-e5ff-49ab-9e1b-af12eb62d7bb",
   "metadata": {},
   "outputs": [
    {
     "data": {
      "text/plain": [
       "172.75"
      ]
     },
     "execution_count": 2792,
     "metadata": {},
     "output_type": "execute_result"
    }
   ],
   "source": [
    "df.height.mean()"
   ]
  },
  {
   "cell_type": "code",
   "execution_count": 2793,
   "id": "52366820-a084-47fe-881c-2e620d08b45a",
   "metadata": {},
   "outputs": [
    {
     "data": {
      "text/html": [
       "<div>\n",
       "<style scoped>\n",
       "    .dataframe tbody tr th:only-of-type {\n",
       "        vertical-align: middle;\n",
       "    }\n",
       "\n",
       "    .dataframe tbody tr th {\n",
       "        vertical-align: top;\n",
       "    }\n",
       "\n",
       "    .dataframe thead th {\n",
       "        text-align: right;\n",
       "    }\n",
       "</style>\n",
       "<table border=\"1\" class=\"dataframe\">\n",
       "  <thead>\n",
       "    <tr style=\"text-align: right;\">\n",
       "      <th></th>\n",
       "      <th>name</th>\n",
       "      <th>age</th>\n",
       "      <th>gender</th>\n",
       "      <th>job</th>\n",
       "      <th>height</th>\n",
       "    </tr>\n",
       "  </thead>\n",
       "  <tbody>\n",
       "    <tr>\n",
       "      <th>0</th>\n",
       "      <td>alice</td>\n",
       "      <td>19</td>\n",
       "      <td>F</td>\n",
       "      <td>student</td>\n",
       "      <td>165.0</td>\n",
       "    </tr>\n",
       "    <tr>\n",
       "      <th>1</th>\n",
       "      <td>eric</td>\n",
       "      <td>22</td>\n",
       "      <td>M</td>\n",
       "      <td>student</td>\n",
       "      <td>175.0</td>\n",
       "    </tr>\n",
       "    <tr>\n",
       "      <th>2</th>\n",
       "      <td>john</td>\n",
       "      <td>26</td>\n",
       "      <td>M</td>\n",
       "      <td>student</td>\n",
       "      <td>180.0</td>\n",
       "    </tr>\n",
       "    <tr>\n",
       "      <th>3</th>\n",
       "      <td>julie</td>\n",
       "      <td>44</td>\n",
       "      <td>F</td>\n",
       "      <td>scientist</td>\n",
       "      <td>171.0</td>\n",
       "    </tr>\n",
       "    <tr>\n",
       "      <th>4</th>\n",
       "      <td>paul</td>\n",
       "      <td>58</td>\n",
       "      <td>F</td>\n",
       "      <td>manager</td>\n",
       "      <td>NaN</td>\n",
       "    </tr>\n",
       "  </tbody>\n",
       "</table>\n",
       "</div>"
      ],
      "text/plain": [
       "    name  age gender        job  height\n",
       "0  alice   19      F    student   165.0\n",
       "1   eric   22      M    student   175.0\n",
       "2   john   26      M    student   180.0\n",
       "3  julie   44      F  scientist   171.0\n",
       "4   paul   58      F    manager     NaN"
      ]
     },
     "execution_count": 2793,
     "metadata": {},
     "output_type": "execute_result"
    }
   ],
   "source": [
    "df = users.copy()\n",
    "df.head()"
   ]
  },
  {
   "cell_type": "code",
   "execution_count": 2794,
   "id": "c6985a44-6107-480d-acfe-95e244e5aa31",
   "metadata": {},
   "outputs": [
    {
     "data": {
      "text/plain": [
       "4   NaN\n",
       "5   NaN\n",
       "Name: height, dtype: float64"
      ]
     },
     "execution_count": 2794,
     "metadata": {},
     "output_type": "execute_result"
    }
   ],
   "source": [
    "df.loc[df.height.isnull(), 'height']"
   ]
  },
  {
   "cell_type": "code",
   "execution_count": 2795,
   "id": "24d3bf79-b210-4ece-afc9-979d2b6c30f6",
   "metadata": {},
   "outputs": [
    {
     "data": {
      "text/html": [
       "<div>\n",
       "<style scoped>\n",
       "    .dataframe tbody tr th:only-of-type {\n",
       "        vertical-align: middle;\n",
       "    }\n",
       "\n",
       "    .dataframe tbody tr th {\n",
       "        vertical-align: top;\n",
       "    }\n",
       "\n",
       "    .dataframe thead th {\n",
       "        text-align: right;\n",
       "    }\n",
       "</style>\n",
       "<table border=\"1\" class=\"dataframe\">\n",
       "  <thead>\n",
       "    <tr style=\"text-align: right;\">\n",
       "      <th></th>\n",
       "      <th>name</th>\n",
       "      <th>age</th>\n",
       "      <th>gender</th>\n",
       "      <th>job</th>\n",
       "      <th>height</th>\n",
       "    </tr>\n",
       "  </thead>\n",
       "  <tbody>\n",
       "    <tr>\n",
       "      <th>0</th>\n",
       "      <td>alice</td>\n",
       "      <td>19</td>\n",
       "      <td>F</td>\n",
       "      <td>student</td>\n",
       "      <td>165.00</td>\n",
       "    </tr>\n",
       "    <tr>\n",
       "      <th>1</th>\n",
       "      <td>eric</td>\n",
       "      <td>22</td>\n",
       "      <td>M</td>\n",
       "      <td>student</td>\n",
       "      <td>175.00</td>\n",
       "    </tr>\n",
       "    <tr>\n",
       "      <th>2</th>\n",
       "      <td>john</td>\n",
       "      <td>26</td>\n",
       "      <td>M</td>\n",
       "      <td>student</td>\n",
       "      <td>180.00</td>\n",
       "    </tr>\n",
       "    <tr>\n",
       "      <th>3</th>\n",
       "      <td>julie</td>\n",
       "      <td>44</td>\n",
       "      <td>F</td>\n",
       "      <td>scientist</td>\n",
       "      <td>171.00</td>\n",
       "    </tr>\n",
       "    <tr>\n",
       "      <th>4</th>\n",
       "      <td>paul</td>\n",
       "      <td>58</td>\n",
       "      <td>F</td>\n",
       "      <td>manager</td>\n",
       "      <td>172.75</td>\n",
       "    </tr>\n",
       "  </tbody>\n",
       "</table>\n",
       "</div>"
      ],
      "text/plain": [
       "    name  age gender        job  height\n",
       "0  alice   19      F    student  165.00\n",
       "1   eric   22      M    student  175.00\n",
       "2   john   26      M    student  180.00\n",
       "3  julie   44      F  scientist  171.00\n",
       "4   paul   58      F    manager  172.75"
      ]
     },
     "execution_count": 2795,
     "metadata": {},
     "output_type": "execute_result"
    }
   ],
   "source": [
    "df.loc[df.height.isnull(), 'height'] = df['height'].mean()\n",
    "df.head()"
   ]
  },
  {
   "cell_type": "code",
   "execution_count": 2796,
   "id": "95e19883-0564-4cef-a1e0-55744608c499",
   "metadata": {},
   "outputs": [
    {
     "data": {
      "text/html": [
       "<div>\n",
       "<style scoped>\n",
       "    .dataframe tbody tr th:only-of-type {\n",
       "        vertical-align: middle;\n",
       "    }\n",
       "\n",
       "    .dataframe tbody tr th {\n",
       "        vertical-align: top;\n",
       "    }\n",
       "\n",
       "    .dataframe thead th {\n",
       "        text-align: right;\n",
       "    }\n",
       "</style>\n",
       "<table border=\"1\" class=\"dataframe\">\n",
       "  <thead>\n",
       "    <tr style=\"text-align: right;\">\n",
       "      <th></th>\n",
       "      <th>name</th>\n",
       "      <th>age</th>\n",
       "      <th>gender</th>\n",
       "      <th>job</th>\n",
       "      <th>height</th>\n",
       "    </tr>\n",
       "  </thead>\n",
       "  <tbody>\n",
       "    <tr>\n",
       "      <th>0</th>\n",
       "      <td>alice</td>\n",
       "      <td>19</td>\n",
       "      <td>F</td>\n",
       "      <td>student</td>\n",
       "      <td>165.0</td>\n",
       "    </tr>\n",
       "    <tr>\n",
       "      <th>1</th>\n",
       "      <td>eric</td>\n",
       "      <td>22</td>\n",
       "      <td>M</td>\n",
       "      <td>student</td>\n",
       "      <td>175.0</td>\n",
       "    </tr>\n",
       "    <tr>\n",
       "      <th>2</th>\n",
       "      <td>john</td>\n",
       "      <td>26</td>\n",
       "      <td>M</td>\n",
       "      <td>student</td>\n",
       "      <td>180.0</td>\n",
       "    </tr>\n",
       "    <tr>\n",
       "      <th>3</th>\n",
       "      <td>julie</td>\n",
       "      <td>44</td>\n",
       "      <td>F</td>\n",
       "      <td>scientist</td>\n",
       "      <td>171.0</td>\n",
       "    </tr>\n",
       "  </tbody>\n",
       "</table>\n",
       "</div>"
      ],
      "text/plain": [
       "    name  age gender        job  height\n",
       "0  alice   19      F    student   165.0\n",
       "1   eric   22      M    student   175.0\n",
       "2   john   26      M    student   180.0\n",
       "3  julie   44      F  scientist   171.0"
      ]
     },
     "execution_count": 2796,
     "metadata": {},
     "output_type": "execute_result"
    }
   ],
   "source": [
    "df = users.dropna()\n",
    "df.head()"
   ]
  },
  {
   "cell_type": "code",
   "execution_count": 2797,
   "id": "d8189dac-0d16-40f1-9498-1c4b256cbd23",
   "metadata": {},
   "outputs": [
    {
     "data": {
      "text/html": [
       "<div>\n",
       "<style scoped>\n",
       "    .dataframe tbody tr th:only-of-type {\n",
       "        vertical-align: middle;\n",
       "    }\n",
       "\n",
       "    .dataframe tbody tr th {\n",
       "        vertical-align: top;\n",
       "    }\n",
       "\n",
       "    .dataframe thead th {\n",
       "        text-align: right;\n",
       "    }\n",
       "</style>\n",
       "<table border=\"1\" class=\"dataframe\">\n",
       "  <thead>\n",
       "    <tr style=\"text-align: right;\">\n",
       "      <th></th>\n",
       "      <th>random</th>\n",
       "      <th>name</th>\n",
       "      <th>age</th>\n",
       "      <th>gender</th>\n",
       "      <th>job</th>\n",
       "      <th>height</th>\n",
       "    </tr>\n",
       "  </thead>\n",
       "  <tbody>\n",
       "    <tr>\n",
       "      <th>0</th>\n",
       "      <td>0</td>\n",
       "      <td>alice</td>\n",
       "      <td>19</td>\n",
       "      <td>F</td>\n",
       "      <td>student</td>\n",
       "      <td>165.0</td>\n",
       "    </tr>\n",
       "    <tr>\n",
       "      <th>1</th>\n",
       "      <td>1</td>\n",
       "      <td>eric</td>\n",
       "      <td>22</td>\n",
       "      <td>M</td>\n",
       "      <td>student</td>\n",
       "      <td>175.0</td>\n",
       "    </tr>\n",
       "    <tr>\n",
       "      <th>2</th>\n",
       "      <td>2</td>\n",
       "      <td>john</td>\n",
       "      <td>26</td>\n",
       "      <td>M</td>\n",
       "      <td>student</td>\n",
       "      <td>180.0</td>\n",
       "    </tr>\n",
       "    <tr>\n",
       "      <th>3</th>\n",
       "      <td>3</td>\n",
       "      <td>julie</td>\n",
       "      <td>44</td>\n",
       "      <td>F</td>\n",
       "      <td>scientist</td>\n",
       "      <td>171.0</td>\n",
       "    </tr>\n",
       "  </tbody>\n",
       "</table>\n",
       "</div>"
      ],
      "text/plain": [
       "   random   name  age gender        job  height\n",
       "0       0  alice   19      F    student   165.0\n",
       "1       1   eric   22      M    student   175.0\n",
       "2       2   john   26      M    student   180.0\n",
       "3       3  julie   44      F  scientist   171.0"
      ]
     },
     "execution_count": 2797,
     "metadata": {},
     "output_type": "execute_result"
    }
   ],
   "source": [
    "df.insert(0, 'random', np.arange(df.shape[0]))\n",
    "df.head()"
   ]
  },
  {
   "cell_type": "code",
   "execution_count": 2798,
   "id": "4704b77b-b2ba-4cb9-a72e-bdc9af1ad284",
   "metadata": {},
   "outputs": [
    {
     "data": {
      "text/html": [
       "<div>\n",
       "<style scoped>\n",
       "    .dataframe tbody tr th:only-of-type {\n",
       "        vertical-align: middle;\n",
       "    }\n",
       "\n",
       "    .dataframe tbody tr th {\n",
       "        vertical-align: top;\n",
       "    }\n",
       "\n",
       "    .dataframe thead th {\n",
       "        text-align: right;\n",
       "    }\n",
       "</style>\n",
       "<table border=\"1\" class=\"dataframe\">\n",
       "  <thead>\n",
       "    <tr style=\"text-align: right;\">\n",
       "      <th></th>\n",
       "      <th>age</th>\n",
       "      <th>height</th>\n",
       "    </tr>\n",
       "  </thead>\n",
       "  <tbody>\n",
       "    <tr>\n",
       "      <th>0</th>\n",
       "      <td>0</td>\n",
       "      <td>0.0</td>\n",
       "    </tr>\n",
       "    <tr>\n",
       "      <th>1</th>\n",
       "      <td>22</td>\n",
       "      <td>175.0</td>\n",
       "    </tr>\n",
       "    <tr>\n",
       "      <th>2</th>\n",
       "      <td>52</td>\n",
       "      <td>360.0</td>\n",
       "    </tr>\n",
       "    <tr>\n",
       "      <th>3</th>\n",
       "      <td>132</td>\n",
       "      <td>513.0</td>\n",
       "    </tr>\n",
       "  </tbody>\n",
       "</table>\n",
       "</div>"
      ],
      "text/plain": [
       "   age  height\n",
       "0    0     0.0\n",
       "1   22   175.0\n",
       "2   52   360.0\n",
       "3  132   513.0"
      ]
     },
     "execution_count": 2798,
     "metadata": {},
     "output_type": "execute_result"
    }
   ],
   "source": [
    "df[['age', 'height']].multiply(df['random'], axis='index')"
   ]
  },
  {
   "cell_type": "code",
   "execution_count": 2799,
   "id": "329c09de-207f-4e1a-bbaf-6acbe218dbb6",
   "metadata": {},
   "outputs": [
    {
     "data": {
      "text/html": [
       "<div>\n",
       "<style scoped>\n",
       "    .dataframe tbody tr th:only-of-type {\n",
       "        vertical-align: middle;\n",
       "    }\n",
       "\n",
       "    .dataframe tbody tr th {\n",
       "        vertical-align: top;\n",
       "    }\n",
       "\n",
       "    .dataframe thead th {\n",
       "        text-align: right;\n",
       "    }\n",
       "</style>\n",
       "<table border=\"1\" class=\"dataframe\">\n",
       "  <thead>\n",
       "    <tr style=\"text-align: right;\">\n",
       "      <th></th>\n",
       "      <th>random</th>\n",
       "      <th>name</th>\n",
       "      <th>age</th>\n",
       "      <th>gender</th>\n",
       "      <th>job</th>\n",
       "      <th>height</th>\n",
       "    </tr>\n",
       "  </thead>\n",
       "  <tbody>\n",
       "    <tr>\n",
       "      <th>0</th>\n",
       "      <td>0</td>\n",
       "      <td>alice</td>\n",
       "      <td>19</td>\n",
       "      <td>F</td>\n",
       "      <td>student</td>\n",
       "      <td>165.0</td>\n",
       "    </tr>\n",
       "    <tr>\n",
       "      <th>1</th>\n",
       "      <td>1</td>\n",
       "      <td>eric</td>\n",
       "      <td>22</td>\n",
       "      <td>M</td>\n",
       "      <td>student</td>\n",
       "      <td>175.0</td>\n",
       "    </tr>\n",
       "    <tr>\n",
       "      <th>2</th>\n",
       "      <td>2</td>\n",
       "      <td>john</td>\n",
       "      <td>26</td>\n",
       "      <td>M</td>\n",
       "      <td>student</td>\n",
       "      <td>180.0</td>\n",
       "    </tr>\n",
       "    <tr>\n",
       "      <th>3</th>\n",
       "      <td>3</td>\n",
       "      <td>julie</td>\n",
       "      <td>44</td>\n",
       "      <td>F</td>\n",
       "      <td>scientist</td>\n",
       "      <td>171.0</td>\n",
       "    </tr>\n",
       "  </tbody>\n",
       "</table>\n",
       "</div>"
      ],
      "text/plain": [
       "   random   name  age gender        job  height\n",
       "0       0  alice   19      F    student   165.0\n",
       "1       1   eric   22      M    student   175.0\n",
       "2       2   john   26      M    student   180.0\n",
       "3       3  julie   44      F  scientist   171.0"
      ]
     },
     "execution_count": 2799,
     "metadata": {},
     "output_type": "execute_result"
    }
   ],
   "source": [
    "df.head()\n"
   ]
  },
  {
   "cell_type": "code",
   "execution_count": 2800,
   "id": "952ecbfe-a729-4683-824b-f2604f9c29e4",
   "metadata": {},
   "outputs": [
    {
     "data": {
      "text/html": [
       "<div>\n",
       "<style scoped>\n",
       "    .dataframe tbody tr th:only-of-type {\n",
       "        vertical-align: middle;\n",
       "    }\n",
       "\n",
       "    .dataframe tbody tr th {\n",
       "        vertical-align: top;\n",
       "    }\n",
       "\n",
       "    .dataframe thead th {\n",
       "        text-align: right;\n",
       "    }\n",
       "</style>\n",
       "<table border=\"1\" class=\"dataframe\">\n",
       "  <thead>\n",
       "    <tr style=\"text-align: right;\">\n",
       "      <th></th>\n",
       "      <th>name</th>\n",
       "      <th>age</th>\n",
       "      <th>gender</th>\n",
       "      <th>job</th>\n",
       "      <th>height</th>\n",
       "    </tr>\n",
       "  </thead>\n",
       "  <tbody>\n",
       "    <tr>\n",
       "      <th>0</th>\n",
       "      <td>alice</td>\n",
       "      <td>19</td>\n",
       "      <td>F</td>\n",
       "      <td>student</td>\n",
       "      <td>165.0</td>\n",
       "    </tr>\n",
       "    <tr>\n",
       "      <th>1</th>\n",
       "      <td>eric</td>\n",
       "      <td>22</td>\n",
       "      <td>M</td>\n",
       "      <td>student</td>\n",
       "      <td>175.0</td>\n",
       "    </tr>\n",
       "    <tr>\n",
       "      <th>2</th>\n",
       "      <td>john</td>\n",
       "      <td>26</td>\n",
       "      <td>M</td>\n",
       "      <td>student</td>\n",
       "      <td>180.0</td>\n",
       "    </tr>\n",
       "    <tr>\n",
       "      <th>3</th>\n",
       "      <td>julie</td>\n",
       "      <td>44</td>\n",
       "      <td>F</td>\n",
       "      <td>scientist</td>\n",
       "      <td>171.0</td>\n",
       "    </tr>\n",
       "    <tr>\n",
       "      <th>4</th>\n",
       "      <td>paul</td>\n",
       "      <td>58</td>\n",
       "      <td>F</td>\n",
       "      <td>manager</td>\n",
       "      <td>NaN</td>\n",
       "    </tr>\n",
       "    <tr>\n",
       "      <th>5</th>\n",
       "      <td>peter</td>\n",
       "      <td>33</td>\n",
       "      <td>M</td>\n",
       "      <td>engineer</td>\n",
       "      <td>NaN</td>\n",
       "    </tr>\n",
       "  </tbody>\n",
       "</table>\n",
       "</div>"
      ],
      "text/plain": [
       "    name  age gender        job  height\n",
       "0  alice   19      F    student   165.0\n",
       "1   eric   22      M    student   175.0\n",
       "2   john   26      M    student   180.0\n",
       "3  julie   44      F  scientist   171.0\n",
       "4   paul   58      F    manager     NaN\n",
       "5  peter   33      M   engineer     NaN"
      ]
     },
     "execution_count": 2800,
     "metadata": {},
     "output_type": "execute_result"
    }
   ],
   "source": [
    "df = users.copy()\n",
    "df"
   ]
  },
  {
   "cell_type": "code",
   "execution_count": 2801,
   "id": "eae29977-eade-4a8d-8194-ee196bc1362f",
   "metadata": {},
   "outputs": [
    {
     "data": {
      "text/html": [
       "<div>\n",
       "<style scoped>\n",
       "    .dataframe tbody tr th:only-of-type {\n",
       "        vertical-align: middle;\n",
       "    }\n",
       "\n",
       "    .dataframe tbody tr th {\n",
       "        vertical-align: top;\n",
       "    }\n",
       "\n",
       "    .dataframe thead th {\n",
       "        text-align: right;\n",
       "    }\n",
       "</style>\n",
       "<table border=\"1\" class=\"dataframe\">\n",
       "  <thead>\n",
       "    <tr style=\"text-align: right;\">\n",
       "      <th></th>\n",
       "      <th>NAME</th>\n",
       "      <th>age</th>\n",
       "      <th>gender</th>\n",
       "      <th>job</th>\n",
       "      <th>height</th>\n",
       "    </tr>\n",
       "  </thead>\n",
       "  <tbody>\n",
       "    <tr>\n",
       "      <th>0</th>\n",
       "      <td>alice</td>\n",
       "      <td>19</td>\n",
       "      <td>F</td>\n",
       "      <td>student</td>\n",
       "      <td>165.0</td>\n",
       "    </tr>\n",
       "    <tr>\n",
       "      <th>1</th>\n",
       "      <td>eric</td>\n",
       "      <td>22</td>\n",
       "      <td>M</td>\n",
       "      <td>student</td>\n",
       "      <td>175.0</td>\n",
       "    </tr>\n",
       "    <tr>\n",
       "      <th>2</th>\n",
       "      <td>john</td>\n",
       "      <td>26</td>\n",
       "      <td>M</td>\n",
       "      <td>student</td>\n",
       "      <td>180.0</td>\n",
       "    </tr>\n",
       "    <tr>\n",
       "      <th>3</th>\n",
       "      <td>julie</td>\n",
       "      <td>44</td>\n",
       "      <td>F</td>\n",
       "      <td>scientist</td>\n",
       "      <td>171.0</td>\n",
       "    </tr>\n",
       "    <tr>\n",
       "      <th>4</th>\n",
       "      <td>paul</td>\n",
       "      <td>58</td>\n",
       "      <td>F</td>\n",
       "      <td>manager</td>\n",
       "      <td>NaN</td>\n",
       "    </tr>\n",
       "    <tr>\n",
       "      <th>5</th>\n",
       "      <td>peter</td>\n",
       "      <td>33</td>\n",
       "      <td>M</td>\n",
       "      <td>engineer</td>\n",
       "      <td>NaN</td>\n",
       "    </tr>\n",
       "  </tbody>\n",
       "</table>\n",
       "</div>"
      ],
      "text/plain": [
       "    NAME  age gender        job  height\n",
       "0  alice   19      F    student   165.0\n",
       "1   eric   22      M    student   175.0\n",
       "2   john   26      M    student   180.0\n",
       "3  julie   44      F  scientist   171.0\n",
       "4   paul   58      F    manager     NaN\n",
       "5  peter   33      M   engineer     NaN"
      ]
     },
     "execution_count": 2801,
     "metadata": {},
     "output_type": "execute_result"
    }
   ],
   "source": [
    "df.rename(columns={'name': 'NAME'})"
   ]
  },
  {
   "cell_type": "code",
   "execution_count": 2802,
   "id": "50b205ae-935f-446a-b85e-b29476f722e6",
   "metadata": {},
   "outputs": [
    {
     "data": {
      "text/plain": [
       "0      student\n",
       "1      student\n",
       "2      student\n",
       "3    scientist\n",
       "4      manager\n",
       "5     engineer\n",
       "Name: job, dtype: object"
      ]
     },
     "execution_count": 2802,
     "metadata": {},
     "output_type": "execute_result"
    }
   ],
   "source": [
    "df.job"
   ]
  },
  {
   "cell_type": "code",
   "execution_count": 2803,
   "id": "f5a91111-af64-49b7-864d-4bc190224805",
   "metadata": {},
   "outputs": [],
   "source": [
    "df.job = df.job.map({'student': 'etudiant',\n",
    "                     'manager': 'manager',\n",
    "                     'engineer': 'ingenieur',\n",
    "                     'scientist': 'scientific'})"
   ]
  },
  {
   "cell_type": "code",
   "execution_count": 2804,
   "id": "43f97816-7ed1-4f40-9433-969a30d64c55",
   "metadata": {},
   "outputs": [
    {
     "data": {
      "text/html": [
       "<div>\n",
       "<style scoped>\n",
       "    .dataframe tbody tr th:only-of-type {\n",
       "        vertical-align: middle;\n",
       "    }\n",
       "\n",
       "    .dataframe tbody tr th {\n",
       "        vertical-align: top;\n",
       "    }\n",
       "\n",
       "    .dataframe thead th {\n",
       "        text-align: right;\n",
       "    }\n",
       "</style>\n",
       "<table border=\"1\" class=\"dataframe\">\n",
       "  <thead>\n",
       "    <tr style=\"text-align: right;\">\n",
       "      <th></th>\n",
       "      <th>name</th>\n",
       "      <th>age</th>\n",
       "      <th>gender</th>\n",
       "      <th>job</th>\n",
       "      <th>height</th>\n",
       "    </tr>\n",
       "  </thead>\n",
       "  <tbody>\n",
       "    <tr>\n",
       "      <th>0</th>\n",
       "      <td>alice</td>\n",
       "      <td>19</td>\n",
       "      <td>F</td>\n",
       "      <td>etudiant</td>\n",
       "      <td>165.0</td>\n",
       "    </tr>\n",
       "    <tr>\n",
       "      <th>1</th>\n",
       "      <td>eric</td>\n",
       "      <td>22</td>\n",
       "      <td>M</td>\n",
       "      <td>etudiant</td>\n",
       "      <td>175.0</td>\n",
       "    </tr>\n",
       "    <tr>\n",
       "      <th>2</th>\n",
       "      <td>john</td>\n",
       "      <td>26</td>\n",
       "      <td>M</td>\n",
       "      <td>etudiant</td>\n",
       "      <td>180.0</td>\n",
       "    </tr>\n",
       "    <tr>\n",
       "      <th>3</th>\n",
       "      <td>julie</td>\n",
       "      <td>44</td>\n",
       "      <td>F</td>\n",
       "      <td>scientific</td>\n",
       "      <td>171.0</td>\n",
       "    </tr>\n",
       "    <tr>\n",
       "      <th>4</th>\n",
       "      <td>paul</td>\n",
       "      <td>58</td>\n",
       "      <td>F</td>\n",
       "      <td>manager</td>\n",
       "      <td>NaN</td>\n",
       "    </tr>\n",
       "  </tbody>\n",
       "</table>\n",
       "</div>"
      ],
      "text/plain": [
       "    name  age gender         job  height\n",
       "0  alice   19      F    etudiant   165.0\n",
       "1   eric   22      M    etudiant   175.0\n",
       "2   john   26      M    etudiant   180.0\n",
       "3  julie   44      F  scientific   171.0\n",
       "4   paul   58      F     manager     NaN"
      ]
     },
     "execution_count": 2804,
     "metadata": {},
     "output_type": "execute_result"
    }
   ],
   "source": [
    "df.head()"
   ]
  },
  {
   "cell_type": "code",
   "execution_count": 2805,
   "id": "de6d6e48-ccc6-4ed8-af01-0dae28422ec0",
   "metadata": {},
   "outputs": [
    {
     "data": {
      "text/plain": [
       "0     164.374535\n",
       "1     182.243761\n",
       "2     183.995440\n",
       "3     163.326785\n",
       "4     185.130447\n",
       "5     156.366495\n",
       "6     188.864644\n",
       "7     174.316016\n",
       "8     180.283505\n",
       "9     178.464359\n",
       "10    177.806532\n",
       "11    159.301586\n",
       "12    161.414131\n",
       "13    158.434312\n",
       "14    181.297269\n",
       "15    179.416351\n",
       "16    171.475787\n",
       "17    180.400391\n",
       "18    183.008030\n",
       "19    159.872389\n",
       "dtype: float64"
      ]
     },
     "execution_count": 2805,
     "metadata": {},
     "output_type": "execute_result"
    }
   ],
   "source": [
    "size = pd.Series(np.random.normal(loc=175, size=20, scale=10))\n",
    "size\n"
   ]
  },
  {
   "cell_type": "code",
   "execution_count": 2806,
   "id": "61fe5605-2e94-4d45-829a-cc161add34fe",
   "metadata": {},
   "outputs": [],
   "source": [
    "size[:3] += 500"
   ]
  },
  {
   "cell_type": "code",
   "execution_count": 2807,
   "id": "c85ae73d-10bd-4a82-bc9b-c7fd6d9d6376",
   "metadata": {},
   "outputs": [
    {
     "data": {
      "text/plain": [
       "0     664.374535\n",
       "1     682.243761\n",
       "2     683.995440\n",
       "3     163.326785\n",
       "4     185.130447\n",
       "5     156.366495\n",
       "6     188.864644\n",
       "7     174.316016\n",
       "8     180.283505\n",
       "9     178.464359\n",
       "10    177.806532\n",
       "11    159.301586\n",
       "12    161.414131\n",
       "13    158.434312\n",
       "14    181.297269\n",
       "15    179.416351\n",
       "16    171.475787\n",
       "17    180.400391\n",
       "18    183.008030\n",
       "19    159.872389\n",
       "dtype: float64"
      ]
     },
     "execution_count": 2807,
     "metadata": {},
     "output_type": "execute_result"
    }
   ],
   "source": [
    "size"
   ]
  },
  {
   "cell_type": "code",
   "execution_count": 2808,
   "id": "ce39bd67-f771-4adf-ade8-857ebce19581",
   "metadata": {},
   "outputs": [
    {
     "data": {
      "text/plain": [
       "0     664.374535\n",
       "1     682.243761\n",
       "2     683.995440\n",
       "3     163.326785\n",
       "4     185.130447\n",
       "5     156.366495\n",
       "6     188.864644\n",
       "7     174.316016\n",
       "8     180.283505\n",
       "9     178.464359\n",
       "10    177.806532\n",
       "11    159.301586\n",
       "12    161.414131\n",
       "13    158.434312\n",
       "14    181.297269\n",
       "15    179.416351\n",
       "16    171.475787\n",
       "17    180.400391\n",
       "18    183.008030\n",
       "19    159.872389\n",
       "dtype: float64"
      ]
     },
     "execution_count": 2808,
     "metadata": {},
     "output_type": "execute_result"
    }
   ],
   "source": [
    "size_outlr_mean = size.copy()\n",
    "size_outlr_mean"
   ]
  },
  {
   "cell_type": "code",
   "execution_count": 2809,
   "id": "3c3be8a2-e796-4f38-993a-5ac2dc715bec",
   "metadata": {},
   "outputs": [
    {
     "data": {
      "text/plain": [
       "Series([], dtype: float64)"
      ]
     },
     "execution_count": 2809,
     "metadata": {},
     "output_type": "execute_result"
    }
   ],
   "source": [
    "size_outlr_mean[((size - size.mean()).abs() > 3 * size.std())]"
   ]
  },
  {
   "cell_type": "code",
   "execution_count": 2810,
   "id": "53a22b96-c402-476a-9fa6-779d5607e3b5",
   "metadata": {},
   "outputs": [],
   "source": [
    "size_outlr_mean[((size - size.mean()).abs() > 3 * size.std())] = size.mean()"
   ]
  },
  {
   "cell_type": "code",
   "execution_count": 2811,
   "id": "288b3b63-bf98-4be2-973c-f55f55146e6b",
   "metadata": {},
   "outputs": [
    {
     "data": {
      "text/plain": [
       "0     664.374535\n",
       "1     682.243761\n",
       "2     683.995440\n",
       "3     163.326785\n",
       "4     185.130447\n",
       "5     156.366495\n",
       "6     188.864644\n",
       "7     174.316016\n",
       "8     180.283505\n",
       "9     178.464359\n",
       "10    177.806532\n",
       "11    159.301586\n",
       "12    161.414131\n",
       "13    158.434312\n",
       "14    181.297269\n",
       "15    179.416351\n",
       "16    171.475787\n",
       "17    180.400391\n",
       "18    183.008030\n",
       "19    159.872389\n",
       "dtype: float64"
      ]
     },
     "execution_count": 2811,
     "metadata": {},
     "output_type": "execute_result"
    }
   ],
   "source": [
    "size_outlr_mean"
   ]
  },
  {
   "cell_type": "code",
   "execution_count": 2812,
   "id": "0236f8f7-77e5-472f-becb-e3719a7a6353",
   "metadata": {},
   "outputs": [
    {
     "data": {
      "text/plain": [
       "12.890359449491076"
      ]
     },
     "execution_count": 2812,
     "metadata": {},
     "output_type": "execute_result"
    }
   ],
   "source": [
    "mad = 1.4826 * np.median(np.abs(size - size.median()))\n",
    "mad"
   ]
  },
  {
   "cell_type": "code",
   "execution_count": 2813,
   "id": "7fb86641-35c1-47af-bba8-0b242772b911",
   "metadata": {},
   "outputs": [
    {
     "data": {
      "text/plain": [
       "0     664.374535\n",
       "1     682.243761\n",
       "2     683.995440\n",
       "3     163.326785\n",
       "4     185.130447\n",
       "5     156.366495\n",
       "6     188.864644\n",
       "7     174.316016\n",
       "8     180.283505\n",
       "9     178.464359\n",
       "10    177.806532\n",
       "11    159.301586\n",
       "12    161.414131\n",
       "13    158.434312\n",
       "14    181.297269\n",
       "15    179.416351\n",
       "16    171.475787\n",
       "17    180.400391\n",
       "18    183.008030\n",
       "19    159.872389\n",
       "dtype: float64"
      ]
     },
     "execution_count": 2813,
     "metadata": {},
     "output_type": "execute_result"
    }
   ],
   "source": [
    "size_outlr_mad = size.copy()\n",
    "size_outlr_mad"
   ]
  },
  {
   "cell_type": "code",
   "execution_count": 2814,
   "id": "72e08a4b-de51-4254-9ebe-edfac3438702",
   "metadata": {},
   "outputs": [
    {
     "data": {
      "text/plain": [
       "'/tmp'"
      ]
     },
     "execution_count": 2814,
     "metadata": {},
     "output_type": "execute_result"
    }
   ],
   "source": [
    "import tempfile, os.path \n",
    "\n",
    "tmpdir = tempfile.gettempdir()\n",
    "csv_filename = os.path.join(tmpdir, 'users.csv')\n",
    "tmpdir"
   ]
  },
  {
   "cell_type": "code",
   "execution_count": 2815,
   "id": "ad21a50a-cfb6-4c92-830e-c1be3bca0908",
   "metadata": {},
   "outputs": [
    {
     "data": {
      "text/plain": [
       "'/tmp/users.csv'"
      ]
     },
     "execution_count": 2815,
     "metadata": {},
     "output_type": "execute_result"
    }
   ],
   "source": [
    "csv_filename"
   ]
  },
  {
   "cell_type": "code",
   "execution_count": 2816,
   "id": "aa13604c-9dac-4f15-a4a3-0c554b45449a",
   "metadata": {},
   "outputs": [],
   "source": [
    "users.to_csv(csv_filename, index=False)"
   ]
  },
  {
   "cell_type": "code",
   "execution_count": 2817,
   "id": "930b79da-4f4f-40fd-a963-cf5e04a91336",
   "metadata": {},
   "outputs": [],
   "source": [
    "other = pd.read_csv(csv_filename)"
   ]
  },
  {
   "cell_type": "code",
   "execution_count": 2818,
   "id": "82f434f9-66d0-44db-910a-8312baeaebdc",
   "metadata": {},
   "outputs": [
    {
     "data": {
      "text/html": [
       "<div>\n",
       "<style scoped>\n",
       "    .dataframe tbody tr th:only-of-type {\n",
       "        vertical-align: middle;\n",
       "    }\n",
       "\n",
       "    .dataframe tbody tr th {\n",
       "        vertical-align: top;\n",
       "    }\n",
       "\n",
       "    .dataframe thead th {\n",
       "        text-align: right;\n",
       "    }\n",
       "</style>\n",
       "<table border=\"1\" class=\"dataframe\">\n",
       "  <thead>\n",
       "    <tr style=\"text-align: right;\">\n",
       "      <th></th>\n",
       "      <th>name</th>\n",
       "      <th>age</th>\n",
       "      <th>gender</th>\n",
       "      <th>job</th>\n",
       "      <th>height</th>\n",
       "    </tr>\n",
       "  </thead>\n",
       "  <tbody>\n",
       "    <tr>\n",
       "      <th>0</th>\n",
       "      <td>alice</td>\n",
       "      <td>19</td>\n",
       "      <td>F</td>\n",
       "      <td>student</td>\n",
       "      <td>165.0</td>\n",
       "    </tr>\n",
       "    <tr>\n",
       "      <th>1</th>\n",
       "      <td>eric</td>\n",
       "      <td>22</td>\n",
       "      <td>M</td>\n",
       "      <td>student</td>\n",
       "      <td>175.0</td>\n",
       "    </tr>\n",
       "    <tr>\n",
       "      <th>2</th>\n",
       "      <td>john</td>\n",
       "      <td>26</td>\n",
       "      <td>M</td>\n",
       "      <td>student</td>\n",
       "      <td>180.0</td>\n",
       "    </tr>\n",
       "    <tr>\n",
       "      <th>3</th>\n",
       "      <td>julie</td>\n",
       "      <td>44</td>\n",
       "      <td>F</td>\n",
       "      <td>scientist</td>\n",
       "      <td>171.0</td>\n",
       "    </tr>\n",
       "    <tr>\n",
       "      <th>4</th>\n",
       "      <td>paul</td>\n",
       "      <td>58</td>\n",
       "      <td>F</td>\n",
       "      <td>manager</td>\n",
       "      <td>NaN</td>\n",
       "    </tr>\n",
       "  </tbody>\n",
       "</table>\n",
       "</div>"
      ],
      "text/plain": [
       "    name  age gender        job  height\n",
       "0  alice   19      F    student   165.0\n",
       "1   eric   22      M    student   175.0\n",
       "2   john   26      M    student   180.0\n",
       "3  julie   44      F  scientist   171.0\n",
       "4   paul   58      F    manager     NaN"
      ]
     },
     "execution_count": 2818,
     "metadata": {},
     "output_type": "execute_result"
    }
   ],
   "source": [
    "other.head()"
   ]
  },
  {
   "cell_type": "markdown",
   "id": "93c7c756-4f06-4934-814e-816a27b68d46",
   "metadata": {},
   "source": [
    "# Parametric Test"
   ]
  },
  {
   "cell_type": "code",
   "execution_count": 2819,
   "id": "969b9004-9815-4404-8a18-3c8938d46535",
   "metadata": {},
   "outputs": [
    {
     "data": {
      "image/png": "[encoded data removed]",
      "text/plain": [
       "<Figure size 640x480 with 1 Axes>"
      ]
     },
     "metadata": {},
     "output_type": "display_data"
    }
   ],
   "source": [
    "# all from https://matplotlib.org/stable/gallery/mplot3d/lines3d.html\n",
    "\n",
    "import matplotlib.pyplot as plt \n",
    "import numpy as np \n",
    "\n",
    "ax = plt.figure().add_subplot(projection='3d')\n",
    "\n",
    "# Prepare arrays x, y, z\n",
    "θ = np.linspace(-4 * np.pi, 4 * np.pi, 100)\n",
    "z = np.linspace(-2, 2, 100)\n",
    "r = z**2 + 1\n",
    "x = r * np.sin(θ)\n",
    "y = r * np.cos(θ)\n",
    "\n",
    "ax.plot(x, y, z, label='parametric curve')\n",
    "ax.legend()\n",
    "\n",
    "plt.show()"
   ]
  },
  {
   "cell_type": "code",
   "execution_count": 2820,
   "id": "e4494366-08e5-4cc6-b693-99679dfa959e",
   "metadata": {},
   "outputs": [
    {
     "data": {
      "image/png": "[encoded data removed]",
      "text/plain": [
       "<Figure size 640x480 with 1 Axes>"
      ]
     },
     "metadata": {},
     "output_type": "display_data"
    }
   ],
   "source": [
    "# my 2D attempt\n",
    "import matplotlib.pyplot as plt\n",
    "import numpy as np \n",
    "\n",
    "ax = plt.figure().add_subplot()\n",
    "\n",
    "# Prepare arrays x, y, z\n",
    "θ = np.linspace(-4*np.pi, 4*np.pi, 100)\n",
    "z = np.linspace(-2, 2, 100)\n",
    "r = z**2 + 1\n",
    "x = r * np.sin(θ)\n",
    "y = r * np.cos(θ)\n",
    "\n",
    "ax.plot(x, y, label='Parametric curve')\n",
    "ax.legend()\n",
    "\n",
    "plt.show()"
   ]
  },
  {
   "cell_type": "code",
   "execution_count": 2821,
   "id": "ba681e19-3ead-4f88-b151-a0a6ffad02f4",
   "metadata": {},
   "outputs": [
    {
     "data": {
      "text/latex": [
       "$\\displaystyle \\frac{1}{1 + e^{- x}}$"
      ],
      "text/plain": [
       "1/(1 + exp(-x))"
      ]
     },
     "execution_count": 2821,
     "metadata": {},
     "output_type": "execute_result"
    }
   ],
   "source": [
    "import sympy\n",
    "from sympy import symbols\n",
    "\n",
    "x, y = symbols('x y')\n",
    "\n",
    "eq = 1 / (1 + sympy.exp(-x))\n",
    "derivative = sympy.diff(eq, x)\n",
    "eq"
   ]
  },
  {
   "cell_type": "code",
   "execution_count": 2822,
   "id": "1e8af2ff-de59-49c2-9f5a-8a36c4899722",
   "metadata": {},
   "outputs": [
    {
     "data": {
      "text/latex": [
       "$\\displaystyle \\frac{e^{- x}}{\\left(1 + e^{- x}\\right)^{2}}$"
      ],
      "text/plain": [
       "exp(-x)/(1 + exp(-x))**2"
      ]
     },
     "execution_count": 2822,
     "metadata": {},
     "output_type": "execute_result"
    }
   ],
   "source": [
    "derivative"
   ]
  },
  {
   "cell_type": "code",
   "execution_count": 2823,
   "id": "aaf4f059-464f-4966-b57e-a1caf2a3f857",
   "metadata": {},
   "outputs": [
    {
     "data": {
      "image/png": "[encoded data removed]",
      "text/plain": [
       "<Figure size 640x480 with 1 Axes>"
      ]
     },
     "metadata": {},
     "output_type": "display_data"
    }
   ],
   "source": [
    "sympy.plot(eq, derivative);"
   ]
  },
  {
   "cell_type": "code",
   "execution_count": 2824,
   "id": "7f5a4554-78c2-43c1-9711-d4e8076b749d",
   "metadata": {},
   "outputs": [],
   "source": [
    "import sympy\n",
    "x = sympy.Symbol('x')\n",
    "relu = sympy.Max(0, x)\n",
    "drelu = sympy.diff(relu, x)\n"
   ]
  },
  {
   "cell_type": "code",
   "execution_count": 2825,
   "id": "aae99ae1-7e79-4b70-ab5c-04e8678bc241",
   "metadata": {},
   "outputs": [
    {
     "data": {
      "text/latex": [
       "$\\displaystyle \\max\\left(0, x\\right)$"
      ],
      "text/plain": [
       "Max(0, x)"
      ]
     },
     "execution_count": 2825,
     "metadata": {},
     "output_type": "execute_result"
    }
   ],
   "source": [
    "relu"
   ]
  },
  {
   "cell_type": "code",
   "execution_count": 2826,
   "id": "84c698eb-5f0c-4417-a44e-af70b293cfec",
   "metadata": {},
   "outputs": [
    {
     "data": {
      "text/latex": [
       "$\\displaystyle \\theta\\left(x\\right)$"
      ],
      "text/plain": [
       "Heaviside(x)"
      ]
     },
     "execution_count": 2826,
     "metadata": {},
     "output_type": "execute_result"
    }
   ],
   "source": [
    "drelu"
   ]
  },
  {
   "cell_type": "code",
   "execution_count": 2827,
   "id": "31369f24-8545-4da0-b216-c99d7c95aff6",
   "metadata": {},
   "outputs": [
    {
     "data": {
      "image/png": "[encoded data removed]",
      "text/plain": [
       "<Figure size 640x480 with 1 Axes>"
      ]
     },
     "metadata": {},
     "output_type": "display_data"
    }
   ],
   "source": [
    "sympy.plot(relu, drelu);"
   ]
  },
  {
   "cell_type": "code",
   "execution_count": 2828,
   "id": "b05f342d-88cc-4cfb-9d4f-370e940fd8fd",
   "metadata": {},
   "outputs": [
    {
     "data": {
      "image/png": "[encoded data removed]",
      "text/plain": [
       "<Figure size 640x480 with 1 Axes>"
      ]
     },
     "metadata": {},
     "output_type": "display_data"
    }
   ],
   "source": [
    "import matplotlib.pyplot as plt\n",
    "import numpy as np\n",
    "import math\n",
    "\n",
    "t = np.arange(0, 2*math.pi, 0.01)\n",
    "\n",
    "# Plots the blue circle\n",
    "plt.plot(2*np.cos(t), 2*np.sin(t), 'b--')\n",
    "plt.show()"
   ]
  },
  {
   "cell_type": "code",
   "execution_count": 2829,
   "id": "4748a49e-cc84-4fdd-a89e-b078b6197a30",
   "metadata": {},
   "outputs": [
    {
     "data": {
      "image/png": "[encoded data removed]",
      "text/plain": [
       "<Figure size 640x480 with 1 Axes>"
      ]
     },
     "metadata": {},
     "output_type": "display_data"
    }
   ],
   "source": [
    "plt.plot(t, 2*np.cos(t), 'b--')\n",
    "plt.plot(t, 2*np.sin(t), 'r--');"
   ]
  },
  {
   "cell_type": "code",
   "execution_count": 2830,
   "id": "13b86c28-0ecb-4347-a8ea-84c9e9503aab",
   "metadata": {},
   "outputs": [
    {
     "data": {
      "text/latex": [
       "$\\displaystyle x^{2} + y^{2} - 25$"
      ],
      "text/plain": [
       "x**2 + y**2 - 25"
      ]
     },
     "execution_count": 2830,
     "metadata": {},
     "output_type": "execute_result"
    }
   ],
   "source": [
    "import sympy\n",
    "from sympy import symbols, Derivative\n",
    "\n",
    "x, y, t = sympy.symbols('x y t')\n",
    "\n",
    "# 0 = expression\n",
    "expr = x**2 + y**2 - 25\n",
    "expr"
   ]
  },
  {
   "cell_type": "code",
   "execution_count": 2831,
   "id": "f9afd2b3-a219-4f58-a0dd-d4233fa09e0b",
   "metadata": {},
   "outputs": [
    {
     "data": {
      "text/latex": [
       "$\\displaystyle 2 x \\frac{d}{d t} x + 2 y \\frac{d}{d t} y$"
      ],
      "text/plain": [
       "2*x*Derivative(x, t) + 2*y*Derivative(y, t)"
      ]
     },
     "execution_count": 2831,
     "metadata": {},
     "output_type": "execute_result"
    }
   ],
   "source": [
    "# to see the derivative\n",
    "der = expr.diff(x) * Derivative(x, t) + expr.diff(y)*Derivative(y, t)\n",
    "der"
   ]
  },
  {
   "cell_type": "code",
   "execution_count": 2832,
   "id": "653b3e7a-1d20-4413-8d5a-67bc424177f0",
   "metadata": {},
   "outputs": [
    {
     "data": {
      "text/latex": [
       "$\\displaystyle \\frac{d}{d t} x$"
      ],
      "text/plain": [
       "Derivative(x, t)"
      ]
     },
     "execution_count": 2832,
     "metadata": {},
     "output_type": "execute_result"
    }
   ],
   "source": [
    "Derivative(x, t)"
   ]
  },
  {
   "cell_type": "code",
   "execution_count": 2833,
   "id": "ebcb808a-ab0d-47cf-ac8e-9676c42e1e72",
   "metadata": {},
   "outputs": [
    {
     "data": {
      "text/latex": [
       "$\\displaystyle 2 x$"
      ],
      "text/plain": [
       "2*x"
      ]
     },
     "execution_count": 2833,
     "metadata": {},
     "output_type": "execute_result"
    }
   ],
   "source": [
    "expr.diff(x)"
   ]
  },
  {
   "cell_type": "code",
   "execution_count": 2834,
   "id": "3ad33cca-79c8-405c-aac1-77a692242a04",
   "metadata": {},
   "outputs": [
    {
     "data": {
      "text/latex": [
       "$\\displaystyle 2 x \\frac{d}{d t} x$"
      ],
      "text/plain": [
       "2*x*Derivative(x, t)"
      ]
     },
     "execution_count": 2834,
     "metadata": {},
     "output_type": "execute_result"
    }
   ],
   "source": [
    "expr.diff(x) * Derivative(x, t)\n"
   ]
  },
  {
   "cell_type": "code",
   "execution_count": 2835,
   "id": "7efcf66c-60c5-4f02-b8c2-6b38b03dad63",
   "metadata": {},
   "outputs": [
    {
     "data": {
      "text/latex": [
       "$\\displaystyle x^{2} + y^{2} - 25$"
      ],
      "text/plain": [
       "x**2 + y**2 - 25"
      ]
     },
     "execution_count": 2835,
     "metadata": {},
     "output_type": "execute_result"
    }
   ],
   "source": [
    "import sympy\n",
    "from sympy import symbols, Derivative, solve\n",
    "\n",
    "x, y, t = sympy.symbols('x y t')\n",
    "\n",
    "# broken down so the substitution works\n",
    "expr = x**2 + y**2 - 25\n",
    "expr"
   ]
  },
  {
   "cell_type": "code",
   "execution_count": 2836,
   "id": "8eca42c2-1296-4fa2-8e1a-652dbfb6546d",
   "metadata": {},
   "outputs": [
    {
     "data": {
      "text/latex": [
       "$\\displaystyle 2 x$"
      ],
      "text/plain": [
       "2*x"
      ]
     },
     "execution_count": 2836,
     "metadata": {},
     "output_type": "execute_result"
    }
   ],
   "source": [
    "dx = expr.diff(x)\n",
    "dx"
   ]
  },
  {
   "cell_type": "code",
   "execution_count": 2837,
   "id": "4d7b6a5b-b080-43ef-bb6e-80f32e658761",
   "metadata": {},
   "outputs": [
    {
     "data": {
      "text/latex": [
       "$\\displaystyle 2 y$"
      ],
      "text/plain": [
       "2*y"
      ]
     },
     "execution_count": 2837,
     "metadata": {},
     "output_type": "execute_result"
    }
   ],
   "source": [
    "dy = expr.diff(y)\n",
    "dy"
   ]
  },
  {
   "cell_type": "code",
   "execution_count": 2838,
   "id": "1a3aa472-3c5e-4fa1-b234-d7a039a8c6ad",
   "metadata": {},
   "outputs": [
    {
     "data": {
      "text/latex": [
       "$\\displaystyle \\frac{d}{d t} x$"
      ],
      "text/plain": [
       "Derivative(x, t)"
      ]
     },
     "execution_count": 2838,
     "metadata": {},
     "output_type": "execute_result"
    }
   ],
   "source": [
    "dxdt = Derivative(x, t)\n",
    "dxdt"
   ]
  },
  {
   "cell_type": "code",
   "execution_count": 2839,
   "id": "f0fe49d7-e891-4be6-8ddf-3adf5cfc7e6d",
   "metadata": {},
   "outputs": [
    {
     "data": {
      "text/latex": [
       "$\\displaystyle \\frac{d}{d t} y$"
      ],
      "text/plain": [
       "Derivative(y, t)"
      ]
     },
     "execution_count": 2839,
     "metadata": {},
     "output_type": "execute_result"
    }
   ],
   "source": [
    "dydt = Derivative(y, t)\n",
    "dydt"
   ]
  },
  {
   "cell_type": "code",
   "execution_count": 2840,
   "id": "282d1268-4dbc-4e58-a880-c7648bf914ac",
   "metadata": {},
   "outputs": [
    {
     "data": {
      "text/latex": [
       "$\\displaystyle 2 x \\frac{d}{d t} x + 2 y \\frac{d}{d t} y$"
      ],
      "text/plain": [
       "2*x*Derivative(x, t) + 2*y*Derivative(y, t)"
      ]
     },
     "execution_count": 2840,
     "metadata": {},
     "output_type": "execute_result"
    }
   ],
   "source": [
    "der = dx*dxdt + dy*dydt\n",
    "der"
   ]
  },
  {
   "cell_type": "code",
   "execution_count": 2841,
   "id": "34f95a7c-43c2-4c87-b8ca-42a3be32339f",
   "metadata": {},
   "outputs": [
    {
     "data": {
      "text/latex": [
       "$\\displaystyle 2 x \\frac{d}{d t} x + 2 y \\frac{d}{d t} y$"
      ],
      "text/plain": [
       "2*x*Derivative(x, t) + 2*y*Derivative(y, t)"
      ]
     },
     "execution_count": 2841,
     "metadata": {},
     "output_type": "execute_result"
    }
   ],
   "source": [
    "red = dxdt * dx + dydt * dy\n",
    "red"
   ]
  },
  {
   "cell_type": "code",
   "execution_count": 2842,
   "id": "a1b635e9-29d4-406d-8f2f-f6ebb0e5291e",
   "metadata": {},
   "outputs": [
    {
     "data": {
      "text/latex": [
       "$\\displaystyle 6 x + 2 y \\frac{d}{d t} y$"
      ],
      "text/plain": [
       "6*x + 2*y*Derivative(y, t)"
      ]
     },
     "execution_count": 2842,
     "metadata": {},
     "output_type": "execute_result"
    }
   ],
   "source": [
    "der.subs(dxdt, 3)"
   ]
  },
  {
   "cell_type": "code",
   "execution_count": 2843,
   "id": "bdb68cf4-1840-4b2b-920d-dce7b431f924",
   "metadata": {},
   "outputs": [
    {
     "data": {
      "text/latex": [
       "$\\displaystyle 6 x + 2 y \\frac{d}{d t} y$"
      ],
      "text/plain": [
       "6*x + 2*y*Derivative(y, t)"
      ]
     },
     "execution_count": 2843,
     "metadata": {},
     "output_type": "execute_result"
    }
   ],
   "source": [
    "red.subs(dxdt, 3)"
   ]
  },
  {
   "cell_type": "code",
   "execution_count": 2844,
   "id": "e3c79681-bfce-42cd-bc48-5628157c77a9",
   "metadata": {},
   "outputs": [
    {
     "data": {
      "text/latex": [
       "$\\displaystyle 8 \\frac{d}{d t} y + 12$"
      ],
      "text/plain": [
       "8*Derivative(y, t) + 12"
      ]
     },
     "execution_count": 2844,
     "metadata": {},
     "output_type": "execute_result"
    }
   ],
   "source": [
    "# plug in all unknowns but one\n",
    "plugin = der.subs([(dx, 6), (dy, 8), (dxdt, 2)])\n",
    "plugin"
   ]
  },
  {
   "cell_type": "code",
   "execution_count": 2845,
   "id": "82f88d14-acb9-45d6-889c-7b6bc21cb627",
   "metadata": {},
   "outputs": [
    {
     "data": {
      "text/latex": [
       "$\\displaystyle 6 \\frac{d}{d t} x + 8 \\frac{d}{d t} y$"
      ],
      "text/plain": [
       "6*Derivative(x, t) + 8*Derivative(y, t)"
      ]
     },
     "execution_count": 2845,
     "metadata": {},
     "output_type": "execute_result"
    }
   ],
   "source": [
    "der.subs([(dx, 6), (dy, 8)])"
   ]
  },
  {
   "cell_type": "code",
   "execution_count": 2846,
   "id": "8e63962d-58fe-494f-81d1-8a317bb8553a",
   "metadata": {},
   "outputs": [
    {
     "data": {
      "text/latex": [
       "$\\displaystyle 8 \\frac{d}{d t} y + 12 = 0$"
      ],
      "text/plain": [
       "Eq(8*Derivative(y, t) + 12, 0)"
      ]
     },
     "execution_count": 2846,
     "metadata": {},
     "output_type": "execute_result"
    }
   ],
   "source": [
    "# Solve for dydt \n",
    "eq = sympy.Eq(plugin, 0)\n",
    "eq"
   ]
  },
  {
   "cell_type": "code",
   "execution_count": 2847,
   "id": "998757b7-b41d-4c7b-99dc-3fe104a10cc8",
   "metadata": {},
   "outputs": [
    {
     "data": {
      "text/plain": [
       "[-3/2]"
      ]
     },
     "execution_count": 2847,
     "metadata": {},
     "output_type": "execute_result"
    }
   ],
   "source": [
    "answer = sympy.solve(eq, dydt)\n",
    "answer"
   ]
  },
  {
   "cell_type": "code",
   "execution_count": 2848,
   "id": "71bcc4db-513c-4a55-bc08-dbc492213486",
   "metadata": {},
   "outputs": [
    {
     "data": {
      "text/plain": [
       "(Eq(8*Derivative(y, t) + 12, 0), Derivative(y, t))"
      ]
     },
     "execution_count": 2848,
     "metadata": {},
     "output_type": "execute_result"
    }
   ],
   "source": [
    "eq, dydt"
   ]
  },
  {
   "cell_type": "code",
   "execution_count": 2849,
   "id": "330b919c-575e-49e1-8fac-35c07648ba4e",
   "metadata": {},
   "outputs": [
    {
     "data": {
      "text/latex": [
       "$\\displaystyle 8 \\frac{d}{d t} y + 12 = 0$"
      ],
      "text/plain": [
       "Eq(8*Derivative(y, t) + 12, 0)"
      ]
     },
     "execution_count": 2849,
     "metadata": {},
     "output_type": "execute_result"
    }
   ],
   "source": [
    "eq"
   ]
  },
  {
   "cell_type": "code",
   "execution_count": 2850,
   "id": "26147160-14e4-4e3e-ae8e-ff7e1f4bdc10",
   "metadata": {},
   "outputs": [
    {
     "data": {
      "text/latex": [
       "$\\displaystyle \\frac{d}{d t} y$"
      ],
      "text/plain": [
       "Derivative(y, t)"
      ]
     },
     "execution_count": 2850,
     "metadata": {},
     "output_type": "execute_result"
    }
   ],
   "source": [
    "dydt"
   ]
  },
  {
   "cell_type": "code",
   "execution_count": 2851,
   "id": "a4fbf2af-56e2-4230-a927-14d847dd1749",
   "metadata": {},
   "outputs": [
    {
     "data": {
      "text/latex": [
       "$\\displaystyle 1.33333333333333 \\pi r^{3}$"
      ],
      "text/plain": [
       "1.33333333333333*pi*r**3"
      ]
     },
     "execution_count": 2851,
     "metadata": {},
     "output_type": "execute_result"
    }
   ],
   "source": [
    "import sympy\n",
    "from sympy import symbols, Derivative \n",
    "\n",
    "v, r, t = sympy.symbols('v r t')\n",
    "\n",
    "expr = (4/3) * sympy.pi * r ** 3\n",
    "expr"
   ]
  },
  {
   "cell_type": "code",
   "execution_count": 2852,
   "id": "d8e06038-be87-4b9e-a5c2-81f54fb51700",
   "metadata": {},
   "outputs": [
    {
     "data": {
      "text/latex": [
       "$\\displaystyle 4.0 \\pi r^{2}$"
      ],
      "text/plain": [
       "4.0*pi*r**2"
      ]
     },
     "execution_count": 2852,
     "metadata": {},
     "output_type": "execute_result"
    }
   ],
   "source": [
    "dr = expr.diff(r)\n",
    "dr"
   ]
  },
  {
   "cell_type": "code",
   "execution_count": 2853,
   "id": "d58a9ee7-3b63-4779-b9fb-5aeb133e7042",
   "metadata": {},
   "outputs": [
    {
     "data": {
      "text/latex": [
       "$\\displaystyle \\frac{d}{d t} r$"
      ],
      "text/plain": [
       "Derivative(r, t)"
      ]
     },
     "execution_count": 2853,
     "metadata": {},
     "output_type": "execute_result"
    }
   ],
   "source": [
    "drdt = Derivative(r, t)\n",
    "drdt"
   ]
  },
  {
   "cell_type": "code",
   "execution_count": 2854,
   "id": "e094c555-24bc-4ee1-b6cc-9d9c3ef0f07b",
   "metadata": {},
   "outputs": [
    {
     "data": {
      "text/latex": [
       "$\\displaystyle 4.0 \\pi r^{2} \\frac{d}{d t} r$"
      ],
      "text/plain": [
       "4.0*pi*r**2*Derivative(r, t)"
      ]
     },
     "execution_count": 2854,
     "metadata": {},
     "output_type": "execute_result"
    }
   ],
   "source": [
    "der = dr * drdt\n",
    "der"
   ]
  },
  {
   "cell_type": "code",
   "execution_count": 2855,
   "id": "ce6f2b95-d575-430d-91c3-cd60e53c965f",
   "metadata": {},
   "outputs": [
    {
     "data": {
      "text/latex": [
       "$\\displaystyle 64.0 \\pi$"
      ],
      "text/plain": [
       "64.0*pi"
      ]
     },
     "execution_count": 2855,
     "metadata": {},
     "output_type": "execute_result"
    }
   ],
   "source": [
    "dr_plugin = dr.subs(r, 4)\n",
    "dr_plugin"
   ]
  },
  {
   "cell_type": "code",
   "execution_count": 2856,
   "id": "77b5ea7b-5f32-42bd-ac3a-4d9f86d473e5",
   "metadata": {},
   "outputs": [
    {
     "data": {
      "text/latex": [
       "$\\displaystyle 64.0 \\pi \\frac{d}{d t} r$"
      ],
      "text/plain": [
       "64.0*pi*Derivative(r, t)"
      ]
     },
     "execution_count": 2856,
     "metadata": {},
     "output_type": "execute_result"
    }
   ],
   "source": [
    "plugin = dr_plugin * drdt \n",
    "plugin"
   ]
  },
  {
   "cell_type": "code",
   "execution_count": 2857,
   "id": "5754b45f-cda1-4a96-a7df-eb9a75e4b30c",
   "metadata": {},
   "outputs": [
    {
     "data": {
      "text/latex": [
       "$\\displaystyle 64.0 \\pi \\frac{d}{d t} r = 9$"
      ],
      "text/plain": [
       "Eq(64.0*pi*Derivative(r, t), 9)"
      ]
     },
     "execution_count": 2857,
     "metadata": {},
     "output_type": "execute_result"
    }
   ],
   "source": [
    "# solve for drdt \n",
    "dvdt = 9\n",
    "eq = sympy.Eq(plugin, dvdt)\n",
    "eq"
   ]
  },
  {
   "cell_type": "code",
   "execution_count": 2858,
   "id": "0f0b737c-8c13-43ba-abf9-508779213c8c",
   "metadata": {},
   "outputs": [
    {
     "data": {
      "text/plain": [
       "[0.0447623277445956]"
      ]
     },
     "execution_count": 2858,
     "metadata": {},
     "output_type": "execute_result"
    }
   ],
   "source": [
    "answer = sympy.solve(eq, drdt)\n",
    "answer\n"
   ]
  },
  {
   "cell_type": "code",
   "execution_count": 2859,
   "id": "85710aef-f5e7-46fe-9c87-3d818a475c06",
   "metadata": {},
   "outputs": [
    {
     "data": {
      "text/latex": [
       "$\\displaystyle 200 - 200 \\cos{\\left(x \\right)}$"
      ],
      "text/plain": [
       "200 - 200*cos(x)"
      ]
     },
     "execution_count": 2859,
     "metadata": {},
     "output_type": "execute_result"
    }
   ],
   "source": [
    "x, c, t = sympy.symbols('x c t')\n",
    "\n",
    "a = 10\n",
    "b = 10\n",
    "expr_right = a**2 + b**2 - 2*a*b*sympy.cos(x)\n",
    "expr_right"
   ]
  },
  {
   "cell_type": "code",
   "execution_count": 2860,
   "id": "288ad6ac-6bca-4a03-8f8a-e0626530a707",
   "metadata": {},
   "outputs": [
    {
     "data": {
      "text/latex": [
       "$\\displaystyle 200 \\sin{\\left(x \\right)}$"
      ],
      "text/plain": [
       "200*sin(x)"
      ]
     },
     "execution_count": 2860,
     "metadata": {},
     "output_type": "execute_result"
    }
   ],
   "source": [
    "dx = expr_right.diff(x)\n",
    "dx"
   ]
  },
  {
   "cell_type": "code",
   "execution_count": 2861,
   "id": "96b88c9d-153a-4f10-af63-300b084f35d7",
   "metadata": {},
   "outputs": [
    {
     "data": {
      "text/latex": [
       "$\\displaystyle \\frac{d}{d t} x$"
      ],
      "text/plain": [
       "Derivative(x, t)"
      ]
     },
     "execution_count": 2861,
     "metadata": {},
     "output_type": "execute_result"
    }
   ],
   "source": [
    "dxdt = Derivative(x, t)\n",
    "dxdt"
   ]
  },
  {
   "cell_type": "code",
   "execution_count": 2862,
   "id": "0574b67b-4fdd-4ee3-81c0-63ff52fdc637",
   "metadata": {},
   "outputs": [
    {
     "data": {
      "text/latex": [
       "$\\displaystyle 200 \\sin{\\left(x \\right)} \\frac{d}{d t} x$"
      ],
      "text/plain": [
       "200*sin(x)*Derivative(x, t)"
      ]
     },
     "execution_count": 2862,
     "metadata": {},
     "output_type": "execute_result"
    }
   ],
   "source": [
    "der_right = dx* dxdt \n",
    "der_right"
   ]
  },
  {
   "cell_type": "code",
   "execution_count": 2863,
   "id": "ee0f2356-c27d-4c81-a889-8e0e888494b8",
   "metadata": {},
   "outputs": [
    {
     "data": {
      "text/latex": [
       "$\\displaystyle c^{2}$"
      ],
      "text/plain": [
       "c**2"
      ]
     },
     "execution_count": 2863,
     "metadata": {},
     "output_type": "execute_result"
    }
   ],
   "source": [
    "expr_left = c**2\n",
    "expr_left"
   ]
  },
  {
   "cell_type": "code",
   "execution_count": 2864,
   "id": "347fa35b-a6f7-480e-9012-dab9f9903ff8",
   "metadata": {},
   "outputs": [
    {
     "data": {
      "text/latex": [
       "$\\displaystyle 0$"
      ],
      "text/plain": [
       "0"
      ]
     },
     "execution_count": 2864,
     "metadata": {},
     "output_type": "execute_result"
    }
   ],
   "source": [
    "der_left = expr_left.diff(x)\n",
    "der_left"
   ]
  },
  {
   "cell_type": "code",
   "execution_count": 2865,
   "id": "3dc511b0-ab19-4b34-a970-4abd941acb98",
   "metadata": {},
   "outputs": [
    {
     "data": {
      "text/latex": [
       "$\\displaystyle \\frac{d}{d t} c$"
      ],
      "text/plain": [
       "Derivative(c, t)"
      ]
     },
     "execution_count": 2865,
     "metadata": {},
     "output_type": "execute_result"
    }
   ],
   "source": [
    "dcdt = Derivative(c, t)\n",
    "dcdt"
   ]
  },
  {
   "cell_type": "code",
   "execution_count": 2866,
   "id": "246b1f85-ea57-4dd6-bdb9-6ba774bb7296",
   "metadata": {},
   "outputs": [
    {
     "data": {
      "text/latex": [
       "$\\displaystyle 0$"
      ],
      "text/plain": [
       "0"
      ]
     },
     "execution_count": 2866,
     "metadata": {},
     "output_type": "execute_result"
    }
   ],
   "source": [
    "der_left = der_left * dcdt \n",
    "der_left "
   ]
  },
  {
   "cell_type": "code",
   "execution_count": 2867,
   "id": "20a002f7-4117-4aca-9f14-89805d15c61a",
   "metadata": {},
   "outputs": [
    {
     "data": {
      "text/latex": [
       "$\\displaystyle 0$"
      ],
      "text/plain": [
       "0"
      ]
     },
     "execution_count": 2867,
     "metadata": {},
     "output_type": "execute_result"
    }
   ],
   "source": [
    "# Plugin \n",
    "angle = 0.3\n",
    "speed = 3\n",
    "c_value = 2\n",
    "left = der_left.subs([(dcdt, speed), (c, 2)])\n",
    "left"
   ]
  },
  {
   "cell_type": "code",
   "execution_count": 2868,
   "id": "dcc5ffa5-33a3-4f19-9326-fb25f4e0d4bf",
   "metadata": {},
   "outputs": [
    {
     "data": {
      "text/latex": [
       "$\\displaystyle 59.1040413322679 \\frac{d}{d t} x$"
      ],
      "text/plain": [
       "59.1040413322679*Derivative(x, t)"
      ]
     },
     "execution_count": 2868,
     "metadata": {},
     "output_type": "execute_result"
    }
   ],
   "source": [
    "right = dx.subs(x, angle) * dxdt \n",
    "right"
   ]
  },
  {
   "cell_type": "code",
   "execution_count": 2869,
   "id": "ba15cfaa-998c-471f-8017-f3dc2b6ad725",
   "metadata": {},
   "outputs": [
    {
     "data": {
      "text/latex": [
       "$\\displaystyle 0 = 59.1040413322679 \\frac{d}{d t} x$"
      ],
      "text/plain": [
       "Eq(0, 59.1040413322679*Derivative(x, t))"
      ]
     },
     "execution_count": 2869,
     "metadata": {},
     "output_type": "execute_result"
    }
   ],
   "source": [
    "full_equation = sympy.Eq(left, right)\n",
    "full_equation"
   ]
  },
  {
   "cell_type": "code",
   "execution_count": 2870,
   "id": "575320d3-1ae1-4271-b868-17da40348854",
   "metadata": {},
   "outputs": [
    {
     "data": {
      "text/plain": [
       "[0.0]"
      ]
     },
     "execution_count": 2870,
     "metadata": {},
     "output_type": "execute_result"
    }
   ],
   "source": [
    "sympy.solve(full_equation, dxdt)"
   ]
  },
  {
   "cell_type": "code",
   "execution_count": 2871,
   "id": "b6c74610-b0fd-4763-b040-ceb68ffb0696",
   "metadata": {},
   "outputs": [],
   "source": [
    "from typing import List\n",
    "\n",
    "class Solution:\n",
    "    def sortedSquares(self, nums: List[int]) -> List[int]:\n",
    "        left = 0\n",
    "        right = len(nums) - 1\n",
    "        result = []\n",
    "\n",
    "        while left <= right:\n",
    "            if abs(nums[left]) > abs(nums[right]):\n",
    "                result.append(nums[left]**2)\n",
    "                left += 1\n",
    "            else:\n",
    "                result.append(nums[right]**2)\n",
    "                right -= 1\n",
    "        result.reverse()\n",
    "\n",
    "        return result"
   ]
  },
  {
   "cell_type": "code",
   "execution_count": 2872,
   "id": "18a77c4b-c940-42ff-8772-f90eced0c314",
   "metadata": {},
   "outputs": [
    {
     "data": {
      "text/plain": [
       "[0, 1, 9, 16, 100]"
      ]
     },
     "execution_count": 2872,
     "metadata": {},
     "output_type": "execute_result"
    }
   ],
   "source": [
    "nums = [-4, -1, 0, 3, 10]\n",
    "\n",
    "Solution().sortedSquares(nums)"
   ]
  },
  {
   "cell_type": "code",
   "execution_count": 2873,
   "id": "8ab3b062-5c78-4c87-be31-37805d919e20",
   "metadata": {},
   "outputs": [
    {
     "data": {
      "text/plain": [
       "[0, 1, 9, 16, 100]"
      ]
     },
     "execution_count": 2873,
     "metadata": {},
     "output_type": "execute_result"
    }
   ],
   "source": [
    "nums = [-4, -1, 0, 3, 10]\n",
    "\n",
    "Solution().sortedSquares(nums)"
   ]
  },
  {
   "cell_type": "code",
   "execution_count": null,
   "id": "7939c50f-c8b4-4a75-b297-7ee872f4e29c",
   "metadata": {},
   "outputs": [],
   "source": []
  }
 ],
 "metadata": {
  "kernelspec": {
   "display_name": "Python 3 (ipykernel)",
   "language": "python",
   "name": "python3"
  },
  "language_info": {
   "codemirror_mode": {
    "name": "ipython",
    "version": 3
   },
   "file_extension": ".py",
   "mimetype": "text/x-python",
   "name": "python",
   "nbconvert_exporter": "python",
   "pygments_lexer": "ipython3",
   "version": "3.12.7"
  }
 },
 "nbformat": 4,
 "nbformat_minor": 5
}
