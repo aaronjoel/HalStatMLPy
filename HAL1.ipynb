{
 "cells": [
  {
   "cell_type": "code",
   "execution_count": 276,
   "id": "9537c80e-7ad4-4e24-9ac9-84286ea16df6",
   "metadata": {},
   "outputs": [
    {
     "data": {
      "text/plain": [
       "array([[ 5],\n",
       "       [11]])"
      ]
     },
     "execution_count": 276,
     "metadata": {},
     "output_type": "execute_result"
    }
   ],
   "source": [
    "import numpy as np\n",
    "X = np.array([[1, 2], \n",
    "              [3, 4]])\n",
    "\n",
    "v = np.array([1, 2]).reshape((2, 1))\n",
    "#v = np.array([1, 2])\n",
    "np.dot(X, v) # no broadcasting\n"
   ]
  },
  {
   "cell_type": "code",
   "execution_count": 277,
   "id": "4ee3ad2b-3207-44e3-ae3e-be60c2cc2bf3",
   "metadata": {},
   "outputs": [
    {
     "data": {
      "text/plain": [
       "array([ 5, 11])"
      ]
     },
     "execution_count": 277,
     "metadata": {},
     "output_type": "execute_result"
    }
   ],
   "source": [
    "v = np.array([1, 2])\n",
    "np.dot(X, v)"
   ]
  },
  {
   "cell_type": "code",
   "execution_count": 278,
   "id": "c0a674b3-a03d-4b53-b07f-18b32ef4892c",
   "metadata": {},
   "outputs": [
    {
     "data": {
      "text/plain": [
       "array([[1, 4],\n",
       "       [3, 8]])"
      ]
     },
     "execution_count": 278,
     "metadata": {},
     "output_type": "execute_result"
    }
   ],
   "source": [
    "X * v"
   ]
  },
  {
   "cell_type": "code",
   "execution_count": 279,
   "id": "e6acc91e-8f56-4aa2-a16b-dd7ad2ac146c",
   "metadata": {},
   "outputs": [
    {
     "data": {
      "text/plain": [
       "array([[-1., -1.],\n",
       "       [ 1.,  1.]])"
      ]
     },
     "execution_count": 279,
     "metadata": {},
     "output_type": "execute_result"
    }
   ],
   "source": [
    "X - X.mean(axis=0)"
   ]
  },
  {
   "cell_type": "code",
   "execution_count": 280,
   "id": "d4a466dd-5dd8-46c2-bb66-48a1c3679f14",
   "metadata": {},
   "outputs": [
    {
     "data": {
      "text/plain": [
       "(array([[-0.40455358, -0.9145143 ],\n",
       "        [-0.9145143 ,  0.40455358]]),\n",
       " array([5.4649857 , 0.36596619]),\n",
       " array([[-0.57604844, -0.81741556],\n",
       "        [ 0.81741556, -0.57604844]]))"
      ]
     },
     "execution_count": 280,
     "metadata": {},
     "output_type": "execute_result"
    }
   ],
   "source": [
    "import scipy \n",
    "import scipy.linalg \n",
    "scipy.linalg.svd(X, full_matrices=False)"
   ]
  },
  {
   "cell_type": "code",
   "execution_count": 281,
   "id": "ce22ab9c-fa9a-467d-99b1-5767a6091714",
   "metadata": {},
   "outputs": [
    {
     "data": {
      "text/plain": [
       "(array([[-0.40455358, -0.9145143 ],\n",
       "        [-0.9145143 ,  0.40455358]]),\n",
       " array([5.4649857 , 0.36596619]),\n",
       " array([[-0.57604844, -0.81741556],\n",
       "        [ 0.81741556, -0.57604844]]))"
      ]
     },
     "execution_count": 281,
     "metadata": {},
     "output_type": "execute_result"
    }
   ],
   "source": [
    "scipy.linalg.svd(X, full_matrices=True)"
   ]
  },
  {
   "cell_type": "code",
   "execution_count": 282,
   "id": "db27fd79-fe3d-40f9-9287-b9c81c40ae38",
   "metadata": {},
   "outputs": [
    {
     "data": {
      "image/png": "[encoded data removed]",
      "text/plain": [
       "<Figure size 640x480 with 1 Axes>"
      ]
     },
     "metadata": {},
     "output_type": "display_data"
    }
   ],
   "source": [
    "import numpy as np \n",
    "import matplotlib.pyplot as plt \n",
    "\n",
    "x = np.linspace(0, 10, 50)\n",
    "sinus = np.sin(x)\n",
    "plt.plot(x, sinus)\n",
    "plt.show()\n"
   ]
  },
  {
   "cell_type": "code",
   "execution_count": 283,
   "id": "e7eace00-ac4f-44f3-9a6d-a721361a62e3",
   "metadata": {},
   "outputs": [
    {
     "data": {
      "text/plain": [
       "5.0"
      ]
     },
     "execution_count": 283,
     "metadata": {},
     "output_type": "execute_result"
    }
   ],
   "source": [
    "import math\n",
    "math.sqrt(25)\n"
   ]
  },
  {
   "cell_type": "code",
   "execution_count": 284,
   "id": "b9ffe410-1d04-4e21-b060-7cd5f25ed822",
   "metadata": {},
   "outputs": [
    {
     "data": {
      "text/plain": [
       "5.0"
      ]
     },
     "execution_count": 284,
     "metadata": {},
     "output_type": "execute_result"
    }
   ],
   "source": [
    "from math import sqrt\n",
    "sqrt(25)"
   ]
  },
  {
   "cell_type": "code",
   "execution_count": 285,
   "id": "0c1d3e4e-e514-484b-84e9-a11875b3ccae",
   "metadata": {},
   "outputs": [],
   "source": [
    "from math import cos, floor"
   ]
  },
  {
   "cell_type": "code",
   "execution_count": 286,
   "id": "30f79d14-1d43-4c22-af52-91e33138f77b",
   "metadata": {},
   "outputs": [],
   "source": [
    "import numpy as np"
   ]
  },
  {
   "cell_type": "code",
   "execution_count": 287,
   "id": "73534774-839a-46fb-af7a-1bd421936ce5",
   "metadata": {},
   "outputs": [],
   "source": [
    "content = dir(math)"
   ]
  },
  {
   "cell_type": "code",
   "execution_count": 288,
   "id": "78f51c23-e508-4cf7-bc49-c6b3a7caa55b",
   "metadata": {},
   "outputs": [
    {
     "data": {
      "text/plain": [
       "['__doc__',\n",
       " '__file__',\n",
       " '__loader__',\n",
       " '__name__',\n",
       " '__package__',\n",
       " '__spec__',\n",
       " 'acos',\n",
       " 'acosh',\n",
       " 'asin',\n",
       " 'asinh',\n",
       " 'atan',\n",
       " 'atan2',\n",
       " 'atanh',\n",
       " 'cbrt',\n",
       " 'ceil',\n",
       " 'comb',\n",
       " 'copysign',\n",
       " 'cos',\n",
       " 'cosh',\n",
       " 'degrees',\n",
       " 'dist',\n",
       " 'e',\n",
       " 'erf',\n",
       " 'erfc',\n",
       " 'exp',\n",
       " 'exp2',\n",
       " 'expm1',\n",
       " 'fabs',\n",
       " 'factorial',\n",
       " 'floor',\n",
       " 'fmod',\n",
       " 'frexp',\n",
       " 'fsum',\n",
       " 'gamma',\n",
       " 'gcd',\n",
       " 'hypot',\n",
       " 'inf',\n",
       " 'isclose',\n",
       " 'isfinite',\n",
       " 'isinf',\n",
       " 'isnan',\n",
       " 'isqrt',\n",
       " 'lcm',\n",
       " 'ldexp',\n",
       " 'lgamma',\n",
       " 'log',\n",
       " 'log10',\n",
       " 'log1p',\n",
       " 'log2',\n",
       " 'modf',\n",
       " 'nan',\n",
       " 'nextafter',\n",
       " 'perm',\n",
       " 'pi',\n",
       " 'pow',\n",
       " 'prod',\n",
       " 'radians',\n",
       " 'remainder',\n",
       " 'sin',\n",
       " 'sinh',\n",
       " 'sqrt',\n",
       " 'sumprod',\n",
       " 'tan',\n",
       " 'tanh',\n",
       " 'tau',\n",
       " 'trunc',\n",
       " 'ulp']"
      ]
     },
     "execution_count": 288,
     "metadata": {},
     "output_type": "execute_result"
    }
   ],
   "source": [
    "content"
   ]
  },
  {
   "cell_type": "code",
   "execution_count": 289,
   "id": "f6943f49-f050-499f-9ece-407d16b18817",
   "metadata": {},
   "outputs": [
    {
     "data": {
      "text/plain": [
       "14"
      ]
     },
     "execution_count": 289,
     "metadata": {},
     "output_type": "execute_result"
    }
   ],
   "source": [
    "10 + 4"
   ]
  },
  {
   "cell_type": "code",
   "execution_count": 290,
   "id": "3dd015c0-ef5d-4940-a6ae-434c414ffc34",
   "metadata": {},
   "outputs": [
    {
     "data": {
      "text/plain": [
       "6"
      ]
     },
     "execution_count": 290,
     "metadata": {},
     "output_type": "execute_result"
    }
   ],
   "source": [
    "10 - 4"
   ]
  },
  {
   "cell_type": "code",
   "execution_count": 291,
   "id": "0980b364-7f77-4aed-b81d-14e6d8830c35",
   "metadata": {},
   "outputs": [
    {
     "data": {
      "text/plain": [
       "40"
      ]
     },
     "execution_count": 291,
     "metadata": {},
     "output_type": "execute_result"
    }
   ],
   "source": [
    "10 * 4"
   ]
  },
  {
   "cell_type": "code",
   "execution_count": 292,
   "id": "42c78803-2370-44ae-8a6a-6aeca38d4a93",
   "metadata": {},
   "outputs": [
    {
     "data": {
      "text/plain": [
       "10000"
      ]
     },
     "execution_count": 292,
     "metadata": {},
     "output_type": "execute_result"
    }
   ],
   "source": [
    "10 ** 4"
   ]
  },
  {
   "cell_type": "code",
   "execution_count": 293,
   "id": "f72970c8-e2a1-4fcc-868c-aac86d42fd31",
   "metadata": {},
   "outputs": [
    {
     "data": {
      "text/plain": [
       "2.5"
      ]
     },
     "execution_count": 293,
     "metadata": {},
     "output_type": "execute_result"
    }
   ],
   "source": [
    "10 / float(4)"
   ]
  },
  {
   "cell_type": "code",
   "execution_count": 294,
   "id": "4665e43e-d1a2-4d08-81a2-b9db14fa8859",
   "metadata": {},
   "outputs": [
    {
     "data": {
      "text/plain": [
       "1"
      ]
     },
     "execution_count": 294,
     "metadata": {},
     "output_type": "execute_result"
    }
   ],
   "source": [
    "5 % 4"
   ]
  },
  {
   "cell_type": "code",
   "execution_count": 295,
   "id": "859e4c6a-e77c-4eb4-ba65-27ed0c8b8fe8",
   "metadata": {},
   "outputs": [
    {
     "data": {
      "text/plain": [
       "2.5"
      ]
     },
     "execution_count": 295,
     "metadata": {},
     "output_type": "execute_result"
    }
   ],
   "source": [
    "10 / 4"
   ]
  },
  {
   "cell_type": "code",
   "execution_count": 296,
   "id": "4ba80d1f-b0d9-41ee-88f0-aa8e6f6cdb8c",
   "metadata": {},
   "outputs": [
    {
     "data": {
      "text/plain": [
       "2"
      ]
     },
     "execution_count": 296,
     "metadata": {},
     "output_type": "execute_result"
    }
   ],
   "source": [
    "10 // 4"
   ]
  },
  {
   "cell_type": "code",
   "execution_count": 297,
   "id": "e4a8c96a-2d2a-4e16-9652-26d98944d6b6",
   "metadata": {},
   "outputs": [
    {
     "data": {
      "text/plain": [
       "True"
      ]
     },
     "execution_count": 297,
     "metadata": {},
     "output_type": "execute_result"
    }
   ],
   "source": [
    "5 > 3"
   ]
  },
  {
   "cell_type": "code",
   "execution_count": 298,
   "id": "df057b5f-5191-4836-8237-87ea6b9369d3",
   "metadata": {},
   "outputs": [
    {
     "data": {
      "text/plain": [
       "True"
      ]
     },
     "execution_count": 298,
     "metadata": {},
     "output_type": "execute_result"
    }
   ],
   "source": [
    "5 >= 4"
   ]
  },
  {
   "cell_type": "code",
   "execution_count": 299,
   "id": "60c70d01-0d6b-4e8f-9c31-63b415ec9e56",
   "metadata": {},
   "outputs": [
    {
     "data": {
      "text/plain": [
       "True"
      ]
     },
     "execution_count": 299,
     "metadata": {},
     "output_type": "execute_result"
    }
   ],
   "source": [
    "5 != 3"
   ]
  },
  {
   "cell_type": "code",
   "execution_count": 300,
   "id": "b0fc2358-e0b8-43d2-9e8c-8cd131750b85",
   "metadata": {},
   "outputs": [
    {
     "data": {
      "text/plain": [
       "True"
      ]
     },
     "execution_count": 300,
     "metadata": {},
     "output_type": "execute_result"
    }
   ],
   "source": [
    "5 == 5"
   ]
  },
  {
   "cell_type": "code",
   "execution_count": 301,
   "id": "0724a4ee-7519-42a9-989f-b635bde7c6a9",
   "metadata": {},
   "outputs": [
    {
     "data": {
      "text/plain": [
       "True"
      ]
     },
     "execution_count": 301,
     "metadata": {},
     "output_type": "execute_result"
    }
   ],
   "source": [
    "5 > 3 and 6 > 3"
   ]
  },
  {
   "cell_type": "code",
   "execution_count": 302,
   "id": "92139a16-21fa-42ae-a5d1-2742f9f8aab7",
   "metadata": {},
   "outputs": [
    {
     "data": {
      "text/plain": [
       "True"
      ]
     },
     "execution_count": 302,
     "metadata": {},
     "output_type": "execute_result"
    }
   ],
   "source": [
    "5 > 3 or 5 < 3"
   ]
  },
  {
   "cell_type": "code",
   "execution_count": 303,
   "id": "36933a00-e8b2-4a7b-844e-b283b3f29164",
   "metadata": {},
   "outputs": [
    {
     "data": {
      "text/plain": [
       "True"
      ]
     },
     "execution_count": 303,
     "metadata": {},
     "output_type": "execute_result"
    }
   ],
   "source": [
    "not False"
   ]
  },
  {
   "cell_type": "code",
   "execution_count": 304,
   "id": "a84b8a8a-67fc-40e8-98af-e9626ca8cbbf",
   "metadata": {},
   "outputs": [
    {
     "data": {
      "text/plain": [
       "True"
      ]
     },
     "execution_count": 304,
     "metadata": {},
     "output_type": "execute_result"
    }
   ],
   "source": [
    "False or not False and True"
   ]
  },
  {
   "cell_type": "code",
   "execution_count": 305,
   "id": "d6aef7ee-6fc7-4afb-ac5d-21b174c0f0b8",
   "metadata": {},
   "outputs": [
    {
     "data": {
      "text/plain": [
       "int"
      ]
     },
     "execution_count": 305,
     "metadata": {},
     "output_type": "execute_result"
    }
   ],
   "source": [
    "type(2)"
   ]
  },
  {
   "cell_type": "code",
   "execution_count": 306,
   "id": "b2f73e7d-69ba-4a67-8347-520969910aee",
   "metadata": {},
   "outputs": [
    {
     "data": {
      "text/plain": [
       "float"
      ]
     },
     "execution_count": 306,
     "metadata": {},
     "output_type": "execute_result"
    }
   ],
   "source": [
    "type(2.0)"
   ]
  },
  {
   "cell_type": "code",
   "execution_count": 307,
   "id": "6ad692bd-4e7f-4444-a865-452b1db4b637",
   "metadata": {},
   "outputs": [
    {
     "data": {
      "text/plain": [
       "str"
      ]
     },
     "execution_count": 307,
     "metadata": {},
     "output_type": "execute_result"
    }
   ],
   "source": [
    "type('two')"
   ]
  },
  {
   "cell_type": "code",
   "execution_count": 308,
   "id": "bd36ed7f-3fad-4b9c-953a-90f5a08a81d2",
   "metadata": {},
   "outputs": [
    {
     "data": {
      "text/plain": [
       "bool"
      ]
     },
     "execution_count": 308,
     "metadata": {},
     "output_type": "execute_result"
    }
   ],
   "source": [
    "type(True)"
   ]
  },
  {
   "cell_type": "code",
   "execution_count": 309,
   "id": "6f683eed-b034-4b7d-96b7-a6b2d5c2af30",
   "metadata": {},
   "outputs": [
    {
     "data": {
      "text/plain": [
       "NoneType"
      ]
     },
     "execution_count": 309,
     "metadata": {},
     "output_type": "execute_result"
    }
   ],
   "source": [
    "type(None)"
   ]
  },
  {
   "cell_type": "code",
   "execution_count": 310,
   "id": "36fac49e-f105-4ab5-ad12-6782bd77da90",
   "metadata": {},
   "outputs": [
    {
     "data": {
      "text/plain": [
       "False"
      ]
     },
     "execution_count": 310,
     "metadata": {},
     "output_type": "execute_result"
    }
   ],
   "source": [
    "isinstance(2.0, int)"
   ]
  },
  {
   "cell_type": "code",
   "execution_count": 311,
   "id": "d1585153-0b5a-4dae-ab65-8296c7ec9056",
   "metadata": {},
   "outputs": [
    {
     "data": {
      "text/plain": [
       "True"
      ]
     },
     "execution_count": 311,
     "metadata": {},
     "output_type": "execute_result"
    }
   ],
   "source": [
    "isinstance(2.0, (int, float))"
   ]
  },
  {
   "cell_type": "code",
   "execution_count": 312,
   "id": "c914d15a-363b-42f2-bc24-93a503d0a4ba",
   "metadata": {},
   "outputs": [
    {
     "data": {
      "text/plain": [
       "2.0"
      ]
     },
     "execution_count": 312,
     "metadata": {},
     "output_type": "execute_result"
    }
   ],
   "source": [
    "float(2)"
   ]
  },
  {
   "cell_type": "code",
   "execution_count": 313,
   "id": "6d41294a-3e2e-4906-b323-49d3e1dd609b",
   "metadata": {},
   "outputs": [
    {
     "data": {
      "text/plain": [
       "2"
      ]
     },
     "execution_count": 313,
     "metadata": {},
     "output_type": "execute_result"
    }
   ],
   "source": [
    "int(2.9)"
   ]
  },
  {
   "cell_type": "code",
   "execution_count": 314,
   "id": "99797351-ac4c-49c7-a539-33d5da0ebb93",
   "metadata": {},
   "outputs": [
    {
     "data": {
      "text/plain": [
       "'2.9'"
      ]
     },
     "execution_count": 314,
     "metadata": {},
     "output_type": "execute_result"
    }
   ],
   "source": [
    "str(2.9)"
   ]
  },
  {
   "cell_type": "code",
   "execution_count": 315,
   "id": "cc158a24-d2f6-418c-a3f7-a5e9c1bdc194",
   "metadata": {},
   "outputs": [
    {
     "data": {
      "text/plain": [
       "False"
      ]
     },
     "execution_count": 315,
     "metadata": {},
     "output_type": "execute_result"
    }
   ],
   "source": [
    "bool(0)"
   ]
  },
  {
   "cell_type": "code",
   "execution_count": 316,
   "id": "0e776d84-0c9f-4647-8935-bf0d1eede8d9",
   "metadata": {},
   "outputs": [
    {
     "data": {
      "text/plain": [
       "False"
      ]
     },
     "execution_count": 316,
     "metadata": {},
     "output_type": "execute_result"
    }
   ],
   "source": [
    "bool(None)"
   ]
  },
  {
   "cell_type": "code",
   "execution_count": 317,
   "id": "6c4bb36b-36a7-47ca-abc5-7f61bf683abd",
   "metadata": {},
   "outputs": [
    {
     "data": {
      "text/plain": [
       "False"
      ]
     },
     "execution_count": 317,
     "metadata": {},
     "output_type": "execute_result"
    }
   ],
   "source": [
    "bool('')"
   ]
  },
  {
   "cell_type": "code",
   "execution_count": 318,
   "id": "a0217234-94b8-4e0c-a886-011f5ecfcb1e",
   "metadata": {},
   "outputs": [
    {
     "data": {
      "text/plain": [
       "False"
      ]
     },
     "execution_count": 318,
     "metadata": {},
     "output_type": "execute_result"
    }
   ],
   "source": [
    "bool([])"
   ]
  },
  {
   "cell_type": "code",
   "execution_count": 319,
   "id": "c36e70e9-5ce9-456d-a90c-999f58e91729",
   "metadata": {},
   "outputs": [
    {
     "data": {
      "text/plain": [
       "False"
      ]
     },
     "execution_count": 319,
     "metadata": {},
     "output_type": "execute_result"
    }
   ],
   "source": [
    "bool({})\n"
   ]
  },
  {
   "cell_type": "code",
   "execution_count": 320,
   "id": "a57c90e2-b337-4b17-ad7b-68aa65703447",
   "metadata": {},
   "outputs": [
    {
     "data": {
      "text/plain": [
       "True"
      ]
     },
     "execution_count": 320,
     "metadata": {},
     "output_type": "execute_result"
    }
   ],
   "source": [
    "bool(3)"
   ]
  },
  {
   "cell_type": "code",
   "execution_count": 321,
   "id": "7c7aaa87-7af1-41c0-a45a-4bcdb58a844c",
   "metadata": {},
   "outputs": [
    {
     "data": {
      "text/plain": [
       "True"
      ]
     },
     "execution_count": 321,
     "metadata": {},
     "output_type": "execute_result"
    }
   ],
   "source": [
    "bool('two')"
   ]
  },
  {
   "cell_type": "code",
   "execution_count": 322,
   "id": "31c0b30f-4470-4f24-85bf-24d8d189fc4b",
   "metadata": {},
   "outputs": [
    {
     "data": {
      "text/plain": [
       "True"
      ]
     },
     "execution_count": 322,
     "metadata": {},
     "output_type": "execute_result"
    }
   ],
   "source": [
    "bool([3])"
   ]
  },
  {
   "cell_type": "code",
   "execution_count": 323,
   "id": "3e2d61ba-5876-4eb5-ac03-dd26c463f2c4",
   "metadata": {},
   "outputs": [
    {
     "data": {
      "text/plain": [
       "[]"
      ]
     },
     "execution_count": 323,
     "metadata": {},
     "output_type": "execute_result"
    }
   ],
   "source": [
    "# create an empty list (two ways)\n",
    "empty_list = []\n",
    "empty_list = list()\n",
    "empty_list"
   ]
  },
  {
   "cell_type": "code",
   "execution_count": 324,
   "id": "f52dacdd-6732-413f-94a4-1493706f514c",
   "metadata": {},
   "outputs": [
    {
     "data": {
      "text/plain": [
       "['homer', 'marge', 'bart']"
      ]
     },
     "execution_count": 324,
     "metadata": {},
     "output_type": "execute_result"
    }
   ],
   "source": [
    "# create a list\n",
    "simpsons = ['homer', 'marge', 'bart']\n",
    "simpsons"
   ]
  },
  {
   "cell_type": "code",
   "execution_count": 325,
   "id": "8ea9c8ff-2b0b-4965-9ac1-84dd5fb6971f",
   "metadata": {},
   "outputs": [
    {
     "data": {
      "text/plain": [
       "'homer'"
      ]
     },
     "execution_count": 325,
     "metadata": {},
     "output_type": "execute_result"
    }
   ],
   "source": [
    "# examine a list\n",
    "simpsons[0]"
   ]
  },
  {
   "cell_type": "code",
   "execution_count": 326,
   "id": "3363580f-14cb-4b01-9f56-481d96a6989b",
   "metadata": {},
   "outputs": [
    {
     "data": {
      "text/plain": [
       "3"
      ]
     },
     "execution_count": 326,
     "metadata": {},
     "output_type": "execute_result"
    }
   ],
   "source": [
    "len(simpsons)"
   ]
  },
  {
   "cell_type": "code",
   "execution_count": 327,
   "id": "26f45fa7-3791-4f4c-9fa7-ab0011f7e969",
   "metadata": {},
   "outputs": [
    {
     "data": {
      "text/plain": [
       "['maggie', 'homer', 'marge', 'bart', 'lisa', 'itchy', 'scratchy']"
      ]
     },
     "execution_count": 327,
     "metadata": {},
     "output_type": "execute_result"
    }
   ],
   "source": [
    "# modify a list (does not return the list)\n",
    "simpsons.append('lisa')\n",
    "simpsons.extend(['itchy', 'scratchy'])\n",
    "simpsons.insert(0, 'maggie')\n",
    "simpsons"
   ]
  },
  {
   "cell_type": "code",
   "execution_count": 328,
   "id": "e6b69507-f09b-46c2-8d4c-571ec18bedb8",
   "metadata": {},
   "outputs": [
    {
     "data": {
      "text/plain": [
       "['maggie', 'homer', 'marge', 'lisa', 'itchy', 'scratchy']"
      ]
     },
     "execution_count": 328,
     "metadata": {},
     "output_type": "execute_result"
    }
   ],
   "source": [
    "simpsons.remove('bart')\n",
    "simpsons"
   ]
  },
  {
   "cell_type": "code",
   "execution_count": 329,
   "id": "71a09701-fc65-49d1-ae3b-fa534fd60dd7",
   "metadata": {},
   "outputs": [
    {
     "data": {
      "text/plain": [
       "'scratchy'"
      ]
     },
     "execution_count": 329,
     "metadata": {},
     "output_type": "execute_result"
    }
   ],
   "source": [
    "simpsons.pop()"
   ]
  },
  {
   "cell_type": "code",
   "execution_count": 330,
   "id": "6c9d4368-0477-4c2d-ab25-ca555319bc4b",
   "metadata": {},
   "outputs": [
    {
     "data": {
      "text/plain": [
       "'maggie'"
      ]
     },
     "execution_count": 330,
     "metadata": {},
     "output_type": "execute_result"
    }
   ],
   "source": [
    "simpsons.pop(0)"
   ]
  },
  {
   "cell_type": "code",
   "execution_count": 331,
   "id": "f2c879ad-ebef-4e11-baad-9adf6d6a78ce",
   "metadata": {},
   "outputs": [
    {
     "data": {
      "text/plain": [
       "['homer', 'marge', 'lisa', 'itchy']"
      ]
     },
     "execution_count": 331,
     "metadata": {},
     "output_type": "execute_result"
    }
   ],
   "source": [
    "simpsons"
   ]
  },
  {
   "cell_type": "code",
   "execution_count": 332,
   "id": "ff651063-bdc1-4a0d-9eb9-8e2e01868009",
   "metadata": {},
   "outputs": [
    {
     "data": {
      "text/plain": [
       "['krusty', 'lisa', 'itchy']"
      ]
     },
     "execution_count": 332,
     "metadata": {},
     "output_type": "execute_result"
    }
   ],
   "source": [
    "del simpsons[0]\n",
    "simpsons[0] = 'krusty'\n",
    "simpsons"
   ]
  },
  {
   "cell_type": "code",
   "execution_count": 333,
   "id": "5de1d26f-9018-40e8-a193-c8633130ca8f",
   "metadata": {},
   "outputs": [
    {
     "data": {
      "text/plain": [
       "['krusty', 'lisa', 'itchy', 'ned', 'rod', 'todd']"
      ]
     },
     "execution_count": 333,
     "metadata": {},
     "output_type": "execute_result"
    }
   ],
   "source": [
    "# concatenate list (slower that 'extend' method')\n",
    "neighbors = simpsons + ['ned', 'rod', 'todd']\n",
    "neighbors"
   ]
  },
  {
   "cell_type": "code",
   "execution_count": 334,
   "id": "36f95c4f-4685-4f48-8baa-bfbf7759dc28",
   "metadata": {},
   "outputs": [
    {
     "data": {
      "text/plain": [
       "True"
      ]
     },
     "execution_count": 334,
     "metadata": {},
     "output_type": "execute_result"
    }
   ],
   "source": [
    "'lisa' in simpsons"
   ]
  },
  {
   "cell_type": "code",
   "execution_count": 335,
   "id": "8a7b2f25-5e8d-446c-a6a8-7fc564de9794",
   "metadata": {},
   "outputs": [
    {
     "data": {
      "text/plain": [
       "1"
      ]
     },
     "execution_count": 335,
     "metadata": {},
     "output_type": "execute_result"
    }
   ],
   "source": [
    "simpsons.count('lisa')"
   ]
  },
  {
   "cell_type": "code",
   "execution_count": 336,
   "id": "d5d4b840-3357-409e-87b0-f5ca4f040d39",
   "metadata": {},
   "outputs": [
    {
     "data": {
      "text/plain": [
       "0"
      ]
     },
     "execution_count": 336,
     "metadata": {},
     "output_type": "execute_result"
    }
   ],
   "source": [
    "simpsons.count('tich')"
   ]
  },
  {
   "cell_type": "code",
   "execution_count": 337,
   "id": "bfce3126-e33c-4621-ab91-452b3cf2b3ea",
   "metadata": {},
   "outputs": [
    {
     "data": {
      "text/plain": [
       "'mon'"
      ]
     },
     "execution_count": 337,
     "metadata": {},
     "output_type": "execute_result"
    }
   ],
   "source": [
    "weekdays = ['mon', 'tue', 'wed', 'thurs', 'fri']\n",
    "weekdays[0]"
   ]
  },
  {
   "cell_type": "code",
   "execution_count": 338,
   "id": "d12a28b5-b831-4344-ba7f-2673c4a44435",
   "metadata": {},
   "outputs": [
    {
     "data": {
      "text/plain": [
       "['mon', 'tue', 'wed']"
      ]
     },
     "execution_count": 338,
     "metadata": {},
     "output_type": "execute_result"
    }
   ],
   "source": [
    "weekdays[0:3]"
   ]
  },
  {
   "cell_type": "code",
   "execution_count": 339,
   "id": "63b53925-ffe6-49fe-980c-b6c5f5f7be75",
   "metadata": {},
   "outputs": [
    {
     "data": {
      "text/plain": [
       "['mon', 'tue', 'wed']"
      ]
     },
     "execution_count": 339,
     "metadata": {},
     "output_type": "execute_result"
    }
   ],
   "source": [
    "weekdays[:3]"
   ]
  },
  {
   "cell_type": "code",
   "execution_count": 340,
   "id": "b20d4b94-8f99-4fbb-9f65-8a10f1851cb7",
   "metadata": {},
   "outputs": [
    {
     "data": {
      "text/plain": [
       "['mon', 'tue', 'wed']"
      ]
     },
     "execution_count": 340,
     "metadata": {},
     "output_type": "execute_result"
    }
   ],
   "source": [
    "weekdays[:3]"
   ]
  },
  {
   "cell_type": "code",
   "execution_count": 341,
   "id": "136b6b1a-cddf-46e9-8810-bf9a3c2fa0d7",
   "metadata": {},
   "outputs": [
    {
     "data": {
      "text/plain": [
       "['thurs', 'fri']"
      ]
     },
     "execution_count": 341,
     "metadata": {},
     "output_type": "execute_result"
    }
   ],
   "source": [
    "weekdays[3:]"
   ]
  },
  {
   "cell_type": "code",
   "execution_count": 342,
   "id": "d1ae3128-522e-45e1-ac6d-1af5b1039f13",
   "metadata": {},
   "outputs": [
    {
     "data": {
      "text/plain": [
       "'fri'"
      ]
     },
     "execution_count": 342,
     "metadata": {},
     "output_type": "execute_result"
    }
   ],
   "source": [
    "weekdays[-1]"
   ]
  },
  {
   "cell_type": "code",
   "execution_count": 343,
   "id": "2e455d50-eed1-4801-8d7f-13ddb5731403",
   "metadata": {},
   "outputs": [
    {
     "data": {
      "text/plain": [
       "['mon', 'wed', 'fri']"
      ]
     },
     "execution_count": 343,
     "metadata": {},
     "output_type": "execute_result"
    }
   ],
   "source": [
    "weekdays[::2]"
   ]
  },
  {
   "cell_type": "code",
   "execution_count": 344,
   "id": "ea6d3a10-9b32-47a4-8b76-6b859460d129",
   "metadata": {},
   "outputs": [
    {
     "data": {
      "text/plain": [
       "['fri', 'thurs', 'wed', 'tue', 'mon']"
      ]
     },
     "execution_count": 344,
     "metadata": {},
     "output_type": "execute_result"
    }
   ],
   "source": [
    "weekdays[::-1]"
   ]
  },
  {
   "cell_type": "code",
   "execution_count": 345,
   "id": "4e06608e-f082-49d5-834e-d48ce125d8d5",
   "metadata": {},
   "outputs": [
    {
     "data": {
      "text/plain": [
       "<list_reverseiterator at 0x7fd251429b40>"
      ]
     },
     "execution_count": 345,
     "metadata": {},
     "output_type": "execute_result"
    }
   ],
   "source": [
    "reversed(weekdays)"
   ]
  },
  {
   "cell_type": "code",
   "execution_count": 346,
   "id": "98d8acc2-f867-4c65-8e3b-36790986bd1d",
   "metadata": {},
   "outputs": [
    {
     "data": {
      "text/plain": [
       "['fri', 'thurs', 'wed', 'tue', 'mon']"
      ]
     },
     "execution_count": 346,
     "metadata": {},
     "output_type": "execute_result"
    }
   ],
   "source": [
    "list(reversed(weekdays))"
   ]
  },
  {
   "cell_type": "code",
   "execution_count": 347,
   "id": "58923cc2-f897-4380-949a-f08a53085718",
   "metadata": {},
   "outputs": [],
   "source": [
    "simpsons.sort()"
   ]
  },
  {
   "cell_type": "code",
   "execution_count": 348,
   "id": "66fa2751-9c02-47b8-8354-43792d3a0f7e",
   "metadata": {},
   "outputs": [
    {
     "data": {
      "text/plain": [
       "['itchy', 'krusty', 'lisa']"
      ]
     },
     "execution_count": 348,
     "metadata": {},
     "output_type": "execute_result"
    }
   ],
   "source": [
    "simpsons"
   ]
  },
  {
   "cell_type": "code",
   "execution_count": 349,
   "id": "cc0c46b1-61b8-4793-863b-040bb33a9c6a",
   "metadata": {},
   "outputs": [],
   "source": [
    "simpsons.sort(reverse=True)"
   ]
  },
  {
   "cell_type": "code",
   "execution_count": 350,
   "id": "5efb353f-bfbb-4c60-9589-3f7a1e5a4eb3",
   "metadata": {},
   "outputs": [
    {
     "data": {
      "text/plain": [
       "['lisa', 'krusty', 'itchy']"
      ]
     },
     "execution_count": 350,
     "metadata": {},
     "output_type": "execute_result"
    }
   ],
   "source": [
    "simpsons"
   ]
  },
  {
   "cell_type": "code",
   "execution_count": 351,
   "id": "75586073-b21e-4621-bf91-10481ed43b91",
   "metadata": {},
   "outputs": [],
   "source": [
    "simpsons.sort(key=len)"
   ]
  },
  {
   "cell_type": "code",
   "execution_count": 352,
   "id": "573516c4-4fe8-4063-b1ca-d2daf61669ed",
   "metadata": {},
   "outputs": [
    {
     "data": {
      "text/plain": [
       "['lisa', 'itchy', 'krusty']"
      ]
     },
     "execution_count": 352,
     "metadata": {},
     "output_type": "execute_result"
    }
   ],
   "source": [
    "simpsons"
   ]
  },
  {
   "cell_type": "code",
   "execution_count": 353,
   "id": "2c6cdc0f-b2da-477c-8a05-ddb73266befa",
   "metadata": {},
   "outputs": [
    {
     "data": {
      "text/plain": [
       "['itchy', 'krusty', 'lisa']"
      ]
     },
     "execution_count": 353,
     "metadata": {},
     "output_type": "execute_result"
    }
   ],
   "source": [
    "sorted(simpsons)"
   ]
  },
  {
   "cell_type": "code",
   "execution_count": 354,
   "id": "16a73358-aa57-42e6-a6e7-e5c824215a2d",
   "metadata": {},
   "outputs": [
    {
     "data": {
      "text/plain": [
       "['lisa', 'krusty', 'itchy']"
      ]
     },
     "execution_count": 354,
     "metadata": {},
     "output_type": "execute_result"
    }
   ],
   "source": [
    "sorted(simpsons, reverse=True)"
   ]
  },
  {
   "cell_type": "code",
   "execution_count": 355,
   "id": "57b49cac-aa93-459d-a763-3869897729db",
   "metadata": {},
   "outputs": [
    {
     "data": {
      "text/plain": [
       "['lisa', 'itchy', 'krusty']"
      ]
     },
     "execution_count": 355,
     "metadata": {},
     "output_type": "execute_result"
    }
   ],
   "source": [
    "sorted(simpsons, key=len)"
   ]
  },
  {
   "cell_type": "code",
   "execution_count": 356,
   "id": "705d56d0-ab71-45d6-aa98-8607612b3d6b",
   "metadata": {},
   "outputs": [
    {
     "data": {
      "text/plain": [
       "[1, 2, 3]"
      ]
     },
     "execution_count": 356,
     "metadata": {},
     "output_type": "execute_result"
    }
   ],
   "source": [
    "num = [1, 2, 3]\n",
    "num\n"
   ]
  },
  {
   "cell_type": "code",
   "execution_count": 357,
   "id": "401b755e-9e41-4a85-80ea-71e6ea479ef6",
   "metadata": {},
   "outputs": [],
   "source": [
    "same_num = num"
   ]
  },
  {
   "cell_type": "code",
   "execution_count": 358,
   "id": "649f2282-8d3c-4309-986e-b522bee7e5e0",
   "metadata": {},
   "outputs": [
    {
     "data": {
      "text/plain": [
       "1"
      ]
     },
     "execution_count": 358,
     "metadata": {},
     "output_type": "execute_result"
    }
   ],
   "source": [
    "same_num[0]"
   ]
  },
  {
   "cell_type": "code",
   "execution_count": 359,
   "id": "6e8e798a-93ce-4b00-adc8-f6b66318b6c2",
   "metadata": {},
   "outputs": [
    {
     "data": {
      "text/plain": [
       "[0, 2, 3]"
      ]
     },
     "execution_count": 359,
     "metadata": {},
     "output_type": "execute_result"
    }
   ],
   "source": [
    "same_num[0] = 0\n",
    "same_num"
   ]
  },
  {
   "cell_type": "code",
   "execution_count": 360,
   "id": "f1632b61-c37f-406e-ae0f-da52d5e08b6d",
   "metadata": {},
   "outputs": [
    {
     "data": {
      "text/plain": [
       "[0, 2, 3]"
      ]
     },
     "execution_count": 360,
     "metadata": {},
     "output_type": "execute_result"
    }
   ],
   "source": [
    "new_num = num.copy()\n",
    "new_num"
   ]
  },
  {
   "cell_type": "code",
   "execution_count": 361,
   "id": "98d8f82d-adf1-4ac5-80e1-f548a82236e3",
   "metadata": {},
   "outputs": [],
   "source": [
    "new_num = num[:]"
   ]
  },
  {
   "cell_type": "code",
   "execution_count": 362,
   "id": "5f9be39f-9f96-4e92-8bb6-eef5f6a970c8",
   "metadata": {},
   "outputs": [],
   "source": [
    "new_num = list(num)"
   ]
  },
  {
   "cell_type": "code",
   "execution_count": 363,
   "id": "519e7438-bff7-4bef-af79-a053eed77698",
   "metadata": {},
   "outputs": [
    {
     "data": {
      "text/plain": [
       "True"
      ]
     },
     "execution_count": 363,
     "metadata": {},
     "output_type": "execute_result"
    }
   ],
   "source": [
    "id(num) == id(same_num)"
   ]
  },
  {
   "cell_type": "code",
   "execution_count": 364,
   "id": "c05d3c3c-2456-4b14-b988-c260f5c01157",
   "metadata": {},
   "outputs": [
    {
     "data": {
      "text/plain": [
       "False"
      ]
     },
     "execution_count": 364,
     "metadata": {},
     "output_type": "execute_result"
    }
   ],
   "source": [
    "id(num) == id(new_num)"
   ]
  },
  {
   "cell_type": "code",
   "execution_count": 365,
   "id": "9f0abae5-4add-478f-950a-4629fedb2684",
   "metadata": {},
   "outputs": [
    {
     "data": {
      "text/plain": [
       "True"
      ]
     },
     "execution_count": 365,
     "metadata": {},
     "output_type": "execute_result"
    }
   ],
   "source": [
    "num is same_num"
   ]
  },
  {
   "cell_type": "code",
   "execution_count": 366,
   "id": "ecab1ec6-8b49-4a97-b661-f7f3fabb5733",
   "metadata": {},
   "outputs": [
    {
     "data": {
      "text/plain": [
       "False"
      ]
     },
     "execution_count": 366,
     "metadata": {},
     "output_type": "execute_result"
    }
   ],
   "source": [
    "num is new_num"
   ]
  },
  {
   "cell_type": "code",
   "execution_count": 367,
   "id": "3befc6fe-5542-4edb-9baf-c0cf95ff4740",
   "metadata": {},
   "outputs": [
    {
     "data": {
      "text/plain": [
       "True"
      ]
     },
     "execution_count": 367,
     "metadata": {},
     "output_type": "execute_result"
    }
   ],
   "source": [
    "num == same_num"
   ]
  },
  {
   "cell_type": "code",
   "execution_count": 368,
   "id": "77e7393c-4dda-40cb-ab16-92dda0097227",
   "metadata": {},
   "outputs": [
    {
     "data": {
      "text/plain": [
       "True"
      ]
     },
     "execution_count": 368,
     "metadata": {},
     "output_type": "execute_result"
    }
   ],
   "source": [
    "num == new_num"
   ]
  },
  {
   "cell_type": "code",
   "execution_count": 369,
   "id": "13ed560a-347f-488f-a4a3-9bedd403c814",
   "metadata": {},
   "outputs": [
    {
     "data": {
      "text/plain": [
       "[1, 2, 3, 4, 5, 6]"
      ]
     },
     "execution_count": 369,
     "metadata": {},
     "output_type": "execute_result"
    }
   ],
   "source": [
    "[1, 2, 3] + [4, 5, 6]"
   ]
  },
  {
   "cell_type": "code",
   "execution_count": 370,
   "id": "6e8854d7-3b7c-4049-a188-02d684514854",
   "metadata": {},
   "outputs": [
    {
     "data": {
      "text/plain": [
       "['a', 'a', 'b', 'b', 'b']"
      ]
     },
     "execution_count": 370,
     "metadata": {},
     "output_type": "execute_result"
    }
   ],
   "source": [
    "['a'] * 2 + ['b'] * 3"
   ]
  },
  {
   "cell_type": "code",
   "execution_count": 371,
   "id": "4473a116-5194-41c0-bfda-23e499d4e64c",
   "metadata": {},
   "outputs": [
    {
     "data": {
      "text/plain": [
       "(0, 1, 'two')"
      ]
     },
     "execution_count": 371,
     "metadata": {},
     "output_type": "execute_result"
    }
   ],
   "source": [
    "# create a tuple\n",
    "digits = (0, 1, 'two')\n",
    "digits"
   ]
  },
  {
   "cell_type": "code",
   "execution_count": 372,
   "id": "16a2b2ab-e97d-4d0e-9102-22b3b224e7ed",
   "metadata": {},
   "outputs": [
    {
     "data": {
      "text/plain": [
       "(0, 1, 'two')"
      ]
     },
     "execution_count": 372,
     "metadata": {},
     "output_type": "execute_result"
    }
   ],
   "source": [
    "digits = tuple([0, 1, 'two'])\n",
    "digits"
   ]
  },
  {
   "cell_type": "code",
   "execution_count": 373,
   "id": "eab5491a-cd25-4584-a1d6-5e7e45ec6777",
   "metadata": {},
   "outputs": [
    {
     "data": {
      "text/plain": [
       "(0,)"
      ]
     },
     "execution_count": 373,
     "metadata": {},
     "output_type": "execute_result"
    }
   ],
   "source": [
    "zero = (0, )\n",
    "zero"
   ]
  },
  {
   "cell_type": "code",
   "execution_count": 374,
   "id": "27a46ba2-1d89-4698-affd-b55ae87ee8c3",
   "metadata": {},
   "outputs": [
    {
     "data": {
      "text/plain": [
       "'two'"
      ]
     },
     "execution_count": 374,
     "metadata": {},
     "output_type": "execute_result"
    }
   ],
   "source": [
    "digits[2]"
   ]
  },
  {
   "cell_type": "code",
   "execution_count": 375,
   "id": "14b690ea-a1e9-4be2-b782-32e8147ef161",
   "metadata": {},
   "outputs": [
    {
     "data": {
      "text/plain": [
       "3"
      ]
     },
     "execution_count": 375,
     "metadata": {},
     "output_type": "execute_result"
    }
   ],
   "source": [
    "len(digits)"
   ]
  },
  {
   "cell_type": "code",
   "execution_count": 376,
   "id": "8850618f-f4c8-4166-a021-4ffc2238399b",
   "metadata": {},
   "outputs": [
    {
     "data": {
      "text/plain": [
       "1"
      ]
     },
     "execution_count": 376,
     "metadata": {},
     "output_type": "execute_result"
    }
   ],
   "source": [
    "digits.count(0)"
   ]
  },
  {
   "cell_type": "code",
   "execution_count": 377,
   "id": "de6d8187-7ec2-4bda-bbf9-f3e6da23cbd1",
   "metadata": {},
   "outputs": [
    {
     "data": {
      "text/plain": [
       "1"
      ]
     },
     "execution_count": 377,
     "metadata": {},
     "output_type": "execute_result"
    }
   ],
   "source": [
    "digits.index(1)"
   ]
  },
  {
   "cell_type": "code",
   "execution_count": 378,
   "id": "ad0ea85f-1941-41c2-a8cc-f87f624dee7b",
   "metadata": {},
   "outputs": [],
   "source": [
    "digits = digits +  (3, 4)"
   ]
  },
  {
   "cell_type": "code",
   "execution_count": 379,
   "id": "7b964a53-d751-4bae-890e-fb4e21aa651c",
   "metadata": {},
   "outputs": [
    {
     "data": {
      "text/plain": [
       "(0, 1, 'two', 3, 4)"
      ]
     },
     "execution_count": 379,
     "metadata": {},
     "output_type": "execute_result"
    }
   ],
   "source": [
    "digits"
   ]
  },
  {
   "cell_type": "code",
   "execution_count": 380,
   "id": "441a88d9-1328-4e2c-bcc6-35b2fcdcf78e",
   "metadata": {},
   "outputs": [
    {
     "data": {
      "text/plain": [
       "(3, 4, 3, 4)"
      ]
     },
     "execution_count": 380,
     "metadata": {},
     "output_type": "execute_result"
    }
   ],
   "source": [
    "(3, 4) * 2"
   ]
  },
  {
   "cell_type": "code",
   "execution_count": 381,
   "id": "75614539-8324-4b92-bc33-062181063e15",
   "metadata": {},
   "outputs": [
    {
     "data": {
      "text/plain": [
       "('male', 10, 'simpson')"
      ]
     },
     "execution_count": 381,
     "metadata": {},
     "output_type": "execute_result"
    }
   ],
   "source": [
    "bart = ('male', 10, 'simpson')\n",
    "bart"
   ]
  },
  {
   "cell_type": "code",
   "execution_count": 382,
   "id": "d1b3ff94-e218-44af-a017-68d5dd2d8e42",
   "metadata": {},
   "outputs": [
    {
     "data": {
      "text/plain": [
       "'42'"
      ]
     },
     "execution_count": 382,
     "metadata": {},
     "output_type": "execute_result"
    }
   ],
   "source": [
    "s = str(42)\n",
    "s"
   ]
  },
  {
   "cell_type": "code",
   "execution_count": 383,
   "id": "00ee8c09-fca6-4f56-9361-ddc2392acfd2",
   "metadata": {},
   "outputs": [
    {
     "data": {
      "text/plain": [
       "'I like you'"
      ]
     },
     "execution_count": 383,
     "metadata": {},
     "output_type": "execute_result"
    }
   ],
   "source": [
    "s = 'I like you'\n",
    "s"
   ]
  },
  {
   "cell_type": "code",
   "execution_count": 384,
   "id": "4f2d02b7-40e5-4b0d-870a-f9b7bdea611f",
   "metadata": {},
   "outputs": [
    {
     "data": {
      "text/plain": [
       "'I'"
      ]
     },
     "execution_count": 384,
     "metadata": {},
     "output_type": "execute_result"
    }
   ],
   "source": [
    "s[0]"
   ]
  },
  {
   "cell_type": "code",
   "execution_count": 385,
   "id": "956ac731-dd44-41ef-98bc-b8aedf8a2dab",
   "metadata": {},
   "outputs": [
    {
     "data": {
      "text/plain": [
       "10"
      ]
     },
     "execution_count": 385,
     "metadata": {},
     "output_type": "execute_result"
    }
   ],
   "source": [
    "len(s)"
   ]
  },
  {
   "cell_type": "code",
   "execution_count": 386,
   "id": "5e1dd3a7-d752-485b-87b9-b7819f849cfd",
   "metadata": {},
   "outputs": [
    {
     "data": {
      "text/plain": [
       "'I like'"
      ]
     },
     "execution_count": 386,
     "metadata": {},
     "output_type": "execute_result"
    }
   ],
   "source": [
    "s[:6]"
   ]
  },
  {
   "cell_type": "code",
   "execution_count": 387,
   "id": "e893da9a-6cb8-4fec-9d8b-da3415896534",
   "metadata": {},
   "outputs": [
    {
     "data": {
      "text/plain": [
       "'you'"
      ]
     },
     "execution_count": 387,
     "metadata": {},
     "output_type": "execute_result"
    }
   ],
   "source": [
    "s[7:]"
   ]
  },
  {
   "cell_type": "code",
   "execution_count": 388,
   "id": "dd20c614-8eba-40e4-9d2a-2957e87a12f0",
   "metadata": {},
   "outputs": [
    {
     "data": {
      "text/plain": [
       "'u'"
      ]
     },
     "execution_count": 388,
     "metadata": {},
     "output_type": "execute_result"
    }
   ],
   "source": [
    "s[-1]"
   ]
  },
  {
   "cell_type": "code",
   "execution_count": 389,
   "id": "e29e33f4-f356-4b52-8621-73a5d94633dc",
   "metadata": {},
   "outputs": [
    {
     "data": {
      "text/plain": [
       "'i like you'"
      ]
     },
     "execution_count": 389,
     "metadata": {},
     "output_type": "execute_result"
    }
   ],
   "source": [
    "s.lower()"
   ]
  },
  {
   "cell_type": "code",
   "execution_count": 390,
   "id": "31c3aff5-7c3c-425a-9687-19c603dbb9cd",
   "metadata": {},
   "outputs": [
    {
     "data": {
      "text/plain": [
       "'I LIKE YOU'"
      ]
     },
     "execution_count": 390,
     "metadata": {},
     "output_type": "execute_result"
    }
   ],
   "source": [
    "s.upper()"
   ]
  },
  {
   "cell_type": "code",
   "execution_count": 391,
   "id": "5d1e9f4e-ecff-429f-9ee0-43ec32116730",
   "metadata": {},
   "outputs": [
    {
     "data": {
      "text/plain": [
       "True"
      ]
     },
     "execution_count": 391,
     "metadata": {},
     "output_type": "execute_result"
    }
   ],
   "source": [
    "s.startswith('I')"
   ]
  },
  {
   "cell_type": "code",
   "execution_count": 392,
   "id": "44594666-7696-4fc6-bc56-d5fe34d853ec",
   "metadata": {},
   "outputs": [
    {
     "data": {
      "text/plain": [
       "True"
      ]
     },
     "execution_count": 392,
     "metadata": {},
     "output_type": "execute_result"
    }
   ],
   "source": [
    "s.endswith('you')"
   ]
  },
  {
   "cell_type": "code",
   "execution_count": 393,
   "id": "a0d15089-3a42-4213-a41e-85083517617b",
   "metadata": {},
   "outputs": [
    {
     "data": {
      "text/plain": [
       "False"
      ]
     },
     "execution_count": 393,
     "metadata": {},
     "output_type": "execute_result"
    }
   ],
   "source": [
    "s.isdigit()"
   ]
  },
  {
   "cell_type": "code",
   "execution_count": 394,
   "id": "63ad3693-9f01-4b79-ad48-759cf90d586c",
   "metadata": {},
   "outputs": [
    {
     "data": {
      "text/plain": [
       "2"
      ]
     },
     "execution_count": 394,
     "metadata": {},
     "output_type": "execute_result"
    }
   ],
   "source": [
    "s.find('like')"
   ]
  },
  {
   "cell_type": "code",
   "execution_count": 395,
   "id": "e1d9cfbe-d9b9-4032-acd2-fda040820872",
   "metadata": {},
   "outputs": [
    {
     "data": {
      "text/plain": [
       "-1"
      ]
     },
     "execution_count": 395,
     "metadata": {},
     "output_type": "execute_result"
    }
   ],
   "source": [
    "s.find('hate')"
   ]
  },
  {
   "cell_type": "code",
   "execution_count": 396,
   "id": "87be0515-54f3-4d10-be6e-481c219c69ee",
   "metadata": {},
   "outputs": [
    {
     "data": {
      "text/plain": [
       "'I love you'"
      ]
     },
     "execution_count": 396,
     "metadata": {},
     "output_type": "execute_result"
    }
   ],
   "source": [
    "s.replace('like', 'love')"
   ]
  },
  {
   "cell_type": "code",
   "execution_count": 397,
   "id": "09be45c8-9eec-4daf-9623-d4747413c6b3",
   "metadata": {},
   "outputs": [
    {
     "data": {
      "text/plain": [
       "'I like you'"
      ]
     },
     "execution_count": 397,
     "metadata": {},
     "output_type": "execute_result"
    }
   ],
   "source": [
    "s"
   ]
  },
  {
   "cell_type": "code",
   "execution_count": 398,
   "id": "878f0218-7ae7-40a9-a3ff-e18c16168e47",
   "metadata": {},
   "outputs": [
    {
     "data": {
      "text/plain": [
       "['I', 'like', 'you']"
      ]
     },
     "execution_count": 398,
     "metadata": {},
     "output_type": "execute_result"
    }
   ],
   "source": [
    "s.split(' ')"
   ]
  },
  {
   "cell_type": "code",
   "execution_count": 399,
   "id": "0aa2aa7c-3987-47f8-8a2f-e56d4dd0a26e",
   "metadata": {},
   "outputs": [
    {
     "data": {
      "text/plain": [
       "['I', 'like', 'you']"
      ]
     },
     "execution_count": 399,
     "metadata": {},
     "output_type": "execute_result"
    }
   ],
   "source": [
    "s.split()"
   ]
  },
  {
   "cell_type": "code",
   "execution_count": 400,
   "id": "0841b37c-6256-4af5-ab43-7bbb23760d8b",
   "metadata": {},
   "outputs": [
    {
     "data": {
      "text/plain": [
       "'a, an, the'"
      ]
     },
     "execution_count": 400,
     "metadata": {},
     "output_type": "execute_result"
    }
   ],
   "source": [
    "s2 = 'a, an, the'\n",
    "s2"
   ]
  },
  {
   "cell_type": "code",
   "execution_count": 401,
   "id": "ef5d7f2b-2b91-4a0e-8ea0-5ec938c8695e",
   "metadata": {},
   "outputs": [
    {
     "data": {
      "text/plain": [
       "['a', ' an', ' the']"
      ]
     },
     "execution_count": 401,
     "metadata": {},
     "output_type": "execute_result"
    }
   ],
   "source": [
    "s2.split(',')"
   ]
  },
  {
   "cell_type": "code",
   "execution_count": 402,
   "id": "4ccbcdbe-57b5-4109-8a48-f67c9ca8ebfe",
   "metadata": {},
   "outputs": [
    {
     "data": {
      "text/plain": [
       "'larry curly moe'"
      ]
     },
     "execution_count": 402,
     "metadata": {},
     "output_type": "execute_result"
    }
   ],
   "source": [
    "stooges = ['larry', 'curly', 'moe']\n",
    "' '.join(stooges)"
   ]
  },
  {
   "cell_type": "code",
   "execution_count": 403,
   "id": "78dbfc2d-9dc7-41e6-9de7-435df3477f2e",
   "metadata": {},
   "outputs": [
    {
     "data": {
      "text/plain": [
       "'The meaning of life is 42'"
      ]
     },
     "execution_count": 403,
     "metadata": {},
     "output_type": "execute_result"
    }
   ],
   "source": [
    "s3 = 'The meaning of life is'\n",
    "s4 = 42\n",
    "s3 + ' ' + str(s4)\n"
   ]
  },
  {
   "cell_type": "code",
   "execution_count": 404,
   "id": "86561e66-925d-49fc-af4c-be00b4b478ae",
   "metadata": {},
   "outputs": [
    {
     "data": {
      "text/plain": [
       "'ham and cheese'"
      ]
     },
     "execution_count": 404,
     "metadata": {},
     "output_type": "execute_result"
    }
   ],
   "source": [
    "s5 = '   ham and cheese   '\n",
    "s5.strip()"
   ]
  },
  {
   "cell_type": "code",
   "execution_count": 405,
   "id": "9e8e5999-7ba6-4ad4-9c38-e9f80bfb682f",
   "metadata": {},
   "outputs": [
    {
     "data": {
      "text/plain": [
       "'raining cats and dogs'"
      ]
     },
     "execution_count": 405,
     "metadata": {},
     "output_type": "execute_result"
    }
   ],
   "source": [
    "'raining %s and %s' % ('cats', 'dogs')"
   ]
  },
  {
   "cell_type": "code",
   "execution_count": 406,
   "id": "979823bc-8362-4090-9f64-94fecd73c802",
   "metadata": {},
   "outputs": [
    {
     "data": {
      "text/plain": [
       "'raining cats and dogs'"
      ]
     },
     "execution_count": 406,
     "metadata": {},
     "output_type": "execute_result"
    }
   ],
   "source": [
    "'raining {} and {}'.format('cats', 'dogs')"
   ]
  },
  {
   "cell_type": "code",
   "execution_count": 407,
   "id": "72361db9-8536-4573-aafa-e0a727e551c7",
   "metadata": {},
   "outputs": [
    {
     "data": {
      "text/plain": [
       "'raining cat and dogs'"
      ]
     },
     "execution_count": 407,
     "metadata": {},
     "output_type": "execute_result"
    }
   ],
   "source": [
    "'raining {arg1} and {arg2}'.format(arg1='cat', arg2='dogs')"
   ]
  },
  {
   "cell_type": "code",
   "execution_count": 408,
   "id": "dfc44186-8039-4b6b-9b1e-b847a63e9961",
   "metadata": {},
   "outputs": [
    {
     "data": {
      "text/plain": [
       "'pi is 3.14'"
      ]
     },
     "execution_count": 408,
     "metadata": {},
     "output_type": "execute_result"
    }
   ],
   "source": [
    "'pi is {:.2f}'.format(3.14159)"
   ]
  },
  {
   "cell_type": "code",
   "execution_count": 409,
   "id": "18216e35-f303-4d9d-b413-f8a87defe674",
   "metadata": {},
   "outputs": [
    {
     "name": "stdout",
     "output_type": "stream",
     "text": [
      "first line\n",
      "second line\n"
     ]
    }
   ],
   "source": [
    "print('first line\\nsecond line')"
   ]
  },
  {
   "cell_type": "code",
   "execution_count": 410,
   "id": "8d3fc0ad-63b2-4b69-8c55-0a5b88446f4f",
   "metadata": {},
   "outputs": [
    {
     "name": "stdout",
     "output_type": "stream",
     "text": [
      "first line\\nsecond line\n"
     ]
    }
   ],
   "source": [
    "print(r'first line\\nsecond line')"
   ]
  },
  {
   "cell_type": "code",
   "execution_count": 411,
   "id": "f6879c33-896c-4ee5-ab91-7cee9af9219f",
   "metadata": {},
   "outputs": [
    {
     "name": "stdout",
     "output_type": "stream",
     "text": [
      "b'first line\\nsecond line'\n",
      "['first', 'line', 'second', 'line']\n",
      "first line\n",
      "second line\n"
     ]
    }
   ],
   "source": [
    "s = b'first line\\nsecond line'\n",
    "print(s)\n",
    "print(s.decode('utf-8').split())\n",
    "print(s.decode('utf-8'))"
   ]
  },
  {
   "cell_type": "code",
   "execution_count": 412,
   "id": "f5be98a6-a083-43c0-adbc-2f024468c41d",
   "metadata": {},
   "outputs": [
    {
     "data": {
      "text/plain": [
       "{}"
      ]
     },
     "execution_count": 412,
     "metadata": {},
     "output_type": "execute_result"
    }
   ],
   "source": [
    "empty_dict = {}\n",
    "empty_dict = dict()\n",
    "empty_dict"
   ]
  },
  {
   "cell_type": "code",
   "execution_count": 413,
   "id": "65f0a7d2-15f6-4b0e-9f8e-4950975da8ed",
   "metadata": {},
   "outputs": [
    {
     "data": {
      "text/plain": [
       "{'dad': 'homer', 'mom': 'marge', 'size': 6}"
      ]
     },
     "execution_count": 413,
     "metadata": {},
     "output_type": "execute_result"
    }
   ],
   "source": [
    "# create a dictionary (two ways)\n",
    "family = {'dad': 'homer', 'mom': 'marge', 'size': 6}\n",
    "family"
   ]
  },
  {
   "cell_type": "code",
   "execution_count": 414,
   "id": "9a92c1d7-2e9c-427d-8d70-8bc0ce90efdf",
   "metadata": {},
   "outputs": [
    {
     "data": {
      "text/plain": [
       "{'dad': 'homer', 'mom': 'marge', 'size': 6}"
      ]
     },
     "execution_count": 414,
     "metadata": {},
     "output_type": "execute_result"
    }
   ],
   "source": [
    "family = dict(dad='homer', mom='marge', size=6)\n",
    "family"
   ]
  },
  {
   "cell_type": "code",
   "execution_count": 415,
   "id": "15dc63cb-7552-4918-821f-16b1c62e255e",
   "metadata": {},
   "outputs": [
    {
     "data": {
      "text/plain": [
       "{'dad': 'homer', 'mom': 'marge', 'size': 6}"
      ]
     },
     "execution_count": 415,
     "metadata": {},
     "output_type": "execute_result"
    }
   ],
   "source": [
    "# convert a list of tuples into a dictionary\n",
    "list_of_tuples = [('dad', 'homer'), ('mom', 'marge'), ('size', 6)]\n",
    "family = dict(list_of_tuples)\n",
    "family"
   ]
  },
  {
   "cell_type": "code",
   "execution_count": 416,
   "id": "d7242b6f-7a24-4e27-88d7-51d019771faa",
   "metadata": {},
   "outputs": [
    {
     "data": {
      "text/plain": [
       "'homer'"
      ]
     },
     "execution_count": 416,
     "metadata": {},
     "output_type": "execute_result"
    }
   ],
   "source": [
    "family['dad']\n"
   ]
  },
  {
   "cell_type": "code",
   "execution_count": 417,
   "id": "2ef8db8d-9474-49d0-a9d0-d604996d279c",
   "metadata": {},
   "outputs": [
    {
     "data": {
      "text/plain": [
       "3"
      ]
     },
     "execution_count": 417,
     "metadata": {},
     "output_type": "execute_result"
    }
   ],
   "source": [
    "len(family)"
   ]
  },
  {
   "cell_type": "code",
   "execution_count": 418,
   "id": "8d93eb6c-9945-499e-91d8-a3e7820beeab",
   "metadata": {},
   "outputs": [
    {
     "data": {
      "text/plain": [
       "dict_keys(['dad', 'mom', 'size'])"
      ]
     },
     "execution_count": 418,
     "metadata": {},
     "output_type": "execute_result"
    }
   ],
   "source": [
    "family.keys()"
   ]
  },
  {
   "cell_type": "code",
   "execution_count": 419,
   "id": "dadde99e-b3c6-4692-b8dc-cb8b25a8c72b",
   "metadata": {},
   "outputs": [
    {
     "data": {
      "text/plain": [
       "dict_values(['homer', 'marge', 6])"
      ]
     },
     "execution_count": 419,
     "metadata": {},
     "output_type": "execute_result"
    }
   ],
   "source": [
    "family.values()"
   ]
  },
  {
   "cell_type": "code",
   "execution_count": 420,
   "id": "2109747a-64a8-4028-bc6f-a01f21eeafd0",
   "metadata": {},
   "outputs": [
    {
     "data": {
      "text/plain": [
       "dict_items([('dad', 'homer'), ('mom', 'marge'), ('size', 6)])"
      ]
     },
     "execution_count": 420,
     "metadata": {},
     "output_type": "execute_result"
    }
   ],
   "source": [
    "family.items()"
   ]
  },
  {
   "cell_type": "code",
   "execution_count": 421,
   "id": "06a8753a-8f13-4d92-af2a-436fafcb4d7d",
   "metadata": {},
   "outputs": [
    {
     "data": {
      "text/plain": [
       "True"
      ]
     },
     "execution_count": 421,
     "metadata": {},
     "output_type": "execute_result"
    }
   ],
   "source": [
    "'mom' in family"
   ]
  },
  {
   "cell_type": "code",
   "execution_count": 422,
   "id": "24442313-0e19-4f9f-8d27-34fb3cbd8ba2",
   "metadata": {},
   "outputs": [
    {
     "data": {
      "text/plain": [
       "False"
      ]
     },
     "execution_count": 422,
     "metadata": {},
     "output_type": "execute_result"
    }
   ],
   "source": [
    "'marge' in family"
   ]
  },
  {
   "cell_type": "code",
   "execution_count": 423,
   "id": "4f0111e0-5760-4cf9-8a7d-06252d6ad0be",
   "metadata": {},
   "outputs": [
    {
     "data": {
      "text/plain": [
       "{'dad': 'homer', 'mom': 'marge', 'size': 6, 'cat': 'snowball'}"
      ]
     },
     "execution_count": 423,
     "metadata": {},
     "output_type": "execute_result"
    }
   ],
   "source": [
    "family['cat'] = 'snowball'\n",
    "family"
   ]
  },
  {
   "cell_type": "code",
   "execution_count": 424,
   "id": "95c7d854-95db-40b7-8fad-92c7fda82a17",
   "metadata": {},
   "outputs": [
    {
     "data": {
      "text/plain": [
       "{'dad': 'homer', 'mom': 'marge', 'size': 6, 'cat': 'snowball ii'}"
      ]
     },
     "execution_count": 424,
     "metadata": {},
     "output_type": "execute_result"
    }
   ],
   "source": [
    "family['cat'] = 'snowball ii'\n",
    "family"
   ]
  },
  {
   "cell_type": "code",
   "execution_count": 425,
   "id": "14b1c6d8-4fd8-4b0a-9b06-a1bb5780fa9f",
   "metadata": {},
   "outputs": [
    {
     "data": {
      "text/plain": [
       "{'dad': 'homer', 'mom': 'marge', 'size': 6}"
      ]
     },
     "execution_count": 425,
     "metadata": {},
     "output_type": "execute_result"
    }
   ],
   "source": [
    "del family['cat']\n",
    "family"
   ]
  },
  {
   "cell_type": "code",
   "execution_count": 426,
   "id": "53398233-a014-4c59-90b2-fdd2c4e51a75",
   "metadata": {},
   "outputs": [
    {
     "data": {
      "text/plain": [
       "{'dad': 'homer', 'mom': 'marge', 'size': 6, 'kids': ['bart', 'lisa']}"
      ]
     },
     "execution_count": 426,
     "metadata": {},
     "output_type": "execute_result"
    }
   ],
   "source": [
    "family['kids'] = ['bart', 'lisa']\n",
    "family"
   ]
  },
  {
   "cell_type": "code",
   "execution_count": 427,
   "id": "9ab252cc-f8db-4707-b44d-b42cff6dd8b2",
   "metadata": {},
   "outputs": [
    {
     "data": {
      "text/plain": [
       "'homer'"
      ]
     },
     "execution_count": 427,
     "metadata": {},
     "output_type": "execute_result"
    }
   ],
   "source": [
    "family.pop('dad')"
   ]
  },
  {
   "cell_type": "code",
   "execution_count": 428,
   "id": "40216bfe-cea9-421b-99f0-00903e2bf801",
   "metadata": {},
   "outputs": [
    {
     "data": {
      "text/plain": [
       "{'mom': 'marge', 'size': 6, 'kids': ['bart', 'lisa']}"
      ]
     },
     "execution_count": 428,
     "metadata": {},
     "output_type": "execute_result"
    }
   ],
   "source": [
    "family"
   ]
  },
  {
   "cell_type": "code",
   "execution_count": 429,
   "id": "d34dd2ac-7bd2-49e2-811a-8393ef03cbfa",
   "metadata": {},
   "outputs": [],
   "source": [
    "family.update({'baby': 'maggie', 'grandpa': 'abe'})"
   ]
  },
  {
   "cell_type": "code",
   "execution_count": 430,
   "id": "863f20cb-56ea-4e2e-b295-1339c7e6f752",
   "metadata": {},
   "outputs": [
    {
     "data": {
      "text/plain": [
       "{'mom': 'marge',\n",
       " 'size': 6,\n",
       " 'kids': ['bart', 'lisa'],\n",
       " 'baby': 'maggie',\n",
       " 'grandpa': 'abe'}"
      ]
     },
     "execution_count": 430,
     "metadata": {},
     "output_type": "execute_result"
    }
   ],
   "source": [
    "family"
   ]
  },
  {
   "cell_type": "code",
   "execution_count": 431,
   "id": "50e37edb-38bb-4484-b16b-be7439813dec",
   "metadata": {},
   "outputs": [
    {
     "data": {
      "text/plain": [
       "'marge'"
      ]
     },
     "execution_count": 431,
     "metadata": {},
     "output_type": "execute_result"
    }
   ],
   "source": [
    "family['mom']"
   ]
  },
  {
   "cell_type": "code",
   "execution_count": 432,
   "id": "07ee2249-f75e-4153-b508-4292299445b3",
   "metadata": {},
   "outputs": [
    {
     "data": {
      "text/plain": [
       "'marge'"
      ]
     },
     "execution_count": 432,
     "metadata": {},
     "output_type": "execute_result"
    }
   ],
   "source": [
    "family.get('mom')"
   ]
  },
  {
   "cell_type": "code",
   "execution_count": 433,
   "id": "5c380bfa-c9ec-4937-a1b3-6c9267d3e29d",
   "metadata": {},
   "outputs": [
    {
     "name": "stdout",
     "output_type": "stream",
     "text": [
      "Error 'grandma'\n"
     ]
    }
   ],
   "source": [
    "try:\n",
    "    family['grandma']\n",
    "except KeyError as e:\n",
    "    print('Error', e)"
   ]
  },
  {
   "cell_type": "code",
   "execution_count": 434,
   "id": "2c0285c8-aea4-4aeb-afd2-1ab58975eb27",
   "metadata": {},
   "outputs": [],
   "source": [
    "family.get('grandma')"
   ]
  },
  {
   "cell_type": "code",
   "execution_count": 435,
   "id": "f85daf0e-8903-47ee-b32b-1698600b97c4",
   "metadata": {},
   "outputs": [
    {
     "data": {
      "text/plain": [
       "'not found'"
      ]
     },
     "execution_count": 435,
     "metadata": {},
     "output_type": "execute_result"
    }
   ],
   "source": [
    "family.get('grandma', 'not found')"
   ]
  },
  {
   "cell_type": "code",
   "execution_count": 436,
   "id": "1bd72129-9288-420f-ac12-a5015b0b3e41",
   "metadata": {},
   "outputs": [
    {
     "data": {
      "text/plain": [
       "'bart'"
      ]
     },
     "execution_count": 436,
     "metadata": {},
     "output_type": "execute_result"
    }
   ],
   "source": [
    "family['kids'][0]"
   ]
  },
  {
   "cell_type": "code",
   "execution_count": 437,
   "id": "9e41e556-b1f7-42c3-bb5a-06a67e6ba0b6",
   "metadata": {},
   "outputs": [],
   "source": [
    "family['kids'].remove('lisa')"
   ]
  },
  {
   "cell_type": "code",
   "execution_count": 438,
   "id": "ef8cd028-8933-4139-b111-a79cf3a4905b",
   "metadata": {},
   "outputs": [
    {
     "data": {
      "text/plain": [
       "'youngest child is maggie'"
      ]
     },
     "execution_count": 438,
     "metadata": {},
     "output_type": "execute_result"
    }
   ],
   "source": [
    "'youngest child is %(baby)s' % family"
   ]
  },
  {
   "cell_type": "code",
   "execution_count": 439,
   "id": "524c2d9a-5dcf-43c1-a423-5a797551affb",
   "metadata": {},
   "outputs": [
    {
     "data": {
      "text/plain": [
       "{'mom': 'marge',\n",
       " 'size': 6,\n",
       " 'kids': ['bart'],\n",
       " 'baby': 'maggie',\n",
       " 'grandpa': 'abe'}"
      ]
     },
     "execution_count": 439,
     "metadata": {},
     "output_type": "execute_result"
    }
   ],
   "source": [
    "family"
   ]
  },
  {
   "cell_type": "code",
   "execution_count": 440,
   "id": "24b493d1-c290-4678-8a1f-456dc26895e0",
   "metadata": {},
   "outputs": [
    {
     "data": {
      "text/plain": [
       "set()"
      ]
     },
     "execution_count": 440,
     "metadata": {},
     "output_type": "execute_result"
    }
   ],
   "source": [
    "empty_set = set()\n",
    "empty_set"
   ]
  },
  {
   "cell_type": "code",
   "execution_count": 441,
   "id": "160c4f2f-674a-48aa-811a-e2462f1214db",
   "metadata": {},
   "outputs": [
    {
     "data": {
      "text/plain": [
       "{'java', 'python', 'r'}"
      ]
     },
     "execution_count": 441,
     "metadata": {},
     "output_type": "execute_result"
    }
   ],
   "source": [
    "languages = {'python', 'r', 'java'}\n",
    "languages"
   ]
  },
  {
   "cell_type": "code",
   "execution_count": 442,
   "id": "2ebafeb1-66b5-4cc1-845d-6d6fce294eb7",
   "metadata": {},
   "outputs": [],
   "source": [
    "snakes = set(['cobra', 'viper', 'python'])\n"
   ]
  },
  {
   "cell_type": "code",
   "execution_count": 443,
   "id": "b9b3f390-d284-43aa-a768-63d39975ff66",
   "metadata": {},
   "outputs": [
    {
     "data": {
      "text/plain": [
       "{'cobra', 'python', 'viper'}"
      ]
     },
     "execution_count": 443,
     "metadata": {},
     "output_type": "execute_result"
    }
   ],
   "source": [
    "snakes"
   ]
  },
  {
   "cell_type": "code",
   "execution_count": 444,
   "id": "ea55941e-9ef6-4b1b-936f-429d23eb1a47",
   "metadata": {},
   "outputs": [
    {
     "data": {
      "text/plain": [
       "3"
      ]
     },
     "execution_count": 444,
     "metadata": {},
     "output_type": "execute_result"
    }
   ],
   "source": [
    "len(languages)"
   ]
  },
  {
   "cell_type": "code",
   "execution_count": 445,
   "id": "bc39fd4f-294a-4790-ab59-47d7eef6afa0",
   "metadata": {},
   "outputs": [
    {
     "data": {
      "text/plain": [
       "True"
      ]
     },
     "execution_count": 445,
     "metadata": {},
     "output_type": "execute_result"
    }
   ],
   "source": [
    "'python' in languages"
   ]
  },
  {
   "cell_type": "code",
   "execution_count": 446,
   "id": "422ff265-9575-4b80-978f-6bf2cd128bd0",
   "metadata": {},
   "outputs": [
    {
     "data": {
      "text/plain": [
       "{'python'}"
      ]
     },
     "execution_count": 446,
     "metadata": {},
     "output_type": "execute_result"
    }
   ],
   "source": [
    "languages & snakes"
   ]
  },
  {
   "cell_type": "code",
   "execution_count": 447,
   "id": "811bc750-edd6-4283-87f6-c88c12b4664a",
   "metadata": {},
   "outputs": [
    {
     "data": {
      "text/plain": [
       "{'cobra', 'java', 'python', 'r', 'viper'}"
      ]
     },
     "execution_count": 447,
     "metadata": {},
     "output_type": "execute_result"
    }
   ],
   "source": [
    "languages | snakes"
   ]
  },
  {
   "cell_type": "code",
   "execution_count": 448,
   "id": "4a1f299a-e966-472f-bf7c-a7c24d3db50f",
   "metadata": {},
   "outputs": [
    {
     "data": {
      "text/plain": [
       "{'java', 'r'}"
      ]
     },
     "execution_count": 448,
     "metadata": {},
     "output_type": "execute_result"
    }
   ],
   "source": [
    "languages - snakes"
   ]
  },
  {
   "cell_type": "code",
   "execution_count": 449,
   "id": "cb604678-9bff-4e73-a1ba-ade9ff380b9b",
   "metadata": {},
   "outputs": [
    {
     "data": {
      "text/plain": [
       "{'cobra', 'python', 'viper'}"
      ]
     },
     "execution_count": 449,
     "metadata": {},
     "output_type": "execute_result"
    }
   ],
   "source": [
    "snakes"
   ]
  },
  {
   "cell_type": "code",
   "execution_count": 450,
   "id": "65c0b10b-687c-415e-9338-4ecc525e85ce",
   "metadata": {},
   "outputs": [
    {
     "data": {
      "text/plain": [
       "{'java', 'python', 'r'}"
      ]
     },
     "execution_count": 450,
     "metadata": {},
     "output_type": "execute_result"
    }
   ],
   "source": [
    "languages"
   ]
  },
  {
   "cell_type": "code",
   "execution_count": 451,
   "id": "0b86295f-5b94-4040-a9d3-943ea17b2a78",
   "metadata": {},
   "outputs": [
    {
     "data": {
      "text/plain": [
       "{'cobra', 'viper'}"
      ]
     },
     "execution_count": 451,
     "metadata": {},
     "output_type": "execute_result"
    }
   ],
   "source": [
    "snakes - languages"
   ]
  },
  {
   "cell_type": "code",
   "execution_count": 452,
   "id": "1cebb234-f366-40a8-8af2-ccee33814ee3",
   "metadata": {},
   "outputs": [],
   "source": [
    "languages.add('sql')\n",
    "languages.add('r')\n",
    "languages.add('java')"
   ]
  },
  {
   "cell_type": "code",
   "execution_count": 453,
   "id": "e1849176-5034-4013-a90f-b4422a7ac17f",
   "metadata": {},
   "outputs": [
    {
     "data": {
      "text/plain": [
       "{'java', 'python', 'r', 'sql'}"
      ]
     },
     "execution_count": 453,
     "metadata": {},
     "output_type": "execute_result"
    }
   ],
   "source": [
    "languages"
   ]
  },
  {
   "cell_type": "code",
   "execution_count": 454,
   "id": "6829d9f5-7454-4f0c-b00e-d69af1bda56f",
   "metadata": {},
   "outputs": [
    {
     "name": "stdout",
     "output_type": "stream",
     "text": [
      "Error 'c'\n"
     ]
    }
   ],
   "source": [
    "try:\n",
    "    languages.remove('c')\n",
    "except KeyError as e:\n",
    "    print('Error', e)"
   ]
  },
  {
   "cell_type": "code",
   "execution_count": 455,
   "id": "ef614b89-76f3-4274-8358-86c62ce47ec7",
   "metadata": {},
   "outputs": [],
   "source": [
    "languages.discard('c')"
   ]
  },
  {
   "cell_type": "code",
   "execution_count": 456,
   "id": "cd9ec3a7-f6ae-403a-a4ea-af605e713126",
   "metadata": {},
   "outputs": [
    {
     "data": {
      "text/plain": [
       "'r'"
      ]
     },
     "execution_count": 456,
     "metadata": {},
     "output_type": "execute_result"
    }
   ],
   "source": [
    "languages.pop()"
   ]
  },
  {
   "cell_type": "code",
   "execution_count": 457,
   "id": "55ac1f45-6870-4359-a7fe-fa4e3401fcdc",
   "metadata": {},
   "outputs": [],
   "source": [
    "languages.clear()"
   ]
  },
  {
   "cell_type": "code",
   "execution_count": 458,
   "id": "1db4b1b4-8a36-470a-9469-947e67e8be8e",
   "metadata": {},
   "outputs": [],
   "source": [
    "languages.update('go', 'spark')"
   ]
  },
  {
   "cell_type": "code",
   "execution_count": 459,
   "id": "fe9b44a4-94da-44e8-9223-088c7e5f794a",
   "metadata": {},
   "outputs": [
    {
     "data": {
      "text/plain": [
       "{'a', 'g', 'k', 'o', 'p', 'r', 's'}"
      ]
     },
     "execution_count": 459,
     "metadata": {},
     "output_type": "execute_result"
    }
   ],
   "source": [
    "languages"
   ]
  },
  {
   "cell_type": "code",
   "execution_count": 460,
   "id": "c35156b5-3e77-434c-807a-d29cb777c192",
   "metadata": {},
   "outputs": [
    {
     "data": {
      "text/plain": [
       "[0, 1, 2, 9]"
      ]
     },
     "execution_count": 460,
     "metadata": {},
     "output_type": "execute_result"
    }
   ],
   "source": [
    "sorted(set([9, 0, 2, 1, 0]))"
   ]
  },
  {
   "cell_type": "code",
   "execution_count": 461,
   "id": "5f95f228-3036-44d3-a361-045c00b0b887",
   "metadata": {},
   "outputs": [
    {
     "name": "stdout",
     "output_type": "stream",
     "text": [
      "[['a', 1], ['a', 2], ['b', 1], ['b', 2], ['c', 1], ['c', 2]]\n"
     ]
    }
   ],
   "source": [
    "import itertools \n",
    "\n",
    "print([[x, y] for x, y in itertools.product(['a', 'b', 'c'], [1, 2])])"
   ]
  },
  {
   "cell_type": "code",
   "execution_count": 462,
   "id": "4f6b6744-9c20-4e37-86dd-e0297bf7e407",
   "metadata": {},
   "outputs": [
    {
     "data": {
      "text/plain": [
       "[1, 8, 27, 64, 125]"
      ]
     },
     "execution_count": 462,
     "metadata": {},
     "output_type": "execute_result"
    }
   ],
   "source": [
    "nums = [1, 2, 3, 4, 5]\n",
    "cubes = []\n",
    "for num in nums:\n",
    "    cubes.append(num ** 3)\n",
    "cubes"
   ]
  },
  {
   "cell_type": "code",
   "execution_count": 463,
   "id": "e8d0049d-661e-4169-ab0b-4e4ef966a7a0",
   "metadata": {},
   "outputs": [
    {
     "data": {
      "text/plain": [
       "[1, 8, 27, 64, 125]"
      ]
     },
     "execution_count": 463,
     "metadata": {},
     "output_type": "execute_result"
    }
   ],
   "source": [
    "cubes = [num**3 for num in nums]\n",
    "cubes"
   ]
  },
  {
   "cell_type": "code",
   "execution_count": 464,
   "id": "8a8965fa-b358-4d12-9ca7-feecb3ee95dd",
   "metadata": {},
   "outputs": [
    {
     "data": {
      "text/plain": [
       "[8, 64]"
      ]
     },
     "execution_count": 464,
     "metadata": {},
     "output_type": "execute_result"
    }
   ],
   "source": [
    "cubes_of_even = []\n",
    "for num in nums:\n",
    "    if num % 2 == 0:\n",
    "        cubes_of_even.append(num ** 3)\n",
    "cubes_of_even"
   ]
  },
  {
   "cell_type": "code",
   "execution_count": 465,
   "id": "e055b5a2-67e2-42c7-a1ea-71ead0a79b57",
   "metadata": {},
   "outputs": [
    {
     "data": {
      "text/plain": [
       "[8, 64]"
      ]
     },
     "execution_count": 465,
     "metadata": {},
     "output_type": "execute_result"
    }
   ],
   "source": [
    "cubes_of_even = [num ** 3 for num in nums if num % 2 == 0]\n",
    "cubes_of_even"
   ]
  },
  {
   "cell_type": "code",
   "execution_count": 466,
   "id": "655f3cfa-55d6-4865-ba9e-20a2d8e47c42",
   "metadata": {},
   "outputs": [],
   "source": [
    "cubes_and_squares = []\n",
    "for num in nums:\n",
    "    if num % 2 == 0:\n",
    "        cubes_and_squares.append(num ** 3)\n",
    "    else:\n",
    "        cubes_and_squares.append(num ** 2)"
   ]
  },
  {
   "cell_type": "code",
   "execution_count": 467,
   "id": "cd487a6d-30bf-4fb4-bcd6-c787e85606b8",
   "metadata": {},
   "outputs": [
    {
     "data": {
      "text/plain": [
       "[1, 8, 9, 64, 25]"
      ]
     },
     "execution_count": 467,
     "metadata": {},
     "output_type": "execute_result"
    }
   ],
   "source": [
    "cubes_and_squares"
   ]
  },
  {
   "cell_type": "code",
   "execution_count": 468,
   "id": "4489dadf-58a0-4dec-864d-21b89dd814fd",
   "metadata": {},
   "outputs": [
    {
     "data": {
      "text/plain": [
       "[1, 8, 9, 64, 25]"
      ]
     },
     "execution_count": 468,
     "metadata": {},
     "output_type": "execute_result"
    }
   ],
   "source": [
    "cubes_and_squares = [num ** 3 if num % 2 == 0 else num ** 2 for num in nums]\n",
    "cubes_and_squares"
   ]
  },
  {
   "cell_type": "code",
   "execution_count": 469,
   "id": "bb55b1f1-126f-45eb-8fbf-8ca7f2d63fea",
   "metadata": {},
   "outputs": [
    {
     "data": {
      "text/plain": [
       "[[1, 2], [3, 4]]"
      ]
     },
     "execution_count": 469,
     "metadata": {},
     "output_type": "execute_result"
    }
   ],
   "source": [
    "matrix = [[1, 2],\n",
    "          [3, 4]]\n",
    "matrix"
   ]
  },
  {
   "cell_type": "code",
   "execution_count": 470,
   "id": "0b973f67-0b48-495f-9334-df37082fc7d6",
   "metadata": {},
   "outputs": [
    {
     "data": {
      "text/plain": [
       "[1, 2, 3, 4]"
      ]
     },
     "execution_count": 470,
     "metadata": {},
     "output_type": "execute_result"
    }
   ],
   "source": [
    "items = []\n",
    "for row in matrix:\n",
    "    for item in row:\n",
    "        items.append(item)\n",
    "items"
   ]
  },
  {
   "cell_type": "code",
   "execution_count": 471,
   "id": "c6f512a5-fd9b-4040-9b86-6d1be6e46a80",
   "metadata": {},
   "outputs": [
    {
     "data": {
      "text/plain": [
       "[1, 2, 3, 4]"
      ]
     },
     "execution_count": 471,
     "metadata": {},
     "output_type": "execute_result"
    }
   ],
   "source": [
    "items = [item for row in matrix for item in row]\n",
    "items"
   ]
  },
  {
   "cell_type": "code",
   "execution_count": 472,
   "id": "91942fa9-f8db-4dde-b38a-3f27b2fcdec6",
   "metadata": {},
   "outputs": [
    {
     "data": {
      "text/plain": [
       "{5, 6}"
      ]
     },
     "execution_count": 472,
     "metadata": {},
     "output_type": "execute_result"
    }
   ],
   "source": [
    "fruits = ['apple', 'banana', 'cherry']\n",
    "unique_lengths = {len(fruit) for fruit in fruits}\n",
    "unique_lengths"
   ]
  },
  {
   "cell_type": "code",
   "execution_count": 473,
   "id": "15aa81fd-fcfb-4ad6-abf5-9a5d0c91c686",
   "metadata": {},
   "outputs": [
    {
     "data": {
      "text/plain": [
       "{'apple': 5, 'banana': 6, 'cherry': 6}"
      ]
     },
     "execution_count": 473,
     "metadata": {},
     "output_type": "execute_result"
    }
   ],
   "source": [
    "fruit_lengths = {fruit: len(fruit) for fruit in fruits}\n",
    "fruit_lengths"
   ]
  },
  {
   "cell_type": "code",
   "execution_count": 474,
   "id": "b52a2470-b671-4dd0-888e-e6a4e5989879",
   "metadata": {},
   "outputs": [
    {
     "data": {
      "text/plain": [
       "{'Homer': 45, 'Marge': 45, 'Bart': 10, 'Lisa': 10}"
      ]
     },
     "execution_count": 474,
     "metadata": {},
     "output_type": "execute_result"
    }
   ],
   "source": [
    "simpsons = {'Homer': 45, 'Marge': 45, 'Bart': 10, 'Lisa': 10}\n",
    "simpsons"
   ]
  },
  {
   "cell_type": "code",
   "execution_count": 475,
   "id": "cea9969e-bd6e-4767-aa07-b91127da368f",
   "metadata": {},
   "outputs": [
    {
     "data": {
      "text/plain": [
       "{'HOMER': 46, 'MARGE': 46, 'BART': 11, 'LISA': 11}"
      ]
     },
     "execution_count": 475,
     "metadata": {},
     "output_type": "execute_result"
    }
   ],
   "source": [
    "simpsons_older = {k.upper(): v + 1 for k, v in simpsons.items()}\n",
    "simpsons_older"
   ]
  },
  {
   "cell_type": "code",
   "execution_count": null,
   "id": "e5f17e03-09c5-47fb-8d6d-3d7c8a26cfa0",
   "metadata": {},
   "outputs": [],
   "source": []
  },
  {
   "cell_type": "code",
   "execution_count": 476,
   "id": "e5f0bac8-6fa1-4b93-ad45-886995b193bc",
   "metadata": {},
   "outputs": [
    {
     "name": "stdout",
     "output_type": "stream",
     "text": [
      "count: {'incomes': 1, 'Tick-tow': 1, 'but': 1, 'small': 1, 'gall': 1, 'too': 2, 'pinch': 1, 'to': 2, 'stumble': 1, 'large': 1, 'and': 2, 'like': 1, 'they': 2, 'shoes;': 1, 'us': 2, 'trip': 1, 'cause': 1, 'our': 2, 'if': 2, 'are': 1}\n",
      "dad homer\n",
      "mom marge\n",
      "size 6\n",
      "0 apple\n",
      "1 banana\n",
      "2 cherry\n",
      "Found the banana!\n",
      "This will print 5 times\n",
      "This will print 5 times\n",
      "This will print 5 times\n",
      "This will print 5 times\n",
      "This will print 5 times\n"
     ]
    }
   ],
   "source": [
    "quote = \"\"\"Tick-tow\n",
    "our incomes are like our shoes; if too small they gall and pinch us\n",
    "but if too large they cause us to stumble and to trip\n",
    "\"\"\"\n",
    "count = {word: 0 for word in set(quote.split())}\n",
    "for word in quote.split():\n",
    "    count[word] += 1\n",
    "print(f\"count: {count}\")\n",
    "\n",
    "# iterate through two things at once (using tuple unpacking)\n",
    "family = {'dad': 'homer', 'mom': 'marge', 'size': 6}\n",
    "for key, value in family.items():\n",
    "    print(key, value)\n",
    "    \n",
    "# use enumerate if you need to access the index value within the loop\n",
    "for index, fruit in enumerate(fruits):\n",
    "    print(index, fruit)\n",
    "\n",
    "# for/else loop\n",
    "for fruit in fruits:\n",
    "    if fruit == 'banana':\n",
    "        print(\"Found the banana!\")\n",
    "        break # exit the loop and skip the 'else' block\n",
    "else:\n",
    "# this block executes ONLY if the for loop completes without hitting\n",
    "# 'break'\n",
    "    print(\"Can't find the banana\")\n",
    "\n",
    "# while loop\n",
    "count = 0\n",
    "while count < 5:\n",
    "    print(\"This will print 5 times\")\n",
    "    count += 1 # equivalent to 'count = count + 1'\n"
   ]
  },
  {
   "cell_type": "code",
   "execution_count": 477,
   "id": "e3332f9c-cbd5-4044-a8d8-fc2a41b42476",
   "metadata": {},
   "outputs": [
    {
     "data": {
      "text/plain": [
       "{'a': [1, 2], 'b': [4, 5]}"
      ]
     },
     "execution_count": 477,
     "metadata": {},
     "output_type": "execute_result"
    }
   ],
   "source": [
    "dct = dict(a=[1, 2], b=[4, 5])\n",
    "dct"
   ]
  },
  {
   "cell_type": "code",
   "execution_count": 478,
   "id": "8a3b55af-e7f9-4206-aa33-309058b9a02c",
   "metadata": {},
   "outputs": [
    {
     "name": "stdout",
     "output_type": "stream",
     "text": [
      "Key c is missing. Add it with empty value\n",
      "{'a': [1, 2], 'b': [4, 5], 'c': []}\n"
     ]
    }
   ],
   "source": [
    "key = 'c'\n",
    "try:\n",
    "    dct[key]\n",
    "except:\n",
    "    print(\"Key %s is missing. Add it with empty value\" % key)\n",
    "    dct['c'] = []\n",
    "print(dct)"
   ]
  },
  {
   "cell_type": "code",
   "execution_count": 479,
   "id": "6d79f3ae-c85d-4bc5-9190-6629831b0435",
   "metadata": {},
   "outputs": [
    {
     "name": "stdout",
     "output_type": "stream",
     "text": [
      "This is text\n"
     ]
    }
   ],
   "source": [
    "# define a function with no arguments and no return values\n",
    "def print_text():\n",
    "    print('This is text')\n",
    "\n",
    "# call the function\n",
    "print_text()\n",
    "\n",
    "# define a function with one argument and no return values\n",
    "def print_this(x):\n",
    "    print(x)\n"
   ]
  },
  {
   "cell_type": "code",
   "execution_count": 480,
   "id": "17d36114-7d5f-4597-97b8-2dbd93070424",
   "metadata": {},
   "outputs": [
    {
     "name": "stdout",
     "output_type": "stream",
     "text": [
      "3\n",
      "3\n"
     ]
    }
   ],
   "source": [
    "print_this(3)\n",
    "n = print_this(3)\n"
   ]
  },
  {
   "cell_type": "code",
   "execution_count": 481,
   "id": "48c79952-b1de-4c1a-93a4-2d30a6a5d56c",
   "metadata": {},
   "outputs": [],
   "source": [
    "def add(a, b):\n",
    "    return a + b\n",
    "    "
   ]
  },
  {
   "cell_type": "code",
   "execution_count": 482,
   "id": "100ce33e-0bbb-4442-81b4-98ad5c2456e2",
   "metadata": {},
   "outputs": [
    {
     "data": {
      "text/plain": [
       "5"
      ]
     },
     "execution_count": 482,
     "metadata": {},
     "output_type": "execute_result"
    }
   ],
   "source": [
    "add(2, 3)"
   ]
  },
  {
   "cell_type": "code",
   "execution_count": 483,
   "id": "cf1bf77e-8a12-4e27-bf20-8b69c0dfc3e7",
   "metadata": {},
   "outputs": [
    {
     "data": {
      "text/plain": [
       "'deuxtrois'"
      ]
     },
     "execution_count": 483,
     "metadata": {},
     "output_type": "execute_result"
    }
   ],
   "source": [
    "add('deux', 'trois')"
   ]
  },
  {
   "cell_type": "code",
   "execution_count": 484,
   "id": "681af101-a3e5-4762-8d7d-05b22272dfff",
   "metadata": {},
   "outputs": [
    {
     "data": {
      "text/plain": [
       "['deux', 'trois', 2, 3]"
      ]
     },
     "execution_count": 484,
     "metadata": {},
     "output_type": "execute_result"
    }
   ],
   "source": [
    "add(['deux', 'trois'], [2, 3])"
   ]
  },
  {
   "cell_type": "code",
   "execution_count": 485,
   "id": "de6836e3-8d2e-4cf6-956c-032b901ef6d1",
   "metadata": {},
   "outputs": [],
   "source": [
    "def square_this(x):\n",
    "    return x ** 2"
   ]
  },
  {
   "cell_type": "code",
   "execution_count": 486,
   "id": "b7a4e855-6ffc-4767-8d09-7ff5eb90fad6",
   "metadata": {},
   "outputs": [],
   "source": [
    "def square_this(x):\n",
    "    \"\"\"Return the square of a number.\"\"\"\n",
    "    return x ** 2"
   ]
  },
  {
   "cell_type": "code",
   "execution_count": 487,
   "id": "adaff376-1309-4716-9de9-017229020024",
   "metadata": {},
   "outputs": [
    {
     "data": {
      "text/plain": [
       "9"
      ]
     },
     "execution_count": 487,
     "metadata": {},
     "output_type": "execute_result"
    }
   ],
   "source": [
    "square_this(3)"
   ]
  },
  {
   "cell_type": "code",
   "execution_count": 488,
   "id": "8cdaeeac-a9a6-47e8-b6f4-8ac8baad336e",
   "metadata": {},
   "outputs": [
    {
     "data": {
      "text/plain": [
       "9"
      ]
     },
     "execution_count": 488,
     "metadata": {},
     "output_type": "execute_result"
    }
   ],
   "source": [
    "var = square_this(3)\n",
    "var"
   ]
  },
  {
   "cell_type": "code",
   "execution_count": 489,
   "id": "faff6d82-d65f-4056-99fb-e93ac0320879",
   "metadata": {},
   "outputs": [],
   "source": [
    "def power_this(x, power=2):\n",
    "    return x ** power"
   ]
  },
  {
   "cell_type": "code",
   "execution_count": 490,
   "id": "263b1b55-04cf-4e23-9b55-3a22ee31dfb0",
   "metadata": {},
   "outputs": [
    {
     "data": {
      "text/plain": [
       "4"
      ]
     },
     "execution_count": 490,
     "metadata": {},
     "output_type": "execute_result"
    }
   ],
   "source": [
    "power_this(2)"
   ]
  },
  {
   "cell_type": "code",
   "execution_count": 491,
   "id": "3f99ae72-e5c7-4017-bf50-dadccb82fb68",
   "metadata": {},
   "outputs": [
    {
     "data": {
      "text/plain": [
       "32"
      ]
     },
     "execution_count": 491,
     "metadata": {},
     "output_type": "execute_result"
    }
   ],
   "source": [
    "power_this(2, 5)"
   ]
  },
  {
   "cell_type": "code",
   "execution_count": 492,
   "id": "91ce0fe9-5d50-4ee0-bd1c-89f23fb53abe",
   "metadata": {},
   "outputs": [],
   "source": [
    "def stub():\n",
    "    pass"
   ]
  },
  {
   "cell_type": "code",
   "execution_count": 493,
   "id": "1d0fe444-e0cc-49ad-8e68-7d4313829d65",
   "metadata": {},
   "outputs": [],
   "source": [
    "def min_max(nums):\n",
    "    return min(nums), max(nums)"
   ]
  },
  {
   "cell_type": "code",
   "execution_count": 494,
   "id": "2c336ea8-656b-4d0d-903a-f0e7f82d438b",
   "metadata": {},
   "outputs": [],
   "source": [
    "nums = [1, 2, 3]\n",
    "min_max_num = min_max(nums)"
   ]
  },
  {
   "cell_type": "code",
   "execution_count": 495,
   "id": "3c7c108b-a435-4f0a-9647-55ae66274a38",
   "metadata": {},
   "outputs": [
    {
     "data": {
      "text/plain": [
       "(1, 3)"
      ]
     },
     "execution_count": 495,
     "metadata": {},
     "output_type": "execute_result"
    }
   ],
   "source": [
    "min_max_num"
   ]
  },
  {
   "cell_type": "code",
   "execution_count": 496,
   "id": "111b49d6-a396-4360-87bd-56ab894cd8ed",
   "metadata": {},
   "outputs": [],
   "source": [
    "min_num, max_num = min_max(nums)"
   ]
  },
  {
   "cell_type": "code",
   "execution_count": 497,
   "id": "a5d1ff85-0670-4410-b06d-60f4c233a639",
   "metadata": {},
   "outputs": [
    {
     "data": {
      "text/plain": [
       "(1, 3)"
      ]
     },
     "execution_count": 497,
     "metadata": {},
     "output_type": "execute_result"
    }
   ],
   "source": [
    "min_num, max_num"
   ]
  },
  {
   "cell_type": "code",
   "execution_count": 498,
   "id": "c3a61466-ff8e-424f-859c-3f4e21d9303a",
   "metadata": {},
   "outputs": [],
   "source": [
    "import re\n",
    "\n",
    "# 1. Compile regular expression with a pattern\n",
    "regex = re.compile(\"^.+(sub-.+)_(ses-.+)_(mod-.+)\")"
   ]
  },
  {
   "cell_type": "code",
   "execution_count": 499,
   "id": "f884a031-a52b-4256-878b-719eaec9a0a7",
   "metadata": {},
   "outputs": [],
   "source": [
    "strings = [\"abcsub-022_ses-01_mod-mri\", \"defsub-044_ses-01_mod-mri\", \"ghisub-055_ses-02_mod-ctscan\"]"
   ]
  },
  {
   "cell_type": "code",
   "execution_count": 500,
   "id": "34e7bc13-c389-4c1e-a025-66d53f80e2da",
   "metadata": {},
   "outputs": [
    {
     "data": {
      "text/plain": [
       "[[('sub-022', 'ses-01', 'mod-mri')],\n",
       " [('sub-044', 'ses-01', 'mod-mri')],\n",
       " [('sub-055', 'ses-02', 'mod-ctscan')]]"
      ]
     },
     "execution_count": 500,
     "metadata": {},
     "output_type": "execute_result"
    }
   ],
   "source": [
    "[regex.findall(s) for s in strings]"
   ]
  },
  {
   "cell_type": "code",
   "execution_count": 501,
   "id": "cd73a02b-4eab-432c-ae48-e43d67f8056e",
   "metadata": {},
   "outputs": [
    {
     "data": {
      "text/plain": [
       "[('sub-022', 'ses-01', 'mod-mri'),\n",
       " ('sub-044', 'ses-01', 'mod-mri'),\n",
       " ('sub-055', 'ses-02', 'mod-ctscan')]"
      ]
     },
     "execution_count": 501,
     "metadata": {},
     "output_type": "execute_result"
    }
   ],
   "source": [
    "[regex.findall(s)[0] for s in strings]"
   ]
  },
  {
   "cell_type": "code",
   "execution_count": 502,
   "id": "fbf6b177-ec1f-4b12-9a75-1d9642aa826d",
   "metadata": {},
   "outputs": [],
   "source": [
    "import os"
   ]
  },
  {
   "cell_type": "code",
   "execution_count": 503,
   "id": "678aac0c-3d68-4ce6-947e-f72fc56a5a58",
   "metadata": {},
   "outputs": [
    {
     "data": {
      "text/plain": [
       "'/mnt/c/Users/Aaron Joel/Documents/HAL'"
      ]
     },
     "execution_count": 503,
     "metadata": {},
     "output_type": "execute_result"
    }
   ],
   "source": [
    "cwd = os.getcwd()\n",
    "cwd"
   ]
  },
  {
   "cell_type": "code",
   "execution_count": 504,
   "id": "9ed41178-f950-423f-9455-045e24fd6ae6",
   "metadata": {},
   "outputs": [],
   "source": [
    "import tempfile \n",
    "\n",
    "tmpdir = tempfile.gettempdir()"
   ]
  },
  {
   "cell_type": "code",
   "execution_count": 505,
   "id": "14644a4a-75fe-49b9-8cc4-d3b17a51ff4d",
   "metadata": {},
   "outputs": [
    {
     "data": {
      "text/plain": [
       "'/tmp'"
      ]
     },
     "execution_count": 505,
     "metadata": {},
     "output_type": "execute_result"
    }
   ],
   "source": [
    "tmpdir"
   ]
  },
  {
   "cell_type": "code",
   "execution_count": 506,
   "id": "45bac61c-15c8-4272-8294-8385f1d6007e",
   "metadata": {},
   "outputs": [
    {
     "data": {
      "text/plain": [
       "'/tmp/foobar'"
      ]
     },
     "execution_count": 506,
     "metadata": {},
     "output_type": "execute_result"
    }
   ],
   "source": [
    "mytmpdir = os.path.join(tmpdir, 'foobar')\n",
    "mytmpdir"
   ]
  },
  {
   "cell_type": "code",
   "execution_count": 507,
   "id": "1f3db376-bd7b-487d-ac1d-3382b7080d42",
   "metadata": {},
   "outputs": [
    {
     "data": {
      "text/plain": [
       "['plop', 'myfile.txt']"
      ]
     },
     "execution_count": 507,
     "metadata": {},
     "output_type": "execute_result"
    }
   ],
   "source": [
    "os.makedirs(os.path.join(tmpdir, \"foobar\", \"plop\", \"toto\"), exist_ok=True)\n",
    "\n",
    "# list containing the names of the entries in the directory given by path.\n",
    "os.listdir(mytmpdir)"
   ]
  },
  {
   "cell_type": "code",
   "execution_count": 508,
   "id": "30ab6cbc-4ebe-4d70-aa26-74690249dd63",
   "metadata": {},
   "outputs": [
    {
     "data": {
      "text/plain": [
       "'/tmp/foobar'"
      ]
     },
     "execution_count": 508,
     "metadata": {},
     "output_type": "execute_result"
    }
   ],
   "source": [
    "mytmpdir"
   ]
  },
  {
   "cell_type": "code",
   "execution_count": 509,
   "id": "afa0da57-cd65-4166-834a-3163834f8a6a",
   "metadata": {},
   "outputs": [
    {
     "name": "stdout",
     "output_type": "stream",
     "text": [
      "/tmp/foobar/myfile.txt\n"
     ]
    }
   ],
   "source": [
    "filename = os.path.join(mytmpdir, 'myfile.txt')\n",
    "print(filename)"
   ]
  },
  {
   "cell_type": "code",
   "execution_count": 510,
   "id": "2992590b-0ffa-4dbd-bf62-66f718ef40dc",
   "metadata": {},
   "outputs": [],
   "source": [
    "lines = ['Dans python tout est bon', 'Enfin presque']\n",
    "\n",
    "## write line by line\n",
    "fd = open(filename, 'w')\n",
    "fd.write(lines[0] + \"\\n\")\n",
    "fd.write(lines[1] + \"\\n\")\n",
    "fd.close()\n",
    "\n",
    "## Use a context manager to automatically close your file\n",
    "with open(filename, 'w') as f:\n",
    "    for line in lines:\n",
    "        f.write(line + '\\n')"
   ]
  },
  {
   "cell_type": "code",
   "execution_count": 511,
   "id": "7b7f54c7-cf23-4c31-8836-faf69de989d9",
   "metadata": {},
   "outputs": [
    {
     "data": {
      "text/plain": [
       "'Dans python tout est bon\\n'"
      ]
     },
     "execution_count": 511,
     "metadata": {},
     "output_type": "execute_result"
    }
   ],
   "source": [
    "f = open(filename, 'r')\n",
    "f.readline()"
   ]
  },
  {
   "cell_type": "code",
   "execution_count": 512,
   "id": "670afc06-7980-4b3e-a558-b7dfbc41a964",
   "metadata": {},
   "outputs": [
    {
     "data": {
      "text/plain": [
       "'Enfin presque\\n'"
      ]
     },
     "execution_count": 512,
     "metadata": {},
     "output_type": "execute_result"
    }
   ],
   "source": [
    "f.readline()"
   ]
  },
  {
   "cell_type": "code",
   "execution_count": 513,
   "id": "0097eb67-9dd9-466b-a764-70ae74bee825",
   "metadata": {},
   "outputs": [
    {
     "data": {
      "text/plain": [
       "''"
      ]
     },
     "execution_count": 513,
     "metadata": {},
     "output_type": "execute_result"
    }
   ],
   "source": [
    "f.readline()"
   ]
  },
  {
   "cell_type": "code",
   "execution_count": 514,
   "id": "c8769f11-15d9-4101-9369-d105ef7123c7",
   "metadata": {},
   "outputs": [],
   "source": [
    "f.close()"
   ]
  },
  {
   "cell_type": "code",
   "execution_count": 515,
   "id": "798b2656-eb54-4ffa-9d41-9581fceec88c",
   "metadata": {},
   "outputs": [],
   "source": [
    "f = open(filename, 'r')\n",
    "f.readlines()\n",
    "f.close()"
   ]
  },
  {
   "cell_type": "code",
   "execution_count": 516,
   "id": "306878d1-acac-45aa-b79e-99871d588dc3",
   "metadata": {},
   "outputs": [
    {
     "data": {
      "text/plain": [
       "['Dans python tout est bon\\n', 'Enfin presque\\n']"
      ]
     },
     "execution_count": 516,
     "metadata": {},
     "output_type": "execute_result"
    }
   ],
   "source": [
    "f = open(filename, 'r')\n",
    "f.readlines()"
   ]
  },
  {
   "cell_type": "code",
   "execution_count": 517,
   "id": "c280b411-4e60-4a3c-a997-4ff8d374fb8b",
   "metadata": {},
   "outputs": [],
   "source": [
    "f.close()"
   ]
  },
  {
   "cell_type": "code",
   "execution_count": 518,
   "id": "96315cb2-fd07-478d-8cd6-c26b7f79e16c",
   "metadata": {},
   "outputs": [
    {
     "data": {
      "text/plain": [
       "['Dans python tout est bon\\n', 'Enfin presque\\n']"
      ]
     },
     "execution_count": 518,
     "metadata": {},
     "output_type": "execute_result"
    }
   ],
   "source": [
    "f = open(filename, 'r')\n",
    "[line for line in f]"
   ]
  },
  {
   "cell_type": "code",
   "execution_count": 519,
   "id": "e74de741-c602-4af5-8e6a-359c484924ec",
   "metadata": {},
   "outputs": [],
   "source": [
    "f.close()"
   ]
  },
  {
   "cell_type": "code",
   "execution_count": 520,
   "id": "6f14c042-e3b7-4a31-840e-3a269e3223e5",
   "metadata": {},
   "outputs": [
    {
     "data": {
      "text/plain": [
       "['Dans python tout est bon\\n', 'Enfin presque\\n']"
      ]
     },
     "execution_count": 520,
     "metadata": {},
     "output_type": "execute_result"
    }
   ],
   "source": [
    "with open(filename, 'r') as f:\n",
    "    lines = [line for line in f]\n",
    "\n",
    "lines"
   ]
  },
  {
   "cell_type": "code",
   "execution_count": 521,
   "id": "e32d6c45-0850-4bbc-a88a-8075e0399b1c",
   "metadata": {},
   "outputs": [
    {
     "data": {
      "text/plain": [
       "'/tmp/foobar'"
      ]
     },
     "execution_count": 521,
     "metadata": {},
     "output_type": "execute_result"
    }
   ],
   "source": [
    "import os\n",
    "\n",
    "WD = os.path.join(tmpdir, 'foobar')\n",
    "WD"
   ]
  },
  {
   "cell_type": "code",
   "execution_count": 522,
   "id": "1ed60eae-db24-4d02-8077-146d5f63a2e4",
   "metadata": {},
   "outputs": [
    {
     "name": "stdout",
     "output_type": "stream",
     "text": [
      "/tmp/foobar ['plop'] ['myfile.txt']\n",
      "/tmp/foobar/plop ['toto'] ['myfile.txt']\n",
      "/tmp/foobar/plop/toto [] []\n"
     ]
    }
   ],
   "source": [
    "for dirpath, dirnames, filenames in os.walk(WD):\n",
    "    print(dirpath, dirnames, filenames)"
   ]
  },
  {
   "cell_type": "code",
   "execution_count": 523,
   "id": "f50bb755-e103-49ec-ada1-06b93cedb16c",
   "metadata": {},
   "outputs": [
    {
     "name": "stdout",
     "output_type": "stream",
     "text": [
      "['/tmp/foobar/myfile.txt']\n"
     ]
    }
   ],
   "source": [
    "import tempfile\n",
    "import glob \n",
    "\n",
    "tmpdir = tempfile.gettempdir()\n",
    "filenames = glob.glob(os.path.join(tmpdir, \"*\", \"*.txt\"))\n",
    "print(filenames)"
   ]
  },
  {
   "cell_type": "code",
   "execution_count": 524,
   "id": "51a254e2-79d3-49c9-857c-4de527639d3b",
   "metadata": {},
   "outputs": [
    {
     "name": "stdout",
     "output_type": "stream",
     "text": [
      "['myfile']\n"
     ]
    }
   ],
   "source": [
    "# take basename then remove extension\n",
    "basenames = [os.path.splitext(os.path.basename(f))[0] for f in filenames]\n",
    "print(basenames)"
   ]
  },
  {
   "cell_type": "code",
   "execution_count": 525,
   "id": "114a5cce-51c7-4af9-9d47-b11d0841ae64",
   "metadata": {},
   "outputs": [
    {
     "data": {
      "text/plain": [
       "'/tmp/foobar/myfile.txt'"
      ]
     },
     "execution_count": 525,
     "metadata": {},
     "output_type": "execute_result"
    }
   ],
   "source": [
    "import shutil\n",
    "\n",
    "src = os.path.join(tmpdir, 'foobar', 'myfile.txt')\n",
    "src"
   ]
  },
  {
   "cell_type": "code",
   "execution_count": 526,
   "id": "28325cac-af90-4812-8803-96b2aab0bc75",
   "metadata": {},
   "outputs": [
    {
     "name": "stdout",
     "output_type": "stream",
     "text": [
      "copy /tmp/foobar/myfile.txt to /tmp/foobar/plop/myfile.txt\n"
     ]
    }
   ],
   "source": [
    "dst = os.path.join(tmpdir, 'foobar', 'plop', 'myfile.txt')\n",
    "print('copy %s to %s' % (src, dst))"
   ]
  },
  {
   "cell_type": "code",
   "execution_count": 527,
   "id": "3832d248-440c-4c42-9aa0-3e5633c77052",
   "metadata": {},
   "outputs": [
    {
     "name": "stdout",
     "output_type": "stream",
     "text": [
      "File /tmp/foobar/plop/myfile.txt exists ? True\n"
     ]
    }
   ],
   "source": [
    "shutil.copy(src, dst)\n",
    "print(f\"File {dst} exists ? {os.path.exists(dst)}\")"
   ]
  },
  {
   "cell_type": "code",
   "execution_count": 528,
   "id": "c2236756-3d5c-4aef-9424-95d4b7abfc29",
   "metadata": {},
   "outputs": [
    {
     "name": "stdout",
     "output_type": "stream",
     "text": [
      "total 1040\n",
      "-rwxrwxrwx 1 aaron-joel aaron-joel 151310 May 14 19:23 HAL1.ipynb\n",
      "-rwxrwxrwx 1 aaron-joel aaron-joel 862128 May 12 22:33 MLCourseAI1.ipynb\n",
      "-rwxrwxrwx 1 aaron-joel aaron-joel     51 May 12 22:15 git_token.txt\n",
      "-rwxrwxrwx 1 aaron-joel aaron-joel  43299 May 14 19:21 word_count.csv\n",
      "-rwxrwxrwx 1 aaron-joel aaron-joel   1213 May 14 19:21 wordcount.py\n",
      "p.returncode: 0\n",
      "total 1040\n",
      "-rwxrwxrwx 1 aaron-joel aaron-joel 151310 May 14 19:23 HAL1.ipynb\n",
      "-rwxrwxrwx 1 aaron-joel aaron-joel 862128 May 12 22:33 MLCourseAI1.ipynb\n",
      "-rwxrwxrwx 1 aaron-joel aaron-joel     51 May 12 22:15 git_token.txt\n",
      "-rwxrwxrwx 1 aaron-joel aaron-joel  43299 May 14 19:21 word_count.csv\n",
      "-rwxrwxrwx 1 aaron-joel aaron-joel   1213 May 14 19:21 wordcount.py\n",
      "['.', '..', 'bin', 'bin.usr-is-merged', 'boot']\n"
     ]
    }
   ],
   "source": [
    "import subprocess \n",
    "\n",
    "# doesn't capture output\n",
    "p = subprocess.run([\"ls\", \"-l\"])\n",
    "print(f\"p.returncode: {p.returncode}\")\n",
    "\n",
    "# Run through the shell.\n",
    "subprocess.run(\"ls -l\", shell=True)\n",
    "\n",
    "# Capture output\n",
    "out = subprocess.run([\"ls\", \"-a\", \"/\"], stdout=subprocess.PIPE, stderr=subprocess.STDOUT)\n",
    "\n",
    "# out.stdout is a sequence of bytes that should be decoded into a utf-8 string\n",
    "print(out.stdout.decode('utf-8').split(\"\\n\")[:5])"
   ]
  },
  {
   "cell_type": "code",
   "execution_count": 529,
   "id": "5f3b55c8-7c2b-46f1-a382-99bf3b5f8b59",
   "metadata": {},
   "outputs": [
    {
     "name": "stdout",
     "output_type": "stream",
     "text": [
      "total 1040\n",
      "-rwxrwxrwx 1 aaron-joel aaron-joel 151310 May 14 19:23 \u001b[0m\u001b[01;32mHAL1.ipynb\u001b[0m*\n",
      "-rwxrwxrwx 1 aaron-joel aaron-joel 862128 May 12 22:33 \u001b[01;32mMLCourseAI1.ipynb\u001b[0m*\n",
      "-rwxrwxrwx 1 aaron-joel aaron-joel     51 May 12 22:15 \u001b[01;32mgit_token.txt\u001b[0m*\n",
      "-rwxrwxrwx 1 aaron-joel aaron-joel  43299 May 14 19:21 \u001b[01;32mword_count.csv\u001b[0m*\n",
      "-rwxrwxrwx 1 aaron-joel aaron-joel   1213 May 14 19:21 \u001b[01;32mwordcount.py\u001b[0m*\n"
     ]
    }
   ],
   "source": [
    "%ls -l"
   ]
  },
  {
   "cell_type": "code",
   "execution_count": 530,
   "id": "aec68cd2-3cc3-4bad-9216-183a1d6e82b6",
   "metadata": {},
   "outputs": [
    {
     "name": "stdout",
     "output_type": "stream",
     "text": [
      "\u001b[0m\u001b[01;34m.\u001b[0m/                  \u001b[01;34mdev\u001b[0m/   \u001b[01;34mlib.usr-is-merged\u001b[0m/  \u001b[01;34mopt\u001b[0m/   \u001b[01;34msbin.usr-is-merged\u001b[0m/  \u001b[01;34musr\u001b[0m/\n",
      "\u001b[01;34m..\u001b[0m/                 \u001b[01;34metc\u001b[0m/   \u001b[01;36mlib64\u001b[0m@              \u001b[01;34mproc\u001b[0m/  \u001b[01;34msnap\u001b[0m/                \u001b[01;34mvar\u001b[0m/\n",
      "\u001b[01;36mbin\u001b[0m@                \u001b[01;34mhome\u001b[0m/  \u001b[01;34mlost+found\u001b[0m/         \u001b[01;34mroot\u001b[0m/  \u001b[01;34msrv\u001b[0m/\n",
      "\u001b[01;34mbin.usr-is-merged\u001b[0m/  \u001b[01;32minit\u001b[0m*  \u001b[01;34mmedia\u001b[0m/              \u001b[01;34mrun\u001b[0m/   \u001b[01;34msys\u001b[0m/\n",
      "\u001b[01;34mboot\u001b[0m/               \u001b[01;36mlib\u001b[0m@   \u001b[01;34mmnt\u001b[0m/                \u001b[01;36msbin\u001b[0m@  \u001b[30;42mtmp\u001b[0m/\n"
     ]
    }
   ],
   "source": [
    "%ls -a /"
   ]
  },
  {
   "cell_type": "markdown",
   "id": "1b99086f-dab9-462b-a437-53e282c6ba32",
   "metadata": {},
   "source": [
    "## Process\n",
    "\n",
    "A process is a name given to a program instance that has been loaded into memory and managed by the operating system.\n",
    "$$Process = address\\,space + execution\\,context (thread\\,of\\,control)$$"
   ]
  },
  {
   "cell_type": "code",
   "execution_count": 531,
   "id": "e24c3e10-86f5-4516-85c9-9cb5a0242c3f",
   "metadata": {},
   "outputs": [],
   "source": [
    "import time\n",
    "import threading\n",
    "\n",
    "def list_append(count, sign=1, out_list=None):\n",
    "    if out_list is None:\n",
    "        out_list = list()\n",
    "    for i in range(count):\n",
    "        out_list.append(sign*i)\n",
    "        sum(out_list) # do some computation\n",
    "    return out_list"
   ]
  },
  {
   "cell_type": "code",
   "execution_count": 532,
   "id": "f936171f-5536-4a1b-b769-f37925a7e8bc",
   "metadata": {},
   "outputs": [
    {
     "name": "stdout",
     "output_type": "stream",
     "text": [
      "Threading ellapsed time 1.9138221740722656\n",
      "[0, 1, 2, 3, 4, 5, 6, 7, 8, 9]\n"
     ]
    }
   ],
   "source": [
    "size = 10000 # Number of numbers to add\n",
    "out_list = list() # result is a simple list\n",
    "thread1 = threading.Thread(target=list_append, args=(size, 1, out_list,))\n",
    "thread2 = threading.Thread(target=list_append, args=(size, -1, out_list,))\n",
    "\n",
    "start_time = time.time()\n",
    "# Will execute both in parallel\n",
    "thread1.start()\n",
    "thread2.start()\n",
    "# Joins threads back to the parent process\n",
    "thread1.join()\n",
    "thread2.join()\n",
    "print(f\"Threading ellapsed time {time.time() - start_time}\")\n",
    "\n",
    "print(out_list[:10])"
   ]
  },
  {
   "cell_type": "code",
   "execution_count": 533,
   "id": "55083704-c3d0-40d7-afaf-24d82c78ed28",
   "metadata": {},
   "outputs": [
    {
     "name": "stdout",
     "output_type": "stream",
     "text": [
      "Multiprocessing ellapsed time 0.29703712463378906\n"
     ]
    }
   ],
   "source": [
    "import multiprocessing \n",
    "\n",
    "# Sharing requires specific mechanism\n",
    "out_list1 = multiprocessing.Manager().list()\n",
    "p1 = multiprocessing.Process(target=list_append, args=(size, 1, None))\n",
    "out_list2 = multiprocessing.Manager().list()\n",
    "p2 = multiprocessing.Process(target=list_append, args=(size, -1, None))\n",
    "\n",
    "start_time = time.time()\n",
    "p1.start()\n",
    "p2.start()\n",
    "p1.join()\n",
    "p2.join()\n",
    "print(f\"Multiprocessing ellapsed time {time.time() - start_time}\")\n"
   ]
  },
  {
   "cell_type": "code",
   "execution_count": 534,
   "id": "aa0fe277-32d9-4b60-940c-9d9417d2cd54",
   "metadata": {},
   "outputs": [
    {
     "data": {
      "text/plain": [
       "[]"
      ]
     },
     "execution_count": 534,
     "metadata": {},
     "output_type": "execute_result"
    }
   ],
   "source": [
    "list(out_list2)"
   ]
  },
  {
   "cell_type": "code",
   "execution_count": 535,
   "id": "2f132ba6-55f9-4e99-89d7-9923c782ecb7",
   "metadata": {},
   "outputs": [
    {
     "name": "stdout",
     "output_type": "stream",
     "text": [
      "Overwriting wordcount.py\n"
     ]
    }
   ],
   "source": [
    "%%writefile wordcount.py\n",
    "import os\n",
    "import os.path\n",
    "import argparse\n",
    "import re\n",
    "import pandas as pd\n",
    "\n",
    "if __name__ == '__main__':\n",
    "    # parse command line options\n",
    "    output = 'word_count.csv'\n",
    "    parser = argparse.ArgumentParser()\n",
    "    parser.add_argument('-i', '--input', help='list of input files.', nargs='+', type=str)\n",
    "    parser.add_argument('-o', '--output',\n",
    "                        help='output csv file (default %s)' % output,\n",
    "                        type=str, default=output)\n",
    "    options = parser.parse_args()\n",
    "\n",
    "    if options.input is None:\n",
    "        parser.print_help()\n",
    "        raise SystemExit(\"Error: input files are missing\")\n",
    "    else:\n",
    "        filenames = [f for f in options.input if os.path.isfile(f)]\n",
    "\n",
    "    # Match words\n",
    "\n",
    "    regex = re.compile(\"[a-zA-Z]+\")\n",
    "    count = dict()\n",
    "\n",
    "    for filename in filenames:\n",
    "        fd = open(filename, 'r')\n",
    "        for line in fd:\n",
    "            for word in regex.findall(line.lower()):\n",
    "                if not word in count:\n",
    "                    count[word] = 1\n",
    "                else:\n",
    "                    count[word] += 1\n",
    "    fd = open(options.output, 'w')\n",
    "\n",
    "    # Pandas\n",
    "    df = pd.DataFrame([[k, count[k]] for k in count], columns=['word', 'count'])\n",
    "    df.to_csv(options.output, index=False)\n",
    "\n",
    "    "
   ]
  },
  {
   "cell_type": "code",
   "execution_count": 536,
   "id": "21488592-3071-4ba6-bbc1-ae16269aa921",
   "metadata": {},
   "outputs": [
    {
     "name": "stdout",
     "output_type": "stream",
     "text": [
      "usage: wordcount.py [-h] [-i INPUT [INPUT ...]] [-o OUTPUT]\n",
      "\n",
      "options:\n",
      "  -h, --help            show this help message and exit\n",
      "  -i INPUT [INPUT ...], --input INPUT [INPUT ...]\n",
      "                        list of input files.\n",
      "  -o OUTPUT, --output OUTPUT\n",
      "                        output csv file (default word_count.csv)\n"
     ]
    }
   ],
   "source": [
    "%run wordcount.py --help"
   ]
  },
  {
   "cell_type": "code",
   "execution_count": 537,
   "id": "7426b3c9-68e1-4c77-8495-a6198a247704",
   "metadata": {},
   "outputs": [],
   "source": [
    "%run wordcount.py -i HAL1.ipynb"
   ]
  },
  {
   "cell_type": "code",
   "execution_count": 538,
   "id": "fb998bd4-ed9b-484e-9647-b2af3f078ff8",
   "metadata": {},
   "outputs": [
    {
     "data": {
      "text/html": [
       "<div>\n",
       "<style scoped>\n",
       "    .dataframe tbody tr th:only-of-type {\n",
       "        vertical-align: middle;\n",
       "    }\n",
       "\n",
       "    .dataframe tbody tr th {\n",
       "        vertical-align: top;\n",
       "    }\n",
       "\n",
       "    .dataframe thead th {\n",
       "        text-align: right;\n",
       "    }\n",
       "</style>\n",
       "<table border=\"1\" class=\"dataframe\">\n",
       "  <thead>\n",
       "    <tr style=\"text-align: right;\">\n",
       "      <th></th>\n",
       "      <th>word</th>\n",
       "      <th>count</th>\n",
       "    </tr>\n",
       "  </thead>\n",
       "  <tbody>\n",
       "    <tr>\n",
       "      <th>0</th>\n",
       "      <td>cells</td>\n",
       "      <td>3</td>\n",
       "    </tr>\n",
       "    <tr>\n",
       "      <th>1</th>\n",
       "      <td>cell</td>\n",
       "      <td>280</td>\n",
       "    </tr>\n",
       "    <tr>\n",
       "      <th>2</th>\n",
       "      <td>type</td>\n",
       "      <td>526</td>\n",
       "    </tr>\n",
       "    <tr>\n",
       "      <th>3</th>\n",
       "      <td>code</td>\n",
       "      <td>279</td>\n",
       "    </tr>\n",
       "    <tr>\n",
       "      <th>4</th>\n",
       "      <td>execution</td>\n",
       "      <td>490</td>\n",
       "    </tr>\n",
       "  </tbody>\n",
       "</table>\n",
       "</div>"
      ],
      "text/plain": [
       "        word  count\n",
       "0      cells      3\n",
       "1       cell    280\n",
       "2       type    526\n",
       "3       code    279\n",
       "4  execution    490"
      ]
     },
     "execution_count": 538,
     "metadata": {},
     "output_type": "execute_result"
    }
   ],
   "source": [
    "df = pd.read_csv('word_count.csv')\n",
    "df.head()"
   ]
  },
  {
   "cell_type": "code",
   "execution_count": 539,
   "id": "e9533817-776a-4cd8-a207-61bc40903fe3",
   "metadata": {},
   "outputs": [
    {
     "name": "stdout",
     "output_type": "stream",
     "text": [
      "-rwxrwxr-x    1 ftp      ftp          3019 Oct 16  2019 README.md\n",
      "-rwxrwxr-x    1 ftp      ftp      10672252 Dec 18  2020 StatisticsMachineLearningPython.pdf\n",
      "-rwxrwxr-x    1 ftp      ftp       9676120 Nov 12  2020 StatisticsMachineLearningPythonDraft.pdf\n",
      "-rwxrwxr-x    1 ftp      ftp       9798485 Jul 08  2020 StatisticsMachineLearningPythonDraft_202007.pdf\n"
     ]
    },
    {
     "data": {
      "text/plain": [
       "('/tmp/README2.md', <email.message.Message at 0x7fd2514bb6b0>)"
      ]
     },
     "execution_count": 539,
     "metadata": {},
     "output_type": "execute_result"
    }
   ],
   "source": [
    "# Full FTP features with ftplib\n",
    "import ftplib\n",
    "ftp = ftplib.FTP(\"ftp.cea.fr\")\n",
    "ftp.login()\n",
    "ftp.cwd('/pub/unati/people/educhesnay/pystatml')\n",
    "ftp.retrlines('LIST')\n",
    "fd = open(os.path.join(tmpdir, \"README.md\"), \"wb\")\n",
    "ftp.retrbinary('RETR README.md', fd.write)\n",
    "fd.close()\n",
    "ftp.quit()\n",
    "# File download urllib\n",
    "import urllib.request\n",
    "ftp_url = 'ftp://ftp.cea.fr/pub/unati/people/educhesnay/pystatml/README.md'\n",
    "urllib.request.urlretrieve(ftp_url, os.path.join(tmpdir, \"README2.md\"))\n"
   ]
  },
  {
   "cell_type": "code",
   "execution_count": 540,
   "id": "a4fbc84a-d855-44aa-997c-9f62ea410de2",
   "metadata": {},
   "outputs": [
    {
     "name": "stdout",
     "output_type": "stream",
     "text": [
      "[4, 28.274333882308138]\n",
      "NotImplementedError \n"
     ]
    }
   ],
   "source": [
    "import math \n",
    "\n",
    "class Shape2D:\n",
    "    def area(self):\n",
    "        raise NotImplementedError()\n",
    "\n",
    "# Inheritance + Encapsulation \n",
    "class Square(Shape2D):\n",
    "    def __init__(self, width):\n",
    "        self.width = width \n",
    "\n",
    "    def area(self):\n",
    "        return self.width ** 2\n",
    "\n",
    "class Disk(Shape2D):\n",
    "    def __init__(self, radius):\n",
    "        self.radius = radius \n",
    "\n",
    "    def area(self):\n",
    "        return math.pi * self.radius ** 2\n",
    "\n",
    "shapes = [Square(2), Disk(3)]\n",
    "\n",
    "# Polymorphism\n",
    "print([s.area() for s in shapes])\n",
    "\n",
    "s = Shape2D()\n",
    "try:\n",
    "    s.area()\n",
    "except NotImplementedError as e:\n",
    "    print(\"NotImplementedError\", e)"
   ]
  },
  {
   "cell_type": "code",
   "execution_count": 541,
   "id": "4eed96c9-9191-48fe-804d-6e725b6c457d",
   "metadata": {},
   "outputs": [
    {
     "name": "stdout",
     "output_type": "stream",
     "text": [
      "Help on function my_function in module __main__:\n",
      "\n",
      "my_function(a, b=2)\n",
      "    This function ...\n",
      "\n",
      "    Parameters\n",
      "    ----------\n",
      "    a : float\n",
      "        First operand.\n",
      "    b : float, optional\n",
      "        Second operand. The default is 2.\n",
      "\n",
      "    Returns\n",
      "    -------\n",
      "    Sum of operands.\n",
      "\n",
      "    Example\n",
      "    -------\n",
      "    >>> my_function(5)\n",
      "    7\n",
      "\n",
      "None\n"
     ]
    }
   ],
   "source": [
    "def my_function(a, b=2):\n",
    "    \"\"\"\n",
    "    This function ...\n",
    "\n",
    "    Parameters\n",
    "    ----------\n",
    "    a : float\n",
    "        First operand.\n",
    "    b : float, optional\n",
    "        Second operand. The default is 2.\n",
    "\n",
    "    Returns\n",
    "    -------\n",
    "    Sum of operands.\n",
    "\n",
    "    Example\n",
    "    -------\n",
    "    >>> my_function(5)\n",
    "    7\n",
    "    \"\"\"\n",
    "    # Add a with b (this is a comment)\n",
    "    return a + b\n",
    "\n",
    "print(help(my_function))"
   ]
  },
  {
   "cell_type": "code",
   "execution_count": 542,
   "id": "05e3284b-5d0a-42ba-bece-ed7e65d81ba7",
   "metadata": {},
   "outputs": [
    {
     "name": "stdout",
     "output_type": "stream",
     "text": [
      "A * B =\n",
      " [[5 0 0]\n",
      " [0 5 0]\n",
      " [0 0 5]]\n",
      "\n",
      "Inverse of A * B =\n",
      " [[0.2 0.  0. ]\n",
      " [0.  0.2 0. ]\n",
      " [0.  0.  0.2]]\n"
     ]
    }
   ],
   "source": [
    "import numpy as np\n",
    "\n",
    "# Define matrices A and B\n",
    "A = np.array([[1, 3, 0], \n",
    "              [-2, 0, 1], \n",
    "              [1, 2, -1]])\n",
    "\n",
    "B = np.array([[2, -3, -3], \n",
    "              [1, 1, 1], \n",
    "              [4, -1, -6]])\n",
    "\n",
    "# Compute the matrix product A * B\n",
    "AB = np.dot(A, B)\n",
    "print(\"A * B =\\n\", AB)\n",
    "\n",
    "# Try to compute the inverse of AB\n",
    "try:\n",
    "    AB_inv = np.linalg.inv(AB)\n",
    "    print(\"\\nInverse of A * B =\\n\", AB_inv)\n",
    "except np.linalg.LinAlgError:\n",
    "    print(\"\\nMatrix A * B is not invertible\")\n"
   ]
  },
  {
   "cell_type": "code",
   "execution_count": 543,
   "id": "9d54d204-bf23-45b9-9f4d-f0cc8f700ee2",
   "metadata": {},
   "outputs": [
    {
     "data": {
      "text/plain": [
       "array([[ 0.4, -0.6, -0.6],\n",
       "       [ 0.2,  0.2,  0.2],\n",
       "       [ 0.8, -0.2, -1.2]])"
      ]
     },
     "execution_count": 543,
     "metadata": {},
     "output_type": "execute_result"
    }
   ],
   "source": [
    "np.linalg.inv(A)"
   ]
  },
  {
   "cell_type": "code",
   "execution_count": 544,
   "id": "bab74ada-b869-49af-84a2-121477658eb5",
   "metadata": {},
   "outputs": [
    {
     "data": {
      "text/plain": [
       "array([[ 8.00000000e-02, -3.60000000e-01,  2.49800181e-17],\n",
       "       [-8.00000000e-02, -0.00000000e+00,  4.00000000e-02],\n",
       "       [ 1.60000000e-01, -8.00000000e-02,  2.40000000e-01]])"
      ]
     },
     "execution_count": 544,
     "metadata": {},
     "output_type": "execute_result"
    }
   ],
   "source": [
    "np.linalg.inv(B) * np.linalg.inv(A)"
   ]
  },
  {
   "cell_type": "code",
   "execution_count": 545,
   "id": "b29474bf-fab1-4519-a592-3568a4066364",
   "metadata": {},
   "outputs": [
    {
     "data": {
      "text/plain": [
       "array([[5, 0, 0],\n",
       "       [0, 5, 0],\n",
       "       [0, 0, 5]])"
      ]
     },
     "execution_count": 545,
     "metadata": {},
     "output_type": "execute_result"
    }
   ],
   "source": [
    "B @ A"
   ]
  },
  {
   "cell_type": "code",
   "execution_count": 546,
   "id": "368d5b1d-b3cf-4653-9930-5837655b3107",
   "metadata": {},
   "outputs": [
    {
     "data": {
      "text/plain": [
       "array([[5, 0, 0],\n",
       "       [0, 5, 0],\n",
       "       [0, 0, 5]])"
      ]
     },
     "execution_count": 546,
     "metadata": {},
     "output_type": "execute_result"
    }
   ],
   "source": [
    "A @ B"
   ]
  },
  {
   "cell_type": "code",
   "execution_count": 547,
   "id": "48bd5d73-fc2b-451f-83b1-ab2b485fb014",
   "metadata": {},
   "outputs": [
    {
     "data": {
      "text/plain": [
       "array([[0.2, 0. , 0. ],\n",
       "       [0. , 0.2, 0. ],\n",
       "       [0. , 0. , 0.2]])"
      ]
     },
     "execution_count": 547,
     "metadata": {},
     "output_type": "execute_result"
    }
   ],
   "source": [
    "np.linalg.inv(A @ B)"
   ]
  },
  {
   "cell_type": "code",
   "execution_count": 548,
   "id": "8b81568b-cf6d-44ff-b4f3-f73adf31d636",
   "metadata": {},
   "outputs": [
    {
     "data": {
      "text/plain": [
       "array([[0.2, 0. , 0. ],\n",
       "       [0. , 0.2, 0. ],\n",
       "       [0. , 0. , 0.2]])"
      ]
     },
     "execution_count": 548,
     "metadata": {},
     "output_type": "execute_result"
    }
   ],
   "source": [
    "np.linalg.inv(B @ A)"
   ]
  },
  {
   "cell_type": "code",
   "execution_count": 549,
   "id": "06207392-d07f-411a-b394-74f3dadcf8f4",
   "metadata": {},
   "outputs": [
    {
     "data": {
      "text/plain": [
       "0.3125"
      ]
     },
     "execution_count": 549,
     "metadata": {},
     "output_type": "execute_result"
    }
   ],
   "source": [
    "(1/2 + 1/8) / 2"
   ]
  },
  {
   "cell_type": "code",
   "execution_count": 550,
   "id": "3e36584a-81bf-4f78-9025-b9f54d0f44d4",
   "metadata": {},
   "outputs": [
    {
     "data": {
      "text/plain": [
       "0.3125"
      ]
     },
     "execution_count": 550,
     "metadata": {},
     "output_type": "execute_result"
    }
   ],
   "source": [
    "5/16"
   ]
  },
  {
   "cell_type": "code",
   "execution_count": 551,
   "id": "ba38d12d-d57a-42a7-8710-da977440f660",
   "metadata": {},
   "outputs": [
    {
     "data": {
      "text/plain": [
       "[[0, 1], [1, 2], [0, 3], [3, 4], [3, 6], [3, 7], [4, 2], [4, 5], [5, 2]]"
      ]
     },
     "execution_count": 551,
     "metadata": {},
     "output_type": "execute_result"
    }
   ],
   "source": [
    "# Array of Edges (Directed) [Start, End]\n",
    "n = 8\n",
    "A = [[0, 1],\n",
    "     [1, 2],\n",
    "     [0, 3],\n",
    "     [3, 4],\n",
    "     [3, 6],\n",
    "     [3, 7],\n",
    "     [4, 2],\n",
    "     [4, 5],\n",
    "     [5, 2]]\n",
    "\n",
    "A"
   ]
  },
  {
   "cell_type": "code",
   "execution_count": 555,
   "id": "d918f72b-2e76-441f-9b12-3187d97d6a5a",
   "metadata": {},
   "outputs": [
    {
     "name": "stdout",
     "output_type": "stream",
     "text": [
      "[[0, 0, 0, 0, 0, 0, 0, 0], [0, 0, 0, 0, 0, 0, 0, 0], [0, 0, 0, 0, 0, 0, 0, 0], [0, 0, 0, 0, 0, 0, 0, 0], [0, 0, 0, 0, 0, 0, 0, 0], [0, 0, 0, 0, 0, 0, 0, 0], [0, 0, 0, 0, 0, 0, 0, 0], [0, 0, 0, 0, 0, 0, 0, 0]]\n",
      "[[0, 1, 0, 1, 0, 0, 0, 0], [0, 0, 1, 0, 0, 0, 0, 0], [0, 0, 0, 0, 0, 0, 0, 0], [0, 0, 0, 0, 1, 0, 1, 1], [0, 0, 1, 0, 0, 1, 0, 0], [0, 0, 1, 0, 0, 0, 0, 0], [0, 0, 0, 0, 0, 0, 0, 0], [0, 0, 0, 0, 0, 0, 0, 0]]\n"
     ]
    }
   ],
   "source": [
    "# Convert Array of Edges -> Adjacency Matrix\n",
    "M = []\n",
    "\n",
    "for i in range(n):\n",
    "    M.append([0] * n)\n",
    "\n",
    "print(M)\n",
    "\n",
    "for u, v in A:\n",
    "    M[u][v] = 1\n",
    "\n",
    "    # Uncoment the following line if the graph is undirected\n",
    "    #M[v][u] = 1\n",
    "\n",
    "print(M)"
   ]
  },
  {
   "cell_type": "code",
   "execution_count": 556,
   "id": "466dda41-3c12-4e30-89c1-3884e70a6005",
   "metadata": {},
   "outputs": [
    {
     "data": {
      "text/plain": [
       "[[0, 1, 0, 1, 0, 0, 0, 0],\n",
       " [0, 0, 1, 0, 0, 0, 0, 0],\n",
       " [0, 0, 0, 0, 0, 0, 0, 0],\n",
       " [0, 0, 0, 0, 1, 0, 1, 1],\n",
       " [0, 0, 1, 0, 0, 1, 0, 0],\n",
       " [0, 0, 1, 0, 0, 0, 0, 0],\n",
       " [0, 0, 0, 0, 0, 0, 0, 0],\n",
       " [0, 0, 0, 0, 0, 0, 0, 0]]"
      ]
     },
     "execution_count": 556,
     "metadata": {},
     "output_type": "execute_result"
    }
   ],
   "source": [
    "M"
   ]
  },
  {
   "cell_type": "code",
   "execution_count": 559,
   "id": "a3304270-21e3-4acd-a6dd-3cce2eefee6e",
   "metadata": {},
   "outputs": [
    {
     "data": {
      "text/plain": [
       "defaultdict(list, {0: [1, 3], 1: [2], 3: [4, 6, 7], 4: [2, 5], 5: [2]})"
      ]
     },
     "execution_count": 559,
     "metadata": {},
     "output_type": "execute_result"
    }
   ],
   "source": [
    "from collections import defaultdict \n",
    "\n",
    "D = defaultdict(list)\n",
    "\n",
    "for u, v in A:\n",
    "    D[u].append(v)\n",
    "    # Uncomment the following line if the graph is undirected\n",
    "    #D[v].append(u)\n",
    "\n",
    "D"
   ]
  },
  {
   "cell_type": "code",
   "execution_count": 560,
   "id": "7ef85644-895e-4046-96cc-7ba60ce4beb0",
   "metadata": {},
   "outputs": [
    {
     "data": {
      "text/plain": [
       "[1, 3]"
      ]
     },
     "execution_count": 560,
     "metadata": {},
     "output_type": "execute_result"
    }
   ],
   "source": [
    "D[0]"
   ]
  },
  {
   "cell_type": "code",
   "execution_count": 561,
   "id": "a18e039d-70cc-433e-94b5-8d5e62637193",
   "metadata": {},
   "outputs": [
    {
     "data": {
      "text/plain": [
       "[4, 6, 7]"
      ]
     },
     "execution_count": 561,
     "metadata": {},
     "output_type": "execute_result"
    }
   ],
   "source": [
    "D[3]"
   ]
  },
  {
   "cell_type": "code",
   "execution_count": 558,
   "id": "51391f52-7690-4dbc-a734-5f07675736a3",
   "metadata": {},
   "outputs": [
    {
     "data": {
      "text/plain": [
       "defaultdict(list,\n",
       "            {0: [1, 3],\n",
       "             1: [0, 2],\n",
       "             2: [1, 4, 5],\n",
       "             3: [0, 4, 6, 7],\n",
       "             4: [3, 2, 5],\n",
       "             6: [3],\n",
       "             7: [3],\n",
       "             5: [4, 2]})"
      ]
     },
     "execution_count": 558,
     "metadata": {},
     "output_type": "execute_result"
    }
   ],
   "source": [
    "from collections import defaultdict \n",
    "\n",
    "D = defaultdict(list)\n",
    "\n",
    "for u, v in A:\n",
    "    D[u].append(v)\n",
    "    # Uncomment the following line if the graph is undirected\n",
    "    D[v].append(u)\n",
    "\n",
    "D"
   ]
  },
  {
   "cell_type": "code",
   "execution_count": 562,
   "id": "834dd351-fbe9-4248-9fef-43c29a69538a",
   "metadata": {},
   "outputs": [
    {
     "name": "stdout",
     "output_type": "stream",
     "text": [
      "0\n",
      "1\n",
      "2\n",
      "3\n",
      "4\n",
      "5\n",
      "6\n",
      "7\n"
     ]
    }
   ],
   "source": [
    "# DFS with Recursion - O(V + E) where V is the number of nodes and E is the number of edges\n",
    "def dfs_recursive(node):\n",
    "    print(node)\n",
    "    for nei_node in D[node]:\n",
    "        if nei_node not in seen:\n",
    "            seen.add(nei_node)\n",
    "            dfs_recursive(nei_node)\n",
    "\n",
    "source = 0\n",
    "seen = set()\n",
    "seen.add(source)\n",
    "dfs_recursive(source)"
   ]
  },
  {
   "cell_type": "code",
   "execution_count": 563,
   "id": "d787a0be-0293-4b17-9a0e-3d5590ba02ae",
   "metadata": {},
   "outputs": [
    {
     "data": {
      "text/plain": [
       "defaultdict(list, {0: [1, 3], 1: [2], 3: [4, 6, 7], 4: [2, 5], 5: [2]})"
      ]
     },
     "execution_count": 563,
     "metadata": {},
     "output_type": "execute_result"
    }
   ],
   "source": [
    "from collections import defaultdict \n",
    "\n",
    "D = defaultdict(list)\n",
    "\n",
    "for u, v in A:\n",
    "    D[u].append(v)\n",
    "    # Uncomment the following line if the graph is undirected\n",
    "    #D[v].append(u)\n",
    "\n",
    "D"
   ]
  },
  {
   "cell_type": "code",
   "execution_count": 564,
   "id": "2d8c0b98-732d-4075-9019-48517f88a327",
   "metadata": {},
   "outputs": [
    {
     "name": "stdout",
     "output_type": "stream",
     "text": [
      "0\n",
      "3\n",
      "7\n",
      "6\n",
      "4\n",
      "5\n",
      "2\n",
      "1\n"
     ]
    }
   ],
   "source": [
    "# Iterative DFS with Stack - O(V + E)\n",
    "source = 0\n",
    "\n",
    "seen = set()\n",
    "seen.add(source)\n",
    "stack = [source]\n",
    "\n",
    "while stack:\n",
    "    node = stack.pop()\n",
    "    print(node)\n",
    "    for nei_node in D[node]:\n",
    "        if nei_node not in seen:\n",
    "            seen.add(nei_node)\n",
    "            stack.append(nei_node)"
   ]
  },
  {
   "cell_type": "code",
   "execution_count": 565,
   "id": "607928eb-1836-4cd1-a96a-628b6b6ec232",
   "metadata": {},
   "outputs": [
    {
     "name": "stdout",
     "output_type": "stream",
     "text": [
      "0\n",
      "1\n",
      "3\n",
      "2\n",
      "4\n",
      "6\n",
      "7\n",
      "5\n"
     ]
    }
   ],
   "source": [
    "# BFS (Queue) - O(V + E)\n",
    "\n",
    "source = 0\n",
    "\n",
    "from collections import deque \n",
    "\n",
    "seen = set()\n",
    "seen.add(source)\n",
    "q = deque()\n",
    "q.append(source)\n",
    "\n",
    "while q:\n",
    "    node = q.popleft()\n",
    "    print(node)\n",
    "    for nei_node in D[node]:\n",
    "        if nei_node not in seen:\n",
    "            seen.add(nei_node)\n",
    "            q.append(nei_node)"
   ]
  },
  {
   "cell_type": "code",
   "execution_count": 568,
   "id": "cdfca79b-71ac-4644-930b-5f49869e3523",
   "metadata": {},
   "outputs": [],
   "source": [
    "class Node:\n",
    "    def __init__(self, value):\n",
    "        self.value = value \n",
    "        self.neighbors = []\n",
    "\n",
    "    def __str__(self):\n",
    "        return f\"Node({self.value})\"\n",
    "\n",
    "    def __repr__(self):\n",
    "        return str(self)\n",
    "\n",
    "    def display(self):\n",
    "        connections = [node.value for node in self.neighbors]\n",
    "        return f\"{self.value} is connected to: {connections}\"\n",
    "        "
   ]
  },
  {
   "cell_type": "code",
   "execution_count": 569,
   "id": "4557884d-0fe5-484e-9b5f-772c3896c3ad",
   "metadata": {},
   "outputs": [
    {
     "data": {
      "text/plain": [
       "Node(A)"
      ]
     },
     "execution_count": 569,
     "metadata": {},
     "output_type": "execute_result"
    }
   ],
   "source": [
    "A = Node('A')\n",
    "A"
   ]
  },
  {
   "cell_type": "code",
   "execution_count": 570,
   "id": "5dcbd58b-f010-45e8-b7fd-230a55940fe7",
   "metadata": {},
   "outputs": [
    {
     "data": {
      "text/plain": [
       "Node(B)"
      ]
     },
     "execution_count": 570,
     "metadata": {},
     "output_type": "execute_result"
    }
   ],
   "source": [
    "B = Node('B')\n",
    "B"
   ]
  },
  {
   "cell_type": "code",
   "execution_count": 578,
   "id": "3c487e42-ca01-49fe-a58d-23f3638551d4",
   "metadata": {},
   "outputs": [],
   "source": [
    "C = Node('C')\n",
    "D = Node('D')"
   ]
  },
  {
   "cell_type": "code",
   "execution_count": 579,
   "id": "01888beb-0a07-4914-9a32-7ed2ab54b6d1",
   "metadata": {},
   "outputs": [],
   "source": [
    "A.neighbors.append(B)\n",
    "B.neighbors.append(A)"
   ]
  },
  {
   "cell_type": "code",
   "execution_count": 580,
   "id": "83172e9e-b4dd-4cc4-96bc-41d7475a2c9f",
   "metadata": {},
   "outputs": [
    {
     "data": {
      "text/plain": [
       "\"A is connected to: ['B', 'B']\""
      ]
     },
     "execution_count": 580,
     "metadata": {},
     "output_type": "execute_result"
    }
   ],
   "source": [
    "A.display()"
   ]
  },
  {
   "cell_type": "code",
   "execution_count": 581,
   "id": "46d5dfa2-dd14-4e4a-8a59-9c1eb5fed0d3",
   "metadata": {},
   "outputs": [
    {
     "data": {
      "text/plain": [
       "\"B is connected to: ['A', 'A']\""
      ]
     },
     "execution_count": 581,
     "metadata": {},
     "output_type": "execute_result"
    }
   ],
   "source": [
    "B.display()"
   ]
  },
  {
   "cell_type": "code",
   "execution_count": 582,
   "id": "a89e8f74-c6ec-4656-8fc7-17d425fb9594",
   "metadata": {},
   "outputs": [
    {
     "data": {
      "text/plain": [
       "\"C is connected to: ['D']\""
      ]
     },
     "execution_count": 582,
     "metadata": {},
     "output_type": "execute_result"
    }
   ],
   "source": [
    "C.neighbors.append(D)\n",
    "C.display()"
   ]
  },
  {
   "cell_type": "code",
   "execution_count": 583,
   "id": "c15d8f80-6a21-405f-a4c1-f3be4e29f3f8",
   "metadata": {},
   "outputs": [],
   "source": [
    "D.neighbors.append(C)\n",
    "D.neighbors.append(A)"
   ]
  },
  {
   "cell_type": "code",
   "execution_count": 584,
   "id": "9855574a-b4d6-458a-b5a6-5c4503b17b28",
   "metadata": {},
   "outputs": [
    {
     "data": {
      "text/plain": [
       "\"D is connected to: ['C', 'A']\""
      ]
     },
     "execution_count": 584,
     "metadata": {},
     "output_type": "execute_result"
    }
   ],
   "source": [
    "D.display()"
   ]
  },
  {
   "cell_type": "code",
   "execution_count": null,
   "id": "cf461a70-c9cc-4484-a6d6-8e2edd341006",
   "metadata": {},
   "outputs": [],
   "source": []
  }
 ],
 "metadata": {
  "kernelspec": {
   "display_name": "Python 3 (ipykernel)",
   "language": "python",
   "name": "python3"
  },
  "language_info": {
   "codemirror_mode": {
    "name": "ipython",
    "version": 3
   },
   "file_extension": ".py",
   "mimetype": "text/x-python",
   "name": "python",
   "nbconvert_exporter": "python",
   "pygments_lexer": "ipython3",
   "version": "3.12.7"
  }
 },
 "nbformat": 4,
 "nbformat_minor": 5
}
